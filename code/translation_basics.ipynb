{
 "cells": [
  {
   "cell_type": "markdown",
   "metadata": {},
   "source": [
    "# Machine translation basics\n",
    "\n",
    "| Authors | Last update |\n",
    "|:------ |:----------- |\n",
    "| Hauke Licht (https://github.com/haukelicht) | 2023-12-05 |\n",
    "\n",
    "<br>\n",
    "\n",
    "<a target=\"_blank\" href=\"https://colab.research.google.com/github/fabiennelind/Going-Cross-Lingual_Course/blob/main/code/translation_basics.ipynb\">\n",
    "  <img src=\"https://colab.research.google.com/assets/colab-badge.svg\" alt=\"Open In Colab\"/>\n",
    "</a>"
   ]
  },
  {
   "cell_type": "markdown",
   "metadata": {},
   "source": [
    "If you run notebooks on **Colab**, you can **enable GPU** computing by\n",
    "\n",
    "1. clicking on \"Runtime\" in the menu,\n",
    "2. selecting \"Change runtime type\", and\n",
    "3. choose \"GPU\" in the \"Hardware accelerator\" section of the pop-up\n",
    "\n",
    "This speeds up computing of deep neural networks."
   ]
  },
  {
   "cell_type": "markdown",
   "metadata": {},
   "source": [
    "## Background\n",
    "\n",
    "\n",
    "**_Translation_** means representing an input text written in a **source** language in a **target** language. The source and target languages can be any pair of languages. For example, the source language can be English and the target language can be French. In this case, the translation task is to represent an input text written in English in French.\n",
    "\n",
    "**_Machine translation_** (MT) is a subfield of artificial intelligence that focuses on developing systems capable of automatically translating text or speech from one language to another.\n",
    "The goal of MT is to bridge language barriers and facilitate communication between individuals who speak different languages.\n",
    "In the context of computational text analyses for political and social analyses, machine translation plays a crucial role in making vast amounts of information accessible across linguistic boundaries.\n",
    "\n",
    "**How Machine Translation Works**\n",
    "\n",
    "At its core, machine translation relies on advanced algorithms and models to analyze and understand the structure and meaning of a given text in one language, and then generate an equivalent text in another language. \n",
    "Until the turn of the century or so, the dominating approach was [statistical machine translation](https://en.wikipedia.org/wiki/Statistical_machine_translation).\n",
    "However, with the rise of deep learning algorithms, neural machine translation (NMT) has witnessed significant advancements.\n",
    "\n",
    "NMT models use deep learning techniques to capture complex patterns and dependencies in language, allowing them to produce more contextually accurate translations.\n",
    "These models are trained on large datasets containing parallel text in multiple languages, learning to map input sequences to output sequences in a way that preserves semantic meaning.\n",
    "Beginning with the introduction of the [encoder-decoder architecture](https://arxiv.org/abs/1409.0473) in 2014, NMT has evolved into more sophisticated architectures.\n",
    "Today, models mostly rely on [transformer architectures](https://arxiv.org/abs/1706.03762).\n"
   ]
  },
  {
   "cell_type": "markdown",
   "metadata": {},
   "source": [
    "## Setup"
   ]
  },
  {
   "cell_type": "code",
   "execution_count": null,
   "metadata": {},
   "outputs": [],
   "source": [
    "try:\n",
    "    import google.colab\n",
    "    COLAB = True\n",
    "except:\n",
    "    COLAB=False\n",
    "print('on colab:', COLAB)"
   ]
  },
  {
   "cell_type": "code",
   "execution_count": null,
   "metadata": {},
   "outputs": [],
   "source": [
    "# need to install libraries if on Colab\n",
    "%%capture\n",
    "if COLAB:\n",
    "    !pip install iso639==0.1.4 easynmt==2.0.0 deepl==1.16.1 google-cloud-translate==3.12.1"
   ]
  },
  {
   "cell_type": "markdown",
   "metadata": {},
   "source": [
    "We will load the generally-used libraries here and load the rest on the fly on demand."
   ]
  },
  {
   "cell_type": "code",
   "execution_count": 1,
   "metadata": {},
   "outputs": [],
   "source": [
    "import os # for data inport/export\n",
    "import pandas as pd # for data frames\n",
    "import iso639 # for standardized language codes"
   ]
  },
  {
   "cell_type": "markdown",
   "metadata": {},
   "source": [
    "## \"free\" translation with `easyNMT`\n",
    "\n",
    "`easyNMT` is a python package that provides and interface to use NMT models that are publicly available through the the [huggingface model hub]().\n",
    "\n",
    "To use these pre-trained models, we import the `EasyNMT` class from the package (see below) and specify the name of the model we want to use (see [here](https://github.com/UKPLab/EasyNMT#available-models) for an overview of available models)."
   ]
  },
  {
   "cell_type": "markdown",
   "metadata": {},
   "source": [
    "### Setup"
   ]
  },
  {
   "cell_type": "code",
   "execution_count": 2,
   "metadata": {},
   "outputs": [
    {
     "name": "stdout",
     "output_type": "stream",
     "text": [
      "2.0.0\n"
     ]
    }
   ],
   "source": [
    "import torch\n",
    "import easynmt\n",
    "print(easynmt.__version__)"
   ]
  },
  {
   "cell_type": "markdown",
   "metadata": {},
   "source": [
    "Let's determinse what device you can use:\n",
    "\n",
    "- with a GPU &rarr; \"cuda\"\n",
    "- with MacOS's M1/M2 chip &rarr; \"mps\"\n",
    "- else \"cpu\"\n",
    "\n",
    "We do so like this:"
   ]
  },
  {
   "cell_type": "code",
   "execution_count": 3,
   "metadata": {},
   "outputs": [
    {
     "name": "stdout",
     "output_type": "stream",
     "text": [
      "cpu\n"
     ]
    }
   ],
   "source": [
    "import torch\n",
    "device = 'cuda' if torch.cuda.is_available() else 'cpu' # not macOS mps backend not supported by easyNTM\n",
    "print(device) # this should print 'cuda'"
   ]
  },
  {
   "cell_type": "markdown",
   "metadata": {},
   "source": [
    "### with Facebook Research's M2M model"
   ]
  },
  {
   "cell_type": "code",
   "execution_count": 4,
   "metadata": {},
   "outputs": [],
   "source": [
    "# dowlnoad the model\n",
    "model = easynmt.EasyNMT('m2m_100_418M', device=device)\n",
    "# note: there is also the m2m_100_1.2B model, but it is too large for the T4 GPU you get on Google Colab with a free account"
   ]
  },
  {
   "cell_type": "markdown",
   "metadata": {},
   "source": [
    "#### Simple example"
   ]
  },
  {
   "cell_type": "code",
   "execution_count": 5,
   "metadata": {},
   "outputs": [
    {
     "data": {
      "text/plain": [
       "'Hallo Text-as-Data Freunde'"
      ]
     },
     "execution_count": 5,
     "metadata": {},
     "output_type": "execute_result"
    }
   ],
   "source": [
    "# one text\n",
    "model.translate('Hello text-as-data friends!', target_lang='de')\n",
    "# note: to disable progress bar, set argument `show_progress_bar = False`"
   ]
  },
  {
   "cell_type": "code",
   "execution_count": 6,
   "metadata": {},
   "outputs": [
    {
     "data": {
      "text/plain": [
       "['Hallo Text-as-Data Freunde', 'Lass uns übersetzen!']"
      ]
     },
     "execution_count": 6,
     "metadata": {},
     "output_type": "execute_result"
    }
   ],
   "source": [
    "# multiple texts\n",
    "model.translate(['Hello text-as-data friends!', 'Let\\'s translate!'], target_lang='de', show_progress_bar=False)"
   ]
  },
  {
   "cell_type": "markdown",
   "metadata": {},
   "source": [
    "#### Advanced usage"
   ]
  },
  {
   "cell_type": "markdown",
   "metadata": {},
   "source": [
    "##### Translation stream"
   ]
  },
  {
   "cell_type": "code",
   "execution_count": 7,
   "metadata": {},
   "outputs": [
    {
     "name": "stdout",
     "output_type": "stream",
     "text": [
      "17:13:57 ¡Buenos amigos text-as-data!\n",
      "17:13:59 ¡Vamos a traducir!\n"
     ]
    }
   ],
   "source": [
    "# define function to print time stamp\n",
    "import time\n",
    "ts = lambda: time.strftime(\"%H:%M:%S\", time.localtime())\n",
    "\n",
    "for t in model.translate_stream([\"Hello text-as-data friends!\", \"Let's translate!\"], target_lang = \"es\", show_progress_bar = False):\n",
    "  print(ts(), t)\n",
    "  time.sleep(2) # pause 2 seconds (to verify that translations are yielded iteratively)"
   ]
  },
  {
   "cell_type": "markdown",
   "metadata": {},
   "source": [
    "##### Get translation directions\n",
    "\n",
    "Assuming you have decided on a target language (here, English), the code below shows how you see which source languages your NMT model  supports."
   ]
  },
  {
   "cell_type": "code",
   "execution_count": 11,
   "metadata": {},
   "outputs": [
    {
     "data": {
      "text/plain": [
       "['af', 'am', 'ar', 'ast']"
      ]
     },
     "execution_count": 11,
     "metadata": {},
     "output_type": "execute_result"
    }
   ],
   "source": [
    "# from ??? to English\n",
    "langs = model.get_languages(target_lang = \"en\")\n",
    "langs[:4] # print first 4"
   ]
  },
  {
   "cell_type": "code",
   "execution_count": 12,
   "metadata": {},
   "outputs": [
    {
     "name": "stdout",
     "output_type": "stream",
     "text": [
      "can translate 99 to English ('en')\n"
     ]
    },
    {
     "data": {
      "text/plain": [
       "{'af': 'Afrikaans',\n",
       " 'am': 'Amharic',\n",
       " 'ar': 'Arabic',\n",
       " 'ast': 'Asturian; Bable; Leonese; Asturleonese',\n",
       " 'az': 'Azerbaijani',\n",
       " 'ba': 'Bashkir',\n",
       " 'be': 'Belarusian',\n",
       " 'bg': 'Bulgarian',\n",
       " 'bn': 'Bengali; Bangla',\n",
       " 'br': 'Breton'}"
      ]
     },
     "execution_count": 12,
     "metadata": {},
     "output_type": "execute_result"
    }
   ],
   "source": [
    "\n",
    "# look up language names\n",
    "langs = {l: iso639.to_name(l) if iso639.is_valid639_1(l) or iso639.is_valid639_2(l) else None for l in langs}\n",
    "\n",
    "print(f\"can translate {len(langs)} to English ('en')\")\n",
    "\n",
    "# show first 10\n",
    "{c: n for c, n in langs.items() if c in list(langs.keys())[:10]}"
   ]
  },
  {
   "cell_type": "markdown",
   "metadata": {},
   "source": [
    "The `get_languages()` method can also be used in the reverse way, i.e., to find in which target languages a given source language can be translated:"
   ]
  },
  {
   "cell_type": "code",
   "execution_count": 13,
   "metadata": {},
   "outputs": [
    {
     "data": {
      "text/plain": [
       "{'af': 'Afrikaans',\n",
       " 'am': 'Amharic',\n",
       " 'ar': 'Arabic',\n",
       " 'ast': 'Asturian; Bable; Leonese; Asturleonese',\n",
       " 'az': 'Azerbaijani',\n",
       " 'ba': 'Bashkir',\n",
       " 'be': 'Belarusian',\n",
       " 'bg': 'Bulgarian',\n",
       " 'bn': 'Bengali; Bangla',\n",
       " 'br': 'Breton'}"
      ]
     },
     "execution_count": 13,
     "metadata": {},
     "output_type": "execute_result"
    }
   ],
   "source": [
    "# from Zulu to ??? (only showing first 10)\n",
    "{l: iso639.to_name(l) for l in model.get_languages(source_lang = \"zu\")[:10]}"
   ]
  },
  {
   "cell_type": "markdown",
   "metadata": {},
   "source": [
    "## with *Google Translate*"
   ]
  },
  {
   "cell_type": "markdown",
   "metadata": {},
   "source": [
    "### Setup"
   ]
  },
  {
   "cell_type": "markdown",
   "metadata": {},
   "source": [
    "To use Google Cloud Translation, we need to create a Google Cloud Project, enable the Translation API and generate credentials for API access.\n",
    "Here is how you should proceed:\n",
    "\n",
    "1. Create a Google Cloud Project:\n",
    "    1. Go to the [Google Cloud Console](https://console.cloud.google.com/).\n",
    "    2. Click on the project drop-down at the top of the page and select *or* create a project.\n",
    "2. Enable the Translation API for the project:\n",
    "    1. In the Google Cloud Console, navigate to the \"API & Services\" > \"Library\" page.\n",
    "    2. Search for \"Cloud Translation API\" and enable it for your project.\n",
    "    3. If prompted to set up billing, do so by clicking enabling billing/creating a billing account.\n",
    "3. Create access credentials:\n",
    "    1. In the Google Cloud Console, navigate to the \"API & Services\" > \"Credentials\" page.\n",
    "    2. In the \"Service Accounts\" section, click \"Mangage service accounts\".\n",
    "    3. At the top of the \"Service accounts\" page, click \"CREATE SERVICE ACCOUNT\".\n",
    "    4. Give the service account a name and ID (e.g., 'translate') and click \"CREATE AND CONTINUE\".\n",
    "    5. Give the service account the role of an \"Editor\" and click \"CREATE AND CONTINUE\" and then \"CREATE\"\n",
    "    6. Back at the \"Service accounts\" page, click the \"Actions\" button next to the new service role and select \"Managage keys\".\n",
    "    7. Click \"ADD KEY\" > \"Create new key\".\n",
    "    8. Select the JSON key type and click \"CREATE\".\n",
    "    9. A JSON file with your credentials should be downloaded to your computer (remember where you saved it!)."
   ]
  },
  {
   "cell_type": "code",
   "execution_count": 26,
   "metadata": {},
   "outputs": [],
   "source": [
    "# next, authenticate with google\n",
    "from google.oauth2 import service_account\n",
    "fp = os.path.join(os.environ['SPATH'], 'multilingual-gesis-translate.json')\n",
    "credentials = service_account.Credentials.from_service_account_file(fp)"
   ]
  },
  {
   "cell_type": "code",
   "execution_count": 27,
   "metadata": {},
   "outputs": [],
   "source": [
    "# use the credentials to create a translation client\n",
    "from google.cloud import translate_v2 as google_translate\n",
    "\n",
    "client = google_translate.Client(credentials=credentials)"
   ]
  },
  {
   "cell_type": "markdown",
   "metadata": {},
   "source": [
    "### Simple example"
   ]
  },
  {
   "cell_type": "code",
   "execution_count": 28,
   "metadata": {},
   "outputs": [
    {
     "data": {
      "text/plain": [
       "{'translatedText': 'Hello World!',\n",
       " 'detectedSourceLanguage': 'de',\n",
       " 'input': 'Hallo Welt!'}"
      ]
     },
     "execution_count": 28,
     "metadata": {},
     "output_type": "execute_result"
    }
   ],
   "source": [
    "# just one text string\n",
    "result = client.translate('Hallo Welt!', target_language='en')\n",
    "result"
   ]
  },
  {
   "cell_type": "code",
   "execution_count": 29,
   "metadata": {},
   "outputs": [
    {
     "data": {
      "text/plain": [
       "[{'translatedText': 'Hallo Welt!',\n",
       "  'detectedSourceLanguage': 'en',\n",
       "  'input': 'Hello, world!'},\n",
       " {'translatedText': 'Das ist ein Test.',\n",
       "  'detectedSourceLanguage': 'en',\n",
       "  'input': 'This is a test.'}]"
      ]
     },
     "execution_count": 29,
     "metadata": {},
     "output_type": "execute_result"
    }
   ],
   "source": [
    "# a list of texts \n",
    "texts = ['Hello, world!', 'This is a test.']\n",
    "result = client.translate(texts, target_language='de')\n",
    "result"
   ]
  },
  {
   "cell_type": "code",
   "execution_count": 30,
   "metadata": {},
   "outputs": [
    {
     "name": "stdout",
     "output_type": "stream",
     "text": [
      "before: en\n"
     ]
    },
    {
     "data": {
      "text/plain": [
       "{'translatedText': 'How are you doing?',\n",
       " 'detectedSourceLanguage': 'de',\n",
       " 'input': \"Wie geht's dir?\"}"
      ]
     },
     "execution_count": 30,
     "metadata": {},
     "output_type": "execute_result"
    }
   ],
   "source": [
    "# if your target langauge is the same for all texts, you can also just set the `target_language` attribute\n",
    "print('before:', client.target_language)\n",
    "client.target_language = 'en'\n",
    "client.translate(\"Wie geht's dir?\")"
   ]
  },
  {
   "cell_type": "markdown",
   "metadata": {},
   "source": [
    "### Adcanced usage"
   ]
  },
  {
   "cell_type": "markdown",
   "metadata": {},
   "source": [
    "#### Specify the source and target languages"
   ]
  },
  {
   "cell_type": "code",
   "execution_count": 31,
   "metadata": {},
   "outputs": [
    {
     "data": {
      "text/plain": [
       "[{'translatedText': 'Hallo Welt!', 'input': 'Hello, world!'},\n",
       " {'translatedText': 'Das ist ein Test.', 'input': 'This is a test.'}]"
      ]
     },
     "execution_count": 31,
     "metadata": {},
     "output_type": "execute_result"
    }
   ],
   "source": [
    "# if the source and target are the same for all texts, just set the `source_language` and `target_language` arguments\n",
    "client.translate(texts, source_language='en', target_language='de')"
   ]
  },
  {
   "cell_type": "markdown",
   "metadata": {},
   "source": [
    "### Translate texts from different source languages"
   ]
  },
  {
   "cell_type": "code",
   "execution_count": 32,
   "metadata": {},
   "outputs": [
    {
     "name": "stdout",
     "output_type": "stream",
     "text": [
      "               text lang\n",
      "0      ¿Cómo estás?   es\n",
      "1  Wie geht es dir?   de\n",
      "2      How are you?   en\n",
      "ERROR: 400 POST https://translation.googleapis.com/language/translate/v2?prettyPrint=false: Invalid JSON payload received. Unknown name \"source\": Proto field is not repeating, cannot start list. [{'@type': 'type.googleapis.com/google.rpc.BadRequest', 'fieldViolations': [{'description': 'Invalid JSON payload received. Unknown name \"source\": Proto field is not repeating, cannot start list.'}]}]\n"
     ]
    }
   ],
   "source": [
    "import pandas as pd\n",
    "\n",
    "df = pd.DataFrame(\n",
    "    [\n",
    "        {'text': '¿Cómo estás?', 'lang': 'es'},\n",
    "        {'text': 'Wie geht es dir?', 'lang': 'de'},\n",
    "        {'text': 'How are you?', 'lang': 'en'},\n",
    "    ]\n",
    ")\n",
    "print(df)\n",
    "\n",
    "# doesn't work!\n",
    "try:\n",
    "    client.translate(df['text'].tolist(), source_language=df['lang'].tolist(), target_language='fr')\n",
    "except Exception as e:\n",
    "    print('ERROR:', str(e))"
   ]
  },
  {
   "cell_type": "code",
   "execution_count": 33,
   "metadata": {},
   "outputs": [
    {
     "data": {
      "text/plain": [
       "[{'translatedText': 'Comment ça va?',\n",
       "  'detectedSourceLanguage': 'es',\n",
       "  'input': '¿Cómo estás?'},\n",
       " {'translatedText': 'Comment allez-vous?',\n",
       "  'detectedSourceLanguage': 'de',\n",
       "  'input': 'Wie geht es dir?'},\n",
       " {'translatedText': 'Comment vas-tu?',\n",
       "  'detectedSourceLanguage': 'en',\n",
       "  'input': 'How are you?'}]"
      ]
     },
     "execution_count": 33,
     "metadata": {},
     "output_type": "execute_result"
    }
   ],
   "source": [
    "# OPTION 1: just let Google guess the source language\n",
    "client.translate(df['text'].tolist(), target_language='fr')"
   ]
  },
  {
   "cell_type": "code",
   "execution_count": 34,
   "metadata": {},
   "outputs": [
    {
     "name": "stdout",
     "output_type": "stream",
     "text": [
      "translating 1 text(s) from \"de\"\n",
      "translating 1 text(s) from \"en\"\n",
      "translating 1 text(s) from \"es\"\n"
     ]
    },
    {
     "data": {
      "text/html": [
       "<div>\n",
       "<style scoped>\n",
       "    .dataframe tbody tr th:only-of-type {\n",
       "        vertical-align: middle;\n",
       "    }\n",
       "\n",
       "    .dataframe tbody tr th {\n",
       "        vertical-align: top;\n",
       "    }\n",
       "\n",
       "    .dataframe thead th {\n",
       "        text-align: right;\n",
       "    }\n",
       "</style>\n",
       "<table border=\"1\" class=\"dataframe\">\n",
       "  <thead>\n",
       "    <tr style=\"text-align: right;\">\n",
       "      <th></th>\n",
       "      <th>text</th>\n",
       "      <th>lang</th>\n",
       "      <th>tranlation</th>\n",
       "      <th>translation</th>\n",
       "    </tr>\n",
       "  </thead>\n",
       "  <tbody>\n",
       "    <tr>\n",
       "      <th>0</th>\n",
       "      <td>¿Cómo estás?</td>\n",
       "      <td>es</td>\n",
       "      <td></td>\n",
       "      <td>Comment ça va?</td>\n",
       "    </tr>\n",
       "    <tr>\n",
       "      <th>1</th>\n",
       "      <td>Wie geht es dir?</td>\n",
       "      <td>de</td>\n",
       "      <td></td>\n",
       "      <td>Comment allez-vous?</td>\n",
       "    </tr>\n",
       "    <tr>\n",
       "      <th>2</th>\n",
       "      <td>How are you?</td>\n",
       "      <td>en</td>\n",
       "      <td></td>\n",
       "      <td>Comment vas-tu?</td>\n",
       "    </tr>\n",
       "  </tbody>\n",
       "</table>\n",
       "</div>"
      ],
      "text/plain": [
       "               text lang tranlation          translation\n",
       "0      ¿Cómo estás?   es                  Comment ça va?\n",
       "1  Wie geht es dir?   de             Comment allez-vous?\n",
       "2      How are you?   en                 Comment vas-tu?"
      ]
     },
     "execution_count": 34,
     "metadata": {},
     "output_type": "execute_result"
    }
   ],
   "source": [
    "# OPTION 2 (if you want to set the source language explicitly): split by language and \n",
    "#     translate each language-specific subset separately\n",
    "\n",
    "# 1) initialize a new column for the translations with empty stings\n",
    "df['tranlation'] = ['']*len(df)\n",
    "# 2) iterate over language-specific subsets\n",
    "for l, d in df.groupby('lang'):\n",
    "    print(f'translating {len(d)} text(s) from \"{l}\"')\n",
    "    # a) translate the texts in the current subset\n",
    "    tmp = client.translate(d['text'].tolist(), source_language=l, target_language='fr')\n",
    "    # b) assign the translations to the relevant rows in the original dataframe\n",
    "    df.loc[d.index, 'translation'] = [t['translatedText'] for t in tmp]\n",
    "df"
   ]
  },
  {
   "cell_type": "markdown",
   "metadata": {},
   "source": [
    "#### Get the list of supported languages"
   ]
  },
  {
   "cell_type": "code",
   "execution_count": 35,
   "metadata": {},
   "outputs": [
    {
     "data": {
      "text/plain": [
       "{'af': 'Afrikaans',\n",
       " 'sq': 'Albanian',\n",
       " 'am': 'Amharic',\n",
       " 'ar': 'Arabic',\n",
       " 'hy': 'Armenian',\n",
       " 'as': 'Assamese',\n",
       " 'ay': 'Aymara',\n",
       " 'az': 'Azerbaijani',\n",
       " 'bm': 'Bambara',\n",
       " 'eu': 'Basque',\n",
       " 'be': 'Belarusian',\n",
       " 'bn': 'Bengali',\n",
       " 'bho': 'Bhojpuri',\n",
       " 'bs': 'Bosnian',\n",
       " 'bg': 'Bulgarian',\n",
       " 'ca': 'Catalan',\n",
       " 'ceb': 'Cebuano',\n",
       " 'ny': 'Chichewa',\n",
       " 'zh': 'Chinese (Simplified)',\n",
       " 'zh-TW': 'Chinese (Traditional)',\n",
       " 'co': 'Corsican',\n",
       " 'hr': 'Croatian',\n",
       " 'cs': 'Czech',\n",
       " 'da': 'Danish',\n",
       " 'dv': 'Divehi',\n",
       " 'doi': 'Dogri',\n",
       " 'nl': 'Dutch',\n",
       " 'en': 'English',\n",
       " 'eo': 'Esperanto',\n",
       " 'et': 'Estonian',\n",
       " 'ee': 'Ewe',\n",
       " 'tl': 'Filipino',\n",
       " 'fi': 'Finnish',\n",
       " 'fr': 'French',\n",
       " 'fy': 'Frisian',\n",
       " 'gl': 'Galician',\n",
       " 'lg': 'Ganda',\n",
       " 'ka': 'Georgian',\n",
       " 'de': 'German',\n",
       " 'el': 'Greek',\n",
       " 'gn': 'Guarani',\n",
       " 'gu': 'Gujarati',\n",
       " 'ht': 'Haitian Creole',\n",
       " 'ha': 'Hausa',\n",
       " 'haw': 'Hawaiian',\n",
       " 'iw': 'Hebrew',\n",
       " 'hi': 'Hindi',\n",
       " 'hmn': 'Hmong',\n",
       " 'hu': 'Hungarian',\n",
       " 'is': 'Icelandic',\n",
       " 'ig': 'Igbo',\n",
       " 'ilo': 'Iloko',\n",
       " 'id': 'Indonesian',\n",
       " 'ga': 'Irish Gaelic',\n",
       " 'it': 'Italian',\n",
       " 'ja': 'Japanese',\n",
       " 'jw': 'Javanese',\n",
       " 'kn': 'Kannada',\n",
       " 'kk': 'Kazakh',\n",
       " 'km': 'Khmer',\n",
       " 'rw': 'Kinyarwanda',\n",
       " 'gom': 'Konkani',\n",
       " 'ko': 'Korean',\n",
       " 'kri': 'Krio',\n",
       " 'ku': 'Kurdish (Kurmanji)',\n",
       " 'ckb': 'Kurdish (Sorani)',\n",
       " 'ky': 'Kyrgyz',\n",
       " 'lo': 'Lao',\n",
       " 'la': 'Latin',\n",
       " 'lv': 'Latvian',\n",
       " 'ln': 'Lingala',\n",
       " 'lt': 'Lithuanian',\n",
       " 'lb': 'Luxembourgish',\n",
       " 'mk': 'Macedonian',\n",
       " 'mai': 'Maithili',\n",
       " 'mg': 'Malagasy',\n",
       " 'ms': 'Malay',\n",
       " 'ml': 'Malayalam',\n",
       " 'mt': 'Maltese',\n",
       " 'mi': 'Maori',\n",
       " 'mr': 'Marathi',\n",
       " 'mni-Mtei': 'Meiteilon (Manipuri)',\n",
       " 'lus': 'Mizo',\n",
       " 'mn': 'Mongolian',\n",
       " 'my': 'Myanmar (Burmese)',\n",
       " 'ne': 'Nepali',\n",
       " 'nso': 'Northern Sotho',\n",
       " 'no': 'Norwegian',\n",
       " 'or': 'Odia (Oriya)',\n",
       " 'om': 'Oromo',\n",
       " 'ps': 'Pashto',\n",
       " 'fa': 'Persian',\n",
       " 'pl': 'Polish',\n",
       " 'pt': 'Portuguese',\n",
       " 'pa': 'Punjabi',\n",
       " 'qu': 'Quechua',\n",
       " 'ro': 'Romanian',\n",
       " 'ru': 'Russian',\n",
       " 'sm': 'Samoan',\n",
       " 'sa': 'Sanskrit',\n",
       " 'gd': 'Scots Gaelic',\n",
       " 'sr': 'Serbian',\n",
       " 'st': 'Sesotho',\n",
       " 'sn': 'Shona',\n",
       " 'sd': 'Sindhi',\n",
       " 'si': 'Sinhala',\n",
       " 'sk': 'Slovak',\n",
       " 'sl': 'Slovenian',\n",
       " 'so': 'Somali',\n",
       " 'es': 'Spanish',\n",
       " 'su': 'Sundanese',\n",
       " 'sw': 'Swahili',\n",
       " 'sv': 'Swedish',\n",
       " 'tg': 'Tajik',\n",
       " 'ta': 'Tamil',\n",
       " 'tt': 'Tatar',\n",
       " 'te': 'Telugu',\n",
       " 'th': 'Thai',\n",
       " 'ti': 'Tigrinya',\n",
       " 'ts': 'Tsonga',\n",
       " 'tr': 'Turkish',\n",
       " 'tk': 'Turkmen',\n",
       " 'ak': 'Twi',\n",
       " 'uk': 'Ukrainian',\n",
       " 'ur': 'Urdu',\n",
       " 'ug': 'Uyghur',\n",
       " 'uz': 'Uzbek',\n",
       " 'vi': 'Vietnamese',\n",
       " 'cy': 'Welsh',\n",
       " 'xh': 'Xhosa',\n",
       " 'yi': 'Yiddish',\n",
       " 'yo': 'Yoruba',\n",
       " 'zu': 'Zulu',\n",
       " 'he': 'Hebrew',\n",
       " 'jv': 'Javanese',\n",
       " 'zh-CN': 'Chinese (Simplified)'}"
      ]
     },
     "execution_count": 35,
     "metadata": {},
     "output_type": "execute_result"
    }
   ],
   "source": [
    "langs = {l['language']: l['name']  for l in client.get_languages()}\n",
    "langs"
   ]
  },
  {
   "cell_type": "markdown",
   "metadata": {},
   "source": [
    "## with DeepL"
   ]
  },
  {
   "cell_type": "code",
   "execution_count": 36,
   "metadata": {},
   "outputs": [
    {
     "name": "stdout",
     "output_type": "stream",
     "text": [
      "Using `deepl` version 1.16.1\n"
     ]
    }
   ],
   "source": [
    "import deepl # see https://github.com/DeepLcom/deepl-python\n",
    "print('Using `deepl` version', deepl.__version__)"
   ]
  },
  {
   "cell_type": "markdown",
   "metadata": {},
   "source": [
    "### Setup"
   ]
  },
  {
   "cell_type": "code",
   "execution_count": 37,
   "metadata": {},
   "outputs": [],
   "source": [
    "# read your API key\n",
    "with open(os.path.join(os.environ['SPATH'], 'deepl')) as f:\n",
    "    api_key = f.read().strip()"
   ]
  },
  {
   "cell_type": "code",
   "execution_count": 38,
   "metadata": {},
   "outputs": [],
   "source": [
    "# initialize a `Translator` instance\n",
    "translator = deepl.Translator(api_key)"
   ]
  },
  {
   "cell_type": "markdown",
   "metadata": {},
   "source": [
    "### Simple example"
   ]
  },
  {
   "cell_type": "code",
   "execution_count": 39,
   "metadata": {},
   "outputs": [],
   "source": [
    "# translate examples texts\n",
    "texts = ['Hello, world!', 'This is a test.']\n",
    "result = translator.translate_text(texts, target_lang='de')"
   ]
  },
  {
   "cell_type": "code",
   "execution_count": 40,
   "metadata": {},
   "outputs": [
    {
     "data": {
      "text/plain": [
       "[<deepl.api_data.TextResult at 0x2f4edba30>,\n",
       " <deepl.api_data.TextResult at 0x2f4edba00>]"
      ]
     },
     "execution_count": 40,
     "metadata": {},
     "output_type": "execute_result"
    }
   ],
   "source": [
    "# inspect the `result` object\n",
    "result\n",
    "# note: a list of 'deepl.api_data.TextResult' objects"
   ]
  },
  {
   "cell_type": "code",
   "execution_count": 41,
   "metadata": {},
   "outputs": [
    {
     "data": {
      "text/plain": [
       "['detected_source_lang', 'text']"
      ]
     },
     "execution_count": 41,
     "metadata": {},
     "output_type": "execute_result"
    }
   ],
   "source": [
    "# inspect the 'deepl.api_data.TextResult' object in `result`\n",
    "r = result[0]\n",
    "# 'deepl.api_data.TextResult' objects have only two attributes: 'text' and 'detected_source_language'\n",
    "[attr for attr in dir(r) if not callable(getattr(r, attr)) and not attr.startswith(\"__\")]"
   ]
  },
  {
   "cell_type": "code",
   "execution_count": 42,
   "metadata": {},
   "outputs": [
    {
     "name": "stdout",
     "output_type": "stream",
     "text": [
      "EN\n",
      "Hallo, Welt!\n"
     ]
    }
   ],
   "source": [
    "print(r.detected_source_lang)\n",
    "print(r.text)"
   ]
  },
  {
   "cell_type": "code",
   "execution_count": 43,
   "metadata": {},
   "outputs": [
    {
     "data": {
      "text/plain": [
       "['Hallo, Welt!', 'Dies ist ein Test.']"
      ]
     },
     "execution_count": 43,
     "metadata": {},
     "output_type": "execute_result"
    }
   ],
   "source": [
    "# just get text of each result\n",
    "[r.text for r in result]"
   ]
  },
  {
   "cell_type": "markdown",
   "metadata": {},
   "source": [
    "### Advanced usage"
   ]
  },
  {
   "cell_type": "markdown",
   "metadata": {},
   "source": [
    "#### Specifiying the \"source\" language"
   ]
  },
  {
   "cell_type": "code",
   "execution_count": 44,
   "metadata": {},
   "outputs": [
    {
     "data": {
      "text/plain": [
       "['Hallo, Welt!', 'Dies ist ein Test.']"
      ]
     },
     "execution_count": 44,
     "metadata": {},
     "output_type": "execute_result"
    }
   ],
   "source": [
    "# we could alos specify the source language when translating\n",
    "result = translator.translate_text(texts, source_lang='en', target_lang='de')\n",
    "[r.text for r in result]"
   ]
  },
  {
   "cell_type": "markdown",
   "metadata": {},
   "source": [
    "#### Listing available source and target languages\n",
    "\n",
    "- \"source\" language = the language you want to translate *from*\n",
    "- \"target\" language = the language you want to translate *to*\n"
   ]
  },
  {
   "cell_type": "code",
   "execution_count": 45,
   "metadata": {},
   "outputs": [
    {
     "data": {
      "text/plain": [
       "{'BG': 'Bulgarian',\n",
       " 'CS': 'Czech',\n",
       " 'DA': 'Danish',\n",
       " 'DE': 'German',\n",
       " 'EL': 'Greek',\n",
       " 'EN': 'English',\n",
       " 'ES': 'Spanish',\n",
       " 'ET': 'Estonian',\n",
       " 'FI': 'Finnish',\n",
       " 'FR': 'French',\n",
       " 'HU': 'Hungarian',\n",
       " 'ID': 'Indonesian',\n",
       " 'IT': 'Italian',\n",
       " 'JA': 'Japanese',\n",
       " 'KO': 'Korean',\n",
       " 'LT': 'Lithuanian',\n",
       " 'LV': 'Latvian',\n",
       " 'NB': 'Norwegian',\n",
       " 'NL': 'Dutch',\n",
       " 'PL': 'Polish',\n",
       " 'PT': 'Portuguese',\n",
       " 'RO': 'Romanian',\n",
       " 'RU': 'Russian',\n",
       " 'SK': 'Slovak',\n",
       " 'SL': 'Slovenian',\n",
       " 'SV': 'Swedish',\n",
       " 'TR': 'Turkish',\n",
       " 'UK': 'Ukrainian',\n",
       " 'ZH': 'Chinese'}"
      ]
     },
     "execution_count": 45,
     "metadata": {},
     "output_type": "execute_result"
    }
   ],
   "source": [
    "src_langs = {l.code: l.name for l in translator.get_source_languages()}\n",
    "src_langs"
   ]
  },
  {
   "cell_type": "code",
   "execution_count": 46,
   "metadata": {},
   "outputs": [
    {
     "data": {
      "text/plain": [
       "{'BG': 'bul',\n",
       " 'CS': 'cze',\n",
       " 'DA': 'dan',\n",
       " 'DE': 'ger',\n",
       " 'EL': 'gre',\n",
       " 'EN': 'eng',\n",
       " 'ES': 'spa',\n",
       " 'ET': 'est',\n",
       " 'FI': 'fin',\n",
       " 'FR': 'fre',\n",
       " 'HU': 'hun',\n",
       " 'ID': 'ind',\n",
       " 'IT': 'ita',\n",
       " 'JA': 'jpn',\n",
       " 'KO': 'kor',\n",
       " 'LT': 'lit',\n",
       " 'LV': 'lav',\n",
       " 'NB': 'nob',\n",
       " 'NL': 'dut',\n",
       " 'PL': 'pol',\n",
       " 'PT': 'por',\n",
       " 'RO': 'rum',\n",
       " 'RU': 'rus',\n",
       " 'SK': 'slo',\n",
       " 'SL': 'slv',\n",
       " 'SV': 'swe',\n",
       " 'TR': 'tur',\n",
       " 'UK': 'ukr',\n",
       " 'ZH': 'chi'}"
      ]
     },
     "execution_count": 46,
     "metadata": {},
     "output_type": "execute_result"
    }
   ],
   "source": [
    "# DeepL's source language codes are just ISO 639-1 codes (two-letter codes)\n",
    "src_langs_iso1 = {\n",
    "    c: iso639.to_iso639_2(c.lower()) if iso639.is_valid639_1(c) else None\n",
    "    for c in src_langs.keys()\n",
    "}\n",
    "src_langs_iso1\n"
   ]
  },
  {
   "cell_type": "code",
   "execution_count": 47,
   "metadata": {},
   "outputs": [
    {
     "data": {
      "text/plain": [
       "{'BG': 'Bulgarian',\n",
       " 'CS': 'Czech',\n",
       " 'DA': 'Danish',\n",
       " 'DE': 'German',\n",
       " 'EL': 'Greek',\n",
       " 'EN-GB': 'English (British)',\n",
       " 'EN-US': 'English (American)',\n",
       " 'ES': 'Spanish',\n",
       " 'ET': 'Estonian',\n",
       " 'FI': 'Finnish',\n",
       " 'FR': 'French',\n",
       " 'HU': 'Hungarian',\n",
       " 'ID': 'Indonesian',\n",
       " 'IT': 'Italian',\n",
       " 'JA': 'Japanese',\n",
       " 'KO': 'Korean',\n",
       " 'LT': 'Lithuanian',\n",
       " 'LV': 'Latvian',\n",
       " 'NB': 'Norwegian',\n",
       " 'NL': 'Dutch',\n",
       " 'PL': 'Polish',\n",
       " 'PT-BR': 'Portuguese (Brazilian)',\n",
       " 'PT-PT': 'Portuguese (European)',\n",
       " 'RO': 'Romanian',\n",
       " 'RU': 'Russian',\n",
       " 'SK': 'Slovak',\n",
       " 'SL': 'Slovenian',\n",
       " 'SV': 'Swedish',\n",
       " 'TR': 'Turkish',\n",
       " 'UK': 'Ukrainian',\n",
       " 'ZH': 'Chinese (simplified)'}"
      ]
     },
     "execution_count": 47,
     "metadata": {},
     "output_type": "execute_result"
    }
   ],
   "source": [
    "tgt_langs = {l.code: l.name for l in translator.get_target_languages()}\n",
    "tgt_langs"
   ]
  },
  {
   "cell_type": "code",
   "execution_count": 48,
   "metadata": {},
   "outputs": [
    {
     "data": {
      "text/plain": [
       "{'BG': 'bul',\n",
       " 'CS': 'cze',\n",
       " 'DA': 'dan',\n",
       " 'DE': 'ger',\n",
       " 'EL': 'gre',\n",
       " 'EN-GB': None,\n",
       " 'EN-US': None,\n",
       " 'ES': 'spa',\n",
       " 'ET': 'est',\n",
       " 'FI': 'fin',\n",
       " 'FR': 'fre',\n",
       " 'HU': 'hun',\n",
       " 'ID': 'ind',\n",
       " 'IT': 'ita',\n",
       " 'JA': 'jpn',\n",
       " 'KO': 'kor',\n",
       " 'LT': 'lit',\n",
       " 'LV': 'lav',\n",
       " 'NB': 'nob',\n",
       " 'NL': 'dut',\n",
       " 'PL': 'pol',\n",
       " 'PT-BR': None,\n",
       " 'PT-PT': None,\n",
       " 'RO': 'rum',\n",
       " 'RU': 'rus',\n",
       " 'SK': 'slo',\n",
       " 'SL': 'slv',\n",
       " 'SV': 'swe',\n",
       " 'TR': 'tur',\n",
       " 'UK': 'ukr',\n",
       " 'ZH': 'chi'}"
      ]
     },
     "execution_count": 48,
     "metadata": {},
     "output_type": "execute_result"
    }
   ],
   "source": [
    "# DeepL's source language codes are just ISO 639-1 codes (two-letter codes)\n",
    "tgt_langs_iso1 = {\n",
    "    c: iso639.to_iso639_2(c.lower()) if iso639.is_valid639_1(c) else None\n",
    "    for c in tgt_langs.keys()\n",
    "}\n",
    "tgt_langs_iso1\n",
    "# exceptions: \n",
    "#  - EN-GB and EN-US are both 'en'\n",
    "#  - PT-BR and PT-PT are both 'pt'"
   ]
  },
  {
   "cell_type": "markdown",
   "metadata": {},
   "source": [
    "#### Check usage and rate limits"
   ]
  },
  {
   "cell_type": "code",
   "execution_count": 49,
   "metadata": {},
   "outputs": [],
   "source": [
    "usage = translator.get_usage()"
   ]
  },
  {
   "cell_type": "code",
   "execution_count": 50,
   "metadata": {},
   "outputs": [
    {
     "name": "stdout",
     "output_type": "stream",
     "text": [
      "Characters translated: 1757\n",
      "Remaining characters: 2498243\n",
      "% quota used: 0.07028\n"
     ]
    }
   ],
   "source": [
    "print('Characters translated:', usage.character.count)\n",
    "print('Remaining characters:', usage.character.limit-usage.character.count)\n",
    "print('% quota used:', usage.character.count/usage.character.limit*100)"
   ]
  },
  {
   "cell_type": "markdown",
   "metadata": {},
   "source": [
    "#### More translation options\n",
    "\n",
    "There are many more options for the `translatior.translate_text` methods ([source](https://github.com/DeepLcom/deepl-python#text-translation-options)), for example:\n",
    "\n",
    "- `split_sentences`: specify how input text should be split into sentences,\n",
    "  default: `'on'`.\n",
    "    - `'on'`: input text will be split into sentences using both newlines and punctuation.\n",
    "    - `'off'`: input text will not be split into sentences. Use this for applications where each input text contains only one sentence.\n",
    "    - `'nonewlines'`: input text will be split into sentences using punctuation but not newlines.\n",
    "- `preserve_formatting`: controls automatic-formatting-correction. Set to `True` to prevent automatic-correction of formatting, default: `False`.\n",
    "- `formality`: controls whether translations should lean toward informal or\n",
    "  formal language. \n",
    "    - `'less'`: use informal language.\n",
    "    - `'more'`: use formal, more polite language.\n",
    "  *Note:* This option is only available for some target languages, see [Listing available languages](#listing-available-languages).\n",
    "- `glossary`: specifies a glossary to use with translation, either as a string\n",
    "  containing the glossary ID, or a `GlossaryInfo` as returned by\n",
    "  `get_glossary()`.\n",
    "- `context`: specifies additional context to influence translations, that is not\n",
    "  translated itself. Note this is an **alpha feature**: it may be deprecated at\n",
    "  any time, or incur charges if it becomes generally available.\n",
    "  See the [API documentation][api-docs-context-param] for more information and\n",
    "  example usage."
   ]
  }
 ],
 "metadata": {
  "kernelspec": {
   "display_name": "multilingual",
   "language": "python",
   "name": "python3"
  },
  "language_info": {
   "codemirror_mode": {
    "name": "ipython",
    "version": 3
   },
   "file_extension": ".py",
   "mimetype": "text/x-python",
   "name": "python",
   "nbconvert_exporter": "python",
   "pygments_lexer": "ipython3",
   "version": "3.10.13"
  }
 },
 "nbformat": 4,
 "nbformat_minor": 2
}
