{
  "cells": [
    {
      "cell_type": "markdown",
      "metadata": {
        "id": "U09zfgDA7O6K"
      },
      "source": [
        "# Fine-tune a multilingual transformer model for sentence classification\n",
        "\n",
        "| Authors | Last update |\n",
        "|:------ |:----------- |\n",
        "| Hauke Licht (https://github.com/haukelicht) | 2023-11-29 |\n",
        "\n",
        "This notebook shows how to use the hugging face 🤗 `transformers` library to train a Transformer-based sentence classifier with transfer learning (i.e., \"fine tuning\").\n",
        "\n",
        "**_Source:_** The notebook is adapted from the one distributed with this tutorial: https://huggingface.co/docs/transformers/tasks/sequence_classification\n",
        "\n",
        "<a target=\"_blank\" href=\"https://colab.research.google.com/github/fabiennelind/Going-Cross-Lingual_Course/blob/main/code/transformer_finetuning.ipynb\">\n",
        "  <img src=\"https://colab.research.google.com/assets/colab-badge.svg\" alt=\"Open In Colab\"/>\n",
        "</a>"
      ]
    },
    {
      "cell_type": "markdown",
      "metadata": {
        "id": "ge7uLpvVIwC6"
      },
      "source": [
        "## Supervised text classification"
      ]
    },
    {
      "cell_type": "markdown",
      "metadata": {
        "id": "yJDLJIWIIwC8"
      },
      "source": [
        "Text classification means to assigns a label or class to each text in a corpus.\n",
        "It is a common NLP and computational text analysis task.\n",
        "\n",
        "For example. a common and popular text classification task is *sentiment analysis*, which assigns a label like 'positive', 'negative', or 'neutral' to a sequence of text, for example a sentence of paragraph."
      ]
    },
    {
      "cell_type": "markdown",
      "metadata": {
        "id": "SGCqI-gL7O6P"
      },
      "source": [
        "### Ingredients\n",
        "\n",
        "Here is what you need for training a supervised text classifier through fine-tuning (i.e. transfer learning):\n",
        "\n",
        "- a **pre-trained model** you can **fine-tune** for [\"sequence classification\"](https://huggingface.co/docs/transformers/tasks/sequence_classification)\n",
        "    - the pre-trained tokenizer comes with the model\n",
        "- a pre-defined set of **label classes** (e.g., 'positive', 'neutral', 'negative')\n",
        "- a **label dataset**, i.e., a corpus of texts (e.g., sentences) in which each document/text has been assigned to a *single* label class\n",
        "    - we will split this dataset into train, development, and test sets\n",
        "- some **metric to quantify classification performance** so that we know how well our classifier is doing"
      ]
    },
    {
      "cell_type": "markdown",
      "metadata": {
        "id": "6PIAkK_C4dLJ"
      },
      "source": [
        "### The model fine-tuning approach\n",
        "\n",
        "Fine-tuning means to taking a **pre-trained model** and training it on a specific task.\n",
        "That is, instead of training a model from scratch on a small dataset, you use a pre-trained model as a starting point and adapt it to your specific classification task.\n",
        "\n",
        "In the context of text classification, we use pre-trained **Transformers** for fine-tuning.\n",
        "Transformers are deep learning models designed to handle sequential data, making them well-suited for natural language processing tasks.\n",
        "Models like **BERT** (*Bidirectional Encoder Representations from Transformers*) or **GPT** (**Generative Pre-trained Transformer**) are pre-trained on massive datasets in a self-supervised fashion to learn general language patterns.\n",
        "This allows them to learn good text representations (\"embeddings\").\n",
        "\n",
        "During fine-tuning, we adapt the pre-trained model's parameters to perform the new task.\n",
        "The idea behind fine-tuning is to transfer the knowledge gained during pre-training to a specific task.\n",
        "This is called *transfer learning*.\n",
        "Transfer learning has two related benefits:\n",
        "\n",
        "1. We can leverage the pre-trained model's language representation capabilities to perform our classifciation task.\n",
        "2. If the model generates useful text representations, we can train a well-performing classifier with relatively little labeled data (compared to training a model from scratch)\n"
      ]
    },
    {
      "cell_type": "markdown",
      "metadata": {
        "id": "_WmY0zS07O6O"
      },
      "source": [
        "## This notebook\n",
        "\n",
        "In this notebook, we will use\n",
        "\n",
        "1. the [PimPo](https://manifesto-project.wzb.eu/information/documents/pimpo) dataset contributed by the Pola Lehmann and Malisa Zobel ([2018](https://doi.org/10.1111/1475-6765.12266)) that records party manifesto senteces annotated for stance on the issues of immigration and integration, and\n",
        "2. finetune a multilingual[XLM-RoBERTa](https://huggingface.co/xlm-roberta-base) tranformer model (Conneau *et al.*, [2019](http://arxiv.org/abs/1911.02116))"
      ]
    },
    {
      "cell_type": "code",
      "execution_count": 112,
      "metadata": {
        "id": "V6RenWN58W8r"
      },
      "outputs": [],
      "source": [
        "MODEL_NAME = 'xlm-roberta-base'"
      ]
    },
    {
      "cell_type": "markdown",
      "metadata": {
        "id": "1e5y-cUF7O6P"
      },
      "source": [
        "## Setup"
      ]
    },
    {
      "cell_type": "markdown",
      "metadata": {
        "id": "sL_Z2zTG7O6P"
      },
      "source": [
        "If you run this notebook on Google Colab or you have not yet installed the `transformers` and `datasets` python libraries, you need to do so first:"
      ]
    },
    {
      "cell_type": "code",
      "execution_count": 113,
      "metadata": {
        "colab": {
          "base_uri": "https://localhost:8080/"
        },
        "id": "kQPXgYhC7O6P",
        "outputId": "638afa6b-c69a-46d0-a00a-8cb32c1bf063"
      },
      "outputs": [
        {
          "output_type": "stream",
          "name": "stdout",
          "text": [
            "on colab: True\n"
          ]
        }
      ],
      "source": [
        "# check if on colab\n",
        "try:\n",
        "    import google.colab\n",
        "    COLAB = True\n",
        "except:\n",
        "    COLAB=False\n",
        "print('on colab:', COLAB)"
      ]
    },
    {
      "cell_type": "code",
      "execution_count": 114,
      "metadata": {
        "id": "6t6lIsnGIwC5"
      },
      "outputs": [],
      "source": [
        "%%capture\n",
        "if COLAB:\n",
        "    !pip install accelerate==0.24.1 sentencepiece==0.1.99 tokenizers==0.14.1 datasets==2.14.6 transformers==4.35.0 easyNMT==2.0.0 iso639==0.1.4"
      ]
    },
    {
      "cell_type": "code",
      "execution_count": 115,
      "metadata": {
        "id": "m0eb4gB67O6R"
      },
      "outputs": [],
      "source": [
        "import os\n",
        "import shutil\n",
        "\n",
        "import pandas as pd\n",
        "import numpy as np\n",
        "\n",
        "# for train/dev/test splitting\n",
        "from sklearn.model_selection import train_test_split\n",
        "\n",
        "# dataset loading\n",
        "from datasets import Dataset, DatasetDict\n",
        "\n",
        "# fine-tuning\n",
        "from transformers import (\n",
        "    # used to tokenize text\n",
        "    AutoTokenizer,\n",
        "    # used to load the pre-trained model\n",
        "    AutoModelForSequenceClassification,\n",
        "    # used to finetune the pre-trained model\n",
        "    Trainer, TrainingArguments, DataCollatorWithPadding,\n",
        "    # for reproducibility\n",
        "    set_seed\n",
        ")\n",
        "\n",
        "# evaluation\n",
        "from sklearn.metrics import precision_recall_fscore_support"
      ]
    },
    {
      "cell_type": "markdown",
      "metadata": {
        "id": "qLdNoFs17O6b"
      },
      "source": [
        "### Using the GPU or M1 (if available)"
      ]
    },
    {
      "cell_type": "markdown",
      "metadata": {
        "id": "0zt-HKOS7O6b"
      },
      "source": [
        "To make training as fast as possible, you want to utilize GPU computing.\n",
        "When you run notebooks on Colab, you can enable GPU computing by\n",
        "\n",
        "1. clicking on \"Runtime\" in the menu,\n",
        "2. selecting \"Change runtime type\", and\n",
        "3. choose \"GPU\" in the \"Hardware accelerator\" section of the pop-up\n",
        "\n",
        "If you are running this notebook elsewhere, you want to determine to what kind of device you have access\n",
        "\n",
        "- with a GPU &rarr; \"cuda\"\n",
        "- with MacOS's M1/M2 chip &rarr; \"mps\"\n",
        "- else \"cpu\"\n",
        "\n",
        "We do so like this:"
      ]
    },
    {
      "cell_type": "code",
      "execution_count": 116,
      "metadata": {
        "id": "j5BsZWef7O6b",
        "colab": {
          "base_uri": "https://localhost:8080/"
        },
        "outputId": "1e72426f-5a71-4352-a5ec-48b16c5ae2b3"
      },
      "outputs": [
        {
          "output_type": "execute_result",
          "data": {
            "text/plain": [
              "device(type='cuda')"
            ]
          },
          "metadata": {},
          "execution_count": 116
        }
      ],
      "source": [
        "import torch\n",
        "# check if GPU or MPS is available, else use CPU\n",
        "device = \"cuda\" if torch.cuda.is_available() else \"mps\" if torch.backends.mps.is_available() else \"cpu\"\n",
        "device = torch.device(device)\n",
        "device"
      ]
    },
    {
      "cell_type": "markdown",
      "metadata": {
        "id": "1lMdUEQVZcEd"
      },
      "source": [
        "### Reproducibility"
      ]
    },
    {
      "cell_type": "markdown",
      "metadata": {
        "id": "CRCvfrfzZV65"
      },
      "source": [
        "In programming, randomness is governed by *Random Number Generator* (RNG) algorithms.\n",
        "You can control randomness by setting a so called [\"seed\"](https://towardsdatascience.com/random-seeds-and-reproducibility-933da79446e3) that determines an RNG's initial state.\n",
        "By setting a seed at the beginning of your script, each random value you generate (e.g., like [this](https://realpython.com/numpy-random-number-generator/)) will be the same at each run of your script &mdash; as long as you run all the code in the script in the same order (e.g., cell by cell, from bottom to top).\n",
        "\n",
        "**_Important:_** If you set the seed but programm interactively, the order in which you call individual code chunks will vary from interactive use to interactive use.\n",
        "So setting a seed at the beginning of the script will make it's execution only reproducible for runs from top to bottom (without user interaction in between).\n",
        "\n",
        "The packages you will use for randomizing computations have notes on the topic of reproducibility you should read:\n",
        "\n",
        "- `random`: https://docs.python.org/3/library/random.html#notes-on-reproducibility\n",
        "- `numpy`: https://numpy.org/doc/stable/reference/random/generator.html (but read also [here](https://builtin.com/data-science/numpy-random-seed), [here](https://albertcthomas.github.io/good-practices-random-number-generators/), and [here](https://stackoverflow.com/a/5837352))\n",
        "- `pandas`: random number generation inside `pandas` code uses `numpy` under the hood.\n",
        "- `torch` and all pacakges using it (e.g., `transformers`): https://pytorch.org/docs/stable/notes/randomness.html\n",
        "- `transformers`: introduced [here](https://github.com/huggingface/transformers/pull/16907)"
      ]
    },
    {
      "cell_type": "code",
      "execution_count": 117,
      "metadata": {
        "id": "e1wphs157O6R"
      },
      "outputs": [],
      "source": [
        "SEED = 1234\n",
        "set_seed(SEED) # <== sets random, numpy, and torch seeds"
      ]
    },
    {
      "cell_type": "markdown",
      "metadata": {
        "id": "AsDODexLZrm1"
      },
      "source": [
        "**_Important:_** When fine-tuning with `transformers`'s `Trainer` (like above), you also need to set the following arguments in your call to `TrainingArguments()`:\n",
        "\n",
        "```python\n",
        "TrainingArguments(\n",
        "    ...\n",
        "    # ensure reproducibility\n",
        "    full_determinism = True,\n",
        "    seed = SEED,\n",
        "    data_seed = SEED,\n",
        "    ...\n",
        ")\n",
        "```"
      ]
    },
    {
      "cell_type": "markdown",
      "metadata": {
        "id": "-QfByXq9DQdS"
      },
      "source": [
        "## Looking under the hood of multilingual Transformers"
      ]
    },
    {
      "cell_type": "markdown",
      "metadata": {
        "id": "4c2Y1XsqDXM3"
      },
      "source": [
        "Let's take sentences in four different languages for which the meaning of \"government\" is the same:"
      ]
    },
    {
      "cell_type": "code",
      "execution_count": 118,
      "metadata": {
        "id": "Iz3M98rMDUAG"
      },
      "outputs": [],
      "source": [
        "# sentences in different languages with the same meanings and content\n",
        "sentences = [\n",
        "    \"The government should care more about voters' concerns.\",\n",
        "    \"Die Regierung sollte sich mehr um die Anliegen der Wähler kümmern.\",\n",
        "    \"La gouvernement devrait s'occuper davantage des préoccupations des électeurs.\",\n",
        "    \"Los gobiernos deberían preocuparse más por las preocupaciones de los votantes.\",\n",
        "]"
      ]
    },
    {
      "cell_type": "markdown",
      "metadata": {
        "id": "NjFo5Fx3DY6U"
      },
      "source": [
        "Now, let's tokenize them:"
      ]
    },
    {
      "cell_type": "code",
      "execution_count": 119,
      "metadata": {
        "id": "AAtk8bgdDa4R",
        "colab": {
          "base_uri": "https://localhost:8080/"
        },
        "outputId": "32863c1e-1aaf-4781-8765-278782f62321"
      },
      "outputs": [
        {
          "output_type": "stream",
          "name": "stdout",
          "text": [
            "[(0, '<s>'), (1, 'The'), (2, 'government'), (3, 'should'), (4, 'care'), (5, 'more'), (6, 'about'), (7, 'voter'), (8, 's'), (9, \"'\"), (10, 'concern'), (11, 's'), (12, '.'), (13, '</s>'), (14, '<pad>'), (15, '<pad>'), (16, '<pad>'), (17, '<pad>'), (18, '<pad>')]\n",
            "[(0, '<s>'), (1, 'Die'), (2, 'Regierung'), (3, 'sollte'), (4, 'sich'), (5, 'mehr'), (6, 'um'), (7, 'die'), (8, 'Anliegen'), (9, 'der'), (10, 'Wähle'), (11, 'r'), (12, 'kümmern'), (13, '.'), (14, '</s>'), (15, '<pad>'), (16, '<pad>'), (17, '<pad>'), (18, '<pad>')]\n",
            "[(0, '<s>'), (1, 'La'), (2, 'gouvernement'), (3, 'devrait'), (4, 's'), (5, \"'\"), (6, 'occuper'), (7, 'davantage'), (8, 'des'), (9, 'pré'), (10, 'occupation'), (11, 's'), (12, 'des'), (13, 'é'), (14, 'lec'), (15, 'teurs'), (16, '.'), (17, '</s>'), (18, '<pad>')]\n",
            "[(0, '<s>'), (1, 'Los'), (2, 'gobierno'), (3, 's'), (4, 'debería'), (5, 'n'), (6, 'preocupar'), (7, 'se'), (8, 'más'), (9, 'por'), (10, 'las'), (11, 'preocupa'), (12, 'ciones'), (13, 'de'), (14, 'los'), (15, 'vot'), (16, 'antes'), (17, '.'), (18, '</s>')]\n"
          ]
        }
      ],
      "source": [
        "tokenizer = AutoTokenizer.from_pretrained(MODEL_NAME)\n",
        "toks = tokenizer(sentences, padding=True, return_tensors='pt')\n",
        "for input_ids in toks['input_ids']:\n",
        "    print([(i, tokenizer.decode(tok)) for i, tok in enumerate(input_ids)])"
      ]
    },
    {
      "cell_type": "markdown",
      "metadata": {
        "id": "Cqs22jcODca5"
      },
      "source": [
        "The term referring to \"government\" is always the third token in each sequence (index 2) ."
      ]
    },
    {
      "cell_type": "markdown",
      "metadata": {
        "id": "iM_Pfgl2DcrD"
      },
      "source": [
        "Let's feed the sequences through the pre-trained transformer and see the magic:"
      ]
    },
    {
      "cell_type": "code",
      "execution_count": 120,
      "metadata": {
        "id": "Pl8XtCh1DfPI"
      },
      "outputs": [],
      "source": [
        "import torch\n",
        "from transformers import AutoModel\n",
        "model = AutoModel.from_pretrained(MODEL_NAME)\n",
        "\n",
        "with torch.no_grad():\n",
        "    output = model(**toks, output_hidden_states=True)"
      ]
    },
    {
      "cell_type": "markdown",
      "metadata": {
        "id": "xeC6ci9CDhDk"
      },
      "source": [
        "We will see how the cross-lingual similarity of the embedding representation of the government tokens changes as we pass from the embedding layer to the final output layer of the model."
      ]
    },
    {
      "cell_type": "code",
      "execution_count": 121,
      "metadata": {
        "id": "NOGNvPqGDiE8"
      },
      "outputs": [],
      "source": [
        "# we'll use the cosine similarity measure\n",
        "from sklearn.metrics.pairwise import cosine_similarity"
      ]
    },
    {
      "cell_type": "markdown",
      "metadata": {
        "id": "PfO9NYWRDjQN"
      },
      "source": [
        "As shown in the cell below, the embedding representation of the government token are still quite different across languages:"
      ]
    },
    {
      "cell_type": "code",
      "execution_count": 122,
      "metadata": {
        "id": "3bjyszqFDkTJ",
        "colab": {
          "base_uri": "https://localhost:8080/"
        },
        "outputId": "69d423be-7683-4151-8bf7-3e1e01768a8a"
      },
      "outputs": [
        {
          "output_type": "execute_result",
          "data": {
            "text/plain": [
              "array([[1.   , 0.385, 0.516, 0.5  ],\n",
              "       [0.385, 1.   , 0.418, 0.369],\n",
              "       [0.516, 0.418, 1.   , 0.532],\n",
              "       [0.5  , 0.369, 0.532, 1.   ]], dtype=float32)"
            ]
          },
          "metadata": {},
          "execution_count": 122
        }
      ],
      "source": [
        "# similarity of input embeddings\n",
        "cosine_similarity(output.hidden_states[0][:,2,:]).round(3)"
      ]
    },
    {
      "cell_type": "markdown",
      "metadata": {
        "id": "SZsyVjKmDlkl"
      },
      "source": [
        "But this gets better as the inputs are fed deeper into the model:"
      ]
    },
    {
      "cell_type": "code",
      "execution_count": 123,
      "metadata": {
        "id": "gEwC40FODmo4",
        "colab": {
          "base_uri": "https://localhost:8080/"
        },
        "outputId": "203f3a9c-2bbe-4667-c580-3d46efd112cc"
      },
      "outputs": [
        {
          "output_type": "execute_result",
          "data": {
            "text/plain": [
              "array([[1.   , 0.864, 0.902, 0.877],\n",
              "       [0.864, 1.   , 0.882, 0.856],\n",
              "       [0.902, 0.882, 1.   , 0.895],\n",
              "       [0.877, 0.856, 0.895, 1.   ]], dtype=float32)"
            ]
          },
          "metadata": {},
          "execution_count": 123
        }
      ],
      "source": [
        "# similarity of hidden states at layer 4\n",
        "cosine_similarity(output.hidden_states[5][:,2,:]).round(3)"
      ]
    },
    {
      "cell_type": "code",
      "execution_count": 124,
      "metadata": {
        "id": "3o5D2B7TDpHb",
        "colab": {
          "base_uri": "https://localhost:8080/"
        },
        "outputId": "c2d0a684-6fef-4134-8dd1-608a53e0cf8e"
      },
      "outputs": [
        {
          "output_type": "execute_result",
          "data": {
            "text/plain": [
              "array([[1.   , 0.929, 0.94 , 0.927],\n",
              "       [0.929, 1.   , 0.934, 0.916],\n",
              "       [0.94 , 0.934, 1.   , 0.923],\n",
              "       [0.927, 0.916, 0.923, 1.   ]], dtype=float32)"
            ]
          },
          "metadata": {},
          "execution_count": 124
        }
      ],
      "source": [
        "# similarity of hidden states at layer 8\n",
        "cosine_similarity(output.hidden_states[9][:,2,:]).round(3)"
      ]
    },
    {
      "cell_type": "markdown",
      "metadata": {
        "id": "zrRmZh2QQvvu"
      },
      "source": [
        "And at the final layer that serves as input for, for example, classifiers, the tokens' representations are almost identical:"
      ]
    },
    {
      "cell_type": "code",
      "execution_count": 125,
      "metadata": {
        "id": "a32uFjNGQxpG",
        "colab": {
          "base_uri": "https://localhost:8080/"
        },
        "outputId": "fc26656f-b67d-4e0d-f243-a91709c5f657"
      },
      "outputs": [
        {
          "output_type": "execute_result",
          "data": {
            "text/plain": [
              "array([[1.   , 0.986, 0.991, 0.991],\n",
              "       [0.986, 1.   , 0.987, 0.984],\n",
              "       [0.991, 0.987, 1.   , 0.989],\n",
              "       [0.991, 0.984, 0.989, 1.   ]], dtype=float32)"
            ]
          },
          "metadata": {},
          "execution_count": 125
        }
      ],
      "source": [
        "# similarity of last hidden states\n",
        "cosine_similarity(output.last_hidden_state[:, 2, :]).round(3)"
      ]
    },
    {
      "cell_type": "markdown",
      "metadata": {
        "id": "xrVDAOfQQzUG"
      },
      "source": [
        "So by feeding the input sequences through successive layers, the model is able to \"recognize\" that, despite different symbols, the tokens \"government,\" \"Regierung,\" \"gouvernement,\" and \"gobierno\" all refer to a semanticeally equivalent concept."
      ]
    },
    {
      "cell_type": "markdown",
      "metadata": {
        "id": "Ap3i86RV7O6R"
      },
      "source": [
        "## Preparing the data"
      ]
    },
    {
      "cell_type": "markdown",
      "metadata": {
        "id": "ejVMVM5hIwC9"
      },
      "source": [
        "### Load the dataset"
      ]
    },
    {
      "cell_type": "code",
      "execution_count": 126,
      "metadata": {
        "id": "sRH-L1V37O6R"
      },
      "outputs": [],
      "source": [
        "fp = 'https://raw.githubusercontent.com/fabiennelind/Going-Cross-Lingual_Course/main/data/lehmann%2Bzobel_2018_pimpo_positions.tsv'\n",
        "df = pd.read_csv(fp, sep='\\t')"
      ]
    },
    {
      "cell_type": "markdown",
      "metadata": {
        "id": "Xr6uk7Mks8Lo"
      },
      "source": [
        "**_Note:_** there is also a 'lehmann+zobel_2018_pimpo_positions**_translated**.tsv' data file on github that contains machine translations in addition to the source texts."
      ]
    },
    {
      "cell_type": "markdown",
      "metadata": {
        "id": "vz_pao4H7O6R"
      },
      "source": [
        "### Inspect and subset the data"
      ]
    },
    {
      "cell_type": "markdown",
      "metadata": {
        "id": "H9JWGcEK7O6R"
      },
      "source": [
        "Let's cross-tabulate the two relevant indicator columns in this dataset."
      ]
    },
    {
      "cell_type": "code",
      "execution_count": 127,
      "metadata": {
        "colab": {
          "base_uri": "https://localhost:8080/",
          "height": 174
        },
        "id": "e2cvecqB7O6R",
        "outputId": "7db84f7f-59c0-4a28-b87d-be6b90108006"
      },
      "outputs": [
        {
          "output_type": "execute_result",
          "data": {
            "text/plain": [
              "issue       immigration  integration\n",
              "position                            \n",
              "neutral             578          390\n",
              "sceptical          1360          776\n",
              "supportive         1955         3886"
            ],
            "text/html": [
              "\n",
              "  <div id=\"df-1c0a0705-de65-44b5-974d-601d33531988\" class=\"colab-df-container\">\n",
              "    <div>\n",
              "<style scoped>\n",
              "    .dataframe tbody tr th:only-of-type {\n",
              "        vertical-align: middle;\n",
              "    }\n",
              "\n",
              "    .dataframe tbody tr th {\n",
              "        vertical-align: top;\n",
              "    }\n",
              "\n",
              "    .dataframe thead th {\n",
              "        text-align: right;\n",
              "    }\n",
              "</style>\n",
              "<table border=\"1\" class=\"dataframe\">\n",
              "  <thead>\n",
              "    <tr style=\"text-align: right;\">\n",
              "      <th>issue</th>\n",
              "      <th>immigration</th>\n",
              "      <th>integration</th>\n",
              "    </tr>\n",
              "    <tr>\n",
              "      <th>position</th>\n",
              "      <th></th>\n",
              "      <th></th>\n",
              "    </tr>\n",
              "  </thead>\n",
              "  <tbody>\n",
              "    <tr>\n",
              "      <th>neutral</th>\n",
              "      <td>578</td>\n",
              "      <td>390</td>\n",
              "    </tr>\n",
              "    <tr>\n",
              "      <th>sceptical</th>\n",
              "      <td>1360</td>\n",
              "      <td>776</td>\n",
              "    </tr>\n",
              "    <tr>\n",
              "      <th>supportive</th>\n",
              "      <td>1955</td>\n",
              "      <td>3886</td>\n",
              "    </tr>\n",
              "  </tbody>\n",
              "</table>\n",
              "</div>\n",
              "    <div class=\"colab-df-buttons\">\n",
              "\n",
              "  <div class=\"colab-df-container\">\n",
              "    <button class=\"colab-df-convert\" onclick=\"convertToInteractive('df-1c0a0705-de65-44b5-974d-601d33531988')\"\n",
              "            title=\"Convert this dataframe to an interactive table.\"\n",
              "            style=\"display:none;\">\n",
              "\n",
              "  <svg xmlns=\"http://www.w3.org/2000/svg\" height=\"24px\" viewBox=\"0 -960 960 960\">\n",
              "    <path d=\"M120-120v-720h720v720H120Zm60-500h600v-160H180v160Zm220 220h160v-160H400v160Zm0 220h160v-160H400v160ZM180-400h160v-160H180v160Zm440 0h160v-160H620v160ZM180-180h160v-160H180v160Zm440 0h160v-160H620v160Z\"/>\n",
              "  </svg>\n",
              "    </button>\n",
              "\n",
              "  <style>\n",
              "    .colab-df-container {\n",
              "      display:flex;\n",
              "      gap: 12px;\n",
              "    }\n",
              "\n",
              "    .colab-df-convert {\n",
              "      background-color: #E8F0FE;\n",
              "      border: none;\n",
              "      border-radius: 50%;\n",
              "      cursor: pointer;\n",
              "      display: none;\n",
              "      fill: #1967D2;\n",
              "      height: 32px;\n",
              "      padding: 0 0 0 0;\n",
              "      width: 32px;\n",
              "    }\n",
              "\n",
              "    .colab-df-convert:hover {\n",
              "      background-color: #E2EBFA;\n",
              "      box-shadow: 0px 1px 2px rgba(60, 64, 67, 0.3), 0px 1px 3px 1px rgba(60, 64, 67, 0.15);\n",
              "      fill: #174EA6;\n",
              "    }\n",
              "\n",
              "    .colab-df-buttons div {\n",
              "      margin-bottom: 4px;\n",
              "    }\n",
              "\n",
              "    [theme=dark] .colab-df-convert {\n",
              "      background-color: #3B4455;\n",
              "      fill: #D2E3FC;\n",
              "    }\n",
              "\n",
              "    [theme=dark] .colab-df-convert:hover {\n",
              "      background-color: #434B5C;\n",
              "      box-shadow: 0px 1px 3px 1px rgba(0, 0, 0, 0.15);\n",
              "      filter: drop-shadow(0px 1px 2px rgba(0, 0, 0, 0.3));\n",
              "      fill: #FFFFFF;\n",
              "    }\n",
              "  </style>\n",
              "\n",
              "    <script>\n",
              "      const buttonEl =\n",
              "        document.querySelector('#df-1c0a0705-de65-44b5-974d-601d33531988 button.colab-df-convert');\n",
              "      buttonEl.style.display =\n",
              "        google.colab.kernel.accessAllowed ? 'block' : 'none';\n",
              "\n",
              "      async function convertToInteractive(key) {\n",
              "        const element = document.querySelector('#df-1c0a0705-de65-44b5-974d-601d33531988');\n",
              "        const dataTable =\n",
              "          await google.colab.kernel.invokeFunction('convertToInteractive',\n",
              "                                                    [key], {});\n",
              "        if (!dataTable) return;\n",
              "\n",
              "        const docLinkHtml = 'Like what you see? Visit the ' +\n",
              "          '<a target=\"_blank\" href=https://colab.research.google.com/notebooks/data_table.ipynb>data table notebook</a>'\n",
              "          + ' to learn more about interactive tables.';\n",
              "        element.innerHTML = '';\n",
              "        dataTable['output_type'] = 'display_data';\n",
              "        await google.colab.output.renderOutput(dataTable, element);\n",
              "        const docLink = document.createElement('div');\n",
              "        docLink.innerHTML = docLinkHtml;\n",
              "        element.appendChild(docLink);\n",
              "      }\n",
              "    </script>\n",
              "  </div>\n",
              "\n",
              "\n",
              "<div id=\"df-91f11835-a92b-4443-bf98-8a6e3da218f1\">\n",
              "  <button class=\"colab-df-quickchart\" onclick=\"quickchart('df-91f11835-a92b-4443-bf98-8a6e3da218f1')\"\n",
              "            title=\"Suggest charts\"\n",
              "            style=\"display:none;\">\n",
              "\n",
              "<svg xmlns=\"http://www.w3.org/2000/svg\" height=\"24px\"viewBox=\"0 0 24 24\"\n",
              "     width=\"24px\">\n",
              "    <g>\n",
              "        <path d=\"M19 3H5c-1.1 0-2 .9-2 2v14c0 1.1.9 2 2 2h14c1.1 0 2-.9 2-2V5c0-1.1-.9-2-2-2zM9 17H7v-7h2v7zm4 0h-2V7h2v10zm4 0h-2v-4h2v4z\"/>\n",
              "    </g>\n",
              "</svg>\n",
              "  </button>\n",
              "\n",
              "<style>\n",
              "  .colab-df-quickchart {\n",
              "      --bg-color: #E8F0FE;\n",
              "      --fill-color: #1967D2;\n",
              "      --hover-bg-color: #E2EBFA;\n",
              "      --hover-fill-color: #174EA6;\n",
              "      --disabled-fill-color: #AAA;\n",
              "      --disabled-bg-color: #DDD;\n",
              "  }\n",
              "\n",
              "  [theme=dark] .colab-df-quickchart {\n",
              "      --bg-color: #3B4455;\n",
              "      --fill-color: #D2E3FC;\n",
              "      --hover-bg-color: #434B5C;\n",
              "      --hover-fill-color: #FFFFFF;\n",
              "      --disabled-bg-color: #3B4455;\n",
              "      --disabled-fill-color: #666;\n",
              "  }\n",
              "\n",
              "  .colab-df-quickchart {\n",
              "    background-color: var(--bg-color);\n",
              "    border: none;\n",
              "    border-radius: 50%;\n",
              "    cursor: pointer;\n",
              "    display: none;\n",
              "    fill: var(--fill-color);\n",
              "    height: 32px;\n",
              "    padding: 0;\n",
              "    width: 32px;\n",
              "  }\n",
              "\n",
              "  .colab-df-quickchart:hover {\n",
              "    background-color: var(--hover-bg-color);\n",
              "    box-shadow: 0 1px 2px rgba(60, 64, 67, 0.3), 0 1px 3px 1px rgba(60, 64, 67, 0.15);\n",
              "    fill: var(--button-hover-fill-color);\n",
              "  }\n",
              "\n",
              "  .colab-df-quickchart-complete:disabled,\n",
              "  .colab-df-quickchart-complete:disabled:hover {\n",
              "    background-color: var(--disabled-bg-color);\n",
              "    fill: var(--disabled-fill-color);\n",
              "    box-shadow: none;\n",
              "  }\n",
              "\n",
              "  .colab-df-spinner {\n",
              "    border: 2px solid var(--fill-color);\n",
              "    border-color: transparent;\n",
              "    border-bottom-color: var(--fill-color);\n",
              "    animation:\n",
              "      spin 1s steps(1) infinite;\n",
              "  }\n",
              "\n",
              "  @keyframes spin {\n",
              "    0% {\n",
              "      border-color: transparent;\n",
              "      border-bottom-color: var(--fill-color);\n",
              "      border-left-color: var(--fill-color);\n",
              "    }\n",
              "    20% {\n",
              "      border-color: transparent;\n",
              "      border-left-color: var(--fill-color);\n",
              "      border-top-color: var(--fill-color);\n",
              "    }\n",
              "    30% {\n",
              "      border-color: transparent;\n",
              "      border-left-color: var(--fill-color);\n",
              "      border-top-color: var(--fill-color);\n",
              "      border-right-color: var(--fill-color);\n",
              "    }\n",
              "    40% {\n",
              "      border-color: transparent;\n",
              "      border-right-color: var(--fill-color);\n",
              "      border-top-color: var(--fill-color);\n",
              "    }\n",
              "    60% {\n",
              "      border-color: transparent;\n",
              "      border-right-color: var(--fill-color);\n",
              "    }\n",
              "    80% {\n",
              "      border-color: transparent;\n",
              "      border-right-color: var(--fill-color);\n",
              "      border-bottom-color: var(--fill-color);\n",
              "    }\n",
              "    90% {\n",
              "      border-color: transparent;\n",
              "      border-bottom-color: var(--fill-color);\n",
              "    }\n",
              "  }\n",
              "</style>\n",
              "\n",
              "  <script>\n",
              "    async function quickchart(key) {\n",
              "      const quickchartButtonEl =\n",
              "        document.querySelector('#' + key + ' button');\n",
              "      quickchartButtonEl.disabled = true;  // To prevent multiple clicks.\n",
              "      quickchartButtonEl.classList.add('colab-df-spinner');\n",
              "      try {\n",
              "        const charts = await google.colab.kernel.invokeFunction(\n",
              "            'suggestCharts', [key], {});\n",
              "      } catch (error) {\n",
              "        console.error('Error during call to suggestCharts:', error);\n",
              "      }\n",
              "      quickchartButtonEl.classList.remove('colab-df-spinner');\n",
              "      quickchartButtonEl.classList.add('colab-df-quickchart-complete');\n",
              "    }\n",
              "    (() => {\n",
              "      let quickchartButtonEl =\n",
              "        document.querySelector('#df-91f11835-a92b-4443-bf98-8a6e3da218f1 button');\n",
              "      quickchartButtonEl.style.display =\n",
              "        google.colab.kernel.accessAllowed ? 'block' : 'none';\n",
              "    })();\n",
              "  </script>\n",
              "</div>\n",
              "    </div>\n",
              "  </div>\n"
            ]
          },
          "metadata": {},
          "execution_count": 127
        }
      ],
      "source": [
        "df[['position', 'issue']].value_counts(dropna=False).unstack()"
      ]
    },
    {
      "cell_type": "markdown",
      "metadata": {
        "id": "_VP-M39K7O6S"
      },
      "source": [
        "**_Note:_** In the original data, 'position' is only coded for sentences with 'issue' \"immigration\" or \"integration\".\n",
        "We have discarded all sentences where 'issue' was coded as \"other\"."
      ]
    },
    {
      "cell_type": "markdown",
      "metadata": {
        "id": "Iys4MTa27O6S"
      },
      "source": [
        "A problem with the 'position' indicator in all coded sentences is that the \"neutral\" category is very rare."
      ]
    },
    {
      "cell_type": "code",
      "execution_count": 128,
      "metadata": {
        "colab": {
          "base_uri": "https://localhost:8080/"
        },
        "id": "J7JNov8n7O6S",
        "outputId": "386f49f8-40e3-4e4e-bf8a-867029fccf90"
      },
      "outputs": [
        {
          "output_type": "execute_result",
          "data": {
            "text/plain": [
              "position\n",
              "supportive    5841\n",
              "sceptical     2136\n",
              "neutral        968\n",
              "dtype: int64"
            ]
          },
          "metadata": {},
          "execution_count": 128
        }
      ],
      "source": [
        "df.value_counts('position', dropna=False)"
      ]
    },
    {
      "cell_type": "markdown",
      "metadata": {
        "id": "u_CXo3km7O6S"
      },
      "source": [
        "We'll thus discard \"neutral\" sentences to make the classification task simpler:"
      ]
    },
    {
      "cell_type": "code",
      "execution_count": 129,
      "metadata": {
        "id": "uUnD7OEn7O6S"
      },
      "outputs": [],
      "source": [
        "df = df[df.position.isin(['supportive', 'sceptical'])]"
      ]
    },
    {
      "cell_type": "markdown",
      "metadata": {
        "id": "SQLdsPzK7O6S"
      },
      "source": [
        "Now we can tabulate the languages covered by the remaining data:"
      ]
    },
    {
      "cell_type": "code",
      "execution_count": 130,
      "metadata": {
        "colab": {
          "base_uri": "https://localhost:8080/"
        },
        "id": "dLvrN5Bg7O6S",
        "outputId": "ef939e3c-28be-4b42-9e14-21fee2621214"
      },
      "outputs": [
        {
          "output_type": "execute_result",
          "data": {
            "text/plain": [
              "country_iso3c  lang\n",
              "DEU            deu     1814\n",
              "NOR            nor     1273\n",
              "NLD            nld     1228\n",
              "AUT            deu      861\n",
              "ESP            spa      814\n",
              "DNK            dan      482\n",
              "CHE            deu      351\n",
              "SWE            swe      336\n",
              "FIN            fin      261\n",
              "IRL            eng      188\n",
              "AUS            eng      139\n",
              "USA            eng      139\n",
              "CAN            fra       73\n",
              "NZL            eng       10\n",
              "FIN            swe        8\n",
              "dtype: int64"
            ]
          },
          "metadata": {},
          "execution_count": 130
        }
      ],
      "source": [
        "df[['country_iso3c', 'lang']].value_counts()"
      ]
    },
    {
      "cell_type": "markdown",
      "metadata": {
        "id": "0xhPdgvk7O6T"
      },
      "source": [
        "## Prepare training"
      ]
    },
    {
      "cell_type": "markdown",
      "metadata": {
        "id": "BsIp8W2q7O6T"
      },
      "source": [
        "### Prepare the train, dev, and test splits"
      ]
    },
    {
      "cell_type": "markdown",
      "metadata": {
        "id": "Q1IRgygx7O6T"
      },
      "source": [
        "Because machine learning models need numbers as inputs, we need to convert our position labels into numeric indicators.\n",
        "\n",
        "To this end we first create a \"mapping\" `id2label` label number to label name (and *vice versa*):"
      ]
    },
    {
      "cell_type": "code",
      "execution_count": 131,
      "metadata": {
        "id": "4HdUpxtN7O6T"
      },
      "outputs": [],
      "source": [
        "id2label = {0: 'sceptical', 1: 'supportive'}\n",
        "# alternatively: `id2label = dict(enumerate(df.position.unique()))?\n",
        "label2id = {v: k for k, v in id2label.items()}"
      ]
    },
    {
      "cell_type": "code",
      "source": [
        "label2id"
      ],
      "metadata": {
        "colab": {
          "base_uri": "https://localhost:8080/"
        },
        "id": "Q0RkWCl_kyv_",
        "outputId": "ed68d936-135f-4d7e-f63c-c4bd765d3553"
      },
      "execution_count": 132,
      "outputs": [
        {
          "output_type": "execute_result",
          "data": {
            "text/plain": [
              "{'sceptical': 0, 'supportive': 1}"
            ]
          },
          "metadata": {},
          "execution_count": 132
        }
      ]
    },
    {
      "cell_type": "markdown",
      "metadata": {
        "id": "S12eRiGp7O6T"
      },
      "source": [
        "We then use this mapping to creat a number label indicator column:"
      ]
    },
    {
      "cell_type": "code",
      "execution_count": 133,
      "metadata": {
        "colab": {
          "base_uri": "https://localhost:8080/"
        },
        "id": "8W9Fkn0B7O6T",
        "outputId": "894c769f-eb17-45f1-81d5-e3c22b92e715"
      },
      "outputs": [
        {
          "output_type": "stream",
          "name": "stderr",
          "text": [
            "<ipython-input-133-575179c767d9>:2: SettingWithCopyWarning: \n",
            "A value is trying to be set on a copy of a slice from a DataFrame.\n",
            "Try using .loc[row_indexer,col_indexer] = value instead\n",
            "\n",
            "See the caveats in the documentation: https://pandas.pydata.org/pandas-docs/stable/user_guide/indexing.html#returning-a-view-versus-a-copy\n",
            "  df['label'] = df['position'].map(label2id)\n"
          ]
        },
        {
          "output_type": "execute_result",
          "data": {
            "text/plain": [
              "label  position  \n",
              "1      supportive    5841\n",
              "0      sceptical     2136\n",
              "dtype: int64"
            ]
          },
          "metadata": {},
          "execution_count": 133
        }
      ],
      "source": [
        "# encode label indicator\n",
        "df['label'] = df['position'].map(label2id)\n",
        "df[['label', 'position']].value_counts()"
      ]
    },
    {
      "cell_type": "markdown",
      "metadata": {
        "id": "QVPrr9eU7O6T"
      },
      "source": [
        "Now we can subset the data frame to only the columns we'll need for finetuning and evaluation:"
      ]
    },
    {
      "cell_type": "code",
      "execution_count": 134,
      "metadata": {
        "id": "MgdnXlVX7O6T"
      },
      "outputs": [],
      "source": [
        "cols = ['text', 'label', 'lang']\n",
        "df = df[cols].reset_index(drop=True)"
      ]
    },
    {
      "cell_type": "markdown",
      "metadata": {
        "id": "el12ezRDIwC9"
      },
      "source": [
        "Next, we need to split the dataset into three **splits**:\n",
        "\n",
        "- a training set (\"train\") used for finetuning the pre-trained model's parameters with our data and classification task\n",
        "- a development set (\"dev\") used to monitor our progress during finetuning\n",
        "- a test set (\"test\") we use to estimate the final classifiers out-of-sample performance (completely held-out during finetuning!)\n",
        "\n",
        "We set aside 10% of sentences for the development and 15% of sentences for the test set. The rest is used for training."
      ]
    },
    {
      "cell_type": "code",
      "execution_count": 135,
      "metadata": {
        "colab": {
          "base_uri": "https://localhost:8080/"
        },
        "id": "HCOjNFmJ7O6T",
        "outputId": "78a2c524-5967-4558-ea76-c28040ed906e"
      },
      "outputs": [
        {
          "output_type": "execute_result",
          "data": {
            "text/plain": [
              "(5984, 797, 1196)"
            ]
          },
          "metadata": {},
          "execution_count": 135
        }
      ],
      "source": [
        "# use 15% of the data for dev and test, respectively\n",
        "n = len(df)\n",
        "\n",
        "test_size = 0.15\n",
        "n_test = int(n*test_size)\n",
        "\n",
        "dev_size = 0.10\n",
        "n_dev = int(n*dev_size)\n",
        "\n",
        "tmp, test_idxs = train_test_split(range(n), test_size=n_test, random_state=SEED, stratify=df.label)\n",
        "train_idxs, dev_idxs = train_test_split(tmp, test_size=n_dev, random_state=SEED, stratify=df.label.iloc[tmp])\n",
        "del tmp\n",
        "\n",
        "# show the number of examples in each split\n",
        "len(train_idxs), len(dev_idxs), len(test_idxs)"
      ]
    },
    {
      "cell_type": "markdown",
      "metadata": {
        "id": "YNnnZzwq7O6T"
      },
      "source": [
        "Now we are ready to create our dataset:"
      ]
    },
    {
      "cell_type": "code",
      "execution_count": 136,
      "metadata": {
        "id": "Ec1YkX5OIwC9"
      },
      "outputs": [],
      "source": [
        "dataset = DatasetDict({\n",
        "    \"train\": Dataset.from_pandas(df.iloc[train_idxs], preserve_index=False),\n",
        "    \"dev\": Dataset.from_pandas(df.iloc[dev_idxs], preserve_index=False),\n",
        "    \"test\": Dataset.from_pandas(df.iloc[test_idxs], preserve_index=False),\n",
        "})"
      ]
    },
    {
      "cell_type": "markdown",
      "metadata": {
        "id": "0z5HZKva7O6T"
      },
      "source": [
        "The object 'dataset' is an instance of the `datasets` `DatasetDict` class."
      ]
    },
    {
      "cell_type": "code",
      "execution_count": 137,
      "metadata": {
        "colab": {
          "base_uri": "https://localhost:8080/"
        },
        "id": "xpxmrkz57O6T",
        "outputId": "00ad3c32-6d69-4025-cf8a-66879f66e9a9"
      },
      "outputs": [
        {
          "output_type": "execute_result",
          "data": {
            "text/plain": [
              "datasets.dataset_dict.DatasetDict"
            ]
          },
          "metadata": {},
          "execution_count": 137
        }
      ],
      "source": [
        "type(dataset)"
      ]
    },
    {
      "cell_type": "markdown",
      "metadata": {
        "id": "GRJiqKK57O6U"
      },
      "source": [
        "This class is there to gather several pre-defined splits of a dataset.\n",
        "\n",
        "Among these splits, one is usually named \"train\" and another on \"test\" (see next cell).\n",
        "\n",
        "**_Note:_** It'll become clearer further below why we need these splits."
      ]
    },
    {
      "cell_type": "code",
      "execution_count": 138,
      "metadata": {
        "colab": {
          "base_uri": "https://localhost:8080/"
        },
        "id": "smlK_d_p7O6Y",
        "outputId": "e0c07e61-42ba-44d2-a9d3-fa1672bbd2ee"
      },
      "outputs": [
        {
          "output_type": "execute_result",
          "data": {
            "text/plain": [
              "dict_keys(['train', 'dev', 'test'])"
            ]
          },
          "metadata": {},
          "execution_count": 138
        }
      ],
      "source": [
        "dataset.keys()"
      ]
    },
    {
      "cell_type": "code",
      "execution_count": 139,
      "metadata": {
        "colab": {
          "base_uri": "https://localhost:8080/"
        },
        "id": "oTeeLcsT7O6Y",
        "outputId": "9edc67a2-0d53-4d6f-8248-64648bdce58f"
      },
      "outputs": [
        {
          "output_type": "execute_result",
          "data": {
            "text/plain": [
              "(5984, 797, 1196)"
            ]
          },
          "metadata": {},
          "execution_count": 139
        }
      ],
      "source": [
        "len(dataset['train']), len(dataset['dev']), len(dataset['test'])"
      ]
    },
    {
      "cell_type": "markdown",
      "metadata": {
        "id": "3-d-KOvzIwC9"
      },
      "source": [
        "Here is how you can access one \"example\" (i.e., observation) in the the \"test\" split:"
      ]
    },
    {
      "cell_type": "code",
      "execution_count": 140,
      "metadata": {
        "colab": {
          "base_uri": "https://localhost:8080/"
        },
        "id": "ZfLu8rfE7O6Y",
        "outputId": "1f274a0a-47a6-426b-d432-b6dee5aff3c6"
      },
      "outputs": [
        {
          "output_type": "execute_result",
          "data": {
            "text/plain": [
              "datasets.arrow_dataset.Dataset"
            ]
          },
          "metadata": {},
          "execution_count": 140
        }
      ],
      "source": [
        "type(dataset[\"test\"])"
      ]
    },
    {
      "cell_type": "code",
      "execution_count": 141,
      "metadata": {
        "colab": {
          "base_uri": "https://localhost:8080/"
        },
        "id": "kQEm_8XyIwC9",
        "outputId": "add78abb-1eb9-4926-82bb-07e07feceeaf"
      },
      "outputs": [
        {
          "output_type": "execute_result",
          "data": {
            "text/plain": [
              "({'text': 'Auslöser für Angst und Intoleranz ist Unwissenheit.',\n",
              "  'label': 1,\n",
              "  'lang': 'deu'},\n",
              " {0: 'sceptical', 1: 'supportive'})"
            ]
          },
          "metadata": {},
          "execution_count": 141
        }
      ],
      "source": [
        "dataset[\"test\"][1], id2label"
      ]
    },
    {
      "cell_type": "markdown",
      "metadata": {
        "id": "caZBe68pIwC-"
      },
      "source": [
        "This shows in the test split, there are three fields for *each* example :\n",
        "\n",
        "- `text`: the movie review text.\n",
        "- `label`: a value that is either `1` for a supportive stance or `0` for a sceptical stance.\n",
        "- `lang`: lange code indicatiting the sentenecs language"
      ]
    },
    {
      "cell_type": "markdown",
      "metadata": {
        "id": "kgA3hvwm7O6Z"
      },
      "source": [
        "**_Important:_** check that the splits have about equal label class distributions:"
      ]
    },
    {
      "cell_type": "code",
      "execution_count": 142,
      "metadata": {
        "colab": {
          "base_uri": "https://localhost:8080/"
        },
        "id": "2husJWCg7O6Z",
        "outputId": "b6f8fc15-6e51-44ef-ac6a-766562bbe03f"
      },
      "outputs": [
        {
          "output_type": "stream",
          "name": "stdout",
          "text": [
            "% \"pos\" in train: 0.7321189839572193\n",
            "% \"pos\" in dev: 0.7327478042659975\n",
            "% \"pos\" in test: 0.7324414715719063\n"
          ]
        }
      ],
      "source": [
        "print('% \"pos\" in train:', np.mean([ex['label'] for ex in dataset[\"train\"]]))\n",
        "print('% \"pos\" in dev:', np.mean([ex['label'] for ex in dataset[\"dev\"]]))\n",
        "print('% \"pos\" in test:', np.mean([ex['label'] for ex in dataset[\"test\"]]))"
      ]
    },
    {
      "cell_type": "markdown",
      "metadata": {
        "id": "6Vw5OFMUIwC-"
      },
      "source": [
        "### Preprocessing texts"
      ]
    },
    {
      "cell_type": "markdown",
      "metadata": {
        "id": "gLhZbEdaIwC-"
      },
      "source": [
        "The next step is to load a DistilBERT tokenizer to preprocess the `text` field:"
      ]
    },
    {
      "cell_type": "code",
      "execution_count": 182,
      "metadata": {
        "id": "FXLRVYJ6IwC-"
      },
      "outputs": [],
      "source": [
        "tokenizer = AutoTokenizer.from_pretrained(MODEL_NAME)\n",
        "# read about \"byte-pair encoding\" and \"sentence-piece\" algorithms if interested in how tokenizers work"
      ]
    },
    {
      "cell_type": "markdown",
      "metadata": {
        "id": "HJOfDHII7O6Z"
      },
      "source": [
        "The tokenizer is a so-called *callable* and can thus be used like a function:\n",
        "If you input a text string, it return a dictionary with the tokenized text and additional information."
      ]
    },
    {
      "cell_type": "code",
      "execution_count": 183,
      "metadata": {
        "colab": {
          "base_uri": "https://localhost:8080/"
        },
        "id": "sL1d_sTx7O6Z",
        "outputId": "833d4ca6-213b-4e34-9d68-7036d7186c21"
      },
      "outputs": [
        {
          "output_type": "stream",
          "name": "stdout",
          "text": [
            "dict_keys(['input_ids', 'attention_mask'])\n"
          ]
        }
      ],
      "source": [
        "toks = tokenizer(\"Hello, this one sentence! <s> And this is another one.\")\n",
        "print(toks.keys())"
      ]
    },
    {
      "cell_type": "markdown",
      "metadata": {
        "id": "zKqWW-Xq7O6Z"
      },
      "source": [
        "- The field 'input_ids' indicates the numbers used to represent the tokens in the example sentence.\n",
        "- The 'attention_mask' is there to help the model to know to which tokens in of a bunch of sentences it should pay attention when fine-tuning, and which it can ignore."
      ]
    },
    {
      "cell_type": "code",
      "execution_count": 145,
      "metadata": {
        "colab": {
          "base_uri": "https://localhost:8080/"
        },
        "id": "4janZzEx7O6Z",
        "outputId": "1036522f-2955-4f82-9d92-41fc677fc155"
      },
      "outputs": [
        {
          "output_type": "stream",
          "name": "stdout",
          "text": [
            "[0, 35378, 4, 903, 1632, 149357, 38, 0, 3493, 903, 83, 15700, 1632, 5, 2]\n"
          ]
        },
        {
          "output_type": "execute_result",
          "data": {
            "text/plain": [
              "['<s>',\n",
              " '▁Hello',\n",
              " ',',\n",
              " '▁this',\n",
              " '▁one',\n",
              " '▁sentence',\n",
              " '!',\n",
              " '<s>',\n",
              " '▁And',\n",
              " '▁this',\n",
              " '▁is',\n",
              " '▁another',\n",
              " '▁one',\n",
              " '.',\n",
              " '</s>']"
            ]
          },
          "metadata": {},
          "execution_count": 145
        }
      ],
      "source": [
        "toks['input_ids']\n",
        "print(toks['input_ids'])\n",
        "tokenizer.convert_ids_to_tokens(toks['input_ids'])"
      ]
    },
    {
      "cell_type": "code",
      "execution_count": 146,
      "metadata": {
        "colab": {
          "base_uri": "https://localhost:8080/"
        },
        "id": "bl6pKrjK7O6Z",
        "outputId": "d4445eef-e631-497e-9edc-579ef1e2e4c2"
      },
      "outputs": [
        {
          "output_type": "stream",
          "name": "stdout",
          "text": [
            "[1, 1, 1, 1, 1, 1, 1, 1, 1, 1, 1, 1, 1, 1, 1]\n"
          ]
        }
      ],
      "source": [
        "print(toks['attention_mask'])"
      ]
    },
    {
      "cell_type": "markdown",
      "metadata": {
        "id": "xdrDTeZYIwC-"
      },
      "source": [
        "Let's create a helper function that tokenizes the `text` value of an input called example.\n",
        "This will allow us to iterate over examples in our dataset splits (e.g., `imdb[\"test\"]`) and pre-process them one by one.\n",
        "\n",
        "**_Note:_** Setting `truncate=True` we ensure that none of the text sequences we'll use for fine-tuning is too longer for DistilBERT to handle it."
      ]
    },
    {
      "cell_type": "code",
      "execution_count": 147,
      "metadata": {
        "id": "veclR-QmIwC-"
      },
      "outputs": [],
      "source": [
        "def preprocess_function(examples):\n",
        "    return tokenizer(examples[\"text\"], truncation=True)"
      ]
    },
    {
      "cell_type": "markdown",
      "metadata": {
        "id": "xA74NYovIwC-"
      },
      "source": [
        "To apply the preprocessing function over the entire dataset, use 🤗 Datasets [map](https://huggingface.co/docs/datasets/main/en/package_reference/main_classes#datasets.Dataset.map) function. You can speed up `map` by setting `batched=True` to process multiple elements of the dataset at once:"
      ]
    },
    {
      "cell_type": "code",
      "execution_count": 148,
      "metadata": {
        "colab": {
          "base_uri": "https://localhost:8080/",
          "height": 113,
          "referenced_widgets": [
            "2eb1565327fb4dcf98156ba89a7cdcca",
            "a8fbf7cf0108448483404eddf87daeb5",
            "86cd4e7f161c428f9aa55d0fd11ef58c",
            "6d4ae823a8434b26849f7f54c3d2e893",
            "bfa67431a044434d8395a06363278c80",
            "702288ad408d4382b4658ac0c37298f0",
            "e663cb1683aa4646a9898751719dc46d",
            "3d55c3443ae6419980edf6ebf0f20108",
            "d5d5a740ca394571b0daeb7da26698a2",
            "b281b471063d445b9ecf5bd7edc9e80a",
            "3f76d7769bac4e2c84ce495b4184d09b",
            "7d91877496c84af59ea865d5002a94a2",
            "c43b4b0b9acb4b0ca5a5a76295d7226c",
            "a0043dacdd0e48c18e157fda34f2aef8",
            "8b7b0c04113c4cba8be54a41230078d4",
            "adc84fe7185c47c695d28c579bb07c22",
            "edee5bd7d8274bde86b0724e729d02af",
            "f6268369f4a347348d78b770b076d7a1",
            "de33cf868ed74ef3bccbef0fa835f469",
            "7e7a15d08d294c41bb2901ad5ea741dd",
            "79938e404ce84e3296c92cce2294b133",
            "0b8fdd1387cf4f538ec68c11bc5aa7fc",
            "f0dde146907b464a9c999de65911fd33",
            "076e16756c164ab09f7777fe83f12962",
            "13a0c104edeb44b6839bef78f77ba26c",
            "fd95aeb1c3e541da80327fd4903451ae",
            "7bc5c56a04ee4923b459738cd828e32b",
            "d513b57368a24808954e63d26d4f98c2",
            "32133ec168b64ae0ad424bbcddde8ed7",
            "a123766f738943ddb94c0500f1d7a704",
            "4d0431fb50194969b143f9f688c645c3",
            "da9230b65bc44360a4f37647fd19b311",
            "3875b5062d064000b2fcfa801f78d348"
          ]
        },
        "id": "kbNKLzNbIwC-",
        "outputId": "21351f40-ba57-410c-bacc-9900361c23f1"
      },
      "outputs": [
        {
          "output_type": "display_data",
          "data": {
            "text/plain": [
              "Map:   0%|          | 0/5984 [00:00<?, ? examples/s]"
            ],
            "application/vnd.jupyter.widget-view+json": {
              "version_major": 2,
              "version_minor": 0,
              "model_id": "2eb1565327fb4dcf98156ba89a7cdcca"
            }
          },
          "metadata": {}
        },
        {
          "output_type": "display_data",
          "data": {
            "text/plain": [
              "Map:   0%|          | 0/797 [00:00<?, ? examples/s]"
            ],
            "application/vnd.jupyter.widget-view+json": {
              "version_major": 2,
              "version_minor": 0,
              "model_id": "7d91877496c84af59ea865d5002a94a2"
            }
          },
          "metadata": {}
        },
        {
          "output_type": "display_data",
          "data": {
            "text/plain": [
              "Map:   0%|          | 0/1196 [00:00<?, ? examples/s]"
            ],
            "application/vnd.jupyter.widget-view+json": {
              "version_major": 2,
              "version_minor": 0,
              "model_id": "f0dde146907b464a9c999de65911fd33"
            }
          },
          "metadata": {}
        }
      ],
      "source": [
        "# need to do this beause you want to add the input IDs and\n",
        "#  attention mask values to each example in each of the data splits\n",
        "dataset = dataset.map(preprocess_function, batched=True)"
      ]
    },
    {
      "cell_type": "code",
      "execution_count": 149,
      "metadata": {
        "colab": {
          "base_uri": "https://localhost:8080/"
        },
        "id": "em-XkhSp7O6a",
        "outputId": "43e4f98c-9664-4418-a56d-e0500f06cbf1"
      },
      "outputs": [
        {
          "output_type": "execute_result",
          "data": {
            "text/plain": [
              "dict_keys(['text', 'label', 'lang', 'input_ids', 'attention_mask'])"
            ]
          },
          "metadata": {},
          "execution_count": 149
        }
      ],
      "source": [
        "dataset['train'][0].keys()"
      ]
    },
    {
      "cell_type": "markdown",
      "metadata": {
        "id": "gsVftz9cIwC-"
      },
      "source": [
        "Now create a batch of examples using [DataCollatorWithPadding](https://huggingface.co/docs/transformers/main/en/main_classes/data_collator#transformers.DataCollatorWithPadding).\n",
        "\n",
        "Our `data_collator` instance of this class will handle preprocessing and a thing called \"padding\" when sampling batches of examples during finetuning to iteratively update our classifier's parameters.\n",
        "\n",
        "*Padding* means that you make all text sequences in a set of sequences the same length.\n",
        "To do this, we just append the `<PAD>` special token to shorter text sequences in the set.\n",
        "For example, the (tokenized) sequences in the following set\n",
        "\n",
        "```json\n",
        "[\n",
        "    ['Hello', 'world', '!'               ],\n",
        "    ['Have',  'a',     'nice', 'day', '!']\n",
        "]\n",
        "```\n",
        "\n",
        "will be \"padded\" to\n",
        "\n",
        "```json\n",
        "[\n",
        "    ['Hello', 'world', '!',    '<PAD>', '<PAD>'],\n",
        "    ['Have',  'a',     'nice', 'day',   '!'    ]\n",
        "]\n",
        "```"
      ]
    },
    {
      "cell_type": "code",
      "execution_count": 150,
      "metadata": {
        "id": "nOP2H-qPIwC-"
      },
      "outputs": [],
      "source": [
        "data_collator = DataCollatorWithPadding(tokenizer=tokenizer)"
      ]
    },
    {
      "cell_type": "markdown",
      "metadata": {
        "id": "G61kFtuQIwC-"
      },
      "source": [
        "### How to evaluate model performance"
      ]
    },
    {
      "cell_type": "markdown",
      "metadata": {
        "id": "aZfQHOjuIwC-"
      },
      "source": [
        "To see how well our model is doing on the classification task, we compute *evaluation metrics*.\n",
        "Broadly speaking, they summarize how often our model predicts the correct labels on held-out data.\n",
        "\n",
        "Applying an evaluation metric to held-out data during training is helpful for assessing how your model's performance improves during training.\n",
        "\n",
        "Once your model is trained, evaluation metrics are important to qunatify your model's final performance."
      ]
    },
    {
      "cell_type": "markdown",
      "metadata": {
        "id": "Ylm87sjn7O6a"
      },
      "source": [
        "We compute the following metrics:\n",
        "\n",
        "- precision: the share of examples a classifier as correctly assigned into a class\n",
        "- recall: the share of positive examples a classifier labels correctly\n",
        "- F1: a measure combining recall and precision\n",
        "- balanced accuary: an accurarcy metric adjusting for class imbalance\n",
        "\n",
        "<p><a href=\"https://commons.wikimedia.org/wiki/File:Precisionrecall.svg#/media/File:Precisionrecall.svg\"><img src=\"https://upload.wikimedia.org/wikipedia/commons/2/26/Precisionrecall.svg\" alt=\"Precisionrecall.svg\" height=\"800\" width=\"440\"></a><br>By &lt;a href=\"//commons.wikimedia.org/wiki/User:Walber\" title=\"User:Walber\"&gt;Walber&lt;/a&gt; - &lt;span class=\"int-own-work\" lang=\"en\"&gt;Own work&lt;/span&gt;, <a href=\"https://creativecommons.org/licenses/by-sa/4.0\" title=\"Creative Commons Attribution-Share Alike 4.0\">CC BY-SA 4.0</a>, <a href=\"https://commons.wikimedia.org/w/index.php?curid=36926283\">Link</a></p>"
      ]
    },
    {
      "cell_type": "code",
      "execution_count": 151,
      "metadata": {
        "id": "RcXx8F4v7O6a",
        "outputId": "8afc9654-aa03-4607-9b59-be55f1b6b7cb",
        "colab": {
          "base_uri": "https://localhost:8080/"
        }
      },
      "outputs": [
        {
          "output_type": "execute_result",
          "data": {
            "text/plain": [
              "(1.0, 0.5, 0.6666666666666666)"
            ]
          },
          "metadata": {},
          "execution_count": 151
        }
      ],
      "source": [
        "p, r, f1, _ = precision_recall_fscore_support(y_true=[0, 1, 1], y_pred=[0, 0, 1], average='binary', zero_division=0)\n",
        "p, r, f1"
      ]
    },
    {
      "cell_type": "code",
      "execution_count": 152,
      "metadata": {
        "id": "573E1smV7O6a",
        "outputId": "18f4d33d-958d-410e-9432-dfc87c5c80db",
        "colab": {
          "base_uri": "https://localhost:8080/"
        }
      },
      "outputs": [
        {
          "output_type": "execute_result",
          "data": {
            "text/plain": [
              "0.6666666666666666"
            ]
          },
          "metadata": {},
          "execution_count": 152
        }
      ],
      "source": [
        "2*(p*r / (p+r))"
      ]
    },
    {
      "cell_type": "markdown",
      "metadata": {
        "id": "ib-IdxbhIwC-"
      },
      "source": [
        "Let's create a function that passes your predictions and labels to calculate some central metrics (explanations below):"
      ]
    },
    {
      "cell_type": "code",
      "execution_count": 153,
      "metadata": {
        "id": "w0FFpYUJIwC-"
      },
      "outputs": [],
      "source": [
        "def compute_metrics(eval_pred):\n",
        "    predictions, labels = eval_pred\n",
        "    predictions = np.argmax(predictions, axis=1)\n",
        "    p, r, f1, _ = precision_recall_fscore_support(y_true=labels, y_pred=predictions, average='binary', zero_division=0)\n",
        "    metrics = {\n",
        "        \"f1\": f1,\n",
        "        \"precision\": p,\n",
        "        \"recall\": r,\n",
        "    }\n",
        "    return metrics"
      ]
    },
    {
      "cell_type": "markdown",
      "metadata": {
        "id": "Sj50dwY4sjJf"
      },
      "source": [
        "**_Note_** You could also just load a evaluation method with the 🤗 [Evaluate](https://huggingface.co/docs/evaluate/index) library (see the 🤗 Evaluate [quick tour](https://huggingface.co/docs/evaluate/a_quick_tour) to learn more about how to load and compute a metric)."
      ]
    },
    {
      "cell_type": "markdown",
      "metadata": {
        "id": "GfqRQ3_8IwC_"
      },
      "source": [
        "Your `compute_metrics` function is ready to go now, and you'll return to it when you setup your training."
      ]
    },
    {
      "cell_type": "markdown",
      "metadata": {
        "id": "36ryvTj2IwC_"
      },
      "source": [
        "### Load the pre-trained model"
      ]
    },
    {
      "cell_type": "markdown",
      "metadata": {
        "id": "douQqh3YIwC_"
      },
      "source": [
        "<Tip>\n",
        "\n",
        "If you aren't familiar with finetuning a model with the [Trainer](https://huggingface.co/docs/transformers/main/en/main_classes/trainer#transformers.Trainer), take a look at the basic tutorial [here](https://huggingface.co/docs/transformers/main/en/tasks/../training#train-with-pytorch-trainer)!\n",
        "\n",
        "</Tip>\n",
        "\n",
        "You're ready to start training your model now! Load XLM-RoBERTa with [AutoModelForSequenceClassification](https://huggingface.co/docs/transformers/main/en/model_doc/auto#transformers.AutoModelForSequenceClassification) along with the number of expected labels, and the label mappings:"
      ]
    },
    {
      "cell_type": "code",
      "source": [
        "MODEL_NAME\n",
        "len(id2label)"
      ],
      "metadata": {
        "colab": {
          "base_uri": "https://localhost:8080/"
        },
        "id": "ec3uENG8tgAk",
        "outputId": "7ca57ec8-399b-4c74-9162-db82098be6ba"
      },
      "execution_count": 186,
      "outputs": [
        {
          "output_type": "execute_result",
          "data": {
            "text/plain": [
              "2"
            ]
          },
          "metadata": {},
          "execution_count": 186
        }
      ]
    },
    {
      "cell_type": "code",
      "execution_count": 154,
      "metadata": {
        "colab": {
          "base_uri": "https://localhost:8080/"
        },
        "id": "EWRzhpclIwC_",
        "outputId": "05fcfd7a-0552-4931-c687-60e4a949d864"
      },
      "outputs": [
        {
          "output_type": "stream",
          "name": "stderr",
          "text": [
            "Some weights of XLMRobertaForSequenceClassification were not initialized from the model checkpoint at xlm-roberta-base and are newly initialized: ['classifier.out_proj.bias', 'classifier.dense.weight', 'classifier.dense.bias', 'classifier.out_proj.weight']\n",
            "You should probably TRAIN this model on a down-stream task to be able to use it for predictions and inference.\n"
          ]
        }
      ],
      "source": [
        "model = AutoModelForSequenceClassification.from_pretrained(\n",
        "    MODEL_NAME, # <== the name of the pre-trained model (downloaded from huggingface hub)\n",
        "    num_labels=len(id2label), # number of label classes (adapt this if you have, e.g., 4 label classes)\n",
        "    id2label=id2label,\n",
        "    label2id=label2id\n",
        ")"
      ]
    },
    {
      "cell_type": "markdown",
      "metadata": {
        "id": "cerk641s7O6b"
      },
      "source": [
        "Once we've figured this out, we put our model on that device:"
      ]
    },
    {
      "cell_type": "code",
      "execution_count": 155,
      "metadata": {
        "colab": {
          "base_uri": "https://localhost:8080/"
        },
        "id": "cYZOV5XQ7O6b",
        "outputId": "face855c-3157-4f72-f577-0e232b0af695"
      },
      "outputs": [
        {
          "output_type": "stream",
          "name": "stdout",
          "text": [
            "cuda:0\n"
          ]
        }
      ],
      "source": [
        "# IMPORTANT: put the model to the respective device (e.g., GPU)\n",
        "if str(device) != 'cpu':\n",
        "  model.to(device);\n",
        "print(model.device)"
      ]
    },
    {
      "cell_type": "markdown",
      "metadata": {
        "id": "0g_U2wEeIwC_"
      },
      "source": [
        "At this point, only three steps remain:\n",
        "\n",
        "1. Define your training hyperparameters in [TrainingArguments](https://huggingface.co/docs/transformers/main/en/main_classes/trainer#transformers.TrainingArguments). The only required parameter is `output_dir` which specifies where to save your model. At the end of each epoch, the [Trainer](https://huggingface.co/docs/transformers/main/en/main_classes/trainer#transformers.Trainer) will evaluate the accuracy and save the training checkpoint.\n",
        "2. Pass the training arguments to [Trainer](https://huggingface.co/docs/transformers/main/en/main_classes/trainer#transformers.Trainer) along with the model, dataset, tokenizer, data collator, and `compute_metrics` function.\n",
        "3. Call [train()](https://huggingface.co/docs/transformers/main/en/main_classes/trainer#transformers.Trainer.train) to finetune your model."
      ]
    },
    {
      "cell_type": "markdown",
      "metadata": {
        "id": "tD0xb3JH7O6b"
      },
      "source": [
        "### Preparing the trainer"
      ]
    },
    {
      "cell_type": "code",
      "execution_count": 156,
      "metadata": {
        "id": "FFve_47s7O6b"
      },
      "outputs": [],
      "source": [
        "# create a temporary directory to store the model predictions\n",
        "# create a temporary folder to save training checkpoints and logs\n",
        "import tempfile\n",
        "model_path = tempfile.mkdtemp()"
      ]
    },
    {
      "cell_type": "code",
      "source": [
        "TrainingArguments?"
      ],
      "metadata": {
        "id": "Aq9gLMG4u8Gm"
      },
      "execution_count": 188,
      "outputs": []
    },
    {
      "cell_type": "code",
      "execution_count": 157,
      "metadata": {
        "id": "kStUdSXmIwC_"
      },
      "outputs": [],
      "source": [
        "training_args = TrainingArguments(\n",
        "    output_dir=model_path,\n",
        "    # leave the following unchanged ;)\n",
        "    optim='adamw_torch',\n",
        "    learning_rate=2e-5,\n",
        "    per_device_train_batch_size=16, # <== reduce only if you get a \"CUDA out of memory\" error\n",
        "    gradient_accumulation_steps=2,  # <== increase if your reduce `per_device_train_batch_size`\n",
        "    per_device_eval_batch_size=32,\n",
        "    weight_decay=0.01,\n",
        "    # increase this value to train for longer\n",
        "    num_train_epochs=3,\n",
        "    # how to save and determine (\"best\") model\n",
        "    load_best_model_at_end=True,\n",
        "    metric_for_best_model=\"f1\", # <== needs to match one of the names of the dictionary returned by `compute_metrics()` function\n",
        "    evaluation_strategy=\"epoch\",\n",
        "    save_strategy=\"epoch\",\n",
        "    save_total_limit=2,\n",
        "    report_to=\"none\",\n",
        "    # reproducibility\n",
        "    seed=SEED,\n",
        "    data_seed=SEED,\n",
        "    full_determinism=True,\n",
        ")"
      ]
    },
    {
      "cell_type": "code",
      "execution_count": 189,
      "metadata": {
        "id": "UinSUba67O6b"
      },
      "outputs": [],
      "source": [
        "import gc\n",
        "def clean_memory(device):\n",
        "  \"\"\"Free GPU memory\"\"\"\n",
        "  if device == 'cuda':\n",
        "    torch.cuda.empty_cache()\n",
        "    torch.cuda.ipc_collect()\n",
        "  elif device == 'mps':\n",
        "    torch.mps.empty_cache()\n",
        "  else:\n",
        "    pass\n",
        "  gc.collect()"
      ]
    },
    {
      "cell_type": "code",
      "execution_count": 159,
      "metadata": {
        "id": "iO3QXYOr7O6b"
      },
      "outputs": [],
      "source": [
        "clean_memory(str(model.device))\n",
        "\n",
        "trainer = Trainer(\n",
        "    model=model, # the model instance you loaded two cells above\n",
        "    args=training_args, # the training args you created one cells above\n",
        "    train_dataset=dataset[\"train\"], # the training data split\n",
        "    eval_dataset=dataset[\"dev\"], # the testing data split\n",
        "    data_collator=data_collator,\n",
        "    compute_metrics=compute_metrics,\n",
        ")"
      ]
    },
    {
      "cell_type": "markdown",
      "metadata": {
        "id": "xKhG620u7O6c"
      },
      "source": [
        "## Train"
      ]
    },
    {
      "cell_type": "markdown",
      "metadata": {
        "id": "hSQFP9nU7O6c"
      },
      "source": [
        "Now we can finetune the model!\n",
        "\n",
        "**_Warning:_** This will take long if you are using only your CPU 🥹"
      ]
    },
    {
      "cell_type": "markdown",
      "source": [
        "We now perform **mini-batch stochastic gradient descent**.\n",
        "\n",
        "- *Forward pass*: take input texts, fed them throug hthe model, generate a prediction, compare it to the actual label, compute the \"**loss**\"\n",
        "- *Backward pass*: update the model parameters such that the loss is minimized"
      ],
      "metadata": {
        "id": "xTqn5B45xG17"
      }
    },
    {
      "cell_type": "code",
      "execution_count": 160,
      "metadata": {
        "colab": {
          "base_uri": "https://localhost:8080/",
          "height": 241
        },
        "id": "-OGUyxk47O6c",
        "outputId": "02d66f45-bd19-4c03-f83d-25f4c3c7e518"
      },
      "outputs": [
        {
          "output_type": "stream",
          "name": "stderr",
          "text": [
            "You're using a XLMRobertaTokenizerFast tokenizer. Please note that with a fast tokenizer, using the `__call__` method is faster than using a method to encode the text followed by a call to the `pad` method to get a padded encoding.\n"
          ]
        },
        {
          "output_type": "display_data",
          "data": {
            "text/plain": [
              "<IPython.core.display.HTML object>"
            ],
            "text/html": [
              "\n",
              "    <div>\n",
              "      \n",
              "      <progress value='561' max='561' style='width:300px; height:20px; vertical-align: middle;'></progress>\n",
              "      [561/561 06:15, Epoch 3/3]\n",
              "    </div>\n",
              "    <table border=\"1\" class=\"dataframe\">\n",
              "  <thead>\n",
              " <tr style=\"text-align: left;\">\n",
              "      <th>Epoch</th>\n",
              "      <th>Training Loss</th>\n",
              "      <th>Validation Loss</th>\n",
              "      <th>F1</th>\n",
              "      <th>Precision</th>\n",
              "      <th>Recall</th>\n",
              "    </tr>\n",
              "  </thead>\n",
              "  <tbody>\n",
              "    <tr>\n",
              "      <td>1</td>\n",
              "      <td>No log</td>\n",
              "      <td>0.452009</td>\n",
              "      <td>0.849292</td>\n",
              "      <td>0.826580</td>\n",
              "      <td>0.873288</td>\n",
              "    </tr>\n",
              "    <tr>\n",
              "      <td>2</td>\n",
              "      <td>No log</td>\n",
              "      <td>0.439485</td>\n",
              "      <td>0.856204</td>\n",
              "      <td>0.823065</td>\n",
              "      <td>0.892123</td>\n",
              "    </tr>\n",
              "    <tr>\n",
              "      <td>3</td>\n",
              "      <td>0.449400</td>\n",
              "      <td>0.439729</td>\n",
              "      <td>0.862969</td>\n",
              "      <td>0.823988</td>\n",
              "      <td>0.905822</td>\n",
              "    </tr>\n",
              "  </tbody>\n",
              "</table><p>"
            ]
          },
          "metadata": {}
        },
        {
          "output_type": "execute_result",
          "data": {
            "text/plain": [
              "TrainOutput(global_step=561, training_loss=0.44080802251098417, metrics={'train_runtime': 375.8946, 'train_samples_per_second': 47.758, 'train_steps_per_second': 1.492, 'total_flos': 554531215832640.0, 'train_loss': 0.44080802251098417, 'epoch': 3.0})"
            ]
          },
          "metadata": {},
          "execution_count": 160
        }
      ],
      "source": [
        "trainer.train()"
      ]
    },
    {
      "cell_type": "markdown",
      "metadata": {
        "id": "n8mRICaO64yc"
      },
      "source": [
        "**_Note:_** The metrics reported in above are computed on the development (`dev`) set!\n",
        "Once trained, we still need to compute performance on the test set. 👇"
      ]
    },
    {
      "cell_type": "markdown",
      "metadata": {
        "id": "_UhIhHgEtIbx"
      },
      "source": [
        "Clean up the checkpoints save during training:"
      ]
    },
    {
      "cell_type": "code",
      "execution_count": 161,
      "metadata": {
        "id": "bqizqV8btLkM"
      },
      "outputs": [],
      "source": [
        "import shutil\n",
        "\n",
        "shutil.rmtree(model_path)"
      ]
    },
    {
      "cell_type": "markdown",
      "metadata": {
        "id": "b0_mCtJ_7O6c"
      },
      "source": [
        "## Evaluation"
      ]
    },
    {
      "cell_type": "code",
      "execution_count": 162,
      "metadata": {
        "colab": {
          "base_uri": "https://localhost:8080/",
          "height": 176
        },
        "id": "1t51zKF37O6c",
        "outputId": "506a6644-8310-4898-8b70-ea1f83f9429a"
      },
      "outputs": [
        {
          "output_type": "display_data",
          "data": {
            "text/plain": [
              "<IPython.core.display.HTML object>"
            ],
            "text/html": [
              "\n",
              "    <div>\n",
              "      \n",
              "      <progress value='38' max='38' style='width:300px; height:20px; vertical-align: middle;'></progress>\n",
              "      [38/38 00:04]\n",
              "    </div>\n",
              "    "
            ]
          },
          "metadata": {}
        },
        {
          "output_type": "execute_result",
          "data": {
            "text/plain": [
              "{'eval_loss': 0.4528695344924927,\n",
              " 'eval_f1': 0.8749317312943746,\n",
              " 'eval_precision': 0.8387434554973822,\n",
              " 'eval_recall': 0.9143835616438356,\n",
              " 'eval_runtime': 4.3425,\n",
              " 'eval_samples_per_second': 275.419,\n",
              " 'eval_steps_per_second': 8.751,\n",
              " 'epoch': 3.0}"
            ]
          },
          "metadata": {},
          "execution_count": 162
        }
      ],
      "source": [
        "# evaluate the final model on the held-out tetst set\n",
        "trainer.evaluate(dataset[\"test\"])"
      ]
    },
    {
      "cell_type": "markdown",
      "metadata": {
        "id": "9dR4atzo7O6c"
      },
      "source": [
        "**Interpretation**\n",
        "\n",
        "- The **precision** tells us how often the classifier is correct when it says a text expresses a \"supportive\" stance (our positive label class). a score of ~0.85 means that the classifier is correct in 17 out of 20 cases.\n",
        "- The **recall** tells us how many of \"supportive\"-stance sentences the classifier classifies correctly. The score of 0.90 means that, on average, 9 out of 10 \"supportive\"-stance instances are correctly classified by our classifier.\n",
        "- The F1 score just summarizes thes values in one score.\n",
        "\n",
        "Overall our classifier performs very well! 🥳"
      ]
    },
    {
      "cell_type": "markdown",
      "metadata": {
        "id": "Z5nejhsG7O6c"
      },
      "source": [
        "### Save the model and tokenizer for re-use"
      ]
    },
    {
      "cell_type": "code",
      "execution_count": 163,
      "metadata": {
        "colab": {
          "base_uri": "https://localhost:8080/"
        },
        "id": "YObkHbpK7O6c",
        "outputId": "b1746684-4393-4d58-f8e2-4f9fa7aac1a5"
      },
      "outputs": [
        {
          "output_type": "execute_result",
          "data": {
            "text/plain": [
              "('../models/pimpo_stance_classifier/tokenizer_config.json',\n",
              " '../models/pimpo_stance_classifier/special_tokens_map.json',\n",
              " '../models/pimpo_stance_classifier/sentencepiece.bpe.model',\n",
              " '../models/pimpo_stance_classifier/added_tokens.json',\n",
              " '../models/pimpo_stance_classifier/tokenizer.json')"
            ]
          },
          "metadata": {},
          "execution_count": 163
        }
      ],
      "source": [
        "model_path = os.path.join('..', 'models', 'pimpo_stance_classifier')\n",
        "os.makedirs(model_path, exist_ok=True)\n",
        "trainer.save_model(model_path)\n",
        "tokenizer.save_pretrained(model_path)"
      ]
    },
    {
      "cell_type": "code",
      "execution_count": 164,
      "metadata": {
        "colab": {
          "base_uri": "https://localhost:8080/"
        },
        "id": "u7AfZ68v7O6c",
        "outputId": "223ccb25-462e-4070-e49a-66331c3b26d5"
      },
      "outputs": [
        {
          "output_type": "execute_result",
          "data": {
            "text/plain": [
              "['training_args.bin',\n",
              " 'tokenizer.json',\n",
              " 'sentencepiece.bpe.model',\n",
              " 'special_tokens_map.json',\n",
              " 'config.json',\n",
              " 'model.safetensors',\n",
              " 'tokenizer_config.json']"
            ]
          },
          "metadata": {},
          "execution_count": 164
        }
      ],
      "source": [
        "os.listdir(model_path)"
      ]
    },
    {
      "cell_type": "markdown",
      "metadata": {
        "id": "evXdcJw97O6c"
      },
      "source": [
        "### Detailed look at the classifiers output"
      ]
    },
    {
      "cell_type": "markdown",
      "metadata": {
        "id": "0bpFcmfP7O6c"
      },
      "source": [
        "Let's create predictions for the five examples in the test set:"
      ]
    },
    {
      "cell_type": "code",
      "execution_count": 165,
      "metadata": {
        "colab": {
          "base_uri": "https://localhost:8080/"
        },
        "id": "A4enCLAw-7ZA",
        "outputId": "0ebbd8f0-635c-4d6f-898d-609411d8f331"
      },
      "outputs": [
        {
          "output_type": "execute_result",
          "data": {
            "text/plain": [
              "['Besonders häufig sind Migrantinnen und Migranten gezwungen, zu skandalösen Löhnen zu arbeiten.',\n",
              " 'It is clear that the current bureaucratic process is ineffective and that the Department has no real capacity to competently assess the legitimacy of the claims by asylum seekers.',\n",
              " 'Nous allons également présenter de nouveau une mesure législative visant à protéger les travailleurs étrangers vulnérables - par exemple, les femmes qui entrent au Canada pour travailler comme danseuses exotiques.',\n",
              " 'Dies darf in Zukunft nicht mehr möglich sein.',\n",
              " 'Setzt sich d ieser Trend längerfristig fort, übertreffen die negativen Folgen allfällige positive Effekte deutlich.',\n",
              " '-\\xa0\\xa0 Wir wollen ein Einwanderungsrecht, das Fachkräften eine Chance am Arbeitsmarkt gibt.',\n",
              " 'Daneben muss die Erwachsenenbildung bessere Angebote machen für Menschen aus anderen Kulturkreisen, die sich in unsere Gesellschaft einleben wollen.',\n",
              " 'Sosial dumping er en trussel mot lønns– og arbeidsvilkår  i Norge',\n",
              " '. Det er derfor ønskelig at flere land i Europa tar imot kvoteflyktninger for å redusere antallet asylsøkere som risikerer sine liv for å komme inn i Europa',\n",
              " 'Dit zal regelmatig worden getoetst;']"
            ]
          },
          "metadata": {},
          "execution_count": 165
        }
      ],
      "source": [
        "rng = np.random.default_rng(SEED)\n",
        "idxs = rng.choice(len(dataset[\"test\"]), 10, replace=False)\n",
        "idxs\n",
        "dataset[\"test\"][idxs]['text']"
      ]
    },
    {
      "cell_type": "code",
      "execution_count": 166,
      "metadata": {
        "colab": {
          "base_uri": "https://localhost:8080/",
          "height": 17
        },
        "id": "sctJtjUX7O6c",
        "outputId": "f5fb9e87-a695-4cd8-d9a9-81ff2848506f"
      },
      "outputs": [
        {
          "output_type": "display_data",
          "data": {
            "text/plain": [
              "<IPython.core.display.HTML object>"
            ],
            "text/html": []
          },
          "metadata": {}
        }
      ],
      "source": [
        "preds = trainer.predict(dataset[\"test\"].select(idxs))"
      ]
    },
    {
      "cell_type": "code",
      "execution_count": 167,
      "metadata": {
        "colab": {
          "base_uri": "https://localhost:8080/"
        },
        "id": "-CXl7ulp7O6c",
        "outputId": "0d2df7d4-9c87-4685-c97f-2a04c7ca4622"
      },
      "outputs": [
        {
          "output_type": "execute_result",
          "data": {
            "text/plain": [
              "transformers.trainer_utils.PredictionOutput"
            ]
          },
          "metadata": {},
          "execution_count": 167
        }
      ],
      "source": [
        "type(preds)"
      ]
    },
    {
      "cell_type": "code",
      "execution_count": 168,
      "metadata": {
        "colab": {
          "base_uri": "https://localhost:8080/"
        },
        "id": "KxT-5sMV7O6d",
        "outputId": "e608d55f-685e-4f79-8049-8f4c909bf900"
      },
      "outputs": [
        {
          "output_type": "execute_result",
          "data": {
            "text/plain": [
              "numpy.ndarray"
            ]
          },
          "metadata": {},
          "execution_count": 168
        }
      ],
      "source": [
        "type(preds.predictions)"
      ]
    },
    {
      "cell_type": "code",
      "execution_count": 169,
      "metadata": {
        "colab": {
          "base_uri": "https://localhost:8080/"
        },
        "id": "jQgUAIJn7O6d",
        "outputId": "db10e3a5-c21f-4369-da3e-a7a64c480e72"
      },
      "outputs": [
        {
          "output_type": "execute_result",
          "data": {
            "text/plain": [
              "(10, 2)"
            ]
          },
          "metadata": {},
          "execution_count": 169
        }
      ],
      "source": [
        "preds.predictions.shape"
      ]
    },
    {
      "cell_type": "markdown",
      "metadata": {
        "id": "FQDS6BEB7O6d"
      },
      "source": [
        "The prediction array has two dimensions:\n",
        "\n",
        "- the first axis ('rows') corresponds to the *number of examples* for which we generated predictions\n",
        "- the second axis ('columns') corresponds to the *number of label classes* we generate probability-like scores for when predicting\n",
        "\n",
        "Let's look at the scores for the second example:"
      ]
    },
    {
      "cell_type": "code",
      "execution_count": 170,
      "metadata": {
        "colab": {
          "base_uri": "https://localhost:8080/"
        },
        "id": "4uYsJbjJ7O6d",
        "outputId": "a31ebd12-ffd3-4bd5-be29-cd912d1369e6"
      },
      "outputs": [
        {
          "output_type": "execute_result",
          "data": {
            "text/plain": [
              "array([ 0.664218 , -0.5859217], dtype=float32)"
            ]
          },
          "metadata": {},
          "execution_count": 170
        }
      ],
      "source": [
        "preds.predictions[1]"
      ]
    },
    {
      "cell_type": "markdown",
      "metadata": {
        "id": "rh4n8lJJ7O6d"
      },
      "source": [
        "The first score is bigger than the second one.\n",
        "This means that given example is more similar to examples from the first label class: documents with a \"sceptical\" stance."
      ]
    },
    {
      "cell_type": "code",
      "execution_count": 171,
      "metadata": {
        "colab": {
          "base_uri": "https://localhost:8080/",
          "height": 35
        },
        "id": "Yhu655LV7O6d",
        "outputId": "0306ae46-d0ba-41cf-ace0-7bfe6b90d302"
      },
      "outputs": [
        {
          "output_type": "execute_result",
          "data": {
            "text/plain": [
              "'sceptical'"
            ],
            "application/vnd.google.colaboratory.intrinsic+json": {
              "type": "string"
            }
          },
          "metadata": {},
          "execution_count": 171
        }
      ],
      "source": [
        "id2label[0]"
      ]
    },
    {
      "cell_type": "markdown",
      "metadata": {
        "id": "p4H45OoT7O6d"
      },
      "source": [
        "To convert those scores in something probability-like, we apply the so-called [softmax transformation](), which rescales values such that they each range between 0 and 1 and sum to 1:"
      ]
    },
    {
      "cell_type": "code",
      "execution_count": 172,
      "metadata": {
        "colab": {
          "base_uri": "https://localhost:8080/"
        },
        "id": "UYSEfKWy7O6d",
        "outputId": "4622b6b6-61d0-4313-a9c7-0ac8e0fa792b"
      },
      "outputs": [
        {
          "output_type": "execute_result",
          "data": {
            "text/plain": [
              "array([0.7773241 , 0.22267595], dtype=float32)"
            ]
          },
          "metadata": {},
          "execution_count": 172
        }
      ],
      "source": [
        "from scipy.special import softmax\n",
        "\n",
        "softmax(preds.predictions[1])"
      ]
    },
    {
      "cell_type": "markdown",
      "metadata": {
        "id": "HBnqVOdo7O6d"
      },
      "source": [
        "We can also call this function on all examples' prediction scores in our current batch:"
      ]
    },
    {
      "cell_type": "code",
      "execution_count": 173,
      "metadata": {
        "colab": {
          "base_uri": "https://localhost:8080/"
        },
        "id": "Qx28rsiG7O6d",
        "outputId": "364c75eb-583e-424b-83b7-6c94f678dcc3"
      },
      "outputs": [
        {
          "output_type": "execute_result",
          "data": {
            "text/plain": [
              "array([[0.21041147, 0.7895886 ],\n",
              "       [0.7773241 , 0.22267595],\n",
              "       [0.02119703, 0.978803  ],\n",
              "       [0.34057665, 0.6594234 ],\n",
              "       [0.7822727 , 0.21772735],\n",
              "       [0.02137618, 0.97862387],\n",
              "       [0.01546516, 0.98453486],\n",
              "       [0.08381011, 0.9161899 ],\n",
              "       [0.43684134, 0.56315863],\n",
              "       [0.64307564, 0.35692436]], dtype=float32)"
            ]
          },
          "metadata": {},
          "execution_count": 173
        }
      ],
      "source": [
        "pred_probs = softmax(preds.predictions, axis=1)\n",
        "pred_probs"
      ]
    },
    {
      "cell_type": "markdown",
      "metadata": {
        "id": "iIZda5A97O6d"
      },
      "source": [
        "Now if you want to know for each row in which cell the value is the largest, you can call the `argmax()` method on the numpy array:"
      ]
    },
    {
      "cell_type": "code",
      "execution_count": 174,
      "metadata": {
        "colab": {
          "base_uri": "https://localhost:8080/"
        },
        "id": "xo7hSjSw7O6d",
        "outputId": "55cf3747-0749-4a30-956f-31bb8b0de138"
      },
      "outputs": [
        {
          "output_type": "execute_result",
          "data": {
            "text/plain": [
              "array([1, 0, 1, 1, 0, 1, 1, 1, 1, 0])"
            ]
          },
          "metadata": {},
          "execution_count": 174
        }
      ],
      "source": [
        "pred_probs.argmax(axis=1)"
      ]
    },
    {
      "cell_type": "markdown",
      "metadata": {
        "id": "3EWwqLbk7O6d"
      },
      "source": [
        "This turns prediction scores into predicted labels:"
      ]
    },
    {
      "cell_type": "code",
      "execution_count": 175,
      "metadata": {
        "colab": {
          "base_uri": "https://localhost:8080/"
        },
        "id": "pUhuHXV47O6d",
        "outputId": "7c16d510-02c4-4de2-d13a-179b091a9640"
      },
      "outputs": [
        {
          "output_type": "execute_result",
          "data": {
            "text/plain": [
              "['supportive',\n",
              " 'sceptical',\n",
              " 'supportive',\n",
              " 'supportive',\n",
              " 'sceptical',\n",
              " 'supportive',\n",
              " 'supportive',\n",
              " 'supportive',\n",
              " 'supportive',\n",
              " 'sceptical']"
            ]
          },
          "metadata": {},
          "execution_count": 175
        }
      ],
      "source": [
        "[id2label[pp] for pp in preds.predictions.argmax(axis=1)]"
      ]
    },
    {
      "cell_type": "markdown",
      "metadata": {
        "id": "0y9mSEvd8yaJ"
      },
      "source": [
        "And to make it clearer, let's put predictions, \"true\" labels, and the text side by side:"
      ]
    },
    {
      "cell_type": "code",
      "execution_count": 176,
      "metadata": {
        "colab": {
          "base_uri": "https://localhost:8080/",
          "height": 362
        },
        "id": "tHENBWbL8fex",
        "outputId": "331d3178-f026-4fa0-8c8c-fb9676c03608"
      },
      "outputs": [
        {
          "output_type": "execute_result",
          "data": {
            "text/plain": [
              "                                                text       label  prediction\n",
              "0  Besonders häufig sind Migrantinnen und Migrant...  supportive  supportive\n",
              "1  It is clear that the current bureaucratic proc...   sceptical   sceptical\n",
              "2  Nous allons également présenter de nouveau une...  supportive  supportive\n",
              "3      Dies darf in Zukunft nicht mehr möglich sein.   sceptical  supportive\n",
              "4  Setzt sich d ieser Trend längerfristig fort, ü...   sceptical   sceptical\n",
              "5  -   Wir wollen ein Einwanderungsrecht, das Fac...  supportive  supportive\n",
              "6  Daneben muss die Erwachsenenbildung bessere An...  supportive  supportive\n",
              "7  Sosial dumping er en trussel mot lønns– og arb...   sceptical  supportive\n",
              "8  . Det er derfor ønskelig at flere land i Europ...   sceptical  supportive\n",
              "9                Dit zal regelmatig worden getoetst;  supportive   sceptical"
            ],
            "text/html": [
              "\n",
              "  <div id=\"df-5a7215f8-8fb5-4145-9b7f-2e9dc3003459\" class=\"colab-df-container\">\n",
              "    <div>\n",
              "<style scoped>\n",
              "    .dataframe tbody tr th:only-of-type {\n",
              "        vertical-align: middle;\n",
              "    }\n",
              "\n",
              "    .dataframe tbody tr th {\n",
              "        vertical-align: top;\n",
              "    }\n",
              "\n",
              "    .dataframe thead th {\n",
              "        text-align: right;\n",
              "    }\n",
              "</style>\n",
              "<table border=\"1\" class=\"dataframe\">\n",
              "  <thead>\n",
              "    <tr style=\"text-align: right;\">\n",
              "      <th></th>\n",
              "      <th>text</th>\n",
              "      <th>label</th>\n",
              "      <th>prediction</th>\n",
              "    </tr>\n",
              "  </thead>\n",
              "  <tbody>\n",
              "    <tr>\n",
              "      <th>0</th>\n",
              "      <td>Besonders häufig sind Migrantinnen und Migrant...</td>\n",
              "      <td>supportive</td>\n",
              "      <td>supportive</td>\n",
              "    </tr>\n",
              "    <tr>\n",
              "      <th>1</th>\n",
              "      <td>It is clear that the current bureaucratic proc...</td>\n",
              "      <td>sceptical</td>\n",
              "      <td>sceptical</td>\n",
              "    </tr>\n",
              "    <tr>\n",
              "      <th>2</th>\n",
              "      <td>Nous allons également présenter de nouveau une...</td>\n",
              "      <td>supportive</td>\n",
              "      <td>supportive</td>\n",
              "    </tr>\n",
              "    <tr>\n",
              "      <th>3</th>\n",
              "      <td>Dies darf in Zukunft nicht mehr möglich sein.</td>\n",
              "      <td>sceptical</td>\n",
              "      <td>supportive</td>\n",
              "    </tr>\n",
              "    <tr>\n",
              "      <th>4</th>\n",
              "      <td>Setzt sich d ieser Trend längerfristig fort, ü...</td>\n",
              "      <td>sceptical</td>\n",
              "      <td>sceptical</td>\n",
              "    </tr>\n",
              "    <tr>\n",
              "      <th>5</th>\n",
              "      <td>-   Wir wollen ein Einwanderungsrecht, das Fac...</td>\n",
              "      <td>supportive</td>\n",
              "      <td>supportive</td>\n",
              "    </tr>\n",
              "    <tr>\n",
              "      <th>6</th>\n",
              "      <td>Daneben muss die Erwachsenenbildung bessere An...</td>\n",
              "      <td>supportive</td>\n",
              "      <td>supportive</td>\n",
              "    </tr>\n",
              "    <tr>\n",
              "      <th>7</th>\n",
              "      <td>Sosial dumping er en trussel mot lønns– og arb...</td>\n",
              "      <td>sceptical</td>\n",
              "      <td>supportive</td>\n",
              "    </tr>\n",
              "    <tr>\n",
              "      <th>8</th>\n",
              "      <td>. Det er derfor ønskelig at flere land i Europ...</td>\n",
              "      <td>sceptical</td>\n",
              "      <td>supportive</td>\n",
              "    </tr>\n",
              "    <tr>\n",
              "      <th>9</th>\n",
              "      <td>Dit zal regelmatig worden getoetst;</td>\n",
              "      <td>supportive</td>\n",
              "      <td>sceptical</td>\n",
              "    </tr>\n",
              "  </tbody>\n",
              "</table>\n",
              "</div>\n",
              "    <div class=\"colab-df-buttons\">\n",
              "\n",
              "  <div class=\"colab-df-container\">\n",
              "    <button class=\"colab-df-convert\" onclick=\"convertToInteractive('df-5a7215f8-8fb5-4145-9b7f-2e9dc3003459')\"\n",
              "            title=\"Convert this dataframe to an interactive table.\"\n",
              "            style=\"display:none;\">\n",
              "\n",
              "  <svg xmlns=\"http://www.w3.org/2000/svg\" height=\"24px\" viewBox=\"0 -960 960 960\">\n",
              "    <path d=\"M120-120v-720h720v720H120Zm60-500h600v-160H180v160Zm220 220h160v-160H400v160Zm0 220h160v-160H400v160ZM180-400h160v-160H180v160Zm440 0h160v-160H620v160ZM180-180h160v-160H180v160Zm440 0h160v-160H620v160Z\"/>\n",
              "  </svg>\n",
              "    </button>\n",
              "\n",
              "  <style>\n",
              "    .colab-df-container {\n",
              "      display:flex;\n",
              "      gap: 12px;\n",
              "    }\n",
              "\n",
              "    .colab-df-convert {\n",
              "      background-color: #E8F0FE;\n",
              "      border: none;\n",
              "      border-radius: 50%;\n",
              "      cursor: pointer;\n",
              "      display: none;\n",
              "      fill: #1967D2;\n",
              "      height: 32px;\n",
              "      padding: 0 0 0 0;\n",
              "      width: 32px;\n",
              "    }\n",
              "\n",
              "    .colab-df-convert:hover {\n",
              "      background-color: #E2EBFA;\n",
              "      box-shadow: 0px 1px 2px rgba(60, 64, 67, 0.3), 0px 1px 3px 1px rgba(60, 64, 67, 0.15);\n",
              "      fill: #174EA6;\n",
              "    }\n",
              "\n",
              "    .colab-df-buttons div {\n",
              "      margin-bottom: 4px;\n",
              "    }\n",
              "\n",
              "    [theme=dark] .colab-df-convert {\n",
              "      background-color: #3B4455;\n",
              "      fill: #D2E3FC;\n",
              "    }\n",
              "\n",
              "    [theme=dark] .colab-df-convert:hover {\n",
              "      background-color: #434B5C;\n",
              "      box-shadow: 0px 1px 3px 1px rgba(0, 0, 0, 0.15);\n",
              "      filter: drop-shadow(0px 1px 2px rgba(0, 0, 0, 0.3));\n",
              "      fill: #FFFFFF;\n",
              "    }\n",
              "  </style>\n",
              "\n",
              "    <script>\n",
              "      const buttonEl =\n",
              "        document.querySelector('#df-5a7215f8-8fb5-4145-9b7f-2e9dc3003459 button.colab-df-convert');\n",
              "      buttonEl.style.display =\n",
              "        google.colab.kernel.accessAllowed ? 'block' : 'none';\n",
              "\n",
              "      async function convertToInteractive(key) {\n",
              "        const element = document.querySelector('#df-5a7215f8-8fb5-4145-9b7f-2e9dc3003459');\n",
              "        const dataTable =\n",
              "          await google.colab.kernel.invokeFunction('convertToInteractive',\n",
              "                                                    [key], {});\n",
              "        if (!dataTable) return;\n",
              "\n",
              "        const docLinkHtml = 'Like what you see? Visit the ' +\n",
              "          '<a target=\"_blank\" href=https://colab.research.google.com/notebooks/data_table.ipynb>data table notebook</a>'\n",
              "          + ' to learn more about interactive tables.';\n",
              "        element.innerHTML = '';\n",
              "        dataTable['output_type'] = 'display_data';\n",
              "        await google.colab.output.renderOutput(dataTable, element);\n",
              "        const docLink = document.createElement('div');\n",
              "        docLink.innerHTML = docLinkHtml;\n",
              "        element.appendChild(docLink);\n",
              "      }\n",
              "    </script>\n",
              "  </div>\n",
              "\n",
              "\n",
              "<div id=\"df-d48bee07-6a04-40ce-a071-54d5ea7d83e8\">\n",
              "  <button class=\"colab-df-quickchart\" onclick=\"quickchart('df-d48bee07-6a04-40ce-a071-54d5ea7d83e8')\"\n",
              "            title=\"Suggest charts\"\n",
              "            style=\"display:none;\">\n",
              "\n",
              "<svg xmlns=\"http://www.w3.org/2000/svg\" height=\"24px\"viewBox=\"0 0 24 24\"\n",
              "     width=\"24px\">\n",
              "    <g>\n",
              "        <path d=\"M19 3H5c-1.1 0-2 .9-2 2v14c0 1.1.9 2 2 2h14c1.1 0 2-.9 2-2V5c0-1.1-.9-2-2-2zM9 17H7v-7h2v7zm4 0h-2V7h2v10zm4 0h-2v-4h2v4z\"/>\n",
              "    </g>\n",
              "</svg>\n",
              "  </button>\n",
              "\n",
              "<style>\n",
              "  .colab-df-quickchart {\n",
              "      --bg-color: #E8F0FE;\n",
              "      --fill-color: #1967D2;\n",
              "      --hover-bg-color: #E2EBFA;\n",
              "      --hover-fill-color: #174EA6;\n",
              "      --disabled-fill-color: #AAA;\n",
              "      --disabled-bg-color: #DDD;\n",
              "  }\n",
              "\n",
              "  [theme=dark] .colab-df-quickchart {\n",
              "      --bg-color: #3B4455;\n",
              "      --fill-color: #D2E3FC;\n",
              "      --hover-bg-color: #434B5C;\n",
              "      --hover-fill-color: #FFFFFF;\n",
              "      --disabled-bg-color: #3B4455;\n",
              "      --disabled-fill-color: #666;\n",
              "  }\n",
              "\n",
              "  .colab-df-quickchart {\n",
              "    background-color: var(--bg-color);\n",
              "    border: none;\n",
              "    border-radius: 50%;\n",
              "    cursor: pointer;\n",
              "    display: none;\n",
              "    fill: var(--fill-color);\n",
              "    height: 32px;\n",
              "    padding: 0;\n",
              "    width: 32px;\n",
              "  }\n",
              "\n",
              "  .colab-df-quickchart:hover {\n",
              "    background-color: var(--hover-bg-color);\n",
              "    box-shadow: 0 1px 2px rgba(60, 64, 67, 0.3), 0 1px 3px 1px rgba(60, 64, 67, 0.15);\n",
              "    fill: var(--button-hover-fill-color);\n",
              "  }\n",
              "\n",
              "  .colab-df-quickchart-complete:disabled,\n",
              "  .colab-df-quickchart-complete:disabled:hover {\n",
              "    background-color: var(--disabled-bg-color);\n",
              "    fill: var(--disabled-fill-color);\n",
              "    box-shadow: none;\n",
              "  }\n",
              "\n",
              "  .colab-df-spinner {\n",
              "    border: 2px solid var(--fill-color);\n",
              "    border-color: transparent;\n",
              "    border-bottom-color: var(--fill-color);\n",
              "    animation:\n",
              "      spin 1s steps(1) infinite;\n",
              "  }\n",
              "\n",
              "  @keyframes spin {\n",
              "    0% {\n",
              "      border-color: transparent;\n",
              "      border-bottom-color: var(--fill-color);\n",
              "      border-left-color: var(--fill-color);\n",
              "    }\n",
              "    20% {\n",
              "      border-color: transparent;\n",
              "      border-left-color: var(--fill-color);\n",
              "      border-top-color: var(--fill-color);\n",
              "    }\n",
              "    30% {\n",
              "      border-color: transparent;\n",
              "      border-left-color: var(--fill-color);\n",
              "      border-top-color: var(--fill-color);\n",
              "      border-right-color: var(--fill-color);\n",
              "    }\n",
              "    40% {\n",
              "      border-color: transparent;\n",
              "      border-right-color: var(--fill-color);\n",
              "      border-top-color: var(--fill-color);\n",
              "    }\n",
              "    60% {\n",
              "      border-color: transparent;\n",
              "      border-right-color: var(--fill-color);\n",
              "    }\n",
              "    80% {\n",
              "      border-color: transparent;\n",
              "      border-right-color: var(--fill-color);\n",
              "      border-bottom-color: var(--fill-color);\n",
              "    }\n",
              "    90% {\n",
              "      border-color: transparent;\n",
              "      border-bottom-color: var(--fill-color);\n",
              "    }\n",
              "  }\n",
              "</style>\n",
              "\n",
              "  <script>\n",
              "    async function quickchart(key) {\n",
              "      const quickchartButtonEl =\n",
              "        document.querySelector('#' + key + ' button');\n",
              "      quickchartButtonEl.disabled = true;  // To prevent multiple clicks.\n",
              "      quickchartButtonEl.classList.add('colab-df-spinner');\n",
              "      try {\n",
              "        const charts = await google.colab.kernel.invokeFunction(\n",
              "            'suggestCharts', [key], {});\n",
              "      } catch (error) {\n",
              "        console.error('Error during call to suggestCharts:', error);\n",
              "      }\n",
              "      quickchartButtonEl.classList.remove('colab-df-spinner');\n",
              "      quickchartButtonEl.classList.add('colab-df-quickchart-complete');\n",
              "    }\n",
              "    (() => {\n",
              "      let quickchartButtonEl =\n",
              "        document.querySelector('#df-d48bee07-6a04-40ce-a071-54d5ea7d83e8 button');\n",
              "      quickchartButtonEl.style.display =\n",
              "        google.colab.kernel.accessAllowed ? 'block' : 'none';\n",
              "    })();\n",
              "  </script>\n",
              "</div>\n",
              "    </div>\n",
              "  </div>\n"
            ]
          },
          "metadata": {},
          "execution_count": 176
        }
      ],
      "source": [
        "pd.DataFrame(\n",
        "    {\n",
        "        'text': dataset[\"test\"][idxs]['text'],\n",
        "        'label': [id2label[l] for l in dataset[\"test\"][idxs]['label']],\n",
        "        'prediction': [id2label[pp] for pp in preds.predictions.argmax(axis=1)],\n",
        "    }\n",
        "  )"
      ]
    },
    {
      "cell_type": "markdown",
      "metadata": {
        "id": "wcLEy8lRBXC8"
      },
      "source": [
        "### Compute language-specific performances\n",
        "\n",
        "While multilingual Transformers and embedding models more gnerally are great to adopt an \"input alignment\" approach to multilingual text analysis, they are no silver bullet the obtain measurement instruments that perform equally well across languages.\n",
        "\n",
        "To illustrate this point, let's split our test dataset by language and compute our classifiers performacne in each of it:\n"
      ]
    },
    {
      "cell_type": "code",
      "execution_count": 177,
      "metadata": {
        "colab": {
          "base_uri": "https://localhost:8080/",
          "height": 331
        },
        "id": "6635wBx6Bbhg",
        "outputId": "f5afd9a7-d7c2-401a-d899-5acfd81c496b"
      },
      "outputs": [
        {
          "output_type": "display_data",
          "data": {
            "text/plain": [
              "<IPython.core.display.HTML object>"
            ],
            "text/html": []
          },
          "metadata": {}
        },
        {
          "output_type": "execute_result",
          "data": {
            "text/plain": [
              "           f1  precision    recall  prevalence      n\n",
              "fra  0.900000   0.900000  0.900000    0.909091   11.0\n",
              "nor  0.920152   0.896296  0.945312    0.842105  152.0\n",
              "spa  0.924528   0.890909  0.960784    0.796875  128.0\n",
              "deu  0.897368   0.863291  0.934247    0.763598  478.0\n",
              "swe  0.888889   0.852459  0.928571    0.835821   67.0\n",
              "eng  0.867925   0.821429  0.920000    0.724638   69.0\n",
              "fin  0.838710   0.787879  0.896552    0.674419   43.0\n",
              "nld  0.750000   0.716814  0.786408    0.559783  184.0\n",
              "dan  0.720000   0.642857  0.818182    0.515625   64.0"
            ],
            "text/html": [
              "\n",
              "  <div id=\"df-fb279722-9004-410e-be77-0f9389c83bd0\" class=\"colab-df-container\">\n",
              "    <div>\n",
              "<style scoped>\n",
              "    .dataframe tbody tr th:only-of-type {\n",
              "        vertical-align: middle;\n",
              "    }\n",
              "\n",
              "    .dataframe tbody tr th {\n",
              "        vertical-align: top;\n",
              "    }\n",
              "\n",
              "    .dataframe thead th {\n",
              "        text-align: right;\n",
              "    }\n",
              "</style>\n",
              "<table border=\"1\" class=\"dataframe\">\n",
              "  <thead>\n",
              "    <tr style=\"text-align: right;\">\n",
              "      <th></th>\n",
              "      <th>f1</th>\n",
              "      <th>precision</th>\n",
              "      <th>recall</th>\n",
              "      <th>prevalence</th>\n",
              "      <th>n</th>\n",
              "    </tr>\n",
              "  </thead>\n",
              "  <tbody>\n",
              "    <tr>\n",
              "      <th>fra</th>\n",
              "      <td>0.900000</td>\n",
              "      <td>0.900000</td>\n",
              "      <td>0.900000</td>\n",
              "      <td>0.909091</td>\n",
              "      <td>11.0</td>\n",
              "    </tr>\n",
              "    <tr>\n",
              "      <th>nor</th>\n",
              "      <td>0.920152</td>\n",
              "      <td>0.896296</td>\n",
              "      <td>0.945312</td>\n",
              "      <td>0.842105</td>\n",
              "      <td>152.0</td>\n",
              "    </tr>\n",
              "    <tr>\n",
              "      <th>spa</th>\n",
              "      <td>0.924528</td>\n",
              "      <td>0.890909</td>\n",
              "      <td>0.960784</td>\n",
              "      <td>0.796875</td>\n",
              "      <td>128.0</td>\n",
              "    </tr>\n",
              "    <tr>\n",
              "      <th>deu</th>\n",
              "      <td>0.897368</td>\n",
              "      <td>0.863291</td>\n",
              "      <td>0.934247</td>\n",
              "      <td>0.763598</td>\n",
              "      <td>478.0</td>\n",
              "    </tr>\n",
              "    <tr>\n",
              "      <th>swe</th>\n",
              "      <td>0.888889</td>\n",
              "      <td>0.852459</td>\n",
              "      <td>0.928571</td>\n",
              "      <td>0.835821</td>\n",
              "      <td>67.0</td>\n",
              "    </tr>\n",
              "    <tr>\n",
              "      <th>eng</th>\n",
              "      <td>0.867925</td>\n",
              "      <td>0.821429</td>\n",
              "      <td>0.920000</td>\n",
              "      <td>0.724638</td>\n",
              "      <td>69.0</td>\n",
              "    </tr>\n",
              "    <tr>\n",
              "      <th>fin</th>\n",
              "      <td>0.838710</td>\n",
              "      <td>0.787879</td>\n",
              "      <td>0.896552</td>\n",
              "      <td>0.674419</td>\n",
              "      <td>43.0</td>\n",
              "    </tr>\n",
              "    <tr>\n",
              "      <th>nld</th>\n",
              "      <td>0.750000</td>\n",
              "      <td>0.716814</td>\n",
              "      <td>0.786408</td>\n",
              "      <td>0.559783</td>\n",
              "      <td>184.0</td>\n",
              "    </tr>\n",
              "    <tr>\n",
              "      <th>dan</th>\n",
              "      <td>0.720000</td>\n",
              "      <td>0.642857</td>\n",
              "      <td>0.818182</td>\n",
              "      <td>0.515625</td>\n",
              "      <td>64.0</td>\n",
              "    </tr>\n",
              "  </tbody>\n",
              "</table>\n",
              "</div>\n",
              "    <div class=\"colab-df-buttons\">\n",
              "\n",
              "  <div class=\"colab-df-container\">\n",
              "    <button class=\"colab-df-convert\" onclick=\"convertToInteractive('df-fb279722-9004-410e-be77-0f9389c83bd0')\"\n",
              "            title=\"Convert this dataframe to an interactive table.\"\n",
              "            style=\"display:none;\">\n",
              "\n",
              "  <svg xmlns=\"http://www.w3.org/2000/svg\" height=\"24px\" viewBox=\"0 -960 960 960\">\n",
              "    <path d=\"M120-120v-720h720v720H120Zm60-500h600v-160H180v160Zm220 220h160v-160H400v160Zm0 220h160v-160H400v160ZM180-400h160v-160H180v160Zm440 0h160v-160H620v160ZM180-180h160v-160H180v160Zm440 0h160v-160H620v160Z\"/>\n",
              "  </svg>\n",
              "    </button>\n",
              "\n",
              "  <style>\n",
              "    .colab-df-container {\n",
              "      display:flex;\n",
              "      gap: 12px;\n",
              "    }\n",
              "\n",
              "    .colab-df-convert {\n",
              "      background-color: #E8F0FE;\n",
              "      border: none;\n",
              "      border-radius: 50%;\n",
              "      cursor: pointer;\n",
              "      display: none;\n",
              "      fill: #1967D2;\n",
              "      height: 32px;\n",
              "      padding: 0 0 0 0;\n",
              "      width: 32px;\n",
              "    }\n",
              "\n",
              "    .colab-df-convert:hover {\n",
              "      background-color: #E2EBFA;\n",
              "      box-shadow: 0px 1px 2px rgba(60, 64, 67, 0.3), 0px 1px 3px 1px rgba(60, 64, 67, 0.15);\n",
              "      fill: #174EA6;\n",
              "    }\n",
              "\n",
              "    .colab-df-buttons div {\n",
              "      margin-bottom: 4px;\n",
              "    }\n",
              "\n",
              "    [theme=dark] .colab-df-convert {\n",
              "      background-color: #3B4455;\n",
              "      fill: #D2E3FC;\n",
              "    }\n",
              "\n",
              "    [theme=dark] .colab-df-convert:hover {\n",
              "      background-color: #434B5C;\n",
              "      box-shadow: 0px 1px 3px 1px rgba(0, 0, 0, 0.15);\n",
              "      filter: drop-shadow(0px 1px 2px rgba(0, 0, 0, 0.3));\n",
              "      fill: #FFFFFF;\n",
              "    }\n",
              "  </style>\n",
              "\n",
              "    <script>\n",
              "      const buttonEl =\n",
              "        document.querySelector('#df-fb279722-9004-410e-be77-0f9389c83bd0 button.colab-df-convert');\n",
              "      buttonEl.style.display =\n",
              "        google.colab.kernel.accessAllowed ? 'block' : 'none';\n",
              "\n",
              "      async function convertToInteractive(key) {\n",
              "        const element = document.querySelector('#df-fb279722-9004-410e-be77-0f9389c83bd0');\n",
              "        const dataTable =\n",
              "          await google.colab.kernel.invokeFunction('convertToInteractive',\n",
              "                                                    [key], {});\n",
              "        if (!dataTable) return;\n",
              "\n",
              "        const docLinkHtml = 'Like what you see? Visit the ' +\n",
              "          '<a target=\"_blank\" href=https://colab.research.google.com/notebooks/data_table.ipynb>data table notebook</a>'\n",
              "          + ' to learn more about interactive tables.';\n",
              "        element.innerHTML = '';\n",
              "        dataTable['output_type'] = 'display_data';\n",
              "        await google.colab.output.renderOutput(dataTable, element);\n",
              "        const docLink = document.createElement('div');\n",
              "        docLink.innerHTML = docLinkHtml;\n",
              "        element.appendChild(docLink);\n",
              "      }\n",
              "    </script>\n",
              "  </div>\n",
              "\n",
              "\n",
              "<div id=\"df-bc0c21bb-04b1-493f-9203-06afde3ca129\">\n",
              "  <button class=\"colab-df-quickchart\" onclick=\"quickchart('df-bc0c21bb-04b1-493f-9203-06afde3ca129')\"\n",
              "            title=\"Suggest charts\"\n",
              "            style=\"display:none;\">\n",
              "\n",
              "<svg xmlns=\"http://www.w3.org/2000/svg\" height=\"24px\"viewBox=\"0 0 24 24\"\n",
              "     width=\"24px\">\n",
              "    <g>\n",
              "        <path d=\"M19 3H5c-1.1 0-2 .9-2 2v14c0 1.1.9 2 2 2h14c1.1 0 2-.9 2-2V5c0-1.1-.9-2-2-2zM9 17H7v-7h2v7zm4 0h-2V7h2v10zm4 0h-2v-4h2v4z\"/>\n",
              "    </g>\n",
              "</svg>\n",
              "  </button>\n",
              "\n",
              "<style>\n",
              "  .colab-df-quickchart {\n",
              "      --bg-color: #E8F0FE;\n",
              "      --fill-color: #1967D2;\n",
              "      --hover-bg-color: #E2EBFA;\n",
              "      --hover-fill-color: #174EA6;\n",
              "      --disabled-fill-color: #AAA;\n",
              "      --disabled-bg-color: #DDD;\n",
              "  }\n",
              "\n",
              "  [theme=dark] .colab-df-quickchart {\n",
              "      --bg-color: #3B4455;\n",
              "      --fill-color: #D2E3FC;\n",
              "      --hover-bg-color: #434B5C;\n",
              "      --hover-fill-color: #FFFFFF;\n",
              "      --disabled-bg-color: #3B4455;\n",
              "      --disabled-fill-color: #666;\n",
              "  }\n",
              "\n",
              "  .colab-df-quickchart {\n",
              "    background-color: var(--bg-color);\n",
              "    border: none;\n",
              "    border-radius: 50%;\n",
              "    cursor: pointer;\n",
              "    display: none;\n",
              "    fill: var(--fill-color);\n",
              "    height: 32px;\n",
              "    padding: 0;\n",
              "    width: 32px;\n",
              "  }\n",
              "\n",
              "  .colab-df-quickchart:hover {\n",
              "    background-color: var(--hover-bg-color);\n",
              "    box-shadow: 0 1px 2px rgba(60, 64, 67, 0.3), 0 1px 3px 1px rgba(60, 64, 67, 0.15);\n",
              "    fill: var(--button-hover-fill-color);\n",
              "  }\n",
              "\n",
              "  .colab-df-quickchart-complete:disabled,\n",
              "  .colab-df-quickchart-complete:disabled:hover {\n",
              "    background-color: var(--disabled-bg-color);\n",
              "    fill: var(--disabled-fill-color);\n",
              "    box-shadow: none;\n",
              "  }\n",
              "\n",
              "  .colab-df-spinner {\n",
              "    border: 2px solid var(--fill-color);\n",
              "    border-color: transparent;\n",
              "    border-bottom-color: var(--fill-color);\n",
              "    animation:\n",
              "      spin 1s steps(1) infinite;\n",
              "  }\n",
              "\n",
              "  @keyframes spin {\n",
              "    0% {\n",
              "      border-color: transparent;\n",
              "      border-bottom-color: var(--fill-color);\n",
              "      border-left-color: var(--fill-color);\n",
              "    }\n",
              "    20% {\n",
              "      border-color: transparent;\n",
              "      border-left-color: var(--fill-color);\n",
              "      border-top-color: var(--fill-color);\n",
              "    }\n",
              "    30% {\n",
              "      border-color: transparent;\n",
              "      border-left-color: var(--fill-color);\n",
              "      border-top-color: var(--fill-color);\n",
              "      border-right-color: var(--fill-color);\n",
              "    }\n",
              "    40% {\n",
              "      border-color: transparent;\n",
              "      border-right-color: var(--fill-color);\n",
              "      border-top-color: var(--fill-color);\n",
              "    }\n",
              "    60% {\n",
              "      border-color: transparent;\n",
              "      border-right-color: var(--fill-color);\n",
              "    }\n",
              "    80% {\n",
              "      border-color: transparent;\n",
              "      border-right-color: var(--fill-color);\n",
              "      border-bottom-color: var(--fill-color);\n",
              "    }\n",
              "    90% {\n",
              "      border-color: transparent;\n",
              "      border-bottom-color: var(--fill-color);\n",
              "    }\n",
              "  }\n",
              "</style>\n",
              "\n",
              "  <script>\n",
              "    async function quickchart(key) {\n",
              "      const quickchartButtonEl =\n",
              "        document.querySelector('#' + key + ' button');\n",
              "      quickchartButtonEl.disabled = true;  // To prevent multiple clicks.\n",
              "      quickchartButtonEl.classList.add('colab-df-spinner');\n",
              "      try {\n",
              "        const charts = await google.colab.kernel.invokeFunction(\n",
              "            'suggestCharts', [key], {});\n",
              "      } catch (error) {\n",
              "        console.error('Error during call to suggestCharts:', error);\n",
              "      }\n",
              "      quickchartButtonEl.classList.remove('colab-df-spinner');\n",
              "      quickchartButtonEl.classList.add('colab-df-quickchart-complete');\n",
              "    }\n",
              "    (() => {\n",
              "      let quickchartButtonEl =\n",
              "        document.querySelector('#df-bc0c21bb-04b1-493f-9203-06afde3ca129 button');\n",
              "      quickchartButtonEl.style.display =\n",
              "        google.colab.kernel.accessAllowed ? 'block' : 'none';\n",
              "    })();\n",
              "  </script>\n",
              "</div>\n",
              "    </div>\n",
              "  </div>\n"
            ]
          },
          "metadata": {},
          "execution_count": 177
        }
      ],
      "source": [
        "preds = trainer.predict(dataset[\"test\"])\n",
        "langs = dataset['test']['lang']\n",
        "\n",
        "performances = {}\n",
        "y_pred = preds.predictions.argmax(axis=1)\n",
        "y_true = preds.label_ids\n",
        "for lang in set(langs):\n",
        "    idxs = np.array(langs) == lang\n",
        "    n_ = idxs.sum()\n",
        "    if n_ == 0:\n",
        "      continue\n",
        "    p, r, f1, s = precision_recall_fscore_support(y_true[idxs], y_pred[idxs], average='binary', zero_division=0)\n",
        "    performances[lang] = {\n",
        "        \"f1\": f1,\n",
        "        \"precision\": p,\n",
        "        \"recall\": r,\n",
        "        \"prevalence\": y_true[idxs].mean(),\n",
        "        \"n\": int(idxs.sum())\n",
        "    }\n",
        "\n",
        "pd.DataFrame(performances).T.sort_values('precision', ascending=False)"
      ]
    },
    {
      "cell_type": "code",
      "source": [
        "np.mean(np.array(dataset['test']['label']))"
      ],
      "metadata": {
        "colab": {
          "base_uri": "https://localhost:8080/"
        },
        "id": "DhbQGrNo0eaP",
        "outputId": "7e0d7197-1902-46d1-85a3-af6cc9599114"
      },
      "execution_count": 191,
      "outputs": [
        {
          "output_type": "execute_result",
          "data": {
            "text/plain": [
              "0.7324414715719063"
            ]
          },
          "metadata": {},
          "execution_count": 191
        }
      ]
    },
    {
      "cell_type": "markdown",
      "metadata": {
        "id": "RWnbcQgr9oXc"
      },
      "source": [
        "As you can see, our classifier performs differently well across language subsets.\n",
        "Overall, its recall is higher than its precision, suggesting that it generally is \"overshooting\" (i.e., assigning too many \"supportive\" labels).\n",
        "But this tendency is more pronounced in some languages (Finnish, Danish, Spanish, German, English) than in others (French, Dutch).\n",
        "\n",
        "Such systematic discrpancies can have implications for down-stream analyses because you'll systematically over-estimate the prevalence of supportive stances in Finnish, Danish, etc. languages.\n",
        "\n",
        "Note, however, that the language-specific subsets are sometimes relatively small.\n",
        "So you should these point estimates with a grain of salt.\n",
        "(Bootstrapping these metrics is a best practice.)"
      ]
    },
    {
      "cell_type": "markdown",
      "metadata": {
        "id": "7cmBaAB-IwC_"
      },
      "source": [
        "## Inference/prediction"
      ]
    },
    {
      "cell_type": "markdown",
      "metadata": {
        "id": "yOM0j0yZIwC_"
      },
      "source": [
        "When you have saved your finetuned model, you can always re-load it to label texts.\n",
        "In machine learning this is called \"inference\" &mdash; which is unfortunate given the meaning of the term in positive social science methodology.\n",
        "\n",
        "So let's just call it **prediction**.\n"
      ]
    },
    {
      "cell_type": "code",
      "execution_count": 178,
      "metadata": {
        "id": "3o8FVcds7O6e"
      },
      "outputs": [],
      "source": [
        "from transformers import pipeline\n",
        "\n",
        "stance_classifier = pipeline(\n",
        "    task=\"text-classification\",\n",
        "    model=model_path # <== load the model we saved to disk\n",
        ")"
      ]
    },
    {
      "cell_type": "markdown",
      "metadata": {
        "id": "qZBBmqrvIwDC"
      },
      "source": [
        "The simplest way to try out your finetuned model for inference is to use it in a [pipeline()](https://huggingface.co/docs/transformers/main/en/main_classes/pipelines#transformers.pipeline). Instantiate a `pipeline` for sentiment analysis with your model, and pass your text to it:"
      ]
    },
    {
      "cell_type": "code",
      "execution_count": 179,
      "metadata": {
        "colab": {
          "base_uri": "https://localhost:8080/"
        },
        "id": "wF0rTEXuIwDC",
        "outputId": "37b3c85c-5277-4c1d-ae46-0288b3e43258"
      },
      "outputs": [
        {
          "output_type": "stream",
          "name": "stdout",
          "text": [
            "[{'label': 'supportive', 'score': 0.9616464972496033}]\n"
          ]
        }
      ],
      "source": [
        "text = \"Refugees welcome!\"\n",
        "print(stance_classifier(text))"
      ]
    },
    {
      "cell_type": "code",
      "execution_count": 180,
      "metadata": {
        "colab": {
          "base_uri": "https://localhost:8080/"
        },
        "id": "LqrrNyRjAEpv",
        "outputId": "d75ad4b9-1d03-41b3-e1ba-ffab89a9e8d7"
      },
      "outputs": [
        {
          "output_type": "stream",
          "name": "stdout",
          "text": [
            "[{'label': 'sceptical', 'score': 0.6391111016273499}]\n"
          ]
        }
      ],
      "source": [
        "text = 'Our immigration policy shoud be more restrictive.'\n",
        "print(stance_classifier(text))"
      ]
    },
    {
      "cell_type": "markdown",
      "metadata": {
        "id": "w0y4lRm7IwDD"
      },
      "source": [
        "### Looking under the hood of `pipeline`\n",
        "\n",
        "You can also manually replicate the results of the `pipeline` if you'd like:\n",
        "\n",
        "Tokenize the text and return PyTorch tensors:"
      ]
    },
    {
      "cell_type": "markdown",
      "metadata": {
        "id": "nq65AznnIwDD"
      },
      "source": [
        "Pass your inputs to the model and return the `logits`:"
      ]
    },
    {
      "cell_type": "code",
      "execution_count": 181,
      "metadata": {
        "colab": {
          "base_uri": "https://localhost:8080/",
          "height": 35
        },
        "id": "njKLoOP-IwDD",
        "outputId": "a0a8622d-4487-40ca-a58d-9723fc3cac65"
      },
      "outputs": [
        {
          "output_type": "execute_result",
          "data": {
            "text/plain": [
              "'supportive'"
            ],
            "application/vnd.google.colaboratory.intrinsic+json": {
              "type": "string"
            }
          },
          "metadata": {},
          "execution_count": 181
        }
      ],
      "source": [
        "# tokenizer = AutoTokenizer.from_pretrained(model_path)\n",
        "inputs = tokenizer(\"Refugees welcome!\", return_tensors=\"pt\")\n",
        "inputs.to(device); # <== important to put in GPU!!\n",
        "\n",
        "# model = AutoModelForSequenceClassification.from_pretrained(model_path)\n",
        "with torch.no_grad():\n",
        "    logits = model(**inputs).logits\n",
        "\n",
        "predicted_class_id = logits.argmax().item()\n",
        "model.config.id2label[predicted_class_id] # <== use the 'id2label' we've added to the model we saved"
      ]
    },
    {
      "cell_type": "markdown",
      "metadata": {
        "id": "aA0uzyItC63l"
      },
      "source": [
        "### Clean up"
      ]
    },
    {
      "cell_type": "code",
      "execution_count": 70,
      "metadata": {
        "id": "RTlKOxFoC8Tb"
      },
      "outputs": [],
      "source": [
        "del model, trainer, stance_classifier\n",
        "clean_memory(device)"
      ]
    },
    {
      "cell_type": "markdown",
      "metadata": {
        "id": "dcJiG9I8BTs0"
      },
      "source": [
        "## Measurement validation"
      ]
    },
    {
      "cell_type": "markdown",
      "metadata": {
        "id": "rZY-1njqEFid"
      },
      "source": [
        "In most applications, we are ultimately interested in using lower-level classifications (e.g., at the sentence level) to generate higher-level measurements (e.g., at the document level).\n",
        "\n",
        "To validate these measures, it is a best-practice to conduct a convergent validity assessment.\n",
        "This means to compare the measurement generated by your \"instrument\" (i.e., the classifier) to a external  measurement that is supposed to measure the same construct.\n",
        "\n",
        "In our application, we will use our classifier to obtain position scores for party manifestos sections about immigration/integration, and compare these scores to the position scores to the judgments of experts recruited by the Chapel Hill Expert Survey (CHES)."
      ]
    },
    {
      "cell_type": "markdown",
      "source": [
        "### Assessing equivalence"
      ],
      "metadata": {
        "id": "_7qdX8laHSd_"
      }
    },
    {
      "cell_type": "code",
      "source": [
        "df_test = df.iloc[test_idxs]"
      ],
      "metadata": {
        "id": "-qDKmroAHR1Y"
      },
      "execution_count": 71,
      "outputs": []
    },
    {
      "cell_type": "code",
      "source": [
        "langs = set(df_test.lang.unique())"
      ],
      "metadata": {
        "id": "yTZu-hWKHilL"
      },
      "execution_count": 72,
      "outputs": []
    },
    {
      "cell_type": "code",
      "source": [
        "import easynmt\n",
        "translator = easynmt.EasyNMT('m2m_100_418M', device=device)"
      ],
      "metadata": {
        "colab": {
          "base_uri": "https://localhost:8080/",
          "height": 258,
          "referenced_widgets": [
            "a4facc11ea4648f9baed42d1f0a5d793",
            "ba4620f2964643ee9a952ac3c43bfd7f",
            "ecdafcaa2ffd48369c86d30074095d14",
            "fbccba82bfff4dc99af9d28e9487cb5a",
            "c6366db6e73c48c399f0f1e138a96595",
            "19022a66f7cc4e7f8510f104ee59165f",
            "a99e8c13fc68459b86402316b89ad524",
            "2395eae592884c99b5b09adc357b50e1",
            "69321e4fff1a4766aabbb237592afd91",
            "2715cb616a184dbc859549bfbbe915da",
            "eb23b5bb7111494ab247730319d4bfe9",
            "ff5b1a1481344a3c9ce92b5c6041fae2",
            "2b5aed6039b242abb88e71f9b9a0f1e7",
            "b5731c0e55934c21bad53b748a60c423",
            "dccf1e58793f42169ee0d0008f2effd8",
            "2a85438bf2f04cc4afc59ca2b154d357",
            "72c92c66286e41a2a270e3622a5cdff9",
            "6cfd2364a4534b879acf0afce00058ea",
            "9dab22b8a7d947bbb29d169678c16a63",
            "83443ff4ac304734b906343a2865a423",
            "9aeb8661038b454893215dc06a76c4a2",
            "c6f68fac8a8549ac9e2444fbad173d36",
            "7646d949444d40c2bf0a216f1525947a",
            "2ce3201291c246f790af2ee91e5c4a2b",
            "577b0c1555954c01aee4174bf56dc822",
            "5b329777d8214d34a29cf04c8b356d05",
            "56c26b0d646c4bb2b1a4263c93badc90",
            "2c0da82eceb94cd49b7cf24e4ea0cdee",
            "43655d6d45d149e89bcf73aa4029a987",
            "691a20b3bbc840ebb2e32396162f91f3",
            "1ac4c6dcb91a44f6bf2241a9249696be",
            "6492af0c2ddc4e1db8dfda763b2bf557",
            "6249802572fd467e87be0a1d8c798347",
            "e47c4d34025642288af86592503ec3f9",
            "1098a3a807e14655b082305bb5be445b",
            "eb4ee7a85d48409492941c4e7ff256c6",
            "664f1768aaac47408787719046603a49",
            "17d999b4d0b74f13b59c9f1c378911d4",
            "4be8b79c300c46d2ad2febc622938dd8",
            "fdde8ff2ce294fb2a03a0be28eecb135",
            "20eb987558ca4268a9c59ee9857e9921",
            "1f8986717c8843beb8ad17134c685abc",
            "c6b3ce4cb3e048c88b3a924edad31550",
            "e2c5326cda4f419b8469774e68fb903f",
            "599c6111d93c4c558491ed8e7093365e",
            "298aef262b9144739636c7b1f73d24b6",
            "5fd64263b017400b8ab6f4068210cc05",
            "6908345b772b48c6a1bf292f6c98bc9b",
            "59d0f2326e59416fa3aa075dd20af4e3",
            "f8de8a2d29334515a0469a342d53907e",
            "aa645066a70b4ef7a5af2af79b7b7c60",
            "7b9dc4c70c29419783acaa85a56435f7",
            "c72e8601d786427d856c9f732bd4416a",
            "f7598c7541be4e3c956ed436cab74237",
            "5db8ee874a8b43a2be67edda92fb7dac",
            "9ee99b7c765d445ea2604ecb593a7c5d",
            "100abfe625f84bf2a1576e493fa01e8f",
            "8d41d497f92f4563be477e1037cc1092",
            "995b61f15c5842c580fbc81c69a5330a",
            "9b230e31f7604533a3aad152317c9222",
            "8ff8615ca78146e6b2d0457ff1bf6b66",
            "1f31be5aa6914d3bb37b18bc92654f22",
            "19a1959f4e354523bb9b76d02662222d",
            "19b23e63d5004accadd58b8f885f57ea",
            "731a908e8bfe45d2b0956e82eccdd039",
            "60d526b319a243989c89b3b2224b0945",
            "b00834fa479543e6887336f3f93a5cad",
            "c170b8a844834cee942230409afccabe",
            "e0908df3c16a450e87fc11d3edce1369",
            "de7ec08dd49a47179c8b312d009bc4bd",
            "14827ee007654288917c960c85fb7a4c",
            "a3badffd88fe4632998b93cde247f17e",
            "c49b2125325f443ab88bf4d15261ee47",
            "12536a495e0349c98414249eb6604ff8",
            "ba0c2e379efc4ffda5eda1fd8dd4b167",
            "124a4e4bbfbd4902ae81abd6fd92bf34",
            "952ccf92f27642fc9af77058488fe64e"
          ]
        },
        "id": "JQRnhGQlHlwi",
        "outputId": "4b4dbbe2-7c37-449d-c31f-b167192b0b90"
      },
      "execution_count": 73,
      "outputs": [
        {
          "output_type": "stream",
          "name": "stderr",
          "text": [
            "89.9kB [00:00, 18.5MB/s]                   \n"
          ]
        },
        {
          "output_type": "display_data",
          "data": {
            "text/plain": [
              "Downloading config.json:   0%|          | 0.00/908 [00:00<?, ?B/s]"
            ],
            "application/vnd.jupyter.widget-view+json": {
              "version_major": 2,
              "version_minor": 0,
              "model_id": "a4facc11ea4648f9baed42d1f0a5d793"
            }
          },
          "metadata": {}
        },
        {
          "output_type": "display_data",
          "data": {
            "text/plain": [
              "Downloading pytorch_model.bin:   0%|          | 0.00/1.94G [00:00<?, ?B/s]"
            ],
            "application/vnd.jupyter.widget-view+json": {
              "version_major": 2,
              "version_minor": 0,
              "model_id": "ff5b1a1481344a3c9ce92b5c6041fae2"
            }
          },
          "metadata": {}
        },
        {
          "output_type": "display_data",
          "data": {
            "text/plain": [
              "Downloading generation_config.json:   0%|          | 0.00/233 [00:00<?, ?B/s]"
            ],
            "application/vnd.jupyter.widget-view+json": {
              "version_major": 2,
              "version_minor": 0,
              "model_id": "7646d949444d40c2bf0a216f1525947a"
            }
          },
          "metadata": {}
        },
        {
          "output_type": "display_data",
          "data": {
            "text/plain": [
              "Downloading tokenizer_config.json:   0%|          | 0.00/272 [00:00<?, ?B/s]"
            ],
            "application/vnd.jupyter.widget-view+json": {
              "version_major": 2,
              "version_minor": 0,
              "model_id": "e47c4d34025642288af86592503ec3f9"
            }
          },
          "metadata": {}
        },
        {
          "output_type": "display_data",
          "data": {
            "text/plain": [
              "Downloading vocab.json:   0%|          | 0.00/3.71M [00:00<?, ?B/s]"
            ],
            "application/vnd.jupyter.widget-view+json": {
              "version_major": 2,
              "version_minor": 0,
              "model_id": "599c6111d93c4c558491ed8e7093365e"
            }
          },
          "metadata": {}
        },
        {
          "output_type": "display_data",
          "data": {
            "text/plain": [
              "Downloading (…)tencepiece.bpe.model:   0%|          | 0.00/2.42M [00:00<?, ?B/s]"
            ],
            "application/vnd.jupyter.widget-view+json": {
              "version_major": 2,
              "version_minor": 0,
              "model_id": "9ee99b7c765d445ea2604ecb593a7c5d"
            }
          },
          "metadata": {}
        },
        {
          "output_type": "display_data",
          "data": {
            "text/plain": [
              "Downloading (…)cial_tokens_map.json:   0%|          | 0.00/1.14k [00:00<?, ?B/s]"
            ],
            "application/vnd.jupyter.widget-view+json": {
              "version_major": 2,
              "version_minor": 0,
              "model_id": "b00834fa479543e6887336f3f93a5cad"
            }
          },
          "metadata": {}
        }
      ]
    },
    {
      "cell_type": "code",
      "source": [
        "clean_memory(device)\n",
        "\n",
        "translations = {i: [] for i in df_test.index}\n",
        "for lang, d in df_test.groupby('lang'):\n",
        "  for l in langs:\n",
        "    if l == lang:\n",
        "      continue\n",
        "    print(f'translating from {lang} to {l}')\n",
        "    try:\n",
        "      res = translator.translate_sentences(\n",
        "          d.text.to_list(),\n",
        "          source_lang=iso639.to_iso639_1(lang),\n",
        "          target_lang=iso639.to_iso639_1(l),\n",
        "          batch_size=16,\n",
        "          beam_size=5,\n",
        "          show_progress_bar=True,\n",
        "        )\n",
        "    except Exception as e:\n",
        "      print(f'WARNING: cannot translate \"{lang}\" to \"{l}\" with M2M model: {str(e)}')\n",
        "      continue\n",
        "    for i, t in zip(d.index, res):\n",
        "      translations[i].append((l, t))"
      ],
      "metadata": {
        "colab": {
          "base_uri": "https://localhost:8080/"
        },
        "id": "6eQfGRWRH5E6",
        "outputId": "fd43a754-0369-4fb9-c95c-24cc2811257b"
      },
      "execution_count": 74,
      "outputs": [
        {
          "output_type": "stream",
          "name": "stdout",
          "text": [
            "translating from dan to eng\n",
            "WARNING: cannot translate \"dan\" to \"eng\" with M2M model: name 'iso639' is not defined\n",
            "translating from dan to deu\n",
            "WARNING: cannot translate \"dan\" to \"deu\" with M2M model: name 'iso639' is not defined\n",
            "translating from dan to fra\n",
            "WARNING: cannot translate \"dan\" to \"fra\" with M2M model: name 'iso639' is not defined\n",
            "translating from dan to nor\n",
            "WARNING: cannot translate \"dan\" to \"nor\" with M2M model: name 'iso639' is not defined\n",
            "translating from dan to nld\n",
            "WARNING: cannot translate \"dan\" to \"nld\" with M2M model: name 'iso639' is not defined\n",
            "translating from dan to spa\n",
            "WARNING: cannot translate \"dan\" to \"spa\" with M2M model: name 'iso639' is not defined\n",
            "translating from dan to fin\n",
            "WARNING: cannot translate \"dan\" to \"fin\" with M2M model: name 'iso639' is not defined\n",
            "translating from dan to swe\n",
            "WARNING: cannot translate \"dan\" to \"swe\" with M2M model: name 'iso639' is not defined\n",
            "translating from deu to eng\n",
            "WARNING: cannot translate \"deu\" to \"eng\" with M2M model: name 'iso639' is not defined\n",
            "translating from deu to fra\n",
            "WARNING: cannot translate \"deu\" to \"fra\" with M2M model: name 'iso639' is not defined\n",
            "translating from deu to nor\n",
            "WARNING: cannot translate \"deu\" to \"nor\" with M2M model: name 'iso639' is not defined\n",
            "translating from deu to nld\n",
            "WARNING: cannot translate \"deu\" to \"nld\" with M2M model: name 'iso639' is not defined\n",
            "translating from deu to spa\n",
            "WARNING: cannot translate \"deu\" to \"spa\" with M2M model: name 'iso639' is not defined\n",
            "translating from deu to fin\n",
            "WARNING: cannot translate \"deu\" to \"fin\" with M2M model: name 'iso639' is not defined\n",
            "translating from deu to dan\n",
            "WARNING: cannot translate \"deu\" to \"dan\" with M2M model: name 'iso639' is not defined\n",
            "translating from deu to swe\n",
            "WARNING: cannot translate \"deu\" to \"swe\" with M2M model: name 'iso639' is not defined\n",
            "translating from eng to deu\n",
            "WARNING: cannot translate \"eng\" to \"deu\" with M2M model: name 'iso639' is not defined\n",
            "translating from eng to fra\n",
            "WARNING: cannot translate \"eng\" to \"fra\" with M2M model: name 'iso639' is not defined\n",
            "translating from eng to nor\n",
            "WARNING: cannot translate \"eng\" to \"nor\" with M2M model: name 'iso639' is not defined\n",
            "translating from eng to nld\n",
            "WARNING: cannot translate \"eng\" to \"nld\" with M2M model: name 'iso639' is not defined\n",
            "translating from eng to spa\n",
            "WARNING: cannot translate \"eng\" to \"spa\" with M2M model: name 'iso639' is not defined\n",
            "translating from eng to fin\n",
            "WARNING: cannot translate \"eng\" to \"fin\" with M2M model: name 'iso639' is not defined\n",
            "translating from eng to dan\n",
            "WARNING: cannot translate \"eng\" to \"dan\" with M2M model: name 'iso639' is not defined\n",
            "translating from eng to swe\n",
            "WARNING: cannot translate \"eng\" to \"swe\" with M2M model: name 'iso639' is not defined\n",
            "translating from fin to eng\n",
            "WARNING: cannot translate \"fin\" to \"eng\" with M2M model: name 'iso639' is not defined\n",
            "translating from fin to deu\n",
            "WARNING: cannot translate \"fin\" to \"deu\" with M2M model: name 'iso639' is not defined\n",
            "translating from fin to fra\n",
            "WARNING: cannot translate \"fin\" to \"fra\" with M2M model: name 'iso639' is not defined\n",
            "translating from fin to nor\n",
            "WARNING: cannot translate \"fin\" to \"nor\" with M2M model: name 'iso639' is not defined\n",
            "translating from fin to nld\n",
            "WARNING: cannot translate \"fin\" to \"nld\" with M2M model: name 'iso639' is not defined\n",
            "translating from fin to spa\n",
            "WARNING: cannot translate \"fin\" to \"spa\" with M2M model: name 'iso639' is not defined\n",
            "translating from fin to dan\n",
            "WARNING: cannot translate \"fin\" to \"dan\" with M2M model: name 'iso639' is not defined\n",
            "translating from fin to swe\n",
            "WARNING: cannot translate \"fin\" to \"swe\" with M2M model: name 'iso639' is not defined\n",
            "translating from fra to eng\n",
            "WARNING: cannot translate \"fra\" to \"eng\" with M2M model: name 'iso639' is not defined\n",
            "translating from fra to deu\n",
            "WARNING: cannot translate \"fra\" to \"deu\" with M2M model: name 'iso639' is not defined\n",
            "translating from fra to nor\n",
            "WARNING: cannot translate \"fra\" to \"nor\" with M2M model: name 'iso639' is not defined\n",
            "translating from fra to nld\n",
            "WARNING: cannot translate \"fra\" to \"nld\" with M2M model: name 'iso639' is not defined\n",
            "translating from fra to spa\n",
            "WARNING: cannot translate \"fra\" to \"spa\" with M2M model: name 'iso639' is not defined\n",
            "translating from fra to fin\n",
            "WARNING: cannot translate \"fra\" to \"fin\" with M2M model: name 'iso639' is not defined\n",
            "translating from fra to dan\n",
            "WARNING: cannot translate \"fra\" to \"dan\" with M2M model: name 'iso639' is not defined\n",
            "translating from fra to swe\n",
            "WARNING: cannot translate \"fra\" to \"swe\" with M2M model: name 'iso639' is not defined\n",
            "translating from nld to eng\n",
            "WARNING: cannot translate \"nld\" to \"eng\" with M2M model: name 'iso639' is not defined\n",
            "translating from nld to deu\n",
            "WARNING: cannot translate \"nld\" to \"deu\" with M2M model: name 'iso639' is not defined\n",
            "translating from nld to fra\n",
            "WARNING: cannot translate \"nld\" to \"fra\" with M2M model: name 'iso639' is not defined\n",
            "translating from nld to nor\n",
            "WARNING: cannot translate \"nld\" to \"nor\" with M2M model: name 'iso639' is not defined\n",
            "translating from nld to spa\n",
            "WARNING: cannot translate \"nld\" to \"spa\" with M2M model: name 'iso639' is not defined\n",
            "translating from nld to fin\n",
            "WARNING: cannot translate \"nld\" to \"fin\" with M2M model: name 'iso639' is not defined\n",
            "translating from nld to dan\n",
            "WARNING: cannot translate \"nld\" to \"dan\" with M2M model: name 'iso639' is not defined\n",
            "translating from nld to swe\n",
            "WARNING: cannot translate \"nld\" to \"swe\" with M2M model: name 'iso639' is not defined\n",
            "translating from nor to eng\n",
            "WARNING: cannot translate \"nor\" to \"eng\" with M2M model: name 'iso639' is not defined\n",
            "translating from nor to deu\n",
            "WARNING: cannot translate \"nor\" to \"deu\" with M2M model: name 'iso639' is not defined\n",
            "translating from nor to fra\n",
            "WARNING: cannot translate \"nor\" to \"fra\" with M2M model: name 'iso639' is not defined\n",
            "translating from nor to nld\n",
            "WARNING: cannot translate \"nor\" to \"nld\" with M2M model: name 'iso639' is not defined\n",
            "translating from nor to spa\n",
            "WARNING: cannot translate \"nor\" to \"spa\" with M2M model: name 'iso639' is not defined\n",
            "translating from nor to fin\n",
            "WARNING: cannot translate \"nor\" to \"fin\" with M2M model: name 'iso639' is not defined\n",
            "translating from nor to dan\n",
            "WARNING: cannot translate \"nor\" to \"dan\" with M2M model: name 'iso639' is not defined\n",
            "translating from nor to swe\n",
            "WARNING: cannot translate \"nor\" to \"swe\" with M2M model: name 'iso639' is not defined\n",
            "translating from spa to eng\n",
            "WARNING: cannot translate \"spa\" to \"eng\" with M2M model: name 'iso639' is not defined\n",
            "translating from spa to deu\n",
            "WARNING: cannot translate \"spa\" to \"deu\" with M2M model: name 'iso639' is not defined\n",
            "translating from spa to fra\n",
            "WARNING: cannot translate \"spa\" to \"fra\" with M2M model: name 'iso639' is not defined\n",
            "translating from spa to nor\n",
            "WARNING: cannot translate \"spa\" to \"nor\" with M2M model: name 'iso639' is not defined\n",
            "translating from spa to nld\n",
            "WARNING: cannot translate \"spa\" to \"nld\" with M2M model: name 'iso639' is not defined\n",
            "translating from spa to fin\n",
            "WARNING: cannot translate \"spa\" to \"fin\" with M2M model: name 'iso639' is not defined\n",
            "translating from spa to dan\n",
            "WARNING: cannot translate \"spa\" to \"dan\" with M2M model: name 'iso639' is not defined\n",
            "translating from spa to swe\n",
            "WARNING: cannot translate \"spa\" to \"swe\" with M2M model: name 'iso639' is not defined\n",
            "translating from swe to eng\n",
            "WARNING: cannot translate \"swe\" to \"eng\" with M2M model: name 'iso639' is not defined\n",
            "translating from swe to deu\n",
            "WARNING: cannot translate \"swe\" to \"deu\" with M2M model: name 'iso639' is not defined\n",
            "translating from swe to fra\n",
            "WARNING: cannot translate \"swe\" to \"fra\" with M2M model: name 'iso639' is not defined\n",
            "translating from swe to nor\n",
            "WARNING: cannot translate \"swe\" to \"nor\" with M2M model: name 'iso639' is not defined\n",
            "translating from swe to nld\n",
            "WARNING: cannot translate \"swe\" to \"nld\" with M2M model: name 'iso639' is not defined\n",
            "translating from swe to spa\n",
            "WARNING: cannot translate \"swe\" to \"spa\" with M2M model: name 'iso639' is not defined\n",
            "translating from swe to fin\n",
            "WARNING: cannot translate \"swe\" to \"fin\" with M2M model: name 'iso639' is not defined\n",
            "translating from swe to dan\n",
            "WARNING: cannot translate \"swe\" to \"dan\" with M2M model: name 'iso639' is not defined\n"
          ]
        }
      ]
    },
    {
      "cell_type": "code",
      "source": [
        "translations"
      ],
      "metadata": {
        "colab": {
          "base_uri": "https://localhost:8080/"
        },
        "id": "iDATfy8vQ4b2",
        "outputId": "d6100f2b-d3fc-4107-fda9-d76f7963cbc4"
      },
      "execution_count": 75,
      "outputs": [
        {
          "output_type": "execute_result",
          "data": {
            "text/plain": [
              "{457: [],\n",
              " 7145: [],\n",
              " 2133: [],\n",
              " 1431: [],\n",
              " 1820: [],\n",
              " 4376: [],\n",
              " 6959: [],\n",
              " 7068: [],\n",
              " 4968: [],\n",
              " 5951: [],\n",
              " 1691: [],\n",
              " 1102: [],\n",
              " 3042: [],\n",
              " 7428: [],\n",
              " 2574: [],\n",
              " 1107: [],\n",
              " 7617: [],\n",
              " 2358: [],\n",
              " 381: [],\n",
              " 5833: [],\n",
              " 3703: [],\n",
              " 4736: [],\n",
              " 7039: [],\n",
              " 1749: [],\n",
              " 4393: [],\n",
              " 6896: [],\n",
              " 447: [],\n",
              " 7330: [],\n",
              " 7554: [],\n",
              " 7383: [],\n",
              " 6312: [],\n",
              " 3215: [],\n",
              " 101: [],\n",
              " 2126: [],\n",
              " 4539: [],\n",
              " 1601: [],\n",
              " 132: [],\n",
              " 3834: [],\n",
              " 2487: [],\n",
              " 337: [],\n",
              " 6877: [],\n",
              " 2416: [],\n",
              " 2191: [],\n",
              " 2529: [],\n",
              " 5698: [],\n",
              " 6712: [],\n",
              " 2565: [],\n",
              " 4249: [],\n",
              " 5893: [],\n",
              " 5457: [],\n",
              " 2694: [],\n",
              " 2884: [],\n",
              " 6436: [],\n",
              " 7803: [],\n",
              " 6519: [],\n",
              " 160: [],\n",
              " 38: [],\n",
              " 5997: [],\n",
              " 7701: [],\n",
              " 3857: [],\n",
              " 3883: [],\n",
              " 4776: [],\n",
              " 5472: [],\n",
              " 1892: [],\n",
              " 6416: [],\n",
              " 5163: [],\n",
              " 6182: [],\n",
              " 25: [],\n",
              " 4330: [],\n",
              " 6173: [],\n",
              " 3260: [],\n",
              " 4522: [],\n",
              " 7085: [],\n",
              " 1539: [],\n",
              " 48: [],\n",
              " 315: [],\n",
              " 6366: [],\n",
              " 5783: [],\n",
              " 4107: [],\n",
              " 7854: [],\n",
              " 5686: [],\n",
              " 5063: [],\n",
              " 3945: [],\n",
              " 4630: [],\n",
              " 100: [],\n",
              " 7176: [],\n",
              " 5280: [],\n",
              " 6089: [],\n",
              " 952: [],\n",
              " 1732: [],\n",
              " 6576: [],\n",
              " 7301: [],\n",
              " 6752: [],\n",
              " 5344: [],\n",
              " 1287: [],\n",
              " 6623: [],\n",
              " 7451: [],\n",
              " 4718: [],\n",
              " 6278: [],\n",
              " 2335: [],\n",
              " 2096: [],\n",
              " 88: [],\n",
              " 5114: [],\n",
              " 2328: [],\n",
              " 4909: [],\n",
              " 874: [],\n",
              " 5748: [],\n",
              " 2904: [],\n",
              " 1933: [],\n",
              " 4077: [],\n",
              " 71: [],\n",
              " 2833: [],\n",
              " 384: [],\n",
              " 3249: [],\n",
              " 4804: [],\n",
              " 6135: [],\n",
              " 7495: [],\n",
              " 2317: [],\n",
              " 7265: [],\n",
              " 1432: [],\n",
              " 724: [],\n",
              " 7641: [],\n",
              " 68: [],\n",
              " 649: [],\n",
              " 5722: [],\n",
              " 934: [],\n",
              " 2130: [],\n",
              " 3007: [],\n",
              " 5791: [],\n",
              " 6170: [],\n",
              " 438: [],\n",
              " 521: [],\n",
              " 5113: [],\n",
              " 356: [],\n",
              " 3527: [],\n",
              " 2338: [],\n",
              " 3642: [],\n",
              " 5042: [],\n",
              " 4683: [],\n",
              " 1159: [],\n",
              " 5498: [],\n",
              " 5659: [],\n",
              " 5729: [],\n",
              " 2183: [],\n",
              " 4263: [],\n",
              " 4502: [],\n",
              " 5891: [],\n",
              " 6767: [],\n",
              " 1797: [],\n",
              " 3265: [],\n",
              " 4603: [],\n",
              " 4218: [],\n",
              " 7913: [],\n",
              " 3295: [],\n",
              " 4055: [],\n",
              " 3657: [],\n",
              " 7037: [],\n",
              " 4710: [],\n",
              " 805: [],\n",
              " 5462: [],\n",
              " 307: [],\n",
              " 6954: [],\n",
              " 1702: [],\n",
              " 503: [],\n",
              " 5323: [],\n",
              " 4975: [],\n",
              " 1507: [],\n",
              " 3918: [],\n",
              " 6241: [],\n",
              " 520: [],\n",
              " 5654: [],\n",
              " 2858: [],\n",
              " 4735: [],\n",
              " 3255: [],\n",
              " 3098: [],\n",
              " 1426: [],\n",
              " 1197: [],\n",
              " 6675: [],\n",
              " 7263: [],\n",
              " 1496: [],\n",
              " 6331: [],\n",
              " 6235: [],\n",
              " 7807: [],\n",
              " 5140: [],\n",
              " 3668: [],\n",
              " 6892: [],\n",
              " 2380: [],\n",
              " 167: [],\n",
              " 2483: [],\n",
              " 5520: [],\n",
              " 110: [],\n",
              " 3094: [],\n",
              " 6616: [],\n",
              " 3005: [],\n",
              " 117: [],\n",
              " 5723: [],\n",
              " 4320: [],\n",
              " 3138: [],\n",
              " 4752: [],\n",
              " 7491: [],\n",
              " 1540: [],\n",
              " 966: [],\n",
              " 1827: [],\n",
              " 1477: [],\n",
              " 5980: [],\n",
              " 1604: [],\n",
              " 808: [],\n",
              " 3691: [],\n",
              " 5199: [],\n",
              " 6008: [],\n",
              " 7637: [],\n",
              " 1865: [],\n",
              " 4575: [],\n",
              " 4871: [],\n",
              " 127: [],\n",
              " 4165: [],\n",
              " 5538: [],\n",
              " 7930: [],\n",
              " 1654: [],\n",
              " 2681: [],\n",
              " 6797: [],\n",
              " 1222: [],\n",
              " 4476: [],\n",
              " 7511: [],\n",
              " 532: [],\n",
              " 4952: [],\n",
              " 6515: [],\n",
              " 5415: [],\n",
              " 2779: [],\n",
              " 7296: [],\n",
              " 1206: [],\n",
              " 7412: [],\n",
              " 2738: [],\n",
              " 4224: [],\n",
              " 3712: [],\n",
              " 4326: [],\n",
              " 2825: [],\n",
              " 4094: [],\n",
              " 3533: [],\n",
              " 353: [],\n",
              " 2249: [],\n",
              " 3264: [],\n",
              " 2568: [],\n",
              " 3779: [],\n",
              " 4363: [],\n",
              " 2657: [],\n",
              " 4576: [],\n",
              " 7093: [],\n",
              " 2457: [],\n",
              " 6759: [],\n",
              " 2334: [],\n",
              " 1304: [],\n",
              " 2799: [],\n",
              " 159: [],\n",
              " 5721: [],\n",
              " 3746: [],\n",
              " 6518: [],\n",
              " 277: [],\n",
              " 81: [],\n",
              " 3514: [],\n",
              " 3840: [],\n",
              " 768: [],\n",
              " 6188: [],\n",
              " 4209: [],\n",
              " 2255: [],\n",
              " 3307: [],\n",
              " 7814: [],\n",
              " 3144: [],\n",
              " 1022: [],\n",
              " 851: [],\n",
              " 2966: [],\n",
              " 1707: [],\n",
              " 7392: [],\n",
              " 405: [],\n",
              " 2005: [],\n",
              " 4233: [],\n",
              " 2186: [],\n",
              " 3778: [],\n",
              " 7497: [],\n",
              " 7195: [],\n",
              " 6607: [],\n",
              " 6128: [],\n",
              " 6788: [],\n",
              " 3149: [],\n",
              " 2551: [],\n",
              " 4786: [],\n",
              " 4036: [],\n",
              " 3330: [],\n",
              " 4096: [],\n",
              " 4564: [],\n",
              " 7972: [],\n",
              " 7034: [],\n",
              " 5237: [],\n",
              " 5096: [],\n",
              " 6108: [],\n",
              " 5616: [],\n",
              " 7222: [],\n",
              " 2554: [],\n",
              " 965: [],\n",
              " 4429: [],\n",
              " 3446: [],\n",
              " 907: [],\n",
              " 7746: [],\n",
              " 172: [],\n",
              " 7716: [],\n",
              " 2802: [],\n",
              " 2945: [],\n",
              " 7416: [],\n",
              " 3346: [],\n",
              " 3462: [],\n",
              " 3615: [],\n",
              " 5049: [],\n",
              " 7404: [],\n",
              " 142: [],\n",
              " 5134: [],\n",
              " 2451: [],\n",
              " 5116: [],\n",
              " 1085: [],\n",
              " 4586: [],\n",
              " 3172: [],\n",
              " 7282: [],\n",
              " 4504: [],\n",
              " 5358: [],\n",
              " 378: [],\n",
              " 7732: [],\n",
              " 1372: [],\n",
              " 7748: [],\n",
              " 3494: [],\n",
              " 6835: [],\n",
              " 5112: [],\n",
              " 1943: [],\n",
              " 3943: [],\n",
              " 7156: [],\n",
              " 3317: [],\n",
              " 7582: [],\n",
              " 7835: [],\n",
              " 217: [],\n",
              " 3561: [],\n",
              " 4228: [],\n",
              " 2783: [],\n",
              " 4414: [],\n",
              " 6156: [],\n",
              " 691: [],\n",
              " 5398: [],\n",
              " 7680: [],\n",
              " 240: [],\n",
              " 2312: [],\n",
              " 1835: [],\n",
              " 2722: [],\n",
              " 5507: [],\n",
              " 7693: [],\n",
              " 5827: [],\n",
              " 4907: [],\n",
              " 7829: [],\n",
              " 2216: [],\n",
              " 4230: [],\n",
              " 2229: [],\n",
              " 136: [],\n",
              " 7313: [],\n",
              " 4585: [],\n",
              " 5602: [],\n",
              " 6813: [],\n",
              " 6701: [],\n",
              " 2630: [],\n",
              " 4078: [],\n",
              " 2073: [],\n",
              " 1866: [],\n",
              " 490: [],\n",
              " 7926: [],\n",
              " 3892: [],\n",
              " 2807: [],\n",
              " 7245: [],\n",
              " 7448: [],\n",
              " 6203: [],\n",
              " 1922: [],\n",
              " 6417: [],\n",
              " 7579: [],\n",
              " 2175: [],\n",
              " 6911: [],\n",
              " 4135: [],\n",
              " 5130: [],\n",
              " 7946: [],\n",
              " 1198: [],\n",
              " 4800: [],\n",
              " 5006: [],\n",
              " 3266: [],\n",
              " 1647: [],\n",
              " 1312: [],\n",
              " 1711: [],\n",
              " 7898: [],\n",
              " 3549: [],\n",
              " 7486: [],\n",
              " 6521: [],\n",
              " 3242: [],\n",
              " 5713: [],\n",
              " 3378: [],\n",
              " 4082: [],\n",
              " 4595: [],\n",
              " 4523: [],\n",
              " 2863: [],\n",
              " 77: [],\n",
              " 582: [],\n",
              " 2674: [],\n",
              " 3836: [],\n",
              " 7706: [],\n",
              " 375: [],\n",
              " 3178: [],\n",
              " 7320: [],\n",
              " 4010: [],\n",
              " 1848: [],\n",
              " 3588: [],\n",
              " 2531: [],\n",
              " 926: [],\n",
              " 2605: [],\n",
              " 1616: [],\n",
              " 5955: [],\n",
              " 1681: [],\n",
              " 6596: [],\n",
              " 2226: [],\n",
              " 5862: [],\n",
              " 2377: [],\n",
              " 5229: [],\n",
              " 7802: [],\n",
              " 7015: [],\n",
              " 3314: [],\n",
              " 4514: [],\n",
              " 4370: [],\n",
              " 3471: [],\n",
              " 7159: [],\n",
              " 6256: [],\n",
              " 1535: [],\n",
              " 2420: [],\n",
              " 7933: [],\n",
              " 7479: [],\n",
              " 6271: [],\n",
              " 2677: [],\n",
              " 1962: [],\n",
              " 4207: [],\n",
              " 5158: [],\n",
              " 5143: [],\n",
              " 7233: [],\n",
              " 24: [],\n",
              " 3752: [],\n",
              " 187: [],\n",
              " 131: [],\n",
              " 4540: [],\n",
              " 7533: [],\n",
              " 62: [],\n",
              " 4875: [],\n",
              " 703: [],\n",
              " 6439: [],\n",
              " 2195: [],\n",
              " 7264: [],\n",
              " 5081: [],\n",
              " 1945: [],\n",
              " 6009: [],\n",
              " 493: [],\n",
              " 2955: [],\n",
              " 2471: [],\n",
              " 234: [],\n",
              " 4176: [],\n",
              " 4568: [],\n",
              " 2070: [],\n",
              " 6571: [],\n",
              " 6211: [],\n",
              " 7654: [],\n",
              " 6341: [],\n",
              " 7091: [],\n",
              " 6802: [],\n",
              " 1737: [],\n",
              " 334: [],\n",
              " 3954: [],\n",
              " 2504: [],\n",
              " 6273: [],\n",
              " 4062: [],\n",
              " 5448: [],\n",
              " 1297: [],\n",
              " 6820: [],\n",
              " 5325: [],\n",
              " 2594: [],\n",
              " 3107: [],\n",
              " 7261: [],\n",
              " 4596: [],\n",
              " 6120: [],\n",
              " 214: [],\n",
              " 7608: [],\n",
              " 1214: [],\n",
              " 828: [],\n",
              " 1029: [],\n",
              " 3573: [],\n",
              " 6785: [],\n",
              " 5697: [],\n",
              " 2790: [],\n",
              " 2199: [],\n",
              " 7900: [],\n",
              " 1882: [],\n",
              " 200: [],\n",
              " 3347: [],\n",
              " 3804: [],\n",
              " 5124: [],\n",
              " 3085: [],\n",
              " 7062: [],\n",
              " 5410: [],\n",
              " 1756: [],\n",
              " 1883: [],\n",
              " 4011: [],\n",
              " 7057: [],\n",
              " 3532: [],\n",
              " 3937: [],\n",
              " 1704: [],\n",
              " 6650: [],\n",
              " 1086: [],\n",
              " 3121: [],\n",
              " 1526: [],\n",
              " 7931: [],\n",
              " 7022: [],\n",
              " 6660: [],\n",
              " 7586: [],\n",
              " 2910: [],\n",
              " 6440: [],\n",
              " 6134: [],\n",
              " 3606: [],\n",
              " 5217: [],\n",
              " 3441: [],\n",
              " 981: [],\n",
              " 6987: [],\n",
              " 2854: [],\n",
              " 4870: [],\n",
              " 3753: [],\n",
              " 667: [],\n",
              " 6308: [],\n",
              " 7102: [],\n",
              " 4843: [],\n",
              " 5045: [],\n",
              " 7544: [],\n",
              " 7157: [],\n",
              " 2507: [],\n",
              " 2656: [],\n",
              " 7559: [],\n",
              " 4753: [],\n",
              " 6907: [],\n",
              " 7016: [],\n",
              " 4770: [],\n",
              " 6221: [],\n",
              " 5422: [],\n",
              " 1042: [],\n",
              " 1298: [],\n",
              " 4159: [],\n",
              " 2585: [],\n",
              " 3207: [],\n",
              " 5737: [],\n",
              " 6295: [],\n",
              " 3613: [],\n",
              " 5923: [],\n",
              " 4122: [],\n",
              " 5653: [],\n",
              " 1547: [],\n",
              " 7019: [],\n",
              " 137: [],\n",
              " 6758: [],\n",
              " 22: [],\n",
              " 2735: [],\n",
              " 820: [],\n",
              " 7629: [],\n",
              " 6357: [],\n",
              " 5816: [],\n",
              " 5842: [],\n",
              " 5430: [],\n",
              " 3599: [],\n",
              " 1130: [],\n",
              " 1738: [],\n",
              " 5809: [],\n",
              " 1101: [],\n",
              " 7806: [],\n",
              " 7346: [],\n",
              " 947: [],\n",
              " 1747: [],\n",
              " 1640: [],\n",
              " 4551: [],\n",
              " 4498: [],\n",
              " 2973: [],\n",
              " 4099: [],\n",
              " 709: [],\n",
              " 3819: [],\n",
              " 4355: [],\n",
              " 3578: [],\n",
              " 3310: [],\n",
              " 4712: [],\n",
              " 6536: [],\n",
              " 4289: [],\n",
              " 2449: [],\n",
              " 7026: [],\n",
              " 5761: [],\n",
              " 1275: [],\n",
              " 4014: [],\n",
              " 3389: [],\n",
              " 5438: [],\n",
              " 6499: [],\n",
              " 2050: [],\n",
              " 4449: [],\n",
              " 5693: [],\n",
              " 7155: [],\n",
              " 6169: [],\n",
              " 2952: [],\n",
              " 105: [],\n",
              " 7438: [],\n",
              " 4338: [],\n",
              " 4083: [],\n",
              " 6995: [],\n",
              " 4: [],\n",
              " 1124: [],\n",
              " 6318: [],\n",
              " 7585: [],\n",
              " 4816: [],\n",
              " 4877: [],\n",
              " 6580: [],\n",
              " 3947: [],\n",
              " 1242: [],\n",
              " 2042: [],\n",
              " 393: [],\n",
              " 6998: [],\n",
              " 5311: [],\n",
              " 1930: [],\n",
              " 650: [],\n",
              " 3665: [],\n",
              " 2078: [],\n",
              " 5794: [],\n",
              " 49: [],\n",
              " 7357: [],\n",
              " 6441: [],\n",
              " 5091: [],\n",
              " 4657: [],\n",
              " 2343: [],\n",
              " 5906: [],\n",
              " 5319: [],\n",
              " 4606: [],\n",
              " 2394: [],\n",
              " 6236: [],\n",
              " 2841: [],\n",
              " 1252: [],\n",
              " 5812: [],\n",
              " 3921: [],\n",
              " 5920: [],\n",
              " 5338: [],\n",
              " 3434: [],\n",
              " 3066: [],\n",
              " 6828: [],\n",
              " 115: [],\n",
              " 1080: [],\n",
              " 1253: [],\n",
              " 7368: [],\n",
              " 6663: [],\n",
              " 6645: [],\n",
              " 920: [],\n",
              " 5343: [],\n",
              " 6386: [],\n",
              " 4857: [],\n",
              " 6560: [],\n",
              " 2725: [],\n",
              " 5266: [],\n",
              " 1071: [],\n",
              " 6242: [],\n",
              " 2849: [],\n",
              " 6886: [],\n",
              " 3420: [],\n",
              " 7840: [],\n",
              " 2595: [],\n",
              " 6538: [],\n",
              " 6062: [],\n",
              " 195: [],\n",
              " 87: [],\n",
              " 6455: [],\n",
              " 3985: [],\n",
              " 5733: [],\n",
              " 4647: [],\n",
              " 1157: [],\n",
              " 6592: [],\n",
              " 326: [],\n",
              " 7774: [],\n",
              " 4060: [],\n",
              " 1888: [],\n",
              " 1641: [],\n",
              " 937: [],\n",
              " 3199: [],\n",
              " 6424: [],\n",
              " 5496: [],\n",
              " 5586: [],\n",
              " 4046: [],\n",
              " 4516: [],\n",
              " 7285: [],\n",
              " 5433: [],\n",
              " 3775: [],\n",
              " 5423: [],\n",
              " 4864: [],\n",
              " 1354: [],\n",
              " 580: [],\n",
              " 4997: [],\n",
              " 3061: [],\n",
              " 3637: [],\n",
              " 2702: [],\n",
              " 1662: [],\n",
              " 7967: [],\n",
              " 7310: [],\n",
              " 7624: [],\n",
              " 6014: [],\n",
              " 4149: [],\n",
              " 6013: [],\n",
              " 3513: [],\n",
              " 4573: [],\n",
              " 211: [],\n",
              " 3288: [],\n",
              " 4128: [],\n",
              " 6006: [],\n",
              " 6915: [],\n",
              " 6563: [],\n",
              " 3915: [],\n",
              " 1768: [],\n",
              " 189: [],\n",
              " 4352: [],\n",
              " 2160: [],\n",
              " 6822: [],\n",
              " 2427: [],\n",
              " 4194: [],\n",
              " 4365: [],\n",
              " 3823: [],\n",
              " 5780: [],\n",
              " 4862: [],\n",
              " 3810: [],\n",
              " 2214: [],\n",
              " 5196: [],\n",
              " 6266: [],\n",
              " 4709: [],\n",
              " 3027: [],\n",
              " 1465: [],\n",
              " 144: [],\n",
              " 3825: [],\n",
              " 3631: [],\n",
              " 2351: [],\n",
              " 6842: [],\n",
              " 2212: [],\n",
              " 298: [],\n",
              " 3616: [],\n",
              " 7962: [],\n",
              " 4212: [],\n",
              " 2951: [],\n",
              " 2056: [],\n",
              " 523: [],\n",
              " 7178: [],\n",
              " 3239: [],\n",
              " 6192: [],\n",
              " 4925: [],\n",
              " 7798: [],\n",
              " 4802: [],\n",
              " 2038: [],\n",
              " 2982: [],\n",
              " 7012: [],\n",
              " 6058: [],\n",
              " 3190: [],\n",
              " 1248: [],\n",
              " 2664: [],\n",
              " 4993: [],\n",
              " 1169: [],\n",
              " 2748: [],\n",
              " 4048: [],\n",
              " 116: [],\n",
              " 6117: [],\n",
              " 2881: [],\n",
              " 5676: [],\n",
              " 1680: [],\n",
              " 7358: [],\n",
              " 6195: [],\n",
              " 5631: [],\n",
              " 1217: [],\n",
              " 3254: [],\n",
              " 2500: [],\n",
              " 7525: [],\n",
              " 6727: [],\n",
              " 5885: [],\n",
              " 3170: [],\n",
              " 4190: [],\n",
              " 3912: [],\n",
              " 2210: [],\n",
              " 5981: [],\n",
              " 7960: [],\n",
              " 6369: [],\n",
              " 6944: [],\n",
              " 769: [],\n",
              " 3902: [],\n",
              " 3738: [],\n",
              " 6957: [],\n",
              " 1434: [],\n",
              " 4675: [],\n",
              " 3676: [],\n",
              " 495: [],\n",
              " 3828: [],\n",
              " 982: [],\n",
              " 1669: [],\n",
              " 4115: [],\n",
              " 7417: [],\n",
              " 790: [],\n",
              " 2919: [],\n",
              " 1501: [],\n",
              " 4625: [],\n",
              " 2006: [],\n",
              " 4676: [],\n",
              " 6773: [],\n",
              " 4072: [],\n",
              " 2289: [],\n",
              " 2468: [],\n",
              " 5521: [],\n",
              " 7949: [],\n",
              " 1958: [],\n",
              " 2035: [],\n",
              " 4587: [],\n",
              " 1567: [],\n",
              " 7490: [],\n",
              " 3319: [],\n",
              " 1875: [],\n",
              " 6595: [],\n",
              " 7781: [],\n",
              " 7508: [],\n",
              " 7863: [],\n",
              " 7527: [],\n",
              " 4622: [],\n",
              " 1544: [],\n",
              " 5069: [],\n",
              " 5334: [],\n",
              " 6762: [],\n",
              " 3238: [],\n",
              " 6167: [],\n",
              " 598: [],\n",
              " 2538: [],\n",
              " 7095: [],\n",
              " 6179: [],\n",
              " 3559: [],\n",
              " 7064: [],\n",
              " 7342: [],\n",
              " 6233: [],\n",
              " 7418: [],\n",
              " 2502: [],\n",
              " 3547: [],\n",
              " 5387: [],\n",
              " 3139: [],\n",
              " 4494: [],\n",
              " 444: [],\n",
              " 2193: [],\n",
              " 1814: [],\n",
              " 2290: [],\n",
              " 4685: [],\n",
              " 4729: [],\n",
              " 4828: [],\n",
              " 6376: [],\n",
              " 1500: [],\n",
              " 2821: [],\n",
              " 1013: [],\n",
              " 2580: [],\n",
              " 7963: [],\n",
              " 2608: [],\n",
              " 4942: [],\n",
              " 84: [],\n",
              " 7077: [],\n",
              " 2286: [],\n",
              " 6257: [],\n",
              " 6418: [],\n",
              " 794: [],\n",
              " 3556: [],\n",
              " 822: [],\n",
              " 2643: [],\n",
              " 1518: [],\n",
              " 4442: [],\n",
              " 1653: [],\n",
              " 5460: [],\n",
              " 5804: [],\n",
              " 7784: [],\n",
              " 4114: [],\n",
              " 1106: [],\n",
              " 4648: [],\n",
              " 1305: [],\n",
              " 3246: [],\n",
              " 3551: [],\n",
              " 627: [],\n",
              " 5609: [],\n",
              " 1984: [],\n",
              " 4325: [],\n",
              " 383: [],\n",
              " 1346: [],\n",
              " 3251: [],\n",
              " 1884: [],\n",
              " 443: [],\n",
              " 3117: [],\n",
              " 5947: [],\n",
              " 3726: [],\n",
              " 1433: [],\n",
              " 7937: [],\n",
              " 6825: [],\n",
              " 5176: [],\n",
              " 2336: [],\n",
              " 5304: [],\n",
              " 5482: [],\n",
              " 2196: [],\n",
              " 2325: [],\n",
              " 2726: [],\n",
              " 2036: [],\n",
              " 4960: [],\n",
              " 7598: [],\n",
              " 3021: [],\n",
              " 7818: [],\n",
              " 704: [],\n",
              " 4903: [],\n",
              " 7303: [],\n",
              " 65: [],\n",
              " 2048: [],\n",
              " 3040: [],\n",
              " 7935: [],\n",
              " 7134: [],\n",
              " 5994: [],\n",
              " 5037: [],\n",
              " 2217: [],\n",
              " 1196: [],\n",
              " 186: [],\n",
              " 4436: [],\n",
              " 5111: [],\n",
              " 6636: [],\n",
              " 178: [],\n",
              " 2769: [],\n",
              " 5978: [],\n",
              " 3854: [],\n",
              " 1292: [],\n",
              " 4379: [],\n",
              " 6905: [],\n",
              " 2458: [],\n",
              " 4723: [],\n",
              " 3687: [],\n",
              " 5938: [],\n",
              " 322: [],\n",
              " 5585: [],\n",
              " 6653: [],\n",
              " 7128: [],\n",
              " 1238: [],\n",
              " 76: [],\n",
              " 3363: [],\n",
              " 1497: [],\n",
              " 3287: [],\n",
              " 6626: [],\n",
              " 2494: [],\n",
              " 5755: [],\n",
              " 5373: [],\n",
              " 2413: [],\n",
              " 5474: [],\n",
              " 5985: [],\n",
              " 2907: [],\n",
              " 6219: [],\n",
              " 4744: [],\n",
              " 5702: [],\n",
              " 927: [],\n",
              " 1294: [],\n",
              " 1123: [],\n",
              " 275: [],\n",
              " 6345: [],\n",
              " 3907: [],\n",
              " 7623: [],\n",
              " 5623: [],\n",
              " 3832: [],\n",
              " 5215: [],\n",
              " 222: [],\n",
              " 7181: [],\n",
              " 7393: [],\n",
              " 4799: [],\n",
              " 474: [],\n",
              " 4299: [],\n",
              " 3444: [],\n",
              " 1398: [],\n",
              " 668: [],\n",
              " 3602: [],\n",
              " 1519: [],\n",
              " 2934: [],\n",
              " 710: [],\n",
              " 6105: [],\n",
              " 6652: [],\n",
              " 7456: [],\n",
              " 3099: [],\n",
              " 1620: [],\n",
              " 5552: [],\n",
              " 5999: [],\n",
              " 2040: [],\n",
              " 3054: [],\n",
              " 2407: [],\n",
              " 6908: [],\n",
              " 6322: [],\n",
              " 6588: [],\n",
              " 992: [],\n",
              " 4444: [],\n",
              " 1027: [],\n",
              " 3706: [],\n",
              " 2237: [],\n",
              " 2456: [],\n",
              " 6668: [],\n",
              " 2759: [],\n",
              " 2170: [],\n",
              " 1348: [],\n",
              " ...}"
            ]
          },
          "metadata": {},
          "execution_count": 75
        }
      ]
    },
    {
      "cell_type": "code",
      "source": [
        "d.index[:4]"
      ],
      "metadata": {
        "colab": {
          "base_uri": "https://localhost:8080/"
        },
        "id": "_Qm8uX1fQbG2",
        "outputId": "35ee73a3-580c-473f-8b21-2e4771e9bab4"
      },
      "execution_count": null,
      "outputs": [
        {
          "output_type": "execute_result",
          "data": {
            "text/plain": [
              "Int64Index([1609, 1610, 1611, 1612], dtype='int64')"
            ]
          },
          "metadata": {},
          "execution_count": 116
        }
      ]
    },
    {
      "cell_type": "code",
      "source": [
        "df_test.loc[df.index, 'translations'] = translations"
      ],
      "metadata": {
        "id": "yb3lVhW9Kgj3"
      },
      "execution_count": null,
      "outputs": []
    },
    {
      "cell_type": "markdown",
      "metadata": {
        "id": "unf-_BvIEFid"
      },
      "source": [
        "### Convergent validation with manifesto data\n",
        "\n",
        "We get the manifesto data from [OSF](https://osf.io/bj27x/), specifically the replication materials of Ruedin and Morales ([2020](https://doi.org/10.1177/1354068817713122))."
      ]
    },
    {
      "cell_type": "markdown",
      "metadata": {
        "id": "GHs7qnkuEFid"
      },
      "source": [
        "I've already splitted the texts in relevant manifesto sections into sentences:"
      ]
    },
    {
      "cell_type": "code",
      "execution_count": null,
      "metadata": {
        "id": "E94NaOKGt6op"
      },
      "outputs": [],
      "source": [
        "fp = 'https://raw.githubusercontent.com/fabiennelind/Going-Cross-Lingual_Course/main/data/ruedin_and_morales_2019/ruedin_and_morales_2019_manifest_section_sentences.csv'\n",
        "df = pd.read_csv(fp)"
      ]
    },
    {
      "cell_type": "code",
      "execution_count": null,
      "metadata": {
        "id": "Hz5nFyB0CqD8",
        "outputId": "a120b8c1-e31c-4f96-80e2-c52aaecc4843"
      },
      "outputs": [
        {
          "ename": "NameError",
          "evalue": "name 'df' is not defined",
          "output_type": "error",
          "traceback": [
            "\u001b[0;31m---------------------------------------------------------------------------\u001b[0m",
            "\u001b[0;31mNameError\u001b[0m                                 Traceback (most recent call last)",
            "\u001b[1;32m/Users/hlicht/Dropbox/teaching/multilingual_text_analysis/github/notebooks/transformers_finetuning.ipynb Cell 163\u001b[0m line \u001b[0;36m2\n\u001b[1;32m      <a href='vscode-notebook-cell:/Users/hlicht/Dropbox/teaching/multilingual_text_analysis/github/notebooks/transformers_finetuning.ipynb#Y315sZmlsZQ%3D%3D?line=0'>1</a>\u001b[0m \u001b[39m# remove rows with missing text\u001b[39;00m\n\u001b[0;32m----> <a href='vscode-notebook-cell:/Users/hlicht/Dropbox/teaching/multilingual_text_analysis/github/notebooks/transformers_finetuning.ipynb#Y315sZmlsZQ%3D%3D?line=1'>2</a>\u001b[0m df \u001b[39m=\u001b[39m df[\u001b[39m~\u001b[39mdf\u001b[39m.\u001b[39mtext\u001b[39m.\u001b[39misna()]\n\u001b[1;32m      <a href='vscode-notebook-cell:/Users/hlicht/Dropbox/teaching/multilingual_text_analysis/github/notebooks/transformers_finetuning.ipynb#Y315sZmlsZQ%3D%3D?line=2'>3</a>\u001b[0m df \u001b[39m=\u001b[39m df[df\u001b[39m.\u001b[39mtext\u001b[39m.\u001b[39mapply(\u001b[39mlen\u001b[39m) \u001b[39m>\u001b[39m \u001b[39m0\u001b[39m]\n",
            "\u001b[0;31mNameError\u001b[0m: name 'df' is not defined"
          ]
        }
      ],
      "source": [
        "# remove rows with missing text\n",
        "df = df[~df.text.isna()]\n",
        "df = df[df.text.apply(len) > 0]"
      ]
    },
    {
      "cell_type": "code",
      "execution_count": null,
      "metadata": {
        "id": "ssXF_F7VQVUt"
      },
      "outputs": [],
      "source": [
        "# I have also mapped party names to CHES party IDs\n",
        "fp = 'https://raw.githubusercontent.com/fabiennelind/Going-Cross-Lingual_Course/main/data/ruedin_and_morales_2019/party_codes.tsv'\n",
        "parties = pd.read_csv(fp, sep='\\t')"
      ]
    },
    {
      "cell_type": "code",
      "execution_count": null,
      "metadata": {
        "id": "9ciMBntxRshC"
      },
      "outputs": [],
      "source": [
        "parties = parties[~parties.ches.isna()]\n",
        "parties['ches'] = parties.ches.astype(int)"
      ]
    },
    {
      "cell_type": "code",
      "execution_count": null,
      "metadata": {
        "id": "IKtimtEsR8Ew"
      },
      "outputs": [],
      "source": [
        "# just keep cases with matching party ID\n",
        "df = pd.merge(df, parties, on=['country', 'party'], how='inner')"
      ]
    },
    {
      "cell_type": "code",
      "execution_count": null,
      "metadata": {
        "colab": {
          "base_uri": "https://localhost:8080/"
        },
        "id": "fxRdBgF1SXeM",
        "outputId": "ac2c2813-13ba-440f-b51d-b03550f20c39"
      },
      "outputs": [
        {
          "data": {
            "text/plain": [
              "0"
            ]
          },
          "execution_count": 191,
          "metadata": {},
          "output_type": "execute_result"
        }
      ],
      "source": [
        "df.ches.isna().sum()"
      ]
    },
    {
      "cell_type": "markdown",
      "metadata": {
        "id": "bx8dBAHZEFie"
      },
      "source": [
        "### Machine-label the sentences"
      ]
    },
    {
      "cell_type": "markdown",
      "metadata": {
        "id": "xJvAHyzdEFie"
      },
      "source": [
        "We just take the stance classifier we have trained above and apply it to the sentences in the manifesto data:"
      ]
    },
    {
      "cell_type": "code",
      "execution_count": null,
      "metadata": {
        "id": "aSkprAZzDKCz"
      },
      "outputs": [],
      "source": [
        "stance_classifier = pipeline(\n",
        "    task=\"text-classification\",\n",
        "    model=model_path, # <== load the model we saved to disk\n",
        "    device=device,\n",
        "    batch_size=8\n",
        "  )"
      ]
    },
    {
      "cell_type": "code",
      "execution_count": null,
      "metadata": {
        "colab": {
          "base_uri": "https://localhost:8080/",
          "height": 49,
          "referenced_widgets": [
            "acd7633332f641899345ca835155cc37",
            "84dbfe9d502d446d935055d8943a881c",
            "734c26eea7af42b48744de8d5a7d085c",
            "ac63824347ec43a1a0c3094939e41b48",
            "4f05699ce81f4a7ca88d53e3d69c2ff1",
            "076364dfc27d4b948633824475703ab4",
            "3190cf98fe3b4a718e00d75eadba032a",
            "d6e5143bb81a45a3ab1643babb38cc2a",
            "ad2b6bda1c204da3bea178cef37e8f7b",
            "7ab3166ae0ce4c2bb8f9bd251a55af1a",
            "3b6ad94a5066409298c39fe441542b4f"
          ]
        },
        "id": "0jQlhD31SvXd",
        "outputId": "2f47f1f3-c0bc-403c-f546-8fcb5f871bb0"
      },
      "outputs": [
        {
          "data": {
            "application/vnd.jupyter.widget-view+json": {
              "model_id": "acd7633332f641899345ca835155cc37",
              "version_major": 2,
              "version_minor": 0
            },
            "text/plain": [
              "  0%|          | 0/18780 [00:00<?, ?it/s]"
            ]
          },
          "metadata": {},
          "output_type": "display_data"
        }
      ],
      "source": [
        "from tqdm.auto import tqdm\n",
        "from transformers.pipelines.pt_utils import KeyDataset\n",
        "# this code is complicated but faster (see https://stackoverflow.com/a/77442622)\n",
        "kd = KeyDataset(Dataset.from_pandas(df[['text']]), 'text')\n",
        "preds = []\n",
        "for p in tqdm(stance_classifier(kd), total=len(dat)):\n",
        "  preds.append(p)"
      ]
    },
    {
      "cell_type": "code",
      "execution_count": null,
      "metadata": {
        "id": "-2xKYaVcVZwY"
      },
      "outputs": [],
      "source": [
        "df['label'] = [p['label'] for p in preds]\n",
        "df['confidence'] = [p['score'] for p in preds]"
      ]
    },
    {
      "cell_type": "code",
      "execution_count": null,
      "metadata": {
        "colab": {
          "base_uri": "https://localhost:8080/",
          "height": 423
        },
        "id": "dLFoeD5bHgrx",
        "outputId": "3446f048-e5f4-4487-9b61-b2f24d25e77a"
      },
      "outputs": [
        {
          "data": {
            "text/html": [
              "\n",
              "  <div id=\"df-f1a3372e-77f4-4830-8ee1-ef59302e0ac3\" class=\"colab-df-container\">\n",
              "    <div>\n",
              "<style scoped>\n",
              "    .dataframe tbody tr th:only-of-type {\n",
              "        vertical-align: middle;\n",
              "    }\n",
              "\n",
              "    .dataframe tbody tr th {\n",
              "        vertical-align: top;\n",
              "    }\n",
              "\n",
              "    .dataframe thead th {\n",
              "        text-align: right;\n",
              "    }\n",
              "</style>\n",
              "<table border=\"1\" class=\"dataframe\">\n",
              "  <thead>\n",
              "    <tr style=\"text-align: right;\">\n",
              "      <th></th>\n",
              "      <th>country</th>\n",
              "      <th>year</th>\n",
              "      <th>party</th>\n",
              "      <th>language</th>\n",
              "      <th>count</th>\n",
              "    </tr>\n",
              "  </thead>\n",
              "  <tbody>\n",
              "    <tr>\n",
              "      <th>0</th>\n",
              "      <td>at</td>\n",
              "      <td>1994</td>\n",
              "      <td>fpö</td>\n",
              "      <td>de</td>\n",
              "      <td>45</td>\n",
              "    </tr>\n",
              "    <tr>\n",
              "      <th>1</th>\n",
              "      <td>at</td>\n",
              "      <td>1994</td>\n",
              "      <td>green</td>\n",
              "      <td>de</td>\n",
              "      <td>35</td>\n",
              "    </tr>\n",
              "    <tr>\n",
              "      <th>2</th>\n",
              "      <td>at</td>\n",
              "      <td>1994</td>\n",
              "      <td>lif</td>\n",
              "      <td>de</td>\n",
              "      <td>10</td>\n",
              "    </tr>\n",
              "    <tr>\n",
              "      <th>3</th>\n",
              "      <td>at</td>\n",
              "      <td>1994</td>\n",
              "      <td>övp</td>\n",
              "      <td>de</td>\n",
              "      <td>49</td>\n",
              "    </tr>\n",
              "    <tr>\n",
              "      <th>4</th>\n",
              "      <td>at</td>\n",
              "      <td>1994</td>\n",
              "      <td>spö</td>\n",
              "      <td>de</td>\n",
              "      <td>17</td>\n",
              "    </tr>\n",
              "    <tr>\n",
              "      <th>...</th>\n",
              "      <td>...</td>\n",
              "      <td>...</td>\n",
              "      <td>...</td>\n",
              "      <td>...</td>\n",
              "      <td>...</td>\n",
              "    </tr>\n",
              "    <tr>\n",
              "      <th>269</th>\n",
              "      <td>uk</td>\n",
              "      <td>2019</td>\n",
              "      <td>green</td>\n",
              "      <td>en</td>\n",
              "      <td>40</td>\n",
              "    </tr>\n",
              "    <tr>\n",
              "      <th>270</th>\n",
              "      <td>uk</td>\n",
              "      <td>2019</td>\n",
              "      <td>lab</td>\n",
              "      <td>en</td>\n",
              "      <td>48</td>\n",
              "    </tr>\n",
              "    <tr>\n",
              "      <th>271</th>\n",
              "      <td>uk</td>\n",
              "      <td>2019</td>\n",
              "      <td>libdem</td>\n",
              "      <td>en</td>\n",
              "      <td>67</td>\n",
              "    </tr>\n",
              "    <tr>\n",
              "      <th>272</th>\n",
              "      <td>uk</td>\n",
              "      <td>2019</td>\n",
              "      <td>plaid</td>\n",
              "      <td>en</td>\n",
              "      <td>33</td>\n",
              "    </tr>\n",
              "    <tr>\n",
              "      <th>273</th>\n",
              "      <td>uk</td>\n",
              "      <td>2019</td>\n",
              "      <td>ukip</td>\n",
              "      <td>en</td>\n",
              "      <td>21</td>\n",
              "    </tr>\n",
              "  </tbody>\n",
              "</table>\n",
              "<p>274 rows × 5 columns</p>\n",
              "</div>\n",
              "    <div class=\"colab-df-buttons\">\n",
              "\n",
              "  <div class=\"colab-df-container\">\n",
              "    <button class=\"colab-df-convert\" onclick=\"convertToInteractive('df-f1a3372e-77f4-4830-8ee1-ef59302e0ac3')\"\n",
              "            title=\"Convert this dataframe to an interactive table.\"\n",
              "            style=\"display:none;\">\n",
              "\n",
              "  <svg xmlns=\"http://www.w3.org/2000/svg\" height=\"24px\" viewBox=\"0 -960 960 960\">\n",
              "    <path d=\"M120-120v-720h720v720H120Zm60-500h600v-160H180v160Zm220 220h160v-160H400v160Zm0 220h160v-160H400v160ZM180-400h160v-160H180v160Zm440 0h160v-160H620v160ZM180-180h160v-160H180v160Zm440 0h160v-160H620v160Z\"/>\n",
              "  </svg>\n",
              "    </button>\n",
              "\n",
              "  <style>\n",
              "    .colab-df-container {\n",
              "      display:flex;\n",
              "      gap: 12px;\n",
              "    }\n",
              "\n",
              "    .colab-df-convert {\n",
              "      background-color: #E8F0FE;\n",
              "      border: none;\n",
              "      border-radius: 50%;\n",
              "      cursor: pointer;\n",
              "      display: none;\n",
              "      fill: #1967D2;\n",
              "      height: 32px;\n",
              "      padding: 0 0 0 0;\n",
              "      width: 32px;\n",
              "    }\n",
              "\n",
              "    .colab-df-convert:hover {\n",
              "      background-color: #E2EBFA;\n",
              "      box-shadow: 0px 1px 2px rgba(60, 64, 67, 0.3), 0px 1px 3px 1px rgba(60, 64, 67, 0.15);\n",
              "      fill: #174EA6;\n",
              "    }\n",
              "\n",
              "    .colab-df-buttons div {\n",
              "      margin-bottom: 4px;\n",
              "    }\n",
              "\n",
              "    [theme=dark] .colab-df-convert {\n",
              "      background-color: #3B4455;\n",
              "      fill: #D2E3FC;\n",
              "    }\n",
              "\n",
              "    [theme=dark] .colab-df-convert:hover {\n",
              "      background-color: #434B5C;\n",
              "      box-shadow: 0px 1px 3px 1px rgba(0, 0, 0, 0.15);\n",
              "      filter: drop-shadow(0px 1px 2px rgba(0, 0, 0, 0.3));\n",
              "      fill: #FFFFFF;\n",
              "    }\n",
              "  </style>\n",
              "\n",
              "    <script>\n",
              "      const buttonEl =\n",
              "        document.querySelector('#df-f1a3372e-77f4-4830-8ee1-ef59302e0ac3 button.colab-df-convert');\n",
              "      buttonEl.style.display =\n",
              "        google.colab.kernel.accessAllowed ? 'block' : 'none';\n",
              "\n",
              "      async function convertToInteractive(key) {\n",
              "        const element = document.querySelector('#df-f1a3372e-77f4-4830-8ee1-ef59302e0ac3');\n",
              "        const dataTable =\n",
              "          await google.colab.kernel.invokeFunction('convertToInteractive',\n",
              "                                                    [key], {});\n",
              "        if (!dataTable) return;\n",
              "\n",
              "        const docLinkHtml = 'Like what you see? Visit the ' +\n",
              "          '<a target=\"_blank\" href=https://colab.research.google.com/notebooks/data_table.ipynb>data table notebook</a>'\n",
              "          + ' to learn more about interactive tables.';\n",
              "        element.innerHTML = '';\n",
              "        dataTable['output_type'] = 'display_data';\n",
              "        await google.colab.output.renderOutput(dataTable, element);\n",
              "        const docLink = document.createElement('div');\n",
              "        docLink.innerHTML = docLinkHtml;\n",
              "        element.appendChild(docLink);\n",
              "      }\n",
              "    </script>\n",
              "  </div>\n",
              "\n",
              "\n",
              "<div id=\"df-a96384de-7c64-4818-a468-e12159c88cf7\">\n",
              "  <button class=\"colab-df-quickchart\" onclick=\"quickchart('df-a96384de-7c64-4818-a468-e12159c88cf7')\"\n",
              "            title=\"Suggest charts\"\n",
              "            style=\"display:none;\">\n",
              "\n",
              "<svg xmlns=\"http://www.w3.org/2000/svg\" height=\"24px\"viewBox=\"0 0 24 24\"\n",
              "     width=\"24px\">\n",
              "    <g>\n",
              "        <path d=\"M19 3H5c-1.1 0-2 .9-2 2v14c0 1.1.9 2 2 2h14c1.1 0 2-.9 2-2V5c0-1.1-.9-2-2-2zM9 17H7v-7h2v7zm4 0h-2V7h2v10zm4 0h-2v-4h2v4z\"/>\n",
              "    </g>\n",
              "</svg>\n",
              "  </button>\n",
              "\n",
              "<style>\n",
              "  .colab-df-quickchart {\n",
              "      --bg-color: #E8F0FE;\n",
              "      --fill-color: #1967D2;\n",
              "      --hover-bg-color: #E2EBFA;\n",
              "      --hover-fill-color: #174EA6;\n",
              "      --disabled-fill-color: #AAA;\n",
              "      --disabled-bg-color: #DDD;\n",
              "  }\n",
              "\n",
              "  [theme=dark] .colab-df-quickchart {\n",
              "      --bg-color: #3B4455;\n",
              "      --fill-color: #D2E3FC;\n",
              "      --hover-bg-color: #434B5C;\n",
              "      --hover-fill-color: #FFFFFF;\n",
              "      --disabled-bg-color: #3B4455;\n",
              "      --disabled-fill-color: #666;\n",
              "  }\n",
              "\n",
              "  .colab-df-quickchart {\n",
              "    background-color: var(--bg-color);\n",
              "    border: none;\n",
              "    border-radius: 50%;\n",
              "    cursor: pointer;\n",
              "    display: none;\n",
              "    fill: var(--fill-color);\n",
              "    height: 32px;\n",
              "    padding: 0;\n",
              "    width: 32px;\n",
              "  }\n",
              "\n",
              "  .colab-df-quickchart:hover {\n",
              "    background-color: var(--hover-bg-color);\n",
              "    box-shadow: 0 1px 2px rgba(60, 64, 67, 0.3), 0 1px 3px 1px rgba(60, 64, 67, 0.15);\n",
              "    fill: var(--button-hover-fill-color);\n",
              "  }\n",
              "\n",
              "  .colab-df-quickchart-complete:disabled,\n",
              "  .colab-df-quickchart-complete:disabled:hover {\n",
              "    background-color: var(--disabled-bg-color);\n",
              "    fill: var(--disabled-fill-color);\n",
              "    box-shadow: none;\n",
              "  }\n",
              "\n",
              "  .colab-df-spinner {\n",
              "    border: 2px solid var(--fill-color);\n",
              "    border-color: transparent;\n",
              "    border-bottom-color: var(--fill-color);\n",
              "    animation:\n",
              "      spin 1s steps(1) infinite;\n",
              "  }\n",
              "\n",
              "  @keyframes spin {\n",
              "    0% {\n",
              "      border-color: transparent;\n",
              "      border-bottom-color: var(--fill-color);\n",
              "      border-left-color: var(--fill-color);\n",
              "    }\n",
              "    20% {\n",
              "      border-color: transparent;\n",
              "      border-left-color: var(--fill-color);\n",
              "      border-top-color: var(--fill-color);\n",
              "    }\n",
              "    30% {\n",
              "      border-color: transparent;\n",
              "      border-left-color: var(--fill-color);\n",
              "      border-top-color: var(--fill-color);\n",
              "      border-right-color: var(--fill-color);\n",
              "    }\n",
              "    40% {\n",
              "      border-color: transparent;\n",
              "      border-right-color: var(--fill-color);\n",
              "      border-top-color: var(--fill-color);\n",
              "    }\n",
              "    60% {\n",
              "      border-color: transparent;\n",
              "      border-right-color: var(--fill-color);\n",
              "    }\n",
              "    80% {\n",
              "      border-color: transparent;\n",
              "      border-right-color: var(--fill-color);\n",
              "      border-bottom-color: var(--fill-color);\n",
              "    }\n",
              "    90% {\n",
              "      border-color: transparent;\n",
              "      border-bottom-color: var(--fill-color);\n",
              "    }\n",
              "  }\n",
              "</style>\n",
              "\n",
              "  <script>\n",
              "    async function quickchart(key) {\n",
              "      const quickchartButtonEl =\n",
              "        document.querySelector('#' + key + ' button');\n",
              "      quickchartButtonEl.disabled = true;  // To prevent multiple clicks.\n",
              "      quickchartButtonEl.classList.add('colab-df-spinner');\n",
              "      try {\n",
              "        const charts = await google.colab.kernel.invokeFunction(\n",
              "            'suggestCharts', [key], {});\n",
              "      } catch (error) {\n",
              "        console.error('Error during call to suggestCharts:', error);\n",
              "      }\n",
              "      quickchartButtonEl.classList.remove('colab-df-spinner');\n",
              "      quickchartButtonEl.classList.add('colab-df-quickchart-complete');\n",
              "    }\n",
              "    (() => {\n",
              "      let quickchartButtonEl =\n",
              "        document.querySelector('#df-a96384de-7c64-4818-a468-e12159c88cf7 button');\n",
              "      quickchartButtonEl.style.display =\n",
              "        google.colab.kernel.accessAllowed ? 'block' : 'none';\n",
              "    })();\n",
              "  </script>\n",
              "</div>\n",
              "    </div>\n",
              "  </div>\n"
            ],
            "text/plain": [
              "    country  year   party language  count\n",
              "0        at  1994    fpö       de     45\n",
              "1        at  1994   green       de     35\n",
              "2        at  1994     lif       de     10\n",
              "3        at  1994    övp       de     49\n",
              "4        at  1994    spö       de     17\n",
              "..      ...   ...     ...      ...    ...\n",
              "269      uk  2019   green       en     40\n",
              "270      uk  2019     lab       en     48\n",
              "271      uk  2019  libdem       en     67\n",
              "272      uk  2019   plaid       en     33\n",
              "273      uk  2019    ukip       en     21\n",
              "\n",
              "[274 rows x 5 columns]"
            ]
          },
          "execution_count": 217,
          "metadata": {},
          "output_type": "execute_result"
        }
      ],
      "source": [
        "grps = ['country', 'year', 'party', 'language']\n",
        "df.groupby(grps).apply(lambda x: (x['label'] == 'supportive').sum()).reset_index(name='count')"
      ]
    },
    {
      "cell_type": "markdown",
      "metadata": {
        "id": "AX5jPoWGEFie"
      },
      "source": [
        "### Computing manifesto-section level measurements"
      ]
    },
    {
      "cell_type": "code",
      "execution_count": null,
      "metadata": {
        "id": "-T9CkTQeWrh-"
      },
      "outputs": [],
      "source": [
        "grps = ['country', 'ches']\n",
        "out = df.groupby(grps).agg(\n",
        "    n_supportive=('label', lambda x: (x == 'supportive').sum()),\n",
        "    n_sceptical=('label', lambda x: (x == 'sceptical').sum())\n",
        ").reset_index()\n",
        "\n",
        "# formula from Proksch et al. (2019): https://onlinelibrary.wiley.com/doi/10.1111/lsq.12218\n",
        "out['position'] = np.log((out['n_supportive'] + 0.5) / (out['n_sceptical'] + 0.5))"
      ]
    },
    {
      "cell_type": "code",
      "execution_count": null,
      "metadata": {
        "colab": {
          "base_uri": "https://localhost:8080/",
          "height": 394
        },
        "id": "tRvhcTJDW5bD",
        "outputId": "f10decba-a8ad-4275-94d0-cb016acf5653"
      },
      "outputs": [
        {
          "data": {
            "text/html": [
              "\n",
              "  <div id=\"df-bbb86f5b-947c-4da7-a891-fb1306c75846\" class=\"colab-df-container\">\n",
              "    <div>\n",
              "<style scoped>\n",
              "    .dataframe tbody tr th:only-of-type {\n",
              "        vertical-align: middle;\n",
              "    }\n",
              "\n",
              "    .dataframe tbody tr th {\n",
              "        vertical-align: top;\n",
              "    }\n",
              "\n",
              "    .dataframe thead th {\n",
              "        text-align: right;\n",
              "    }\n",
              "</style>\n",
              "<table border=\"1\" class=\"dataframe\">\n",
              "  <thead>\n",
              "    <tr style=\"text-align: right;\">\n",
              "      <th></th>\n",
              "      <th>country</th>\n",
              "      <th>ches</th>\n",
              "      <th>n_supportive</th>\n",
              "      <th>n_sceptical</th>\n",
              "      <th>position</th>\n",
              "    </tr>\n",
              "  </thead>\n",
              "  <tbody>\n",
              "    <tr>\n",
              "      <th>58</th>\n",
              "      <td>uk</td>\n",
              "      <td>1109</td>\n",
              "      <td>425</td>\n",
              "      <td>330</td>\n",
              "      <td>0.252658</td>\n",
              "    </tr>\n",
              "    <tr>\n",
              "      <th>57</th>\n",
              "      <td>uk</td>\n",
              "      <td>1108</td>\n",
              "      <td>307</td>\n",
              "      <td>222</td>\n",
              "      <td>0.323548</td>\n",
              "    </tr>\n",
              "    <tr>\n",
              "      <th>61</th>\n",
              "      <td>uk</td>\n",
              "      <td>1151</td>\n",
              "      <td>4</td>\n",
              "      <td>2</td>\n",
              "      <td>0.587787</td>\n",
              "    </tr>\n",
              "    <tr>\n",
              "      <th>59</th>\n",
              "      <td>uk</td>\n",
              "      <td>1110</td>\n",
              "      <td>3</td>\n",
              "      <td>1</td>\n",
              "      <td>0.847298</td>\n",
              "    </tr>\n",
              "    <tr>\n",
              "      <th>51</th>\n",
              "      <td>uk</td>\n",
              "      <td>1101</td>\n",
              "      <td>268</td>\n",
              "      <td>105</td>\n",
              "      <td>0.934140</td>\n",
              "    </tr>\n",
              "    <tr>\n",
              "      <th>52</th>\n",
              "      <td>uk</td>\n",
              "      <td>1102</td>\n",
              "      <td>249</td>\n",
              "      <td>88</td>\n",
              "      <td>1.036456</td>\n",
              "    </tr>\n",
              "    <tr>\n",
              "      <th>54</th>\n",
              "      <td>uk</td>\n",
              "      <td>1105</td>\n",
              "      <td>45</td>\n",
              "      <td>10</td>\n",
              "      <td>1.466337</td>\n",
              "    </tr>\n",
              "    <tr>\n",
              "      <th>53</th>\n",
              "      <td>uk</td>\n",
              "      <td>1104</td>\n",
              "      <td>162</td>\n",
              "      <td>30</td>\n",
              "      <td>1.672951</td>\n",
              "    </tr>\n",
              "    <tr>\n",
              "      <th>56</th>\n",
              "      <td>uk</td>\n",
              "      <td>1107</td>\n",
              "      <td>95</td>\n",
              "      <td>12</td>\n",
              "      <td>2.033398</td>\n",
              "    </tr>\n",
              "    <tr>\n",
              "      <th>55</th>\n",
              "      <td>uk</td>\n",
              "      <td>1106</td>\n",
              "      <td>65</td>\n",
              "      <td>6</td>\n",
              "      <td>2.310248</td>\n",
              "    </tr>\n",
              "    <tr>\n",
              "      <th>60</th>\n",
              "      <td>uk</td>\n",
              "      <td>1150</td>\n",
              "      <td>5</td>\n",
              "      <td>0</td>\n",
              "      <td>2.397895</td>\n",
              "    </tr>\n",
              "  </tbody>\n",
              "</table>\n",
              "</div>\n",
              "    <div class=\"colab-df-buttons\">\n",
              "\n",
              "  <div class=\"colab-df-container\">\n",
              "    <button class=\"colab-df-convert\" onclick=\"convertToInteractive('df-bbb86f5b-947c-4da7-a891-fb1306c75846')\"\n",
              "            title=\"Convert this dataframe to an interactive table.\"\n",
              "            style=\"display:none;\">\n",
              "\n",
              "  <svg xmlns=\"http://www.w3.org/2000/svg\" height=\"24px\" viewBox=\"0 -960 960 960\">\n",
              "    <path d=\"M120-120v-720h720v720H120Zm60-500h600v-160H180v160Zm220 220h160v-160H400v160Zm0 220h160v-160H400v160ZM180-400h160v-160H180v160Zm440 0h160v-160H620v160ZM180-180h160v-160H180v160Zm440 0h160v-160H620v160Z\"/>\n",
              "  </svg>\n",
              "    </button>\n",
              "\n",
              "  <style>\n",
              "    .colab-df-container {\n",
              "      display:flex;\n",
              "      gap: 12px;\n",
              "    }\n",
              "\n",
              "    .colab-df-convert {\n",
              "      background-color: #E8F0FE;\n",
              "      border: none;\n",
              "      border-radius: 50%;\n",
              "      cursor: pointer;\n",
              "      display: none;\n",
              "      fill: #1967D2;\n",
              "      height: 32px;\n",
              "      padding: 0 0 0 0;\n",
              "      width: 32px;\n",
              "    }\n",
              "\n",
              "    .colab-df-convert:hover {\n",
              "      background-color: #E2EBFA;\n",
              "      box-shadow: 0px 1px 2px rgba(60, 64, 67, 0.3), 0px 1px 3px 1px rgba(60, 64, 67, 0.15);\n",
              "      fill: #174EA6;\n",
              "    }\n",
              "\n",
              "    .colab-df-buttons div {\n",
              "      margin-bottom: 4px;\n",
              "    }\n",
              "\n",
              "    [theme=dark] .colab-df-convert {\n",
              "      background-color: #3B4455;\n",
              "      fill: #D2E3FC;\n",
              "    }\n",
              "\n",
              "    [theme=dark] .colab-df-convert:hover {\n",
              "      background-color: #434B5C;\n",
              "      box-shadow: 0px 1px 3px 1px rgba(0, 0, 0, 0.15);\n",
              "      filter: drop-shadow(0px 1px 2px rgba(0, 0, 0, 0.3));\n",
              "      fill: #FFFFFF;\n",
              "    }\n",
              "  </style>\n",
              "\n",
              "    <script>\n",
              "      const buttonEl =\n",
              "        document.querySelector('#df-bbb86f5b-947c-4da7-a891-fb1306c75846 button.colab-df-convert');\n",
              "      buttonEl.style.display =\n",
              "        google.colab.kernel.accessAllowed ? 'block' : 'none';\n",
              "\n",
              "      async function convertToInteractive(key) {\n",
              "        const element = document.querySelector('#df-bbb86f5b-947c-4da7-a891-fb1306c75846');\n",
              "        const dataTable =\n",
              "          await google.colab.kernel.invokeFunction('convertToInteractive',\n",
              "                                                    [key], {});\n",
              "        if (!dataTable) return;\n",
              "\n",
              "        const docLinkHtml = 'Like what you see? Visit the ' +\n",
              "          '<a target=\"_blank\" href=https://colab.research.google.com/notebooks/data_table.ipynb>data table notebook</a>'\n",
              "          + ' to learn more about interactive tables.';\n",
              "        element.innerHTML = '';\n",
              "        dataTable['output_type'] = 'display_data';\n",
              "        await google.colab.output.renderOutput(dataTable, element);\n",
              "        const docLink = document.createElement('div');\n",
              "        docLink.innerHTML = docLinkHtml;\n",
              "        element.appendChild(docLink);\n",
              "      }\n",
              "    </script>\n",
              "  </div>\n",
              "\n",
              "\n",
              "<div id=\"df-bd265bea-22c3-4324-839a-ce7bb1a24b84\">\n",
              "  <button class=\"colab-df-quickchart\" onclick=\"quickchart('df-bd265bea-22c3-4324-839a-ce7bb1a24b84')\"\n",
              "            title=\"Suggest charts\"\n",
              "            style=\"display:none;\">\n",
              "\n",
              "<svg xmlns=\"http://www.w3.org/2000/svg\" height=\"24px\"viewBox=\"0 0 24 24\"\n",
              "     width=\"24px\">\n",
              "    <g>\n",
              "        <path d=\"M19 3H5c-1.1 0-2 .9-2 2v14c0 1.1.9 2 2 2h14c1.1 0 2-.9 2-2V5c0-1.1-.9-2-2-2zM9 17H7v-7h2v7zm4 0h-2V7h2v10zm4 0h-2v-4h2v4z\"/>\n",
              "    </g>\n",
              "</svg>\n",
              "  </button>\n",
              "\n",
              "<style>\n",
              "  .colab-df-quickchart {\n",
              "      --bg-color: #E8F0FE;\n",
              "      --fill-color: #1967D2;\n",
              "      --hover-bg-color: #E2EBFA;\n",
              "      --hover-fill-color: #174EA6;\n",
              "      --disabled-fill-color: #AAA;\n",
              "      --disabled-bg-color: #DDD;\n",
              "  }\n",
              "\n",
              "  [theme=dark] .colab-df-quickchart {\n",
              "      --bg-color: #3B4455;\n",
              "      --fill-color: #D2E3FC;\n",
              "      --hover-bg-color: #434B5C;\n",
              "      --hover-fill-color: #FFFFFF;\n",
              "      --disabled-bg-color: #3B4455;\n",
              "      --disabled-fill-color: #666;\n",
              "  }\n",
              "\n",
              "  .colab-df-quickchart {\n",
              "    background-color: var(--bg-color);\n",
              "    border: none;\n",
              "    border-radius: 50%;\n",
              "    cursor: pointer;\n",
              "    display: none;\n",
              "    fill: var(--fill-color);\n",
              "    height: 32px;\n",
              "    padding: 0;\n",
              "    width: 32px;\n",
              "  }\n",
              "\n",
              "  .colab-df-quickchart:hover {\n",
              "    background-color: var(--hover-bg-color);\n",
              "    box-shadow: 0 1px 2px rgba(60, 64, 67, 0.3), 0 1px 3px 1px rgba(60, 64, 67, 0.15);\n",
              "    fill: var(--button-hover-fill-color);\n",
              "  }\n",
              "\n",
              "  .colab-df-quickchart-complete:disabled,\n",
              "  .colab-df-quickchart-complete:disabled:hover {\n",
              "    background-color: var(--disabled-bg-color);\n",
              "    fill: var(--disabled-fill-color);\n",
              "    box-shadow: none;\n",
              "  }\n",
              "\n",
              "  .colab-df-spinner {\n",
              "    border: 2px solid var(--fill-color);\n",
              "    border-color: transparent;\n",
              "    border-bottom-color: var(--fill-color);\n",
              "    animation:\n",
              "      spin 1s steps(1) infinite;\n",
              "  }\n",
              "\n",
              "  @keyframes spin {\n",
              "    0% {\n",
              "      border-color: transparent;\n",
              "      border-bottom-color: var(--fill-color);\n",
              "      border-left-color: var(--fill-color);\n",
              "    }\n",
              "    20% {\n",
              "      border-color: transparent;\n",
              "      border-left-color: var(--fill-color);\n",
              "      border-top-color: var(--fill-color);\n",
              "    }\n",
              "    30% {\n",
              "      border-color: transparent;\n",
              "      border-left-color: var(--fill-color);\n",
              "      border-top-color: var(--fill-color);\n",
              "      border-right-color: var(--fill-color);\n",
              "    }\n",
              "    40% {\n",
              "      border-color: transparent;\n",
              "      border-right-color: var(--fill-color);\n",
              "      border-top-color: var(--fill-color);\n",
              "    }\n",
              "    60% {\n",
              "      border-color: transparent;\n",
              "      border-right-color: var(--fill-color);\n",
              "    }\n",
              "    80% {\n",
              "      border-color: transparent;\n",
              "      border-right-color: var(--fill-color);\n",
              "      border-bottom-color: var(--fill-color);\n",
              "    }\n",
              "    90% {\n",
              "      border-color: transparent;\n",
              "      border-bottom-color: var(--fill-color);\n",
              "    }\n",
              "  }\n",
              "</style>\n",
              "\n",
              "  <script>\n",
              "    async function quickchart(key) {\n",
              "      const quickchartButtonEl =\n",
              "        document.querySelector('#' + key + ' button');\n",
              "      quickchartButtonEl.disabled = true;  // To prevent multiple clicks.\n",
              "      quickchartButtonEl.classList.add('colab-df-spinner');\n",
              "      try {\n",
              "        const charts = await google.colab.kernel.invokeFunction(\n",
              "            'suggestCharts', [key], {});\n",
              "      } catch (error) {\n",
              "        console.error('Error during call to suggestCharts:', error);\n",
              "      }\n",
              "      quickchartButtonEl.classList.remove('colab-df-spinner');\n",
              "      quickchartButtonEl.classList.add('colab-df-quickchart-complete');\n",
              "    }\n",
              "    (() => {\n",
              "      let quickchartButtonEl =\n",
              "        document.querySelector('#df-bd265bea-22c3-4324-839a-ce7bb1a24b84 button');\n",
              "      quickchartButtonEl.style.display =\n",
              "        google.colab.kernel.accessAllowed ? 'block' : 'none';\n",
              "    })();\n",
              "  </script>\n",
              "</div>\n",
              "    </div>\n",
              "  </div>\n"
            ],
            "text/plain": [
              "   country  ches  n_supportive  n_sceptical  position\n",
              "58      uk  1109           425          330  0.252658\n",
              "57      uk  1108           307          222  0.323548\n",
              "61      uk  1151             4            2  0.587787\n",
              "59      uk  1110             3            1  0.847298\n",
              "51      uk  1101           268          105  0.934140\n",
              "52      uk  1102           249           88  1.036456\n",
              "54      uk  1105            45           10  1.466337\n",
              "53      uk  1104           162           30  1.672951\n",
              "56      uk  1107            95           12  2.033398\n",
              "55      uk  1106            65            6  2.310248\n",
              "60      uk  1150             5            0  2.397895"
            ]
          },
          "execution_count": 237,
          "metadata": {},
          "output_type": "execute_result"
        }
      ],
      "source": [
        "out[out.country == 'uk'].sort_values('position')"
      ]
    },
    {
      "cell_type": "markdown",
      "metadata": {
        "id": "zXhkpzTPEFie"
      },
      "source": [
        "### Load the CHES data"
      ]
    },
    {
      "cell_type": "code",
      "execution_count": null,
      "metadata": {
        "id": "64PYwB1YXWjB"
      },
      "outputs": [],
      "source": [
        "# load the file with the aggregate scores\n",
        "ches = pd.read_csv('https://www.chesdata.eu/s/1999-2019_CHES_dataset_meansv3.csv')"
      ]
    },
    {
      "cell_type": "code",
      "execution_count": null,
      "metadata": {
        "id": "FtKAfv8GXaCN"
      },
      "outputs": [],
      "source": [
        "# convert numeric country codes to ISO codes\n",
        "ches_country_codes = {\n",
        "  1: 'be',\n",
        "  5: 'es',\n",
        "  6: 'fr',\n",
        "  7: 'ie',\n",
        "  10: 'nl',\n",
        "  11: 'uk',\n",
        "  13: 'at',\n",
        "}\n",
        "ches['country_code'] = ches.country.map(ches_country_codes)\n",
        "ches = ches[~ches['country_code'].isna()]"
      ]
    },
    {
      "cell_type": "code",
      "execution_count": null,
      "metadata": {
        "colab": {
          "base_uri": "https://localhost:8080/",
          "height": 423
        },
        "id": "2bgNTDhYYVD4",
        "outputId": "5fefa296-da41-456b-b150-53edbca6aa94"
      },
      "outputs": [
        {
          "data": {
            "text/html": [
              "\n",
              "  <div id=\"df-17ecbf42-efa8-4fc5-a6ff-c90ea701ef19\" class=\"colab-df-container\">\n",
              "    <div>\n",
              "<style scoped>\n",
              "    .dataframe tbody tr th:only-of-type {\n",
              "        vertical-align: middle;\n",
              "    }\n",
              "\n",
              "    .dataframe tbody tr th {\n",
              "        vertical-align: top;\n",
              "    }\n",
              "\n",
              "    .dataframe thead th {\n",
              "        text-align: right;\n",
              "    }\n",
              "</style>\n",
              "<table border=\"1\" class=\"dataframe\">\n",
              "  <thead>\n",
              "    <tr style=\"text-align: right;\">\n",
              "      <th></th>\n",
              "      <th>country_code</th>\n",
              "      <th>year</th>\n",
              "      <th>party_id</th>\n",
              "      <th>party</th>\n",
              "      <th>immigrate_policy</th>\n",
              "    </tr>\n",
              "  </thead>\n",
              "  <tbody>\n",
              "    <tr>\n",
              "      <th>24</th>\n",
              "      <td>be</td>\n",
              "      <td>2006</td>\n",
              "      <td>109</td>\n",
              "      <td>CD&amp;V</td>\n",
              "      <td>5.88</td>\n",
              "    </tr>\n",
              "    <tr>\n",
              "      <th>25</th>\n",
              "      <td>be</td>\n",
              "      <td>2006</td>\n",
              "      <td>106</td>\n",
              "      <td>MR</td>\n",
              "      <td>5.33</td>\n",
              "    </tr>\n",
              "    <tr>\n",
              "      <th>26</th>\n",
              "      <td>be</td>\n",
              "      <td>2006</td>\n",
              "      <td>105</td>\n",
              "      <td>Groen</td>\n",
              "      <td>1.13</td>\n",
              "    </tr>\n",
              "    <tr>\n",
              "      <th>27</th>\n",
              "      <td>be</td>\n",
              "      <td>2006</td>\n",
              "      <td>110</td>\n",
              "      <td>NVA</td>\n",
              "      <td>7.38</td>\n",
              "    </tr>\n",
              "    <tr>\n",
              "      <th>28</th>\n",
              "      <td>be</td>\n",
              "      <td>2006</td>\n",
              "      <td>102</td>\n",
              "      <td>PS</td>\n",
              "      <td>2.50</td>\n",
              "    </tr>\n",
              "    <tr>\n",
              "      <th>...</th>\n",
              "      <td>...</td>\n",
              "      <td>...</td>\n",
              "      <td>...</td>\n",
              "      <td>...</td>\n",
              "      <td>...</td>\n",
              "    </tr>\n",
              "    <tr>\n",
              "      <th>638</th>\n",
              "      <td>at</td>\n",
              "      <td>2019</td>\n",
              "      <td>1303</td>\n",
              "      <td>FPO</td>\n",
              "      <td>9.80</td>\n",
              "    </tr>\n",
              "    <tr>\n",
              "      <th>639</th>\n",
              "      <td>at</td>\n",
              "      <td>2019</td>\n",
              "      <td>1301</td>\n",
              "      <td>SPO</td>\n",
              "      <td>4.70</td>\n",
              "    </tr>\n",
              "    <tr>\n",
              "      <th>640</th>\n",
              "      <td>at</td>\n",
              "      <td>2019</td>\n",
              "      <td>1302</td>\n",
              "      <td>OVP</td>\n",
              "      <td>8.60</td>\n",
              "    </tr>\n",
              "    <tr>\n",
              "      <th>641</th>\n",
              "      <td>at</td>\n",
              "      <td>2019</td>\n",
              "      <td>1306</td>\n",
              "      <td>NEOS</td>\n",
              "      <td>4.30</td>\n",
              "    </tr>\n",
              "    <tr>\n",
              "      <th>642</th>\n",
              "      <td>at</td>\n",
              "      <td>2019</td>\n",
              "      <td>1304</td>\n",
              "      <td>Grune</td>\n",
              "      <td>2.70</td>\n",
              "    </tr>\n",
              "  </tbody>\n",
              "</table>\n",
              "<p>262 rows × 5 columns</p>\n",
              "</div>\n",
              "    <div class=\"colab-df-buttons\">\n",
              "\n",
              "  <div class=\"colab-df-container\">\n",
              "    <button class=\"colab-df-convert\" onclick=\"convertToInteractive('df-17ecbf42-efa8-4fc5-a6ff-c90ea701ef19')\"\n",
              "            title=\"Convert this dataframe to an interactive table.\"\n",
              "            style=\"display:none;\">\n",
              "\n",
              "  <svg xmlns=\"http://www.w3.org/2000/svg\" height=\"24px\" viewBox=\"0 -960 960 960\">\n",
              "    <path d=\"M120-120v-720h720v720H120Zm60-500h600v-160H180v160Zm220 220h160v-160H400v160Zm0 220h160v-160H400v160ZM180-400h160v-160H180v160Zm440 0h160v-160H620v160ZM180-180h160v-160H180v160Zm440 0h160v-160H620v160Z\"/>\n",
              "  </svg>\n",
              "    </button>\n",
              "\n",
              "  <style>\n",
              "    .colab-df-container {\n",
              "      display:flex;\n",
              "      gap: 12px;\n",
              "    }\n",
              "\n",
              "    .colab-df-convert {\n",
              "      background-color: #E8F0FE;\n",
              "      border: none;\n",
              "      border-radius: 50%;\n",
              "      cursor: pointer;\n",
              "      display: none;\n",
              "      fill: #1967D2;\n",
              "      height: 32px;\n",
              "      padding: 0 0 0 0;\n",
              "      width: 32px;\n",
              "    }\n",
              "\n",
              "    .colab-df-convert:hover {\n",
              "      background-color: #E2EBFA;\n",
              "      box-shadow: 0px 1px 2px rgba(60, 64, 67, 0.3), 0px 1px 3px 1px rgba(60, 64, 67, 0.15);\n",
              "      fill: #174EA6;\n",
              "    }\n",
              "\n",
              "    .colab-df-buttons div {\n",
              "      margin-bottom: 4px;\n",
              "    }\n",
              "\n",
              "    [theme=dark] .colab-df-convert {\n",
              "      background-color: #3B4455;\n",
              "      fill: #D2E3FC;\n",
              "    }\n",
              "\n",
              "    [theme=dark] .colab-df-convert:hover {\n",
              "      background-color: #434B5C;\n",
              "      box-shadow: 0px 1px 3px 1px rgba(0, 0, 0, 0.15);\n",
              "      filter: drop-shadow(0px 1px 2px rgba(0, 0, 0, 0.3));\n",
              "      fill: #FFFFFF;\n",
              "    }\n",
              "  </style>\n",
              "\n",
              "    <script>\n",
              "      const buttonEl =\n",
              "        document.querySelector('#df-17ecbf42-efa8-4fc5-a6ff-c90ea701ef19 button.colab-df-convert');\n",
              "      buttonEl.style.display =\n",
              "        google.colab.kernel.accessAllowed ? 'block' : 'none';\n",
              "\n",
              "      async function convertToInteractive(key) {\n",
              "        const element = document.querySelector('#df-17ecbf42-efa8-4fc5-a6ff-c90ea701ef19');\n",
              "        const dataTable =\n",
              "          await google.colab.kernel.invokeFunction('convertToInteractive',\n",
              "                                                    [key], {});\n",
              "        if (!dataTable) return;\n",
              "\n",
              "        const docLinkHtml = 'Like what you see? Visit the ' +\n",
              "          '<a target=\"_blank\" href=https://colab.research.google.com/notebooks/data_table.ipynb>data table notebook</a>'\n",
              "          + ' to learn more about interactive tables.';\n",
              "        element.innerHTML = '';\n",
              "        dataTable['output_type'] = 'display_data';\n",
              "        await google.colab.output.renderOutput(dataTable, element);\n",
              "        const docLink = document.createElement('div');\n",
              "        docLink.innerHTML = docLinkHtml;\n",
              "        element.appendChild(docLink);\n",
              "      }\n",
              "    </script>\n",
              "  </div>\n",
              "\n",
              "\n",
              "<div id=\"df-8d123695-1cd3-40ce-aa5e-b79ef0df99f6\">\n",
              "  <button class=\"colab-df-quickchart\" onclick=\"quickchart('df-8d123695-1cd3-40ce-aa5e-b79ef0df99f6')\"\n",
              "            title=\"Suggest charts\"\n",
              "            style=\"display:none;\">\n",
              "\n",
              "<svg xmlns=\"http://www.w3.org/2000/svg\" height=\"24px\"viewBox=\"0 0 24 24\"\n",
              "     width=\"24px\">\n",
              "    <g>\n",
              "        <path d=\"M19 3H5c-1.1 0-2 .9-2 2v14c0 1.1.9 2 2 2h14c1.1 0 2-.9 2-2V5c0-1.1-.9-2-2-2zM9 17H7v-7h2v7zm4 0h-2V7h2v10zm4 0h-2v-4h2v4z\"/>\n",
              "    </g>\n",
              "</svg>\n",
              "  </button>\n",
              "\n",
              "<style>\n",
              "  .colab-df-quickchart {\n",
              "      --bg-color: #E8F0FE;\n",
              "      --fill-color: #1967D2;\n",
              "      --hover-bg-color: #E2EBFA;\n",
              "      --hover-fill-color: #174EA6;\n",
              "      --disabled-fill-color: #AAA;\n",
              "      --disabled-bg-color: #DDD;\n",
              "  }\n",
              "\n",
              "  [theme=dark] .colab-df-quickchart {\n",
              "      --bg-color: #3B4455;\n",
              "      --fill-color: #D2E3FC;\n",
              "      --hover-bg-color: #434B5C;\n",
              "      --hover-fill-color: #FFFFFF;\n",
              "      --disabled-bg-color: #3B4455;\n",
              "      --disabled-fill-color: #666;\n",
              "  }\n",
              "\n",
              "  .colab-df-quickchart {\n",
              "    background-color: var(--bg-color);\n",
              "    border: none;\n",
              "    border-radius: 50%;\n",
              "    cursor: pointer;\n",
              "    display: none;\n",
              "    fill: var(--fill-color);\n",
              "    height: 32px;\n",
              "    padding: 0;\n",
              "    width: 32px;\n",
              "  }\n",
              "\n",
              "  .colab-df-quickchart:hover {\n",
              "    background-color: var(--hover-bg-color);\n",
              "    box-shadow: 0 1px 2px rgba(60, 64, 67, 0.3), 0 1px 3px 1px rgba(60, 64, 67, 0.15);\n",
              "    fill: var(--button-hover-fill-color);\n",
              "  }\n",
              "\n",
              "  .colab-df-quickchart-complete:disabled,\n",
              "  .colab-df-quickchart-complete:disabled:hover {\n",
              "    background-color: var(--disabled-bg-color);\n",
              "    fill: var(--disabled-fill-color);\n",
              "    box-shadow: none;\n",
              "  }\n",
              "\n",
              "  .colab-df-spinner {\n",
              "    border: 2px solid var(--fill-color);\n",
              "    border-color: transparent;\n",
              "    border-bottom-color: var(--fill-color);\n",
              "    animation:\n",
              "      spin 1s steps(1) infinite;\n",
              "  }\n",
              "\n",
              "  @keyframes spin {\n",
              "    0% {\n",
              "      border-color: transparent;\n",
              "      border-bottom-color: var(--fill-color);\n",
              "      border-left-color: var(--fill-color);\n",
              "    }\n",
              "    20% {\n",
              "      border-color: transparent;\n",
              "      border-left-color: var(--fill-color);\n",
              "      border-top-color: var(--fill-color);\n",
              "    }\n",
              "    30% {\n",
              "      border-color: transparent;\n",
              "      border-left-color: var(--fill-color);\n",
              "      border-top-color: var(--fill-color);\n",
              "      border-right-color: var(--fill-color);\n",
              "    }\n",
              "    40% {\n",
              "      border-color: transparent;\n",
              "      border-right-color: var(--fill-color);\n",
              "      border-top-color: var(--fill-color);\n",
              "    }\n",
              "    60% {\n",
              "      border-color: transparent;\n",
              "      border-right-color: var(--fill-color);\n",
              "    }\n",
              "    80% {\n",
              "      border-color: transparent;\n",
              "      border-right-color: var(--fill-color);\n",
              "      border-bottom-color: var(--fill-color);\n",
              "    }\n",
              "    90% {\n",
              "      border-color: transparent;\n",
              "      border-bottom-color: var(--fill-color);\n",
              "    }\n",
              "  }\n",
              "</style>\n",
              "\n",
              "  <script>\n",
              "    async function quickchart(key) {\n",
              "      const quickchartButtonEl =\n",
              "        document.querySelector('#' + key + ' button');\n",
              "      quickchartButtonEl.disabled = true;  // To prevent multiple clicks.\n",
              "      quickchartButtonEl.classList.add('colab-df-spinner');\n",
              "      try {\n",
              "        const charts = await google.colab.kernel.invokeFunction(\n",
              "            'suggestCharts', [key], {});\n",
              "      } catch (error) {\n",
              "        console.error('Error during call to suggestCharts:', error);\n",
              "      }\n",
              "      quickchartButtonEl.classList.remove('colab-df-spinner');\n",
              "      quickchartButtonEl.classList.add('colab-df-quickchart-complete');\n",
              "    }\n",
              "    (() => {\n",
              "      let quickchartButtonEl =\n",
              "        document.querySelector('#df-8d123695-1cd3-40ce-aa5e-b79ef0df99f6 button');\n",
              "      quickchartButtonEl.style.display =\n",
              "        google.colab.kernel.accessAllowed ? 'block' : 'none';\n",
              "    })();\n",
              "  </script>\n",
              "</div>\n",
              "    </div>\n",
              "  </div>\n"
            ],
            "text/plain": [
              "    country_code  year  party_id  party  immigrate_policy\n",
              "24            be  2006       109   CD&V              5.88\n",
              "25            be  2006       106     MR              5.33\n",
              "26            be  2006       105  Groen              1.13\n",
              "27            be  2006       110    NVA              7.38\n",
              "28            be  2006       102     PS              2.50\n",
              "..           ...   ...       ...    ...               ...\n",
              "638           at  2019      1303    FPO              9.80\n",
              "639           at  2019      1301    SPO              4.70\n",
              "640           at  2019      1302    OVP              8.60\n",
              "641           at  2019      1306   NEOS              4.30\n",
              "642           at  2019      1304  Grune              2.70\n",
              "\n",
              "[262 rows x 5 columns]"
            ]
          },
          "execution_count": 240,
          "metadata": {},
          "output_type": "execute_result"
        }
      ],
      "source": [
        "# keep selected columns\n",
        "cols = ['country_code', 'year', 'party_id', 'party', 'immigrate_policy']\n",
        "ches = ches[cols]\n",
        "\n",
        "# discard cases with mising immigration policy judgments\n",
        "ches = ches[~ches.immigrate_policy.isna()]\n",
        "ches"
      ]
    },
    {
      "cell_type": "markdown",
      "metadata": {
        "id": "8k3fKX2KasA9"
      },
      "source": [
        "The CHES indicator `immigration_policy` ranges from 0 (\"[party] strongly favors a liberal policy on immigration\") to 10 (\"[party] strongly favors a restrictive policy on immigration\")."
      ]
    },
    {
      "cell_type": "code",
      "execution_count": null,
      "metadata": {
        "id": "aOOucvCRZBDL"
      },
      "outputs": [],
      "source": [
        "ches_agg = ches.groupby(['country_code', 'party_id', 'party']).agg(immigrate_policy=('immigrate_policy', 'mean')).reset_index()"
      ]
    },
    {
      "cell_type": "code",
      "execution_count": null,
      "metadata": {
        "id": "RbnCtZAcZinZ"
      },
      "outputs": [],
      "source": [
        "ches_agg.rename(columns={'country_code': 'country', 'party_id': 'ches'}, inplace=True)"
      ]
    },
    {
      "cell_type": "markdown",
      "metadata": {
        "id": "tFhNceamEFie"
      },
      "source": [
        "### Conduct convergent validity assessment"
      ]
    },
    {
      "cell_type": "code",
      "execution_count": null,
      "metadata": {
        "id": "AJHvmFi-Zb97"
      },
      "outputs": [],
      "source": [
        "res = pd.merge(out, ches_agg, on=['country', 'ches'], how='inner')"
      ]
    },
    {
      "cell_type": "code",
      "execution_count": null,
      "metadata": {
        "colab": {
          "base_uri": "https://localhost:8080/"
        },
        "id": "Qu0P9Ar_Z10n",
        "outputId": "81723b46-82d3-4ccf-f2dc-a468ce4a8bdc"
      },
      "outputs": [
        {
          "name": "stdout",
          "output_type": "stream",
          "text": [
            "Overall correlation: -0.548 (p≤0.000)\n"
          ]
        }
      ],
      "source": [
        "from scipy.stats import pearsonr\n",
        "r, p = pearsonr(res.position.values, res.immigrate_policy.values)\n",
        "print(f'Overall correlation: {r:+.03f} (p≤{p:.03f})')"
      ]
    },
    {
      "cell_type": "markdown",
      "metadata": {
        "id": "cVQBl8tDEFie"
      },
      "source": [
        "Note that on the CHES indicators, a low score means supportive/permissive stance.\n",
        "On our classifier-based scores, low (negativev) scores indicate sceptical stance.\n",
        "So the negative correlation is good ;)"
      ]
    },
    {
      "cell_type": "code",
      "execution_count": null,
      "metadata": {
        "colab": {
          "base_uri": "https://localhost:8080/"
        },
        "id": "Kl6mH505bOYC",
        "outputId": "715e2fdf-acc7-4794-ff99-49052f6bc61f"
      },
      "outputs": [
        {
          "name": "stdout",
          "output_type": "stream",
          "text": [
            "correlation for subset \"AT\": -0.838 (p≤0.009)\n",
            "correlation for subset \"BE\": -0.573 (p≤0.013)\n",
            "correlation for subset \"ES\": -0.330 (p≤0.352)\n",
            "correlation for subset \"FR\": -0.819 (p≤0.001)\n",
            "correlation for subset \"IE\": -0.656 (p≤0.039)\n",
            "correlation for subset \"NL\": -0.642 (p≤0.062)\n",
            "correlation for subset \"UK\": -0.925 (p≤0.000)\n"
          ]
        }
      ],
      "source": [
        "for c, d in res.groupby('country'):\n",
        "  r, p = pearsonr(d.position.values, d.immigrate_policy.values)\n",
        "  print(f'correlation for subset \"{c.upper()}\": {r:+.03f} (p≤{p:.03f})')"
      ]
    },
    {
      "cell_type": "markdown",
      "metadata": {
        "id": "kxjdw3F57O6e"
      },
      "source": [
        "## Appendix"
      ]
    },
    {
      "cell_type": "markdown",
      "metadata": {
        "id": "MLSe1Si-7O6f"
      },
      "source": [
        "### Dataset splitting"
      ]
    },
    {
      "cell_type": "markdown",
      "metadata": {
        "id": "5kznwOLs7O6f"
      },
      "source": [
        "To split your dataset into train, dev, and test sets, you should\n",
        "\n",
        "- rely on scikit-learns pre-defined functions,\n",
        "- and always set the seed\n",
        "\n",
        "This helps to avoid that you accidentally have the same examples in different sets, and that your data splitting is reproducible."
      ]
    },
    {
      "cell_type": "code",
      "execution_count": null,
      "metadata": {
        "id": "50ZtLgat7O6f"
      },
      "outputs": [],
      "source": [
        "# example data (see https://chat.openai.com/share/2d5af33c-acb9-4b0f-a260-7c38651fa7b0)\n",
        "labeled_data = [\n",
        "    {\"text\": \"I'm over the moon with joy!\", \"label\": \"happy\"},\n",
        "    {\"text\": \"Happiness radiates from every fiber of my being.\", \"label\": \"happy\"},\n",
        "    {\"text\": \"I can't stop smiling because life is beautiful.\", \"label\": \"happy\"},\n",
        "    {\"text\": \"Tears stream down my face; I'm so heartbroken.\", \"label\": \"sad\"},\n",
        "    {\"text\": \"I feel so lonely and despondent right now.\", \"label\": \"sad\"},\n",
        "    {\"text\": \"It's a gloomy day, and my spirits are low.\", \"label\": \"sad\"},\n",
        "    {\"text\": \"Laughter fills the air, and my heart is light.\", \"label\": \"happy\"},\n",
        "    {\"text\": \"I'm ecstatic about the news! Pure bliss!\", \"label\": \"happy\"},\n",
        "    {\"text\": \"The weight of sadness bears down on me like a ton of bricks.\", \"label\": \"sad\"},\n",
        "    {\"text\": \"Every moment without them feels like an eternity of sorrow.\", \"label\": \"sad\"}\n",
        "]\n"
      ]
    },
    {
      "cell_type": "markdown",
      "metadata": {
        "id": "W-jB8J1s7O6f"
      },
      "source": [
        "We usually specify the set sizes in percentages:"
      ]
    },
    {
      "cell_type": "code",
      "execution_count": null,
      "metadata": {
        "id": "wnvdFUo17O6f"
      },
      "outputs": [],
      "source": [
        "test_size = 0.20\n",
        "dev_size = 0.20\n",
        "\n",
        "# compute Ns\n",
        "n = len(labeled_data)\n",
        "n_test = int(n*test_size)\n",
        "n_dev = int(n*dev_size)\n",
        "n_train = n-n_test-n_dev"
      ]
    },
    {
      "cell_type": "markdown",
      "metadata": {
        "id": "klB63ZMd7O6f"
      },
      "source": [
        "#### Simple random splitting"
      ]
    },
    {
      "cell_type": "markdown",
      "metadata": {
        "id": "3_vHeR9F7O6f"
      },
      "source": [
        "The simplest splitting strategy is to assign examples randomly to the three sets."
      ]
    },
    {
      "cell_type": "code",
      "execution_count": null,
      "metadata": {
        "id": "l8vDHSwi7O6f",
        "outputId": "6f3eebc0-7183-4b8e-a35f-48cf755ed6dd"
      },
      "outputs": [
        {
          "name": "stdout",
          "output_type": "stream",
          "text": [
            "6 2 2\n",
            "0\n",
            "0\n",
            "0\n"
          ]
        }
      ],
      "source": [
        "# use train_test_split from sklearn\n",
        "from sklearn.model_selection import train_test_split\n",
        "SEED = 1234\n",
        "\n",
        "tmp, test_idxs = train_test_split(range(n), test_size=n_test, random_state=SEED)\n",
        "train_idxs, dev_idxs = train_test_split(tmp, test_size=n_dev, random_state=SEED)\n",
        "del tmp\n",
        "\n",
        "print(len(train_idxs), len(dev_idxs), len(test_idxs)) # should be approx 60%, 20%, 20%\n",
        "\n",
        "print(len(set(train_idxs).intersection(set(dev_idxs)))) # should be 0\n",
        "print(len(set(train_idxs).intersection(set(test_idxs)))) # should be 0\n",
        "print(len(set(dev_idxs).intersection(set(test_idxs)))) # should be 0\n",
        "\n",
        "train_data = [labeled_data[i] for i in train_idxs]\n",
        "dev_data = [labeled_data[i] for i in dev_idxs]\n",
        "test_data = [labeled_data[i] for i in test_idxs]"
      ]
    },
    {
      "cell_type": "markdown",
      "metadata": {
        "id": "BoK-3LlK7O6f"
      },
      "source": [
        "With random sampling-based splitting, you might end up with different label proportions, though."
      ]
    },
    {
      "cell_type": "code",
      "execution_count": null,
      "metadata": {
        "id": "K3lFCgTL7O6f",
        "outputId": "d80a1083-a5ac-4619-e3c3-d9fe6fd154f3"
      },
      "outputs": [
        {
          "name": "stdout",
          "output_type": "stream",
          "text": [
            "0.16666666666666666\n",
            "1.0\n",
            "1.0\n"
          ]
        }
      ],
      "source": [
        "print(np.mean([d['label'] == 'happy' for d in train_data]))\n",
        "print(np.mean([d['label'] == 'happy' for d in dev_data]))\n",
        "print(np.mean([d['label'] == 'happy' for d in test_data]))"
      ]
    },
    {
      "cell_type": "markdown",
      "metadata": {
        "id": "hq_K35Ax7O6f"
      },
      "source": [
        "**_Note:_** In a larger dataset, the differences wouldn't be as dramatic though. So the problem is not too bad."
      ]
    },
    {
      "cell_type": "markdown",
      "metadata": {
        "id": "K3vHDUwj7O6f"
      },
      "source": [
        "#### Stratify by label class"
      ]
    },
    {
      "cell_type": "markdown",
      "metadata": {
        "id": "23phlEMu7O6g"
      },
      "source": [
        "If you want to ensure that the label proportions in your train, dev, and test splits are identical,\n",
        "you want to stratify by examples' true labels:"
      ]
    },
    {
      "cell_type": "code",
      "execution_count": null,
      "metadata": {
        "id": "N4lLk9lC7O6g",
        "outputId": "862df280-cab2-4d59-996c-0590ec53108e"
      },
      "outputs": [
        {
          "name": "stdout",
          "output_type": "stream",
          "text": [
            "6 2 2\n",
            "0\n",
            "0\n",
            "0\n",
            "0.5\n",
            "0.5\n",
            "0.5\n"
          ]
        }
      ],
      "source": [
        "# use train_test_split from sklearn\n",
        "import numpy as np\n",
        "from sklearn.model_selection import train_test_split\n",
        "SEED = 1234\n",
        "\n",
        "labels = np.array([d['label'] for d in labeled_data])\n",
        "\n",
        "tmp, test_idxs = train_test_split(range(n), test_size=n_test, random_state=SEED, stratify=labels)\n",
        "train_idxs, dev_idxs = train_test_split(tmp, test_size=n_dev, random_state=SEED, stratify=labels[tmp])\n",
        "del tmp\n",
        "\n",
        "print(len(train_idxs), len(dev_idxs), len(test_idxs)) # should be approx 60%, 20%, 20%\n",
        "\n",
        "print(len(set(train_idxs).intersection(set(dev_idxs)))) # should be 0\n",
        "print(len(set(train_idxs).intersection(set(test_idxs)))) # should be 0\n",
        "print(len(set(dev_idxs).intersection(set(test_idxs)))) # should be 0\n",
        "\n",
        "train_data = [labeled_data[i] for i in train_idxs]\n",
        "dev_data = [labeled_data[i] for i in dev_idxs]\n",
        "test_data = [labeled_data[i] for i in test_idxs]\n",
        "\n",
        "# the label proportions are now (approx.) the same in all splits\n",
        "print(np.mean([d['label'] == 'happy' for d in train_data]))\n",
        "print(np.mean([d['label'] == 'happy' for d in dev_data]))\n",
        "print(np.mean([d['label'] == 'happy' for d in test_data]))"
      ]
    },
    {
      "cell_type": "markdown",
      "metadata": {
        "id": "IaDZ1fCN7O6g"
      },
      "source": [
        "**_Note:_**\n",
        "You could also stratify by other indicators, such as document authors' IDs.\n",
        "In this case, you'd have similar proportions of author's documents in the different splits."
      ]
    },
    {
      "cell_type": "markdown",
      "metadata": {
        "id": "nQg8nlL-7O6g"
      },
      "source": [
        "#### Grouped sampling"
      ]
    },
    {
      "cell_type": "markdown",
      "metadata": {
        "id": "FuEHUJQS7O6g"
      },
      "source": [
        "Sometimes you want to develop a classifier that is able to predict text from held-out documents.\n",
        "For example, if you have collected annotations for sentences sampled from parties' elections manifestos, you might not have sampled sentences from some manifestos.\n",
        "In this case, at prediction time (i.e., when applying your final model to the entire corpus of election manifestos), you'd need to make \"out-of-document\" classifications.\n",
        "\n",
        "\n",
        "Achieving good \"out-of-document\" classification performance requires **generalization**.\n",
        "But it can be difficult because language use within documents tends to be more similar than across documents.\n",
        "\n",
        "What you want to do to asses the ability of your classifier to predict reliably \"out-of-document\" is to mirror this setup in your splitting strategy.\n",
        "This is done by assigning sentences to the train, dev, and test, splits based on their document membership.\n",
        "\n",
        "So for example, below we have a simple illustration of how we assign all sentences from document 1 to the test set, and all sentences from documents 2 and 3 to the train set:\n",
        "\n",
        "| sentence ID | doc ID | set |\n",
        "|:----------- |:------ |:--- |\n",
        "| 1 | 1 | &rarr; 'test' |\n",
        "| 2 | 1 | &rarr; 'test' |\n",
        "| 1 | 2 | &rarr; 'train' |\n",
        "| 2 | 2 | &rarr; 'train' |\n",
        "| 3 | 2 | &rarr; 'train' |\n",
        "| 1 | 3 | &rarr; 'train' |\n",
        "| 2 | 3 | &rarr; 'train' |\n",
        "| 1 | 3 | &rarr; 'train' |\n",
        "| ... | ... | ... |\n",
        "\n",
        "\n",
        "\n"
      ]
    },
    {
      "cell_type": "code",
      "execution_count": null,
      "metadata": {
        "id": "YzujOzZz7O6g"
      },
      "outputs": [],
      "source": [
        "labeled_data = [\n",
        "    {\"doc_id\": 0, \"text\": \"I'm over the moon with joy!\", \"label\": \"happy\"},\n",
        "    {\"doc_id\": 0,\"text\": \"Happiness radiates from every fiber of my being.\", \"label\": \"happy\"},\n",
        "    {\"doc_id\": 1,\"text\": \"I can't stop smiling because life is beautiful.\", \"label\": \"happy\"},\n",
        "    {\"doc_id\": 1,\"text\": \"Tears stream down my face; I'm so heartbroken.\", \"label\": \"sad\"},\n",
        "    {\"doc_id\": 2,\"text\": \"I feel so lonely and despondent right now.\", \"label\": \"sad\"},\n",
        "    {\"doc_id\": 2,\"text\": \"It's a gloomy day, and my spirits are low.\", \"label\": \"sad\"},\n",
        "    {\"doc_id\": 3,\"text\": \"Laughter fills the air, and my heart is light.\", \"label\": \"happy\"},\n",
        "    {\"doc_id\": 3,\"text\": \"I'm ecstatic about the news! Pure bliss!\", \"label\": \"happy\"},\n",
        "    {\"doc_id\": 4,\"text\": \"The weight of sadness bears down on me like a ton of bricks.\", \"label\": \"sad\"},\n",
        "    {\"doc_id\": 4,\"text\": \"Every moment without them feels like an eternity of sorrow.\", \"label\": \"sad\"}\n",
        "]\n",
        "# note: in reality, the number of sentences per document might vary.\n",
        "#       But this is not a problem for running the code below!"
      ]
    },
    {
      "cell_type": "code",
      "execution_count": null,
      "metadata": {
        "id": "C1fUdvDa7O6g",
        "outputId": "4b684f72-dbcb-4d8d-d6d8-5cfd8e8ec62e"
      },
      "outputs": [
        {
          "name": "stdout",
          "output_type": "stream",
          "text": [
            "6 2 2\n",
            "0\n",
            "0\n",
            "0\n",
            "0\n",
            "0\n",
            "0\n"
          ]
        }
      ],
      "source": [
        "# use GroupSplit strategy from sklearn\n",
        "from sklearn.model_selection import GroupShuffleSplit\n",
        "\n",
        "doc_ids = np.array([d[\"doc_id\"] for d in labeled_data])\n",
        "\n",
        "gss = GroupShuffleSplit(n_splits=2, test_size=test_size, random_state=SEED)\n",
        "tmp, test_idxs = next(gss.split(range(n), groups=doc_ids))\n",
        "train_idxs, dev_idxs = next(gss.split(range(len(tmp)), groups=doc_ids[tmp]))\n",
        "del tmp\n",
        "\n",
        "print(len(train_idxs), len(dev_idxs), len(test_idxs)) # should be approx 60%, 20%, 20%\n",
        "\n",
        "print(len(set(train_idxs).intersection(set(dev_idxs)))) # should be 0\n",
        "print(len(set(train_idxs).intersection(set(test_idxs)))) # should be 0\n",
        "print(len(set(dev_idxs).intersection(set(test_idxs)))) # should be 0\n",
        "\n",
        "train_data = [labeled_data[i] for i in train_idxs]\n",
        "dev_data = [labeled_data[i] for i in dev_idxs]\n",
        "test_data = [labeled_data[i] for i in test_idxs]\n",
        "\n",
        "train_doc_ids = [d[\"doc_id\"] for d in train_data]\n",
        "dev_doc_ids = [d[\"doc_id\"] for d in dev_data]\n",
        "test_doc_ids = [d[\"doc_id\"] for d in test_data]\n",
        "\n",
        "# the label proportions are now (approx.) the same in all splits\n",
        "print(len(set(train_doc_ids).intersection(set(dev_doc_ids)))) # should be 0\n",
        "print(len(set(train_doc_ids).intersection(set(test_doc_ids)))) # should be 0\n",
        "print(len(set(dev_doc_ids).intersection(set(test_doc_ids)))) # should be 0\n"
      ]
    },
    {
      "cell_type": "markdown",
      "metadata": {
        "id": "vubPeprg7O6g"
      },
      "source": [
        "### Multi-class classification"
      ]
    },
    {
      "cell_type": "markdown",
      "metadata": {
        "id": "7YWgROl87O6g"
      },
      "source": [
        "In many use cases, you have more than two label classes.\n",
        "If each document (\"sample\") has only one label (e.g., 'positive'), then you want to perform **multi-class classification**."
      ]
    },
    {
      "cell_type": "markdown",
      "metadata": {
        "id": "wj3Sdglq7O6g"
      },
      "source": [
        "#### Model setup\n",
        "\n",
        "`transformers`' `AutoModelForSequenceClassification` can handle this well.\n",
        "You just need to\n",
        "\n",
        "1. adapt your `id2label` and `label2id` dictionaries accordingly. So if you have three label classes \"positive\", \"neutral\", and \"negative,\"\n",
        "\n",
        "```python\n",
        "id2label = {0: \"negative\", 1: \"neutral\", 2: \"positive\"}\n",
        "label2id = {\"negative\": 0, \"neutral\": 1, \"positive\": 2}\n",
        "```\n",
        "\n",
        "2. adpat the `num_labels` argument accordingly:\n",
        "\n",
        "```python\n",
        "model = AutoModelForSequenceClassification.from_pretrained(\n",
        "    MODEL_NAME,\n",
        "    num_labels=3,\n",
        "    id2label=id2label,\n",
        "    label2id=label2id\n",
        ")\n",
        "```"
      ]
    },
    {
      "cell_type": "markdown",
      "metadata": {
        "id": "o1n4ED3x7O6g"
      },
      "source": [
        "#### Evaluation metrics\n",
        "\n",
        "If you have more than two classes, you will need to adapt your evaluation metrics.\n",
        "This is because the *precision* and *recall* metrics, for example, only differentiate between correct and false classifications (\"hits\" and \"misses\" ) of \"positive\" vs. \"negative\" examples.\n",
        "So for each label class, you will convert (\"dichotomize\") your multi-class labels and predicted classifications into so-called \"one vs. rest\" indicators.\n",
        "\n",
        "**_Example:_** If you are interested in the performance of your model to correctly classify \"neutral\" samples and the other two label classes are \"positive\" and \"negative\", you will redifine the label categories as follows\n",
        "\n",
        "- \"positive\" &rarr; 0\n",
        "- \"neutral\" &rarr; 1\n",
        "- \"negative\" &rarr; 0\n",
        "\n",
        "In this way, you can compute a **_\"neutral\"-specific_ recall, precision, and F1 scores**."
      ]
    },
    {
      "cell_type": "markdown",
      "metadata": {
        "id": "I9ttMS9Q7O6g"
      },
      "source": [
        "Evaluation functions in the `sklearn.metrics` module like `f1_score()` support multi-class classification:"
      ]
    },
    {
      "cell_type": "code",
      "execution_count": null,
      "metadata": {
        "id": "C7c4BkAd7O6g",
        "outputId": "598d62cb-d91d-48fa-c5a2-303aa18c4a5f"
      },
      "outputs": [
        {
          "data": {
            "text/plain": [
              "array([0.5       , 0.4       , 0.66666667])"
            ]
          },
          "execution_count": 251,
          "metadata": {},
          "output_type": "execute_result"
        }
      ],
      "source": [
        "true_labels = [0, 0, 1, 1, 2, 2]\n",
        "pred_labels = [0, 1, 0, 1, 2, 1]\n",
        "\n",
        "from sklearn.metrics import f1_score\n",
        "\n",
        "# get one F1 score per label class 0, 1, and 2 (in ascending order)\n",
        "f1_score(y_true=true_labels, y_pred=pred_labels, average=None)"
      ]
    },
    {
      "cell_type": "markdown",
      "metadata": {
        "id": "ydUBmPNS7O6i"
      },
      "source": [
        "Put for finding the \"best\" model, you'll still need a single performance score.\n",
        "\n",
        "So what we do is **average** class-specific scores into one performacne estimate.\n",
        "The most common averaging strategy is the so-called **_macro_ average**.\n",
        "It just computes the average between class-specific scores.\n",
        "\n",
        "So given the example above, the \"macro F1 score\" is `(0.5+0.4+0.666)/3 = 0.5222`"
      ]
    },
    {
      "cell_type": "code",
      "execution_count": null,
      "metadata": {
        "id": "oVaTpf1N7O6i",
        "outputId": "35d1d2aa-63e1-4c30-d315-7953911f1479"
      },
      "outputs": [
        {
          "data": {
            "text/plain": [
              "0.5222222222222223"
            ]
          },
          "execution_count": 252,
          "metadata": {},
          "output_type": "execute_result"
        }
      ],
      "source": [
        "f1_score(y_true=true_labels, y_pred=pred_labels, average='macro')"
      ]
    },
    {
      "cell_type": "markdown",
      "metadata": {
        "id": "SdZT14iu7O6i"
      },
      "source": [
        "The alternative strategy is the **_micro_ average**.\n",
        "In this strategy, we just summarize the which labels we got right, and which we got wrong. So the \"micro F1 scores\" is just the accuracy:"
      ]
    },
    {
      "cell_type": "code",
      "execution_count": null,
      "metadata": {
        "id": "Mur3mRuN7O6i",
        "outputId": "81beb6c8-983e-47f0-8195-a0481f33a3f8"
      },
      "outputs": [
        {
          "data": {
            "text/plain": [
              "0.5"
            ]
          },
          "execution_count": 262,
          "metadata": {},
          "output_type": "execute_result"
        }
      ],
      "source": [
        "f1_score(y_true=true_labels, y_pred=pred_labels, average='micro')"
      ]
    },
    {
      "cell_type": "markdown",
      "metadata": {
        "id": "jifbuxZH7O6i"
      },
      "source": [
        "There is also a function that summarizes everything:"
      ]
    },
    {
      "cell_type": "code",
      "execution_count": null,
      "metadata": {
        "id": "HCr2at8D7O6i",
        "outputId": "4c32ddbe-6dd9-430a-b668-3123a7a980fb"
      },
      "outputs": [
        {
          "name": "stdout",
          "output_type": "stream",
          "text": [
            "              precision    recall  f1-score   support\n",
            "\n",
            "    negative       0.50      0.50      0.50         2\n",
            "     neutral       0.33      0.50      0.40         2\n",
            "    positive       1.00      0.50      0.67         2\n",
            "\n",
            "    accuracy                           0.50         6\n",
            "   macro avg       0.61      0.50      0.52         6\n",
            "weighted avg       0.61      0.50      0.52         6\n",
            "\n"
          ]
        }
      ],
      "source": [
        "from sklearn.metrics import classification_report\n",
        "\n",
        "id2label = {0: \"negative\", 1: \"neutral\", 2: \"positive\"}\n",
        "\n",
        "rep = classification_report(\n",
        "    y_true=true_labels,\n",
        "    y_pred=pred_labels,\n",
        "    labels=list(id2label.keys()),\n",
        "    target_names=list(id2label.values()),\n",
        ")\n",
        "print(rep)"
      ]
    },
    {
      "cell_type": "markdown",
      "metadata": {
        "id": "0J9jn3dc47-Y"
      },
      "source": [
        "Let's warp this in a function we can pass to `Trainer`'s `compute_metric` argument:"
      ]
    },
    {
      "cell_type": "code",
      "execution_count": null,
      "metadata": {
        "id": "m2FoI2_q5Cj4"
      },
      "outputs": [],
      "source": [
        "\n",
        "def classification_metrics_multiclass(\n",
        "    p: Union[EvalPrediction, PredictionOutput]\n",
        "  ):\n",
        "  preds = p.predictions[0] if isinstance(p.predictions, tuple) else p.predictions\n",
        "  preds = preds.argmax(-1)\n",
        "  res = classification_report(\n",
        "    y_true=y_true,\n",
        "    y_pred=y_pred,\n",
        "    labels=list(label2id.values()), # assuming you have a `label2id` object defined\n",
        "    target_names=list(label2id.keys()),\n",
        "    output_dict=True,\n",
        "    zero_division=0.0\n",
        "  )\n",
        "\n",
        "  metrics = {}\n",
        "\n",
        "  # aggregate metrics\n",
        "  metrics['f1_macro'] = res['macro avg']['f1-score']\n",
        "  metrics['f1_micro'] = res['accuracy']\n",
        "  metrics['balanced_accuracy'] = balanced_accuracy_score(y_true, y_pred)\n",
        "\n",
        "  # class-wise metrics\n",
        "  metrics.update(\n",
        "    {f\"{l}_{m.replace('-score', '')}\": res[l][m] if l in res else np.nan\n",
        "      for l in label2id.keys()\n",
        "      for m in ['f1-score', 'precision', 'recall']\n",
        "    }\n",
        "  )\n",
        "\n",
        "  return metrics"
      ]
    }
  ],
  "metadata": {
    "accelerator": "GPU",
    "colab": {
      "gpuType": "T4",
      "provenance": [],
      "toc_visible": true
    },
    "kernelspec": {
      "display_name": "Python 3",
      "name": "python3"
    },
    "language_info": {
      "codemirror_mode": {
        "name": "ipython",
        "version": 3
      },
      "file_extension": ".py",
      "mimetype": "text/x-python",
      "name": "python",
      "nbconvert_exporter": "python",
      "pygments_lexer": "ipython3",
      "version": "3.10.13"
    },
    "widgets": {
      "application/vnd.jupyter.widget-state+json": {
        "076364dfc27d4b948633824475703ab4": {
          "model_module": "@jupyter-widgets/base",
          "model_module_version": "1.2.0",
          "model_name": "LayoutModel",
          "state": {
            "_model_module": "@jupyter-widgets/base",
            "_model_module_version": "1.2.0",
            "_model_name": "LayoutModel",
            "_view_count": null,
            "_view_module": "@jupyter-widgets/base",
            "_view_module_version": "1.2.0",
            "_view_name": "LayoutView",
            "align_content": null,
            "align_items": null,
            "align_self": null,
            "border": null,
            "bottom": null,
            "display": null,
            "flex": null,
            "flex_flow": null,
            "grid_area": null,
            "grid_auto_columns": null,
            "grid_auto_flow": null,
            "grid_auto_rows": null,
            "grid_column": null,
            "grid_gap": null,
            "grid_row": null,
            "grid_template_areas": null,
            "grid_template_columns": null,
            "grid_template_rows": null,
            "height": null,
            "justify_content": null,
            "justify_items": null,
            "left": null,
            "margin": null,
            "max_height": null,
            "max_width": null,
            "min_height": null,
            "min_width": null,
            "object_fit": null,
            "object_position": null,
            "order": null,
            "overflow": null,
            "overflow_x": null,
            "overflow_y": null,
            "padding": null,
            "right": null,
            "top": null,
            "visibility": null,
            "width": null
          }
        },
        "3190cf98fe3b4a718e00d75eadba032a": {
          "model_module": "@jupyter-widgets/controls",
          "model_module_version": "1.5.0",
          "model_name": "DescriptionStyleModel",
          "state": {
            "_model_module": "@jupyter-widgets/controls",
            "_model_module_version": "1.5.0",
            "_model_name": "DescriptionStyleModel",
            "_view_count": null,
            "_view_module": "@jupyter-widgets/base",
            "_view_module_version": "1.2.0",
            "_view_name": "StyleView",
            "description_width": ""
          }
        },
        "3b6ad94a5066409298c39fe441542b4f": {
          "model_module": "@jupyter-widgets/controls",
          "model_module_version": "1.5.0",
          "model_name": "DescriptionStyleModel",
          "state": {
            "_model_module": "@jupyter-widgets/controls",
            "_model_module_version": "1.5.0",
            "_model_name": "DescriptionStyleModel",
            "_view_count": null,
            "_view_module": "@jupyter-widgets/base",
            "_view_module_version": "1.2.0",
            "_view_name": "StyleView",
            "description_width": ""
          }
        },
        "4f05699ce81f4a7ca88d53e3d69c2ff1": {
          "model_module": "@jupyter-widgets/base",
          "model_module_version": "1.2.0",
          "model_name": "LayoutModel",
          "state": {
            "_model_module": "@jupyter-widgets/base",
            "_model_module_version": "1.2.0",
            "_model_name": "LayoutModel",
            "_view_count": null,
            "_view_module": "@jupyter-widgets/base",
            "_view_module_version": "1.2.0",
            "_view_name": "LayoutView",
            "align_content": null,
            "align_items": null,
            "align_self": null,
            "border": null,
            "bottom": null,
            "display": null,
            "flex": null,
            "flex_flow": null,
            "grid_area": null,
            "grid_auto_columns": null,
            "grid_auto_flow": null,
            "grid_auto_rows": null,
            "grid_column": null,
            "grid_gap": null,
            "grid_row": null,
            "grid_template_areas": null,
            "grid_template_columns": null,
            "grid_template_rows": null,
            "height": null,
            "justify_content": null,
            "justify_items": null,
            "left": null,
            "margin": null,
            "max_height": null,
            "max_width": null,
            "min_height": null,
            "min_width": null,
            "object_fit": null,
            "object_position": null,
            "order": null,
            "overflow": null,
            "overflow_x": null,
            "overflow_y": null,
            "padding": null,
            "right": null,
            "top": null,
            "visibility": null,
            "width": null
          }
        },
        "734c26eea7af42b48744de8d5a7d085c": {
          "model_module": "@jupyter-widgets/controls",
          "model_module_version": "1.5.0",
          "model_name": "FloatProgressModel",
          "state": {
            "_dom_classes": [],
            "_model_module": "@jupyter-widgets/controls",
            "_model_module_version": "1.5.0",
            "_model_name": "FloatProgressModel",
            "_view_count": null,
            "_view_module": "@jupyter-widgets/controls",
            "_view_module_version": "1.5.0",
            "_view_name": "ProgressView",
            "bar_style": "success",
            "description": "",
            "description_tooltip": null,
            "layout": "IPY_MODEL_d6e5143bb81a45a3ab1643babb38cc2a",
            "max": 18780,
            "min": 0,
            "orientation": "horizontal",
            "style": "IPY_MODEL_ad2b6bda1c204da3bea178cef37e8f7b",
            "value": 18780
          }
        },
        "7ab3166ae0ce4c2bb8f9bd251a55af1a": {
          "model_module": "@jupyter-widgets/base",
          "model_module_version": "1.2.0",
          "model_name": "LayoutModel",
          "state": {
            "_model_module": "@jupyter-widgets/base",
            "_model_module_version": "1.2.0",
            "_model_name": "LayoutModel",
            "_view_count": null,
            "_view_module": "@jupyter-widgets/base",
            "_view_module_version": "1.2.0",
            "_view_name": "LayoutView",
            "align_content": null,
            "align_items": null,
            "align_self": null,
            "border": null,
            "bottom": null,
            "display": null,
            "flex": null,
            "flex_flow": null,
            "grid_area": null,
            "grid_auto_columns": null,
            "grid_auto_flow": null,
            "grid_auto_rows": null,
            "grid_column": null,
            "grid_gap": null,
            "grid_row": null,
            "grid_template_areas": null,
            "grid_template_columns": null,
            "grid_template_rows": null,
            "height": null,
            "justify_content": null,
            "justify_items": null,
            "left": null,
            "margin": null,
            "max_height": null,
            "max_width": null,
            "min_height": null,
            "min_width": null,
            "object_fit": null,
            "object_position": null,
            "order": null,
            "overflow": null,
            "overflow_x": null,
            "overflow_y": null,
            "padding": null,
            "right": null,
            "top": null,
            "visibility": null,
            "width": null
          }
        },
        "84dbfe9d502d446d935055d8943a881c": {
          "model_module": "@jupyter-widgets/controls",
          "model_module_version": "1.5.0",
          "model_name": "HTMLModel",
          "state": {
            "_dom_classes": [],
            "_model_module": "@jupyter-widgets/controls",
            "_model_module_version": "1.5.0",
            "_model_name": "HTMLModel",
            "_view_count": null,
            "_view_module": "@jupyter-widgets/controls",
            "_view_module_version": "1.5.0",
            "_view_name": "HTMLView",
            "description": "",
            "description_tooltip": null,
            "layout": "IPY_MODEL_076364dfc27d4b948633824475703ab4",
            "placeholder": "​",
            "style": "IPY_MODEL_3190cf98fe3b4a718e00d75eadba032a",
            "value": "100%"
          }
        },
        "ac63824347ec43a1a0c3094939e41b48": {
          "model_module": "@jupyter-widgets/controls",
          "model_module_version": "1.5.0",
          "model_name": "HTMLModel",
          "state": {
            "_dom_classes": [],
            "_model_module": "@jupyter-widgets/controls",
            "_model_module_version": "1.5.0",
            "_model_name": "HTMLModel",
            "_view_count": null,
            "_view_module": "@jupyter-widgets/controls",
            "_view_module_version": "1.5.0",
            "_view_name": "HTMLView",
            "description": "",
            "description_tooltip": null,
            "layout": "IPY_MODEL_7ab3166ae0ce4c2bb8f9bd251a55af1a",
            "placeholder": "​",
            "style": "IPY_MODEL_3b6ad94a5066409298c39fe441542b4f",
            "value": " 18780/18780 [01:49&lt;00:00, 282.47it/s]"
          }
        },
        "acd7633332f641899345ca835155cc37": {
          "model_module": "@jupyter-widgets/controls",
          "model_module_version": "1.5.0",
          "model_name": "HBoxModel",
          "state": {
            "_dom_classes": [],
            "_model_module": "@jupyter-widgets/controls",
            "_model_module_version": "1.5.0",
            "_model_name": "HBoxModel",
            "_view_count": null,
            "_view_module": "@jupyter-widgets/controls",
            "_view_module_version": "1.5.0",
            "_view_name": "HBoxView",
            "box_style": "",
            "children": [
              "IPY_MODEL_84dbfe9d502d446d935055d8943a881c",
              "IPY_MODEL_734c26eea7af42b48744de8d5a7d085c",
              "IPY_MODEL_ac63824347ec43a1a0c3094939e41b48"
            ],
            "layout": "IPY_MODEL_4f05699ce81f4a7ca88d53e3d69c2ff1"
          }
        },
        "ad2b6bda1c204da3bea178cef37e8f7b": {
          "model_module": "@jupyter-widgets/controls",
          "model_module_version": "1.5.0",
          "model_name": "ProgressStyleModel",
          "state": {
            "_model_module": "@jupyter-widgets/controls",
            "_model_module_version": "1.5.0",
            "_model_name": "ProgressStyleModel",
            "_view_count": null,
            "_view_module": "@jupyter-widgets/base",
            "_view_module_version": "1.2.0",
            "_view_name": "StyleView",
            "bar_color": null,
            "description_width": ""
          }
        },
        "d6e5143bb81a45a3ab1643babb38cc2a": {
          "model_module": "@jupyter-widgets/base",
          "model_module_version": "1.2.0",
          "model_name": "LayoutModel",
          "state": {
            "_model_module": "@jupyter-widgets/base",
            "_model_module_version": "1.2.0",
            "_model_name": "LayoutModel",
            "_view_count": null,
            "_view_module": "@jupyter-widgets/base",
            "_view_module_version": "1.2.0",
            "_view_name": "LayoutView",
            "align_content": null,
            "align_items": null,
            "align_self": null,
            "border": null,
            "bottom": null,
            "display": null,
            "flex": null,
            "flex_flow": null,
            "grid_area": null,
            "grid_auto_columns": null,
            "grid_auto_flow": null,
            "grid_auto_rows": null,
            "grid_column": null,
            "grid_gap": null,
            "grid_row": null,
            "grid_template_areas": null,
            "grid_template_columns": null,
            "grid_template_rows": null,
            "height": null,
            "justify_content": null,
            "justify_items": null,
            "left": null,
            "margin": null,
            "max_height": null,
            "max_width": null,
            "min_height": null,
            "min_width": null,
            "object_fit": null,
            "object_position": null,
            "order": null,
            "overflow": null,
            "overflow_x": null,
            "overflow_y": null,
            "padding": null,
            "right": null,
            "top": null,
            "visibility": null,
            "width": null
          }
        },
        "2eb1565327fb4dcf98156ba89a7cdcca": {
          "model_module": "@jupyter-widgets/controls",
          "model_name": "HBoxModel",
          "model_module_version": "1.5.0",
          "state": {
            "_dom_classes": [],
            "_model_module": "@jupyter-widgets/controls",
            "_model_module_version": "1.5.0",
            "_model_name": "HBoxModel",
            "_view_count": null,
            "_view_module": "@jupyter-widgets/controls",
            "_view_module_version": "1.5.0",
            "_view_name": "HBoxView",
            "box_style": "",
            "children": [
              "IPY_MODEL_a8fbf7cf0108448483404eddf87daeb5",
              "IPY_MODEL_86cd4e7f161c428f9aa55d0fd11ef58c",
              "IPY_MODEL_6d4ae823a8434b26849f7f54c3d2e893"
            ],
            "layout": "IPY_MODEL_bfa67431a044434d8395a06363278c80"
          }
        },
        "a8fbf7cf0108448483404eddf87daeb5": {
          "model_module": "@jupyter-widgets/controls",
          "model_name": "HTMLModel",
          "model_module_version": "1.5.0",
          "state": {
            "_dom_classes": [],
            "_model_module": "@jupyter-widgets/controls",
            "_model_module_version": "1.5.0",
            "_model_name": "HTMLModel",
            "_view_count": null,
            "_view_module": "@jupyter-widgets/controls",
            "_view_module_version": "1.5.0",
            "_view_name": "HTMLView",
            "description": "",
            "description_tooltip": null,
            "layout": "IPY_MODEL_702288ad408d4382b4658ac0c37298f0",
            "placeholder": "​",
            "style": "IPY_MODEL_e663cb1683aa4646a9898751719dc46d",
            "value": "Map: 100%"
          }
        },
        "86cd4e7f161c428f9aa55d0fd11ef58c": {
          "model_module": "@jupyter-widgets/controls",
          "model_name": "FloatProgressModel",
          "model_module_version": "1.5.0",
          "state": {
            "_dom_classes": [],
            "_model_module": "@jupyter-widgets/controls",
            "_model_module_version": "1.5.0",
            "_model_name": "FloatProgressModel",
            "_view_count": null,
            "_view_module": "@jupyter-widgets/controls",
            "_view_module_version": "1.5.0",
            "_view_name": "ProgressView",
            "bar_style": "success",
            "description": "",
            "description_tooltip": null,
            "layout": "IPY_MODEL_3d55c3443ae6419980edf6ebf0f20108",
            "max": 5984,
            "min": 0,
            "orientation": "horizontal",
            "style": "IPY_MODEL_d5d5a740ca394571b0daeb7da26698a2",
            "value": 5984
          }
        },
        "6d4ae823a8434b26849f7f54c3d2e893": {
          "model_module": "@jupyter-widgets/controls",
          "model_name": "HTMLModel",
          "model_module_version": "1.5.0",
          "state": {
            "_dom_classes": [],
            "_model_module": "@jupyter-widgets/controls",
            "_model_module_version": "1.5.0",
            "_model_name": "HTMLModel",
            "_view_count": null,
            "_view_module": "@jupyter-widgets/controls",
            "_view_module_version": "1.5.0",
            "_view_name": "HTMLView",
            "description": "",
            "description_tooltip": null,
            "layout": "IPY_MODEL_b281b471063d445b9ecf5bd7edc9e80a",
            "placeholder": "​",
            "style": "IPY_MODEL_3f76d7769bac4e2c84ce495b4184d09b",
            "value": " 5984/5984 [00:00&lt;00:00, 8168.94 examples/s]"
          }
        },
        "bfa67431a044434d8395a06363278c80": {
          "model_module": "@jupyter-widgets/base",
          "model_name": "LayoutModel",
          "model_module_version": "1.2.0",
          "state": {
            "_model_module": "@jupyter-widgets/base",
            "_model_module_version": "1.2.0",
            "_model_name": "LayoutModel",
            "_view_count": null,
            "_view_module": "@jupyter-widgets/base",
            "_view_module_version": "1.2.0",
            "_view_name": "LayoutView",
            "align_content": null,
            "align_items": null,
            "align_self": null,
            "border": null,
            "bottom": null,
            "display": null,
            "flex": null,
            "flex_flow": null,
            "grid_area": null,
            "grid_auto_columns": null,
            "grid_auto_flow": null,
            "grid_auto_rows": null,
            "grid_column": null,
            "grid_gap": null,
            "grid_row": null,
            "grid_template_areas": null,
            "grid_template_columns": null,
            "grid_template_rows": null,
            "height": null,
            "justify_content": null,
            "justify_items": null,
            "left": null,
            "margin": null,
            "max_height": null,
            "max_width": null,
            "min_height": null,
            "min_width": null,
            "object_fit": null,
            "object_position": null,
            "order": null,
            "overflow": null,
            "overflow_x": null,
            "overflow_y": null,
            "padding": null,
            "right": null,
            "top": null,
            "visibility": null,
            "width": null
          }
        },
        "702288ad408d4382b4658ac0c37298f0": {
          "model_module": "@jupyter-widgets/base",
          "model_name": "LayoutModel",
          "model_module_version": "1.2.0",
          "state": {
            "_model_module": "@jupyter-widgets/base",
            "_model_module_version": "1.2.0",
            "_model_name": "LayoutModel",
            "_view_count": null,
            "_view_module": "@jupyter-widgets/base",
            "_view_module_version": "1.2.0",
            "_view_name": "LayoutView",
            "align_content": null,
            "align_items": null,
            "align_self": null,
            "border": null,
            "bottom": null,
            "display": null,
            "flex": null,
            "flex_flow": null,
            "grid_area": null,
            "grid_auto_columns": null,
            "grid_auto_flow": null,
            "grid_auto_rows": null,
            "grid_column": null,
            "grid_gap": null,
            "grid_row": null,
            "grid_template_areas": null,
            "grid_template_columns": null,
            "grid_template_rows": null,
            "height": null,
            "justify_content": null,
            "justify_items": null,
            "left": null,
            "margin": null,
            "max_height": null,
            "max_width": null,
            "min_height": null,
            "min_width": null,
            "object_fit": null,
            "object_position": null,
            "order": null,
            "overflow": null,
            "overflow_x": null,
            "overflow_y": null,
            "padding": null,
            "right": null,
            "top": null,
            "visibility": null,
            "width": null
          }
        },
        "e663cb1683aa4646a9898751719dc46d": {
          "model_module": "@jupyter-widgets/controls",
          "model_name": "DescriptionStyleModel",
          "model_module_version": "1.5.0",
          "state": {
            "_model_module": "@jupyter-widgets/controls",
            "_model_module_version": "1.5.0",
            "_model_name": "DescriptionStyleModel",
            "_view_count": null,
            "_view_module": "@jupyter-widgets/base",
            "_view_module_version": "1.2.0",
            "_view_name": "StyleView",
            "description_width": ""
          }
        },
        "3d55c3443ae6419980edf6ebf0f20108": {
          "model_module": "@jupyter-widgets/base",
          "model_name": "LayoutModel",
          "model_module_version": "1.2.0",
          "state": {
            "_model_module": "@jupyter-widgets/base",
            "_model_module_version": "1.2.0",
            "_model_name": "LayoutModel",
            "_view_count": null,
            "_view_module": "@jupyter-widgets/base",
            "_view_module_version": "1.2.0",
            "_view_name": "LayoutView",
            "align_content": null,
            "align_items": null,
            "align_self": null,
            "border": null,
            "bottom": null,
            "display": null,
            "flex": null,
            "flex_flow": null,
            "grid_area": null,
            "grid_auto_columns": null,
            "grid_auto_flow": null,
            "grid_auto_rows": null,
            "grid_column": null,
            "grid_gap": null,
            "grid_row": null,
            "grid_template_areas": null,
            "grid_template_columns": null,
            "grid_template_rows": null,
            "height": null,
            "justify_content": null,
            "justify_items": null,
            "left": null,
            "margin": null,
            "max_height": null,
            "max_width": null,
            "min_height": null,
            "min_width": null,
            "object_fit": null,
            "object_position": null,
            "order": null,
            "overflow": null,
            "overflow_x": null,
            "overflow_y": null,
            "padding": null,
            "right": null,
            "top": null,
            "visibility": null,
            "width": null
          }
        },
        "d5d5a740ca394571b0daeb7da26698a2": {
          "model_module": "@jupyter-widgets/controls",
          "model_name": "ProgressStyleModel",
          "model_module_version": "1.5.0",
          "state": {
            "_model_module": "@jupyter-widgets/controls",
            "_model_module_version": "1.5.0",
            "_model_name": "ProgressStyleModel",
            "_view_count": null,
            "_view_module": "@jupyter-widgets/base",
            "_view_module_version": "1.2.0",
            "_view_name": "StyleView",
            "bar_color": null,
            "description_width": ""
          }
        },
        "b281b471063d445b9ecf5bd7edc9e80a": {
          "model_module": "@jupyter-widgets/base",
          "model_name": "LayoutModel",
          "model_module_version": "1.2.0",
          "state": {
            "_model_module": "@jupyter-widgets/base",
            "_model_module_version": "1.2.0",
            "_model_name": "LayoutModel",
            "_view_count": null,
            "_view_module": "@jupyter-widgets/base",
            "_view_module_version": "1.2.0",
            "_view_name": "LayoutView",
            "align_content": null,
            "align_items": null,
            "align_self": null,
            "border": null,
            "bottom": null,
            "display": null,
            "flex": null,
            "flex_flow": null,
            "grid_area": null,
            "grid_auto_columns": null,
            "grid_auto_flow": null,
            "grid_auto_rows": null,
            "grid_column": null,
            "grid_gap": null,
            "grid_row": null,
            "grid_template_areas": null,
            "grid_template_columns": null,
            "grid_template_rows": null,
            "height": null,
            "justify_content": null,
            "justify_items": null,
            "left": null,
            "margin": null,
            "max_height": null,
            "max_width": null,
            "min_height": null,
            "min_width": null,
            "object_fit": null,
            "object_position": null,
            "order": null,
            "overflow": null,
            "overflow_x": null,
            "overflow_y": null,
            "padding": null,
            "right": null,
            "top": null,
            "visibility": null,
            "width": null
          }
        },
        "3f76d7769bac4e2c84ce495b4184d09b": {
          "model_module": "@jupyter-widgets/controls",
          "model_name": "DescriptionStyleModel",
          "model_module_version": "1.5.0",
          "state": {
            "_model_module": "@jupyter-widgets/controls",
            "_model_module_version": "1.5.0",
            "_model_name": "DescriptionStyleModel",
            "_view_count": null,
            "_view_module": "@jupyter-widgets/base",
            "_view_module_version": "1.2.0",
            "_view_name": "StyleView",
            "description_width": ""
          }
        },
        "7d91877496c84af59ea865d5002a94a2": {
          "model_module": "@jupyter-widgets/controls",
          "model_name": "HBoxModel",
          "model_module_version": "1.5.0",
          "state": {
            "_dom_classes": [],
            "_model_module": "@jupyter-widgets/controls",
            "_model_module_version": "1.5.0",
            "_model_name": "HBoxModel",
            "_view_count": null,
            "_view_module": "@jupyter-widgets/controls",
            "_view_module_version": "1.5.0",
            "_view_name": "HBoxView",
            "box_style": "",
            "children": [
              "IPY_MODEL_c43b4b0b9acb4b0ca5a5a76295d7226c",
              "IPY_MODEL_a0043dacdd0e48c18e157fda34f2aef8",
              "IPY_MODEL_8b7b0c04113c4cba8be54a41230078d4"
            ],
            "layout": "IPY_MODEL_adc84fe7185c47c695d28c579bb07c22"
          }
        },
        "c43b4b0b9acb4b0ca5a5a76295d7226c": {
          "model_module": "@jupyter-widgets/controls",
          "model_name": "HTMLModel",
          "model_module_version": "1.5.0",
          "state": {
            "_dom_classes": [],
            "_model_module": "@jupyter-widgets/controls",
            "_model_module_version": "1.5.0",
            "_model_name": "HTMLModel",
            "_view_count": null,
            "_view_module": "@jupyter-widgets/controls",
            "_view_module_version": "1.5.0",
            "_view_name": "HTMLView",
            "description": "",
            "description_tooltip": null,
            "layout": "IPY_MODEL_edee5bd7d8274bde86b0724e729d02af",
            "placeholder": "​",
            "style": "IPY_MODEL_f6268369f4a347348d78b770b076d7a1",
            "value": "Map: 100%"
          }
        },
        "a0043dacdd0e48c18e157fda34f2aef8": {
          "model_module": "@jupyter-widgets/controls",
          "model_name": "FloatProgressModel",
          "model_module_version": "1.5.0",
          "state": {
            "_dom_classes": [],
            "_model_module": "@jupyter-widgets/controls",
            "_model_module_version": "1.5.0",
            "_model_name": "FloatProgressModel",
            "_view_count": null,
            "_view_module": "@jupyter-widgets/controls",
            "_view_module_version": "1.5.0",
            "_view_name": "ProgressView",
            "bar_style": "success",
            "description": "",
            "description_tooltip": null,
            "layout": "IPY_MODEL_de33cf868ed74ef3bccbef0fa835f469",
            "max": 797,
            "min": 0,
            "orientation": "horizontal",
            "style": "IPY_MODEL_7e7a15d08d294c41bb2901ad5ea741dd",
            "value": 797
          }
        },
        "8b7b0c04113c4cba8be54a41230078d4": {
          "model_module": "@jupyter-widgets/controls",
          "model_name": "HTMLModel",
          "model_module_version": "1.5.0",
          "state": {
            "_dom_classes": [],
            "_model_module": "@jupyter-widgets/controls",
            "_model_module_version": "1.5.0",
            "_model_name": "HTMLModel",
            "_view_count": null,
            "_view_module": "@jupyter-widgets/controls",
            "_view_module_version": "1.5.0",
            "_view_name": "HTMLView",
            "description": "",
            "description_tooltip": null,
            "layout": "IPY_MODEL_79938e404ce84e3296c92cce2294b133",
            "placeholder": "​",
            "style": "IPY_MODEL_0b8fdd1387cf4f538ec68c11bc5aa7fc",
            "value": " 797/797 [00:00&lt;00:00, 6144.81 examples/s]"
          }
        },
        "adc84fe7185c47c695d28c579bb07c22": {
          "model_module": "@jupyter-widgets/base",
          "model_name": "LayoutModel",
          "model_module_version": "1.2.0",
          "state": {
            "_model_module": "@jupyter-widgets/base",
            "_model_module_version": "1.2.0",
            "_model_name": "LayoutModel",
            "_view_count": null,
            "_view_module": "@jupyter-widgets/base",
            "_view_module_version": "1.2.0",
            "_view_name": "LayoutView",
            "align_content": null,
            "align_items": null,
            "align_self": null,
            "border": null,
            "bottom": null,
            "display": null,
            "flex": null,
            "flex_flow": null,
            "grid_area": null,
            "grid_auto_columns": null,
            "grid_auto_flow": null,
            "grid_auto_rows": null,
            "grid_column": null,
            "grid_gap": null,
            "grid_row": null,
            "grid_template_areas": null,
            "grid_template_columns": null,
            "grid_template_rows": null,
            "height": null,
            "justify_content": null,
            "justify_items": null,
            "left": null,
            "margin": null,
            "max_height": null,
            "max_width": null,
            "min_height": null,
            "min_width": null,
            "object_fit": null,
            "object_position": null,
            "order": null,
            "overflow": null,
            "overflow_x": null,
            "overflow_y": null,
            "padding": null,
            "right": null,
            "top": null,
            "visibility": null,
            "width": null
          }
        },
        "edee5bd7d8274bde86b0724e729d02af": {
          "model_module": "@jupyter-widgets/base",
          "model_name": "LayoutModel",
          "model_module_version": "1.2.0",
          "state": {
            "_model_module": "@jupyter-widgets/base",
            "_model_module_version": "1.2.0",
            "_model_name": "LayoutModel",
            "_view_count": null,
            "_view_module": "@jupyter-widgets/base",
            "_view_module_version": "1.2.0",
            "_view_name": "LayoutView",
            "align_content": null,
            "align_items": null,
            "align_self": null,
            "border": null,
            "bottom": null,
            "display": null,
            "flex": null,
            "flex_flow": null,
            "grid_area": null,
            "grid_auto_columns": null,
            "grid_auto_flow": null,
            "grid_auto_rows": null,
            "grid_column": null,
            "grid_gap": null,
            "grid_row": null,
            "grid_template_areas": null,
            "grid_template_columns": null,
            "grid_template_rows": null,
            "height": null,
            "justify_content": null,
            "justify_items": null,
            "left": null,
            "margin": null,
            "max_height": null,
            "max_width": null,
            "min_height": null,
            "min_width": null,
            "object_fit": null,
            "object_position": null,
            "order": null,
            "overflow": null,
            "overflow_x": null,
            "overflow_y": null,
            "padding": null,
            "right": null,
            "top": null,
            "visibility": null,
            "width": null
          }
        },
        "f6268369f4a347348d78b770b076d7a1": {
          "model_module": "@jupyter-widgets/controls",
          "model_name": "DescriptionStyleModel",
          "model_module_version": "1.5.0",
          "state": {
            "_model_module": "@jupyter-widgets/controls",
            "_model_module_version": "1.5.0",
            "_model_name": "DescriptionStyleModel",
            "_view_count": null,
            "_view_module": "@jupyter-widgets/base",
            "_view_module_version": "1.2.0",
            "_view_name": "StyleView",
            "description_width": ""
          }
        },
        "de33cf868ed74ef3bccbef0fa835f469": {
          "model_module": "@jupyter-widgets/base",
          "model_name": "LayoutModel",
          "model_module_version": "1.2.0",
          "state": {
            "_model_module": "@jupyter-widgets/base",
            "_model_module_version": "1.2.0",
            "_model_name": "LayoutModel",
            "_view_count": null,
            "_view_module": "@jupyter-widgets/base",
            "_view_module_version": "1.2.0",
            "_view_name": "LayoutView",
            "align_content": null,
            "align_items": null,
            "align_self": null,
            "border": null,
            "bottom": null,
            "display": null,
            "flex": null,
            "flex_flow": null,
            "grid_area": null,
            "grid_auto_columns": null,
            "grid_auto_flow": null,
            "grid_auto_rows": null,
            "grid_column": null,
            "grid_gap": null,
            "grid_row": null,
            "grid_template_areas": null,
            "grid_template_columns": null,
            "grid_template_rows": null,
            "height": null,
            "justify_content": null,
            "justify_items": null,
            "left": null,
            "margin": null,
            "max_height": null,
            "max_width": null,
            "min_height": null,
            "min_width": null,
            "object_fit": null,
            "object_position": null,
            "order": null,
            "overflow": null,
            "overflow_x": null,
            "overflow_y": null,
            "padding": null,
            "right": null,
            "top": null,
            "visibility": null,
            "width": null
          }
        },
        "7e7a15d08d294c41bb2901ad5ea741dd": {
          "model_module": "@jupyter-widgets/controls",
          "model_name": "ProgressStyleModel",
          "model_module_version": "1.5.0",
          "state": {
            "_model_module": "@jupyter-widgets/controls",
            "_model_module_version": "1.5.0",
            "_model_name": "ProgressStyleModel",
            "_view_count": null,
            "_view_module": "@jupyter-widgets/base",
            "_view_module_version": "1.2.0",
            "_view_name": "StyleView",
            "bar_color": null,
            "description_width": ""
          }
        },
        "79938e404ce84e3296c92cce2294b133": {
          "model_module": "@jupyter-widgets/base",
          "model_name": "LayoutModel",
          "model_module_version": "1.2.0",
          "state": {
            "_model_module": "@jupyter-widgets/base",
            "_model_module_version": "1.2.0",
            "_model_name": "LayoutModel",
            "_view_count": null,
            "_view_module": "@jupyter-widgets/base",
            "_view_module_version": "1.2.0",
            "_view_name": "LayoutView",
            "align_content": null,
            "align_items": null,
            "align_self": null,
            "border": null,
            "bottom": null,
            "display": null,
            "flex": null,
            "flex_flow": null,
            "grid_area": null,
            "grid_auto_columns": null,
            "grid_auto_flow": null,
            "grid_auto_rows": null,
            "grid_column": null,
            "grid_gap": null,
            "grid_row": null,
            "grid_template_areas": null,
            "grid_template_columns": null,
            "grid_template_rows": null,
            "height": null,
            "justify_content": null,
            "justify_items": null,
            "left": null,
            "margin": null,
            "max_height": null,
            "max_width": null,
            "min_height": null,
            "min_width": null,
            "object_fit": null,
            "object_position": null,
            "order": null,
            "overflow": null,
            "overflow_x": null,
            "overflow_y": null,
            "padding": null,
            "right": null,
            "top": null,
            "visibility": null,
            "width": null
          }
        },
        "0b8fdd1387cf4f538ec68c11bc5aa7fc": {
          "model_module": "@jupyter-widgets/controls",
          "model_name": "DescriptionStyleModel",
          "model_module_version": "1.5.0",
          "state": {
            "_model_module": "@jupyter-widgets/controls",
            "_model_module_version": "1.5.0",
            "_model_name": "DescriptionStyleModel",
            "_view_count": null,
            "_view_module": "@jupyter-widgets/base",
            "_view_module_version": "1.2.0",
            "_view_name": "StyleView",
            "description_width": ""
          }
        },
        "f0dde146907b464a9c999de65911fd33": {
          "model_module": "@jupyter-widgets/controls",
          "model_name": "HBoxModel",
          "model_module_version": "1.5.0",
          "state": {
            "_dom_classes": [],
            "_model_module": "@jupyter-widgets/controls",
            "_model_module_version": "1.5.0",
            "_model_name": "HBoxModel",
            "_view_count": null,
            "_view_module": "@jupyter-widgets/controls",
            "_view_module_version": "1.5.0",
            "_view_name": "HBoxView",
            "box_style": "",
            "children": [
              "IPY_MODEL_076e16756c164ab09f7777fe83f12962",
              "IPY_MODEL_13a0c104edeb44b6839bef78f77ba26c",
              "IPY_MODEL_fd95aeb1c3e541da80327fd4903451ae"
            ],
            "layout": "IPY_MODEL_7bc5c56a04ee4923b459738cd828e32b"
          }
        },
        "076e16756c164ab09f7777fe83f12962": {
          "model_module": "@jupyter-widgets/controls",
          "model_name": "HTMLModel",
          "model_module_version": "1.5.0",
          "state": {
            "_dom_classes": [],
            "_model_module": "@jupyter-widgets/controls",
            "_model_module_version": "1.5.0",
            "_model_name": "HTMLModel",
            "_view_count": null,
            "_view_module": "@jupyter-widgets/controls",
            "_view_module_version": "1.5.0",
            "_view_name": "HTMLView",
            "description": "",
            "description_tooltip": null,
            "layout": "IPY_MODEL_d513b57368a24808954e63d26d4f98c2",
            "placeholder": "​",
            "style": "IPY_MODEL_32133ec168b64ae0ad424bbcddde8ed7",
            "value": "Map: 100%"
          }
        },
        "13a0c104edeb44b6839bef78f77ba26c": {
          "model_module": "@jupyter-widgets/controls",
          "model_name": "FloatProgressModel",
          "model_module_version": "1.5.0",
          "state": {
            "_dom_classes": [],
            "_model_module": "@jupyter-widgets/controls",
            "_model_module_version": "1.5.0",
            "_model_name": "FloatProgressModel",
            "_view_count": null,
            "_view_module": "@jupyter-widgets/controls",
            "_view_module_version": "1.5.0",
            "_view_name": "ProgressView",
            "bar_style": "success",
            "description": "",
            "description_tooltip": null,
            "layout": "IPY_MODEL_a123766f738943ddb94c0500f1d7a704",
            "max": 1196,
            "min": 0,
            "orientation": "horizontal",
            "style": "IPY_MODEL_4d0431fb50194969b143f9f688c645c3",
            "value": 1196
          }
        },
        "fd95aeb1c3e541da80327fd4903451ae": {
          "model_module": "@jupyter-widgets/controls",
          "model_name": "HTMLModel",
          "model_module_version": "1.5.0",
          "state": {
            "_dom_classes": [],
            "_model_module": "@jupyter-widgets/controls",
            "_model_module_version": "1.5.0",
            "_model_name": "HTMLModel",
            "_view_count": null,
            "_view_module": "@jupyter-widgets/controls",
            "_view_module_version": "1.5.0",
            "_view_name": "HTMLView",
            "description": "",
            "description_tooltip": null,
            "layout": "IPY_MODEL_da9230b65bc44360a4f37647fd19b311",
            "placeholder": "​",
            "style": "IPY_MODEL_3875b5062d064000b2fcfa801f78d348",
            "value": " 1196/1196 [00:00&lt;00:00, 7037.90 examples/s]"
          }
        },
        "7bc5c56a04ee4923b459738cd828e32b": {
          "model_module": "@jupyter-widgets/base",
          "model_name": "LayoutModel",
          "model_module_version": "1.2.0",
          "state": {
            "_model_module": "@jupyter-widgets/base",
            "_model_module_version": "1.2.0",
            "_model_name": "LayoutModel",
            "_view_count": null,
            "_view_module": "@jupyter-widgets/base",
            "_view_module_version": "1.2.0",
            "_view_name": "LayoutView",
            "align_content": null,
            "align_items": null,
            "align_self": null,
            "border": null,
            "bottom": null,
            "display": null,
            "flex": null,
            "flex_flow": null,
            "grid_area": null,
            "grid_auto_columns": null,
            "grid_auto_flow": null,
            "grid_auto_rows": null,
            "grid_column": null,
            "grid_gap": null,
            "grid_row": null,
            "grid_template_areas": null,
            "grid_template_columns": null,
            "grid_template_rows": null,
            "height": null,
            "justify_content": null,
            "justify_items": null,
            "left": null,
            "margin": null,
            "max_height": null,
            "max_width": null,
            "min_height": null,
            "min_width": null,
            "object_fit": null,
            "object_position": null,
            "order": null,
            "overflow": null,
            "overflow_x": null,
            "overflow_y": null,
            "padding": null,
            "right": null,
            "top": null,
            "visibility": null,
            "width": null
          }
        },
        "d513b57368a24808954e63d26d4f98c2": {
          "model_module": "@jupyter-widgets/base",
          "model_name": "LayoutModel",
          "model_module_version": "1.2.0",
          "state": {
            "_model_module": "@jupyter-widgets/base",
            "_model_module_version": "1.2.0",
            "_model_name": "LayoutModel",
            "_view_count": null,
            "_view_module": "@jupyter-widgets/base",
            "_view_module_version": "1.2.0",
            "_view_name": "LayoutView",
            "align_content": null,
            "align_items": null,
            "align_self": null,
            "border": null,
            "bottom": null,
            "display": null,
            "flex": null,
            "flex_flow": null,
            "grid_area": null,
            "grid_auto_columns": null,
            "grid_auto_flow": null,
            "grid_auto_rows": null,
            "grid_column": null,
            "grid_gap": null,
            "grid_row": null,
            "grid_template_areas": null,
            "grid_template_columns": null,
            "grid_template_rows": null,
            "height": null,
            "justify_content": null,
            "justify_items": null,
            "left": null,
            "margin": null,
            "max_height": null,
            "max_width": null,
            "min_height": null,
            "min_width": null,
            "object_fit": null,
            "object_position": null,
            "order": null,
            "overflow": null,
            "overflow_x": null,
            "overflow_y": null,
            "padding": null,
            "right": null,
            "top": null,
            "visibility": null,
            "width": null
          }
        },
        "32133ec168b64ae0ad424bbcddde8ed7": {
          "model_module": "@jupyter-widgets/controls",
          "model_name": "DescriptionStyleModel",
          "model_module_version": "1.5.0",
          "state": {
            "_model_module": "@jupyter-widgets/controls",
            "_model_module_version": "1.5.0",
            "_model_name": "DescriptionStyleModel",
            "_view_count": null,
            "_view_module": "@jupyter-widgets/base",
            "_view_module_version": "1.2.0",
            "_view_name": "StyleView",
            "description_width": ""
          }
        },
        "a123766f738943ddb94c0500f1d7a704": {
          "model_module": "@jupyter-widgets/base",
          "model_name": "LayoutModel",
          "model_module_version": "1.2.0",
          "state": {
            "_model_module": "@jupyter-widgets/base",
            "_model_module_version": "1.2.0",
            "_model_name": "LayoutModel",
            "_view_count": null,
            "_view_module": "@jupyter-widgets/base",
            "_view_module_version": "1.2.0",
            "_view_name": "LayoutView",
            "align_content": null,
            "align_items": null,
            "align_self": null,
            "border": null,
            "bottom": null,
            "display": null,
            "flex": null,
            "flex_flow": null,
            "grid_area": null,
            "grid_auto_columns": null,
            "grid_auto_flow": null,
            "grid_auto_rows": null,
            "grid_column": null,
            "grid_gap": null,
            "grid_row": null,
            "grid_template_areas": null,
            "grid_template_columns": null,
            "grid_template_rows": null,
            "height": null,
            "justify_content": null,
            "justify_items": null,
            "left": null,
            "margin": null,
            "max_height": null,
            "max_width": null,
            "min_height": null,
            "min_width": null,
            "object_fit": null,
            "object_position": null,
            "order": null,
            "overflow": null,
            "overflow_x": null,
            "overflow_y": null,
            "padding": null,
            "right": null,
            "top": null,
            "visibility": null,
            "width": null
          }
        },
        "4d0431fb50194969b143f9f688c645c3": {
          "model_module": "@jupyter-widgets/controls",
          "model_name": "ProgressStyleModel",
          "model_module_version": "1.5.0",
          "state": {
            "_model_module": "@jupyter-widgets/controls",
            "_model_module_version": "1.5.0",
            "_model_name": "ProgressStyleModel",
            "_view_count": null,
            "_view_module": "@jupyter-widgets/base",
            "_view_module_version": "1.2.0",
            "_view_name": "StyleView",
            "bar_color": null,
            "description_width": ""
          }
        },
        "da9230b65bc44360a4f37647fd19b311": {
          "model_module": "@jupyter-widgets/base",
          "model_name": "LayoutModel",
          "model_module_version": "1.2.0",
          "state": {
            "_model_module": "@jupyter-widgets/base",
            "_model_module_version": "1.2.0",
            "_model_name": "LayoutModel",
            "_view_count": null,
            "_view_module": "@jupyter-widgets/base",
            "_view_module_version": "1.2.0",
            "_view_name": "LayoutView",
            "align_content": null,
            "align_items": null,
            "align_self": null,
            "border": null,
            "bottom": null,
            "display": null,
            "flex": null,
            "flex_flow": null,
            "grid_area": null,
            "grid_auto_columns": null,
            "grid_auto_flow": null,
            "grid_auto_rows": null,
            "grid_column": null,
            "grid_gap": null,
            "grid_row": null,
            "grid_template_areas": null,
            "grid_template_columns": null,
            "grid_template_rows": null,
            "height": null,
            "justify_content": null,
            "justify_items": null,
            "left": null,
            "margin": null,
            "max_height": null,
            "max_width": null,
            "min_height": null,
            "min_width": null,
            "object_fit": null,
            "object_position": null,
            "order": null,
            "overflow": null,
            "overflow_x": null,
            "overflow_y": null,
            "padding": null,
            "right": null,
            "top": null,
            "visibility": null,
            "width": null
          }
        },
        "3875b5062d064000b2fcfa801f78d348": {
          "model_module": "@jupyter-widgets/controls",
          "model_name": "DescriptionStyleModel",
          "model_module_version": "1.5.0",
          "state": {
            "_model_module": "@jupyter-widgets/controls",
            "_model_module_version": "1.5.0",
            "_model_name": "DescriptionStyleModel",
            "_view_count": null,
            "_view_module": "@jupyter-widgets/base",
            "_view_module_version": "1.2.0",
            "_view_name": "StyleView",
            "description_width": ""
          }
        },
        "a4facc11ea4648f9baed42d1f0a5d793": {
          "model_module": "@jupyter-widgets/controls",
          "model_name": "HBoxModel",
          "model_module_version": "1.5.0",
          "state": {
            "_dom_classes": [],
            "_model_module": "@jupyter-widgets/controls",
            "_model_module_version": "1.5.0",
            "_model_name": "HBoxModel",
            "_view_count": null,
            "_view_module": "@jupyter-widgets/controls",
            "_view_module_version": "1.5.0",
            "_view_name": "HBoxView",
            "box_style": "",
            "children": [
              "IPY_MODEL_ba4620f2964643ee9a952ac3c43bfd7f",
              "IPY_MODEL_ecdafcaa2ffd48369c86d30074095d14",
              "IPY_MODEL_fbccba82bfff4dc99af9d28e9487cb5a"
            ],
            "layout": "IPY_MODEL_c6366db6e73c48c399f0f1e138a96595"
          }
        },
        "ba4620f2964643ee9a952ac3c43bfd7f": {
          "model_module": "@jupyter-widgets/controls",
          "model_name": "HTMLModel",
          "model_module_version": "1.5.0",
          "state": {
            "_dom_classes": [],
            "_model_module": "@jupyter-widgets/controls",
            "_model_module_version": "1.5.0",
            "_model_name": "HTMLModel",
            "_view_count": null,
            "_view_module": "@jupyter-widgets/controls",
            "_view_module_version": "1.5.0",
            "_view_name": "HTMLView",
            "description": "",
            "description_tooltip": null,
            "layout": "IPY_MODEL_19022a66f7cc4e7f8510f104ee59165f",
            "placeholder": "​",
            "style": "IPY_MODEL_a99e8c13fc68459b86402316b89ad524",
            "value": "Downloading config.json: 100%"
          }
        },
        "ecdafcaa2ffd48369c86d30074095d14": {
          "model_module": "@jupyter-widgets/controls",
          "model_name": "FloatProgressModel",
          "model_module_version": "1.5.0",
          "state": {
            "_dom_classes": [],
            "_model_module": "@jupyter-widgets/controls",
            "_model_module_version": "1.5.0",
            "_model_name": "FloatProgressModel",
            "_view_count": null,
            "_view_module": "@jupyter-widgets/controls",
            "_view_module_version": "1.5.0",
            "_view_name": "ProgressView",
            "bar_style": "success",
            "description": "",
            "description_tooltip": null,
            "layout": "IPY_MODEL_2395eae592884c99b5b09adc357b50e1",
            "max": 908,
            "min": 0,
            "orientation": "horizontal",
            "style": "IPY_MODEL_69321e4fff1a4766aabbb237592afd91",
            "value": 908
          }
        },
        "fbccba82bfff4dc99af9d28e9487cb5a": {
          "model_module": "@jupyter-widgets/controls",
          "model_name": "HTMLModel",
          "model_module_version": "1.5.0",
          "state": {
            "_dom_classes": [],
            "_model_module": "@jupyter-widgets/controls",
            "_model_module_version": "1.5.0",
            "_model_name": "HTMLModel",
            "_view_count": null,
            "_view_module": "@jupyter-widgets/controls",
            "_view_module_version": "1.5.0",
            "_view_name": "HTMLView",
            "description": "",
            "description_tooltip": null,
            "layout": "IPY_MODEL_2715cb616a184dbc859549bfbbe915da",
            "placeholder": "​",
            "style": "IPY_MODEL_eb23b5bb7111494ab247730319d4bfe9",
            "value": " 908/908 [00:00&lt;00:00, 48.8kB/s]"
          }
        },
        "c6366db6e73c48c399f0f1e138a96595": {
          "model_module": "@jupyter-widgets/base",
          "model_name": "LayoutModel",
          "model_module_version": "1.2.0",
          "state": {
            "_model_module": "@jupyter-widgets/base",
            "_model_module_version": "1.2.0",
            "_model_name": "LayoutModel",
            "_view_count": null,
            "_view_module": "@jupyter-widgets/base",
            "_view_module_version": "1.2.0",
            "_view_name": "LayoutView",
            "align_content": null,
            "align_items": null,
            "align_self": null,
            "border": null,
            "bottom": null,
            "display": null,
            "flex": null,
            "flex_flow": null,
            "grid_area": null,
            "grid_auto_columns": null,
            "grid_auto_flow": null,
            "grid_auto_rows": null,
            "grid_column": null,
            "grid_gap": null,
            "grid_row": null,
            "grid_template_areas": null,
            "grid_template_columns": null,
            "grid_template_rows": null,
            "height": null,
            "justify_content": null,
            "justify_items": null,
            "left": null,
            "margin": null,
            "max_height": null,
            "max_width": null,
            "min_height": null,
            "min_width": null,
            "object_fit": null,
            "object_position": null,
            "order": null,
            "overflow": null,
            "overflow_x": null,
            "overflow_y": null,
            "padding": null,
            "right": null,
            "top": null,
            "visibility": null,
            "width": null
          }
        },
        "19022a66f7cc4e7f8510f104ee59165f": {
          "model_module": "@jupyter-widgets/base",
          "model_name": "LayoutModel",
          "model_module_version": "1.2.0",
          "state": {
            "_model_module": "@jupyter-widgets/base",
            "_model_module_version": "1.2.0",
            "_model_name": "LayoutModel",
            "_view_count": null,
            "_view_module": "@jupyter-widgets/base",
            "_view_module_version": "1.2.0",
            "_view_name": "LayoutView",
            "align_content": null,
            "align_items": null,
            "align_self": null,
            "border": null,
            "bottom": null,
            "display": null,
            "flex": null,
            "flex_flow": null,
            "grid_area": null,
            "grid_auto_columns": null,
            "grid_auto_flow": null,
            "grid_auto_rows": null,
            "grid_column": null,
            "grid_gap": null,
            "grid_row": null,
            "grid_template_areas": null,
            "grid_template_columns": null,
            "grid_template_rows": null,
            "height": null,
            "justify_content": null,
            "justify_items": null,
            "left": null,
            "margin": null,
            "max_height": null,
            "max_width": null,
            "min_height": null,
            "min_width": null,
            "object_fit": null,
            "object_position": null,
            "order": null,
            "overflow": null,
            "overflow_x": null,
            "overflow_y": null,
            "padding": null,
            "right": null,
            "top": null,
            "visibility": null,
            "width": null
          }
        },
        "a99e8c13fc68459b86402316b89ad524": {
          "model_module": "@jupyter-widgets/controls",
          "model_name": "DescriptionStyleModel",
          "model_module_version": "1.5.0",
          "state": {
            "_model_module": "@jupyter-widgets/controls",
            "_model_module_version": "1.5.0",
            "_model_name": "DescriptionStyleModel",
            "_view_count": null,
            "_view_module": "@jupyter-widgets/base",
            "_view_module_version": "1.2.0",
            "_view_name": "StyleView",
            "description_width": ""
          }
        },
        "2395eae592884c99b5b09adc357b50e1": {
          "model_module": "@jupyter-widgets/base",
          "model_name": "LayoutModel",
          "model_module_version": "1.2.0",
          "state": {
            "_model_module": "@jupyter-widgets/base",
            "_model_module_version": "1.2.0",
            "_model_name": "LayoutModel",
            "_view_count": null,
            "_view_module": "@jupyter-widgets/base",
            "_view_module_version": "1.2.0",
            "_view_name": "LayoutView",
            "align_content": null,
            "align_items": null,
            "align_self": null,
            "border": null,
            "bottom": null,
            "display": null,
            "flex": null,
            "flex_flow": null,
            "grid_area": null,
            "grid_auto_columns": null,
            "grid_auto_flow": null,
            "grid_auto_rows": null,
            "grid_column": null,
            "grid_gap": null,
            "grid_row": null,
            "grid_template_areas": null,
            "grid_template_columns": null,
            "grid_template_rows": null,
            "height": null,
            "justify_content": null,
            "justify_items": null,
            "left": null,
            "margin": null,
            "max_height": null,
            "max_width": null,
            "min_height": null,
            "min_width": null,
            "object_fit": null,
            "object_position": null,
            "order": null,
            "overflow": null,
            "overflow_x": null,
            "overflow_y": null,
            "padding": null,
            "right": null,
            "top": null,
            "visibility": null,
            "width": null
          }
        },
        "69321e4fff1a4766aabbb237592afd91": {
          "model_module": "@jupyter-widgets/controls",
          "model_name": "ProgressStyleModel",
          "model_module_version": "1.5.0",
          "state": {
            "_model_module": "@jupyter-widgets/controls",
            "_model_module_version": "1.5.0",
            "_model_name": "ProgressStyleModel",
            "_view_count": null,
            "_view_module": "@jupyter-widgets/base",
            "_view_module_version": "1.2.0",
            "_view_name": "StyleView",
            "bar_color": null,
            "description_width": ""
          }
        },
        "2715cb616a184dbc859549bfbbe915da": {
          "model_module": "@jupyter-widgets/base",
          "model_name": "LayoutModel",
          "model_module_version": "1.2.0",
          "state": {
            "_model_module": "@jupyter-widgets/base",
            "_model_module_version": "1.2.0",
            "_model_name": "LayoutModel",
            "_view_count": null,
            "_view_module": "@jupyter-widgets/base",
            "_view_module_version": "1.2.0",
            "_view_name": "LayoutView",
            "align_content": null,
            "align_items": null,
            "align_self": null,
            "border": null,
            "bottom": null,
            "display": null,
            "flex": null,
            "flex_flow": null,
            "grid_area": null,
            "grid_auto_columns": null,
            "grid_auto_flow": null,
            "grid_auto_rows": null,
            "grid_column": null,
            "grid_gap": null,
            "grid_row": null,
            "grid_template_areas": null,
            "grid_template_columns": null,
            "grid_template_rows": null,
            "height": null,
            "justify_content": null,
            "justify_items": null,
            "left": null,
            "margin": null,
            "max_height": null,
            "max_width": null,
            "min_height": null,
            "min_width": null,
            "object_fit": null,
            "object_position": null,
            "order": null,
            "overflow": null,
            "overflow_x": null,
            "overflow_y": null,
            "padding": null,
            "right": null,
            "top": null,
            "visibility": null,
            "width": null
          }
        },
        "eb23b5bb7111494ab247730319d4bfe9": {
          "model_module": "@jupyter-widgets/controls",
          "model_name": "DescriptionStyleModel",
          "model_module_version": "1.5.0",
          "state": {
            "_model_module": "@jupyter-widgets/controls",
            "_model_module_version": "1.5.0",
            "_model_name": "DescriptionStyleModel",
            "_view_count": null,
            "_view_module": "@jupyter-widgets/base",
            "_view_module_version": "1.2.0",
            "_view_name": "StyleView",
            "description_width": ""
          }
        },
        "ff5b1a1481344a3c9ce92b5c6041fae2": {
          "model_module": "@jupyter-widgets/controls",
          "model_name": "HBoxModel",
          "model_module_version": "1.5.0",
          "state": {
            "_dom_classes": [],
            "_model_module": "@jupyter-widgets/controls",
            "_model_module_version": "1.5.0",
            "_model_name": "HBoxModel",
            "_view_count": null,
            "_view_module": "@jupyter-widgets/controls",
            "_view_module_version": "1.5.0",
            "_view_name": "HBoxView",
            "box_style": "",
            "children": [
              "IPY_MODEL_2b5aed6039b242abb88e71f9b9a0f1e7",
              "IPY_MODEL_b5731c0e55934c21bad53b748a60c423",
              "IPY_MODEL_dccf1e58793f42169ee0d0008f2effd8"
            ],
            "layout": "IPY_MODEL_2a85438bf2f04cc4afc59ca2b154d357"
          }
        },
        "2b5aed6039b242abb88e71f9b9a0f1e7": {
          "model_module": "@jupyter-widgets/controls",
          "model_name": "HTMLModel",
          "model_module_version": "1.5.0",
          "state": {
            "_dom_classes": [],
            "_model_module": "@jupyter-widgets/controls",
            "_model_module_version": "1.5.0",
            "_model_name": "HTMLModel",
            "_view_count": null,
            "_view_module": "@jupyter-widgets/controls",
            "_view_module_version": "1.5.0",
            "_view_name": "HTMLView",
            "description": "",
            "description_tooltip": null,
            "layout": "IPY_MODEL_72c92c66286e41a2a270e3622a5cdff9",
            "placeholder": "​",
            "style": "IPY_MODEL_6cfd2364a4534b879acf0afce00058ea",
            "value": "Downloading pytorch_model.bin: 100%"
          }
        },
        "b5731c0e55934c21bad53b748a60c423": {
          "model_module": "@jupyter-widgets/controls",
          "model_name": "FloatProgressModel",
          "model_module_version": "1.5.0",
          "state": {
            "_dom_classes": [],
            "_model_module": "@jupyter-widgets/controls",
            "_model_module_version": "1.5.0",
            "_model_name": "FloatProgressModel",
            "_view_count": null,
            "_view_module": "@jupyter-widgets/controls",
            "_view_module_version": "1.5.0",
            "_view_name": "ProgressView",
            "bar_style": "success",
            "description": "",
            "description_tooltip": null,
            "layout": "IPY_MODEL_9dab22b8a7d947bbb29d169678c16a63",
            "max": 1935796948,
            "min": 0,
            "orientation": "horizontal",
            "style": "IPY_MODEL_83443ff4ac304734b906343a2865a423",
            "value": 1935796948
          }
        },
        "dccf1e58793f42169ee0d0008f2effd8": {
          "model_module": "@jupyter-widgets/controls",
          "model_name": "HTMLModel",
          "model_module_version": "1.5.0",
          "state": {
            "_dom_classes": [],
            "_model_module": "@jupyter-widgets/controls",
            "_model_module_version": "1.5.0",
            "_model_name": "HTMLModel",
            "_view_count": null,
            "_view_module": "@jupyter-widgets/controls",
            "_view_module_version": "1.5.0",
            "_view_name": "HTMLView",
            "description": "",
            "description_tooltip": null,
            "layout": "IPY_MODEL_9aeb8661038b454893215dc06a76c4a2",
            "placeholder": "​",
            "style": "IPY_MODEL_c6f68fac8a8549ac9e2444fbad173d36",
            "value": " 1.94G/1.94G [00:23&lt;00:00, 128MB/s]"
          }
        },
        "2a85438bf2f04cc4afc59ca2b154d357": {
          "model_module": "@jupyter-widgets/base",
          "model_name": "LayoutModel",
          "model_module_version": "1.2.0",
          "state": {
            "_model_module": "@jupyter-widgets/base",
            "_model_module_version": "1.2.0",
            "_model_name": "LayoutModel",
            "_view_count": null,
            "_view_module": "@jupyter-widgets/base",
            "_view_module_version": "1.2.0",
            "_view_name": "LayoutView",
            "align_content": null,
            "align_items": null,
            "align_self": null,
            "border": null,
            "bottom": null,
            "display": null,
            "flex": null,
            "flex_flow": null,
            "grid_area": null,
            "grid_auto_columns": null,
            "grid_auto_flow": null,
            "grid_auto_rows": null,
            "grid_column": null,
            "grid_gap": null,
            "grid_row": null,
            "grid_template_areas": null,
            "grid_template_columns": null,
            "grid_template_rows": null,
            "height": null,
            "justify_content": null,
            "justify_items": null,
            "left": null,
            "margin": null,
            "max_height": null,
            "max_width": null,
            "min_height": null,
            "min_width": null,
            "object_fit": null,
            "object_position": null,
            "order": null,
            "overflow": null,
            "overflow_x": null,
            "overflow_y": null,
            "padding": null,
            "right": null,
            "top": null,
            "visibility": null,
            "width": null
          }
        },
        "72c92c66286e41a2a270e3622a5cdff9": {
          "model_module": "@jupyter-widgets/base",
          "model_name": "LayoutModel",
          "model_module_version": "1.2.0",
          "state": {
            "_model_module": "@jupyter-widgets/base",
            "_model_module_version": "1.2.0",
            "_model_name": "LayoutModel",
            "_view_count": null,
            "_view_module": "@jupyter-widgets/base",
            "_view_module_version": "1.2.0",
            "_view_name": "LayoutView",
            "align_content": null,
            "align_items": null,
            "align_self": null,
            "border": null,
            "bottom": null,
            "display": null,
            "flex": null,
            "flex_flow": null,
            "grid_area": null,
            "grid_auto_columns": null,
            "grid_auto_flow": null,
            "grid_auto_rows": null,
            "grid_column": null,
            "grid_gap": null,
            "grid_row": null,
            "grid_template_areas": null,
            "grid_template_columns": null,
            "grid_template_rows": null,
            "height": null,
            "justify_content": null,
            "justify_items": null,
            "left": null,
            "margin": null,
            "max_height": null,
            "max_width": null,
            "min_height": null,
            "min_width": null,
            "object_fit": null,
            "object_position": null,
            "order": null,
            "overflow": null,
            "overflow_x": null,
            "overflow_y": null,
            "padding": null,
            "right": null,
            "top": null,
            "visibility": null,
            "width": null
          }
        },
        "6cfd2364a4534b879acf0afce00058ea": {
          "model_module": "@jupyter-widgets/controls",
          "model_name": "DescriptionStyleModel",
          "model_module_version": "1.5.0",
          "state": {
            "_model_module": "@jupyter-widgets/controls",
            "_model_module_version": "1.5.0",
            "_model_name": "DescriptionStyleModel",
            "_view_count": null,
            "_view_module": "@jupyter-widgets/base",
            "_view_module_version": "1.2.0",
            "_view_name": "StyleView",
            "description_width": ""
          }
        },
        "9dab22b8a7d947bbb29d169678c16a63": {
          "model_module": "@jupyter-widgets/base",
          "model_name": "LayoutModel",
          "model_module_version": "1.2.0",
          "state": {
            "_model_module": "@jupyter-widgets/base",
            "_model_module_version": "1.2.0",
            "_model_name": "LayoutModel",
            "_view_count": null,
            "_view_module": "@jupyter-widgets/base",
            "_view_module_version": "1.2.0",
            "_view_name": "LayoutView",
            "align_content": null,
            "align_items": null,
            "align_self": null,
            "border": null,
            "bottom": null,
            "display": null,
            "flex": null,
            "flex_flow": null,
            "grid_area": null,
            "grid_auto_columns": null,
            "grid_auto_flow": null,
            "grid_auto_rows": null,
            "grid_column": null,
            "grid_gap": null,
            "grid_row": null,
            "grid_template_areas": null,
            "grid_template_columns": null,
            "grid_template_rows": null,
            "height": null,
            "justify_content": null,
            "justify_items": null,
            "left": null,
            "margin": null,
            "max_height": null,
            "max_width": null,
            "min_height": null,
            "min_width": null,
            "object_fit": null,
            "object_position": null,
            "order": null,
            "overflow": null,
            "overflow_x": null,
            "overflow_y": null,
            "padding": null,
            "right": null,
            "top": null,
            "visibility": null,
            "width": null
          }
        },
        "83443ff4ac304734b906343a2865a423": {
          "model_module": "@jupyter-widgets/controls",
          "model_name": "ProgressStyleModel",
          "model_module_version": "1.5.0",
          "state": {
            "_model_module": "@jupyter-widgets/controls",
            "_model_module_version": "1.5.0",
            "_model_name": "ProgressStyleModel",
            "_view_count": null,
            "_view_module": "@jupyter-widgets/base",
            "_view_module_version": "1.2.0",
            "_view_name": "StyleView",
            "bar_color": null,
            "description_width": ""
          }
        },
        "9aeb8661038b454893215dc06a76c4a2": {
          "model_module": "@jupyter-widgets/base",
          "model_name": "LayoutModel",
          "model_module_version": "1.2.0",
          "state": {
            "_model_module": "@jupyter-widgets/base",
            "_model_module_version": "1.2.0",
            "_model_name": "LayoutModel",
            "_view_count": null,
            "_view_module": "@jupyter-widgets/base",
            "_view_module_version": "1.2.0",
            "_view_name": "LayoutView",
            "align_content": null,
            "align_items": null,
            "align_self": null,
            "border": null,
            "bottom": null,
            "display": null,
            "flex": null,
            "flex_flow": null,
            "grid_area": null,
            "grid_auto_columns": null,
            "grid_auto_flow": null,
            "grid_auto_rows": null,
            "grid_column": null,
            "grid_gap": null,
            "grid_row": null,
            "grid_template_areas": null,
            "grid_template_columns": null,
            "grid_template_rows": null,
            "height": null,
            "justify_content": null,
            "justify_items": null,
            "left": null,
            "margin": null,
            "max_height": null,
            "max_width": null,
            "min_height": null,
            "min_width": null,
            "object_fit": null,
            "object_position": null,
            "order": null,
            "overflow": null,
            "overflow_x": null,
            "overflow_y": null,
            "padding": null,
            "right": null,
            "top": null,
            "visibility": null,
            "width": null
          }
        },
        "c6f68fac8a8549ac9e2444fbad173d36": {
          "model_module": "@jupyter-widgets/controls",
          "model_name": "DescriptionStyleModel",
          "model_module_version": "1.5.0",
          "state": {
            "_model_module": "@jupyter-widgets/controls",
            "_model_module_version": "1.5.0",
            "_model_name": "DescriptionStyleModel",
            "_view_count": null,
            "_view_module": "@jupyter-widgets/base",
            "_view_module_version": "1.2.0",
            "_view_name": "StyleView",
            "description_width": ""
          }
        },
        "7646d949444d40c2bf0a216f1525947a": {
          "model_module": "@jupyter-widgets/controls",
          "model_name": "HBoxModel",
          "model_module_version": "1.5.0",
          "state": {
            "_dom_classes": [],
            "_model_module": "@jupyter-widgets/controls",
            "_model_module_version": "1.5.0",
            "_model_name": "HBoxModel",
            "_view_count": null,
            "_view_module": "@jupyter-widgets/controls",
            "_view_module_version": "1.5.0",
            "_view_name": "HBoxView",
            "box_style": "",
            "children": [
              "IPY_MODEL_2ce3201291c246f790af2ee91e5c4a2b",
              "IPY_MODEL_577b0c1555954c01aee4174bf56dc822",
              "IPY_MODEL_5b329777d8214d34a29cf04c8b356d05"
            ],
            "layout": "IPY_MODEL_56c26b0d646c4bb2b1a4263c93badc90"
          }
        },
        "2ce3201291c246f790af2ee91e5c4a2b": {
          "model_module": "@jupyter-widgets/controls",
          "model_name": "HTMLModel",
          "model_module_version": "1.5.0",
          "state": {
            "_dom_classes": [],
            "_model_module": "@jupyter-widgets/controls",
            "_model_module_version": "1.5.0",
            "_model_name": "HTMLModel",
            "_view_count": null,
            "_view_module": "@jupyter-widgets/controls",
            "_view_module_version": "1.5.0",
            "_view_name": "HTMLView",
            "description": "",
            "description_tooltip": null,
            "layout": "IPY_MODEL_2c0da82eceb94cd49b7cf24e4ea0cdee",
            "placeholder": "​",
            "style": "IPY_MODEL_43655d6d45d149e89bcf73aa4029a987",
            "value": "Downloading generation_config.json: 100%"
          }
        },
        "577b0c1555954c01aee4174bf56dc822": {
          "model_module": "@jupyter-widgets/controls",
          "model_name": "FloatProgressModel",
          "model_module_version": "1.5.0",
          "state": {
            "_dom_classes": [],
            "_model_module": "@jupyter-widgets/controls",
            "_model_module_version": "1.5.0",
            "_model_name": "FloatProgressModel",
            "_view_count": null,
            "_view_module": "@jupyter-widgets/controls",
            "_view_module_version": "1.5.0",
            "_view_name": "ProgressView",
            "bar_style": "success",
            "description": "",
            "description_tooltip": null,
            "layout": "IPY_MODEL_691a20b3bbc840ebb2e32396162f91f3",
            "max": 233,
            "min": 0,
            "orientation": "horizontal",
            "style": "IPY_MODEL_1ac4c6dcb91a44f6bf2241a9249696be",
            "value": 233
          }
        },
        "5b329777d8214d34a29cf04c8b356d05": {
          "model_module": "@jupyter-widgets/controls",
          "model_name": "HTMLModel",
          "model_module_version": "1.5.0",
          "state": {
            "_dom_classes": [],
            "_model_module": "@jupyter-widgets/controls",
            "_model_module_version": "1.5.0",
            "_model_name": "HTMLModel",
            "_view_count": null,
            "_view_module": "@jupyter-widgets/controls",
            "_view_module_version": "1.5.0",
            "_view_name": "HTMLView",
            "description": "",
            "description_tooltip": null,
            "layout": "IPY_MODEL_6492af0c2ddc4e1db8dfda763b2bf557",
            "placeholder": "​",
            "style": "IPY_MODEL_6249802572fd467e87be0a1d8c798347",
            "value": " 233/233 [00:00&lt;00:00, 12.6kB/s]"
          }
        },
        "56c26b0d646c4bb2b1a4263c93badc90": {
          "model_module": "@jupyter-widgets/base",
          "model_name": "LayoutModel",
          "model_module_version": "1.2.0",
          "state": {
            "_model_module": "@jupyter-widgets/base",
            "_model_module_version": "1.2.0",
            "_model_name": "LayoutModel",
            "_view_count": null,
            "_view_module": "@jupyter-widgets/base",
            "_view_module_version": "1.2.0",
            "_view_name": "LayoutView",
            "align_content": null,
            "align_items": null,
            "align_self": null,
            "border": null,
            "bottom": null,
            "display": null,
            "flex": null,
            "flex_flow": null,
            "grid_area": null,
            "grid_auto_columns": null,
            "grid_auto_flow": null,
            "grid_auto_rows": null,
            "grid_column": null,
            "grid_gap": null,
            "grid_row": null,
            "grid_template_areas": null,
            "grid_template_columns": null,
            "grid_template_rows": null,
            "height": null,
            "justify_content": null,
            "justify_items": null,
            "left": null,
            "margin": null,
            "max_height": null,
            "max_width": null,
            "min_height": null,
            "min_width": null,
            "object_fit": null,
            "object_position": null,
            "order": null,
            "overflow": null,
            "overflow_x": null,
            "overflow_y": null,
            "padding": null,
            "right": null,
            "top": null,
            "visibility": null,
            "width": null
          }
        },
        "2c0da82eceb94cd49b7cf24e4ea0cdee": {
          "model_module": "@jupyter-widgets/base",
          "model_name": "LayoutModel",
          "model_module_version": "1.2.0",
          "state": {
            "_model_module": "@jupyter-widgets/base",
            "_model_module_version": "1.2.0",
            "_model_name": "LayoutModel",
            "_view_count": null,
            "_view_module": "@jupyter-widgets/base",
            "_view_module_version": "1.2.0",
            "_view_name": "LayoutView",
            "align_content": null,
            "align_items": null,
            "align_self": null,
            "border": null,
            "bottom": null,
            "display": null,
            "flex": null,
            "flex_flow": null,
            "grid_area": null,
            "grid_auto_columns": null,
            "grid_auto_flow": null,
            "grid_auto_rows": null,
            "grid_column": null,
            "grid_gap": null,
            "grid_row": null,
            "grid_template_areas": null,
            "grid_template_columns": null,
            "grid_template_rows": null,
            "height": null,
            "justify_content": null,
            "justify_items": null,
            "left": null,
            "margin": null,
            "max_height": null,
            "max_width": null,
            "min_height": null,
            "min_width": null,
            "object_fit": null,
            "object_position": null,
            "order": null,
            "overflow": null,
            "overflow_x": null,
            "overflow_y": null,
            "padding": null,
            "right": null,
            "top": null,
            "visibility": null,
            "width": null
          }
        },
        "43655d6d45d149e89bcf73aa4029a987": {
          "model_module": "@jupyter-widgets/controls",
          "model_name": "DescriptionStyleModel",
          "model_module_version": "1.5.0",
          "state": {
            "_model_module": "@jupyter-widgets/controls",
            "_model_module_version": "1.5.0",
            "_model_name": "DescriptionStyleModel",
            "_view_count": null,
            "_view_module": "@jupyter-widgets/base",
            "_view_module_version": "1.2.0",
            "_view_name": "StyleView",
            "description_width": ""
          }
        },
        "691a20b3bbc840ebb2e32396162f91f3": {
          "model_module": "@jupyter-widgets/base",
          "model_name": "LayoutModel",
          "model_module_version": "1.2.0",
          "state": {
            "_model_module": "@jupyter-widgets/base",
            "_model_module_version": "1.2.0",
            "_model_name": "LayoutModel",
            "_view_count": null,
            "_view_module": "@jupyter-widgets/base",
            "_view_module_version": "1.2.0",
            "_view_name": "LayoutView",
            "align_content": null,
            "align_items": null,
            "align_self": null,
            "border": null,
            "bottom": null,
            "display": null,
            "flex": null,
            "flex_flow": null,
            "grid_area": null,
            "grid_auto_columns": null,
            "grid_auto_flow": null,
            "grid_auto_rows": null,
            "grid_column": null,
            "grid_gap": null,
            "grid_row": null,
            "grid_template_areas": null,
            "grid_template_columns": null,
            "grid_template_rows": null,
            "height": null,
            "justify_content": null,
            "justify_items": null,
            "left": null,
            "margin": null,
            "max_height": null,
            "max_width": null,
            "min_height": null,
            "min_width": null,
            "object_fit": null,
            "object_position": null,
            "order": null,
            "overflow": null,
            "overflow_x": null,
            "overflow_y": null,
            "padding": null,
            "right": null,
            "top": null,
            "visibility": null,
            "width": null
          }
        },
        "1ac4c6dcb91a44f6bf2241a9249696be": {
          "model_module": "@jupyter-widgets/controls",
          "model_name": "ProgressStyleModel",
          "model_module_version": "1.5.0",
          "state": {
            "_model_module": "@jupyter-widgets/controls",
            "_model_module_version": "1.5.0",
            "_model_name": "ProgressStyleModel",
            "_view_count": null,
            "_view_module": "@jupyter-widgets/base",
            "_view_module_version": "1.2.0",
            "_view_name": "StyleView",
            "bar_color": null,
            "description_width": ""
          }
        },
        "6492af0c2ddc4e1db8dfda763b2bf557": {
          "model_module": "@jupyter-widgets/base",
          "model_name": "LayoutModel",
          "model_module_version": "1.2.0",
          "state": {
            "_model_module": "@jupyter-widgets/base",
            "_model_module_version": "1.2.0",
            "_model_name": "LayoutModel",
            "_view_count": null,
            "_view_module": "@jupyter-widgets/base",
            "_view_module_version": "1.2.0",
            "_view_name": "LayoutView",
            "align_content": null,
            "align_items": null,
            "align_self": null,
            "border": null,
            "bottom": null,
            "display": null,
            "flex": null,
            "flex_flow": null,
            "grid_area": null,
            "grid_auto_columns": null,
            "grid_auto_flow": null,
            "grid_auto_rows": null,
            "grid_column": null,
            "grid_gap": null,
            "grid_row": null,
            "grid_template_areas": null,
            "grid_template_columns": null,
            "grid_template_rows": null,
            "height": null,
            "justify_content": null,
            "justify_items": null,
            "left": null,
            "margin": null,
            "max_height": null,
            "max_width": null,
            "min_height": null,
            "min_width": null,
            "object_fit": null,
            "object_position": null,
            "order": null,
            "overflow": null,
            "overflow_x": null,
            "overflow_y": null,
            "padding": null,
            "right": null,
            "top": null,
            "visibility": null,
            "width": null
          }
        },
        "6249802572fd467e87be0a1d8c798347": {
          "model_module": "@jupyter-widgets/controls",
          "model_name": "DescriptionStyleModel",
          "model_module_version": "1.5.0",
          "state": {
            "_model_module": "@jupyter-widgets/controls",
            "_model_module_version": "1.5.0",
            "_model_name": "DescriptionStyleModel",
            "_view_count": null,
            "_view_module": "@jupyter-widgets/base",
            "_view_module_version": "1.2.0",
            "_view_name": "StyleView",
            "description_width": ""
          }
        },
        "e47c4d34025642288af86592503ec3f9": {
          "model_module": "@jupyter-widgets/controls",
          "model_name": "HBoxModel",
          "model_module_version": "1.5.0",
          "state": {
            "_dom_classes": [],
            "_model_module": "@jupyter-widgets/controls",
            "_model_module_version": "1.5.0",
            "_model_name": "HBoxModel",
            "_view_count": null,
            "_view_module": "@jupyter-widgets/controls",
            "_view_module_version": "1.5.0",
            "_view_name": "HBoxView",
            "box_style": "",
            "children": [
              "IPY_MODEL_1098a3a807e14655b082305bb5be445b",
              "IPY_MODEL_eb4ee7a85d48409492941c4e7ff256c6",
              "IPY_MODEL_664f1768aaac47408787719046603a49"
            ],
            "layout": "IPY_MODEL_17d999b4d0b74f13b59c9f1c378911d4"
          }
        },
        "1098a3a807e14655b082305bb5be445b": {
          "model_module": "@jupyter-widgets/controls",
          "model_name": "HTMLModel",
          "model_module_version": "1.5.0",
          "state": {
            "_dom_classes": [],
            "_model_module": "@jupyter-widgets/controls",
            "_model_module_version": "1.5.0",
            "_model_name": "HTMLModel",
            "_view_count": null,
            "_view_module": "@jupyter-widgets/controls",
            "_view_module_version": "1.5.0",
            "_view_name": "HTMLView",
            "description": "",
            "description_tooltip": null,
            "layout": "IPY_MODEL_4be8b79c300c46d2ad2febc622938dd8",
            "placeholder": "​",
            "style": "IPY_MODEL_fdde8ff2ce294fb2a03a0be28eecb135",
            "value": "Downloading tokenizer_config.json: 100%"
          }
        },
        "eb4ee7a85d48409492941c4e7ff256c6": {
          "model_module": "@jupyter-widgets/controls",
          "model_name": "FloatProgressModel",
          "model_module_version": "1.5.0",
          "state": {
            "_dom_classes": [],
            "_model_module": "@jupyter-widgets/controls",
            "_model_module_version": "1.5.0",
            "_model_name": "FloatProgressModel",
            "_view_count": null,
            "_view_module": "@jupyter-widgets/controls",
            "_view_module_version": "1.5.0",
            "_view_name": "ProgressView",
            "bar_style": "success",
            "description": "",
            "description_tooltip": null,
            "layout": "IPY_MODEL_20eb987558ca4268a9c59ee9857e9921",
            "max": 272,
            "min": 0,
            "orientation": "horizontal",
            "style": "IPY_MODEL_1f8986717c8843beb8ad17134c685abc",
            "value": 272
          }
        },
        "664f1768aaac47408787719046603a49": {
          "model_module": "@jupyter-widgets/controls",
          "model_name": "HTMLModel",
          "model_module_version": "1.5.0",
          "state": {
            "_dom_classes": [],
            "_model_module": "@jupyter-widgets/controls",
            "_model_module_version": "1.5.0",
            "_model_name": "HTMLModel",
            "_view_count": null,
            "_view_module": "@jupyter-widgets/controls",
            "_view_module_version": "1.5.0",
            "_view_name": "HTMLView",
            "description": "",
            "description_tooltip": null,
            "layout": "IPY_MODEL_c6b3ce4cb3e048c88b3a924edad31550",
            "placeholder": "​",
            "style": "IPY_MODEL_e2c5326cda4f419b8469774e68fb903f",
            "value": " 272/272 [00:00&lt;00:00, 17.6kB/s]"
          }
        },
        "17d999b4d0b74f13b59c9f1c378911d4": {
          "model_module": "@jupyter-widgets/base",
          "model_name": "LayoutModel",
          "model_module_version": "1.2.0",
          "state": {
            "_model_module": "@jupyter-widgets/base",
            "_model_module_version": "1.2.0",
            "_model_name": "LayoutModel",
            "_view_count": null,
            "_view_module": "@jupyter-widgets/base",
            "_view_module_version": "1.2.0",
            "_view_name": "LayoutView",
            "align_content": null,
            "align_items": null,
            "align_self": null,
            "border": null,
            "bottom": null,
            "display": null,
            "flex": null,
            "flex_flow": null,
            "grid_area": null,
            "grid_auto_columns": null,
            "grid_auto_flow": null,
            "grid_auto_rows": null,
            "grid_column": null,
            "grid_gap": null,
            "grid_row": null,
            "grid_template_areas": null,
            "grid_template_columns": null,
            "grid_template_rows": null,
            "height": null,
            "justify_content": null,
            "justify_items": null,
            "left": null,
            "margin": null,
            "max_height": null,
            "max_width": null,
            "min_height": null,
            "min_width": null,
            "object_fit": null,
            "object_position": null,
            "order": null,
            "overflow": null,
            "overflow_x": null,
            "overflow_y": null,
            "padding": null,
            "right": null,
            "top": null,
            "visibility": null,
            "width": null
          }
        },
        "4be8b79c300c46d2ad2febc622938dd8": {
          "model_module": "@jupyter-widgets/base",
          "model_name": "LayoutModel",
          "model_module_version": "1.2.0",
          "state": {
            "_model_module": "@jupyter-widgets/base",
            "_model_module_version": "1.2.0",
            "_model_name": "LayoutModel",
            "_view_count": null,
            "_view_module": "@jupyter-widgets/base",
            "_view_module_version": "1.2.0",
            "_view_name": "LayoutView",
            "align_content": null,
            "align_items": null,
            "align_self": null,
            "border": null,
            "bottom": null,
            "display": null,
            "flex": null,
            "flex_flow": null,
            "grid_area": null,
            "grid_auto_columns": null,
            "grid_auto_flow": null,
            "grid_auto_rows": null,
            "grid_column": null,
            "grid_gap": null,
            "grid_row": null,
            "grid_template_areas": null,
            "grid_template_columns": null,
            "grid_template_rows": null,
            "height": null,
            "justify_content": null,
            "justify_items": null,
            "left": null,
            "margin": null,
            "max_height": null,
            "max_width": null,
            "min_height": null,
            "min_width": null,
            "object_fit": null,
            "object_position": null,
            "order": null,
            "overflow": null,
            "overflow_x": null,
            "overflow_y": null,
            "padding": null,
            "right": null,
            "top": null,
            "visibility": null,
            "width": null
          }
        },
        "fdde8ff2ce294fb2a03a0be28eecb135": {
          "model_module": "@jupyter-widgets/controls",
          "model_name": "DescriptionStyleModel",
          "model_module_version": "1.5.0",
          "state": {
            "_model_module": "@jupyter-widgets/controls",
            "_model_module_version": "1.5.0",
            "_model_name": "DescriptionStyleModel",
            "_view_count": null,
            "_view_module": "@jupyter-widgets/base",
            "_view_module_version": "1.2.0",
            "_view_name": "StyleView",
            "description_width": ""
          }
        },
        "20eb987558ca4268a9c59ee9857e9921": {
          "model_module": "@jupyter-widgets/base",
          "model_name": "LayoutModel",
          "model_module_version": "1.2.0",
          "state": {
            "_model_module": "@jupyter-widgets/base",
            "_model_module_version": "1.2.0",
            "_model_name": "LayoutModel",
            "_view_count": null,
            "_view_module": "@jupyter-widgets/base",
            "_view_module_version": "1.2.0",
            "_view_name": "LayoutView",
            "align_content": null,
            "align_items": null,
            "align_self": null,
            "border": null,
            "bottom": null,
            "display": null,
            "flex": null,
            "flex_flow": null,
            "grid_area": null,
            "grid_auto_columns": null,
            "grid_auto_flow": null,
            "grid_auto_rows": null,
            "grid_column": null,
            "grid_gap": null,
            "grid_row": null,
            "grid_template_areas": null,
            "grid_template_columns": null,
            "grid_template_rows": null,
            "height": null,
            "justify_content": null,
            "justify_items": null,
            "left": null,
            "margin": null,
            "max_height": null,
            "max_width": null,
            "min_height": null,
            "min_width": null,
            "object_fit": null,
            "object_position": null,
            "order": null,
            "overflow": null,
            "overflow_x": null,
            "overflow_y": null,
            "padding": null,
            "right": null,
            "top": null,
            "visibility": null,
            "width": null
          }
        },
        "1f8986717c8843beb8ad17134c685abc": {
          "model_module": "@jupyter-widgets/controls",
          "model_name": "ProgressStyleModel",
          "model_module_version": "1.5.0",
          "state": {
            "_model_module": "@jupyter-widgets/controls",
            "_model_module_version": "1.5.0",
            "_model_name": "ProgressStyleModel",
            "_view_count": null,
            "_view_module": "@jupyter-widgets/base",
            "_view_module_version": "1.2.0",
            "_view_name": "StyleView",
            "bar_color": null,
            "description_width": ""
          }
        },
        "c6b3ce4cb3e048c88b3a924edad31550": {
          "model_module": "@jupyter-widgets/base",
          "model_name": "LayoutModel",
          "model_module_version": "1.2.0",
          "state": {
            "_model_module": "@jupyter-widgets/base",
            "_model_module_version": "1.2.0",
            "_model_name": "LayoutModel",
            "_view_count": null,
            "_view_module": "@jupyter-widgets/base",
            "_view_module_version": "1.2.0",
            "_view_name": "LayoutView",
            "align_content": null,
            "align_items": null,
            "align_self": null,
            "border": null,
            "bottom": null,
            "display": null,
            "flex": null,
            "flex_flow": null,
            "grid_area": null,
            "grid_auto_columns": null,
            "grid_auto_flow": null,
            "grid_auto_rows": null,
            "grid_column": null,
            "grid_gap": null,
            "grid_row": null,
            "grid_template_areas": null,
            "grid_template_columns": null,
            "grid_template_rows": null,
            "height": null,
            "justify_content": null,
            "justify_items": null,
            "left": null,
            "margin": null,
            "max_height": null,
            "max_width": null,
            "min_height": null,
            "min_width": null,
            "object_fit": null,
            "object_position": null,
            "order": null,
            "overflow": null,
            "overflow_x": null,
            "overflow_y": null,
            "padding": null,
            "right": null,
            "top": null,
            "visibility": null,
            "width": null
          }
        },
        "e2c5326cda4f419b8469774e68fb903f": {
          "model_module": "@jupyter-widgets/controls",
          "model_name": "DescriptionStyleModel",
          "model_module_version": "1.5.0",
          "state": {
            "_model_module": "@jupyter-widgets/controls",
            "_model_module_version": "1.5.0",
            "_model_name": "DescriptionStyleModel",
            "_view_count": null,
            "_view_module": "@jupyter-widgets/base",
            "_view_module_version": "1.2.0",
            "_view_name": "StyleView",
            "description_width": ""
          }
        },
        "599c6111d93c4c558491ed8e7093365e": {
          "model_module": "@jupyter-widgets/controls",
          "model_name": "HBoxModel",
          "model_module_version": "1.5.0",
          "state": {
            "_dom_classes": [],
            "_model_module": "@jupyter-widgets/controls",
            "_model_module_version": "1.5.0",
            "_model_name": "HBoxModel",
            "_view_count": null,
            "_view_module": "@jupyter-widgets/controls",
            "_view_module_version": "1.5.0",
            "_view_name": "HBoxView",
            "box_style": "",
            "children": [
              "IPY_MODEL_298aef262b9144739636c7b1f73d24b6",
              "IPY_MODEL_5fd64263b017400b8ab6f4068210cc05",
              "IPY_MODEL_6908345b772b48c6a1bf292f6c98bc9b"
            ],
            "layout": "IPY_MODEL_59d0f2326e59416fa3aa075dd20af4e3"
          }
        },
        "298aef262b9144739636c7b1f73d24b6": {
          "model_module": "@jupyter-widgets/controls",
          "model_name": "HTMLModel",
          "model_module_version": "1.5.0",
          "state": {
            "_dom_classes": [],
            "_model_module": "@jupyter-widgets/controls",
            "_model_module_version": "1.5.0",
            "_model_name": "HTMLModel",
            "_view_count": null,
            "_view_module": "@jupyter-widgets/controls",
            "_view_module_version": "1.5.0",
            "_view_name": "HTMLView",
            "description": "",
            "description_tooltip": null,
            "layout": "IPY_MODEL_f8de8a2d29334515a0469a342d53907e",
            "placeholder": "​",
            "style": "IPY_MODEL_aa645066a70b4ef7a5af2af79b7b7c60",
            "value": "Downloading vocab.json: 100%"
          }
        },
        "5fd64263b017400b8ab6f4068210cc05": {
          "model_module": "@jupyter-widgets/controls",
          "model_name": "FloatProgressModel",
          "model_module_version": "1.5.0",
          "state": {
            "_dom_classes": [],
            "_model_module": "@jupyter-widgets/controls",
            "_model_module_version": "1.5.0",
            "_model_name": "FloatProgressModel",
            "_view_count": null,
            "_view_module": "@jupyter-widgets/controls",
            "_view_module_version": "1.5.0",
            "_view_name": "ProgressView",
            "bar_style": "success",
            "description": "",
            "description_tooltip": null,
            "layout": "IPY_MODEL_7b9dc4c70c29419783acaa85a56435f7",
            "max": 3708092,
            "min": 0,
            "orientation": "horizontal",
            "style": "IPY_MODEL_c72e8601d786427d856c9f732bd4416a",
            "value": 3708092
          }
        },
        "6908345b772b48c6a1bf292f6c98bc9b": {
          "model_module": "@jupyter-widgets/controls",
          "model_name": "HTMLModel",
          "model_module_version": "1.5.0",
          "state": {
            "_dom_classes": [],
            "_model_module": "@jupyter-widgets/controls",
            "_model_module_version": "1.5.0",
            "_model_name": "HTMLModel",
            "_view_count": null,
            "_view_module": "@jupyter-widgets/controls",
            "_view_module_version": "1.5.0",
            "_view_name": "HTMLView",
            "description": "",
            "description_tooltip": null,
            "layout": "IPY_MODEL_f7598c7541be4e3c956ed436cab74237",
            "placeholder": "​",
            "style": "IPY_MODEL_5db8ee874a8b43a2be67edda92fb7dac",
            "value": " 3.71M/3.71M [00:00&lt;00:00, 33.6MB/s]"
          }
        },
        "59d0f2326e59416fa3aa075dd20af4e3": {
          "model_module": "@jupyter-widgets/base",
          "model_name": "LayoutModel",
          "model_module_version": "1.2.0",
          "state": {
            "_model_module": "@jupyter-widgets/base",
            "_model_module_version": "1.2.0",
            "_model_name": "LayoutModel",
            "_view_count": null,
            "_view_module": "@jupyter-widgets/base",
            "_view_module_version": "1.2.0",
            "_view_name": "LayoutView",
            "align_content": null,
            "align_items": null,
            "align_self": null,
            "border": null,
            "bottom": null,
            "display": null,
            "flex": null,
            "flex_flow": null,
            "grid_area": null,
            "grid_auto_columns": null,
            "grid_auto_flow": null,
            "grid_auto_rows": null,
            "grid_column": null,
            "grid_gap": null,
            "grid_row": null,
            "grid_template_areas": null,
            "grid_template_columns": null,
            "grid_template_rows": null,
            "height": null,
            "justify_content": null,
            "justify_items": null,
            "left": null,
            "margin": null,
            "max_height": null,
            "max_width": null,
            "min_height": null,
            "min_width": null,
            "object_fit": null,
            "object_position": null,
            "order": null,
            "overflow": null,
            "overflow_x": null,
            "overflow_y": null,
            "padding": null,
            "right": null,
            "top": null,
            "visibility": null,
            "width": null
          }
        },
        "f8de8a2d29334515a0469a342d53907e": {
          "model_module": "@jupyter-widgets/base",
          "model_name": "LayoutModel",
          "model_module_version": "1.2.0",
          "state": {
            "_model_module": "@jupyter-widgets/base",
            "_model_module_version": "1.2.0",
            "_model_name": "LayoutModel",
            "_view_count": null,
            "_view_module": "@jupyter-widgets/base",
            "_view_module_version": "1.2.0",
            "_view_name": "LayoutView",
            "align_content": null,
            "align_items": null,
            "align_self": null,
            "border": null,
            "bottom": null,
            "display": null,
            "flex": null,
            "flex_flow": null,
            "grid_area": null,
            "grid_auto_columns": null,
            "grid_auto_flow": null,
            "grid_auto_rows": null,
            "grid_column": null,
            "grid_gap": null,
            "grid_row": null,
            "grid_template_areas": null,
            "grid_template_columns": null,
            "grid_template_rows": null,
            "height": null,
            "justify_content": null,
            "justify_items": null,
            "left": null,
            "margin": null,
            "max_height": null,
            "max_width": null,
            "min_height": null,
            "min_width": null,
            "object_fit": null,
            "object_position": null,
            "order": null,
            "overflow": null,
            "overflow_x": null,
            "overflow_y": null,
            "padding": null,
            "right": null,
            "top": null,
            "visibility": null,
            "width": null
          }
        },
        "aa645066a70b4ef7a5af2af79b7b7c60": {
          "model_module": "@jupyter-widgets/controls",
          "model_name": "DescriptionStyleModel",
          "model_module_version": "1.5.0",
          "state": {
            "_model_module": "@jupyter-widgets/controls",
            "_model_module_version": "1.5.0",
            "_model_name": "DescriptionStyleModel",
            "_view_count": null,
            "_view_module": "@jupyter-widgets/base",
            "_view_module_version": "1.2.0",
            "_view_name": "StyleView",
            "description_width": ""
          }
        },
        "7b9dc4c70c29419783acaa85a56435f7": {
          "model_module": "@jupyter-widgets/base",
          "model_name": "LayoutModel",
          "model_module_version": "1.2.0",
          "state": {
            "_model_module": "@jupyter-widgets/base",
            "_model_module_version": "1.2.0",
            "_model_name": "LayoutModel",
            "_view_count": null,
            "_view_module": "@jupyter-widgets/base",
            "_view_module_version": "1.2.0",
            "_view_name": "LayoutView",
            "align_content": null,
            "align_items": null,
            "align_self": null,
            "border": null,
            "bottom": null,
            "display": null,
            "flex": null,
            "flex_flow": null,
            "grid_area": null,
            "grid_auto_columns": null,
            "grid_auto_flow": null,
            "grid_auto_rows": null,
            "grid_column": null,
            "grid_gap": null,
            "grid_row": null,
            "grid_template_areas": null,
            "grid_template_columns": null,
            "grid_template_rows": null,
            "height": null,
            "justify_content": null,
            "justify_items": null,
            "left": null,
            "margin": null,
            "max_height": null,
            "max_width": null,
            "min_height": null,
            "min_width": null,
            "object_fit": null,
            "object_position": null,
            "order": null,
            "overflow": null,
            "overflow_x": null,
            "overflow_y": null,
            "padding": null,
            "right": null,
            "top": null,
            "visibility": null,
            "width": null
          }
        },
        "c72e8601d786427d856c9f732bd4416a": {
          "model_module": "@jupyter-widgets/controls",
          "model_name": "ProgressStyleModel",
          "model_module_version": "1.5.0",
          "state": {
            "_model_module": "@jupyter-widgets/controls",
            "_model_module_version": "1.5.0",
            "_model_name": "ProgressStyleModel",
            "_view_count": null,
            "_view_module": "@jupyter-widgets/base",
            "_view_module_version": "1.2.0",
            "_view_name": "StyleView",
            "bar_color": null,
            "description_width": ""
          }
        },
        "f7598c7541be4e3c956ed436cab74237": {
          "model_module": "@jupyter-widgets/base",
          "model_name": "LayoutModel",
          "model_module_version": "1.2.0",
          "state": {
            "_model_module": "@jupyter-widgets/base",
            "_model_module_version": "1.2.0",
            "_model_name": "LayoutModel",
            "_view_count": null,
            "_view_module": "@jupyter-widgets/base",
            "_view_module_version": "1.2.0",
            "_view_name": "LayoutView",
            "align_content": null,
            "align_items": null,
            "align_self": null,
            "border": null,
            "bottom": null,
            "display": null,
            "flex": null,
            "flex_flow": null,
            "grid_area": null,
            "grid_auto_columns": null,
            "grid_auto_flow": null,
            "grid_auto_rows": null,
            "grid_column": null,
            "grid_gap": null,
            "grid_row": null,
            "grid_template_areas": null,
            "grid_template_columns": null,
            "grid_template_rows": null,
            "height": null,
            "justify_content": null,
            "justify_items": null,
            "left": null,
            "margin": null,
            "max_height": null,
            "max_width": null,
            "min_height": null,
            "min_width": null,
            "object_fit": null,
            "object_position": null,
            "order": null,
            "overflow": null,
            "overflow_x": null,
            "overflow_y": null,
            "padding": null,
            "right": null,
            "top": null,
            "visibility": null,
            "width": null
          }
        },
        "5db8ee874a8b43a2be67edda92fb7dac": {
          "model_module": "@jupyter-widgets/controls",
          "model_name": "DescriptionStyleModel",
          "model_module_version": "1.5.0",
          "state": {
            "_model_module": "@jupyter-widgets/controls",
            "_model_module_version": "1.5.0",
            "_model_name": "DescriptionStyleModel",
            "_view_count": null,
            "_view_module": "@jupyter-widgets/base",
            "_view_module_version": "1.2.0",
            "_view_name": "StyleView",
            "description_width": ""
          }
        },
        "9ee99b7c765d445ea2604ecb593a7c5d": {
          "model_module": "@jupyter-widgets/controls",
          "model_name": "HBoxModel",
          "model_module_version": "1.5.0",
          "state": {
            "_dom_classes": [],
            "_model_module": "@jupyter-widgets/controls",
            "_model_module_version": "1.5.0",
            "_model_name": "HBoxModel",
            "_view_count": null,
            "_view_module": "@jupyter-widgets/controls",
            "_view_module_version": "1.5.0",
            "_view_name": "HBoxView",
            "box_style": "",
            "children": [
              "IPY_MODEL_100abfe625f84bf2a1576e493fa01e8f",
              "IPY_MODEL_8d41d497f92f4563be477e1037cc1092",
              "IPY_MODEL_995b61f15c5842c580fbc81c69a5330a"
            ],
            "layout": "IPY_MODEL_9b230e31f7604533a3aad152317c9222"
          }
        },
        "100abfe625f84bf2a1576e493fa01e8f": {
          "model_module": "@jupyter-widgets/controls",
          "model_name": "HTMLModel",
          "model_module_version": "1.5.0",
          "state": {
            "_dom_classes": [],
            "_model_module": "@jupyter-widgets/controls",
            "_model_module_version": "1.5.0",
            "_model_name": "HTMLModel",
            "_view_count": null,
            "_view_module": "@jupyter-widgets/controls",
            "_view_module_version": "1.5.0",
            "_view_name": "HTMLView",
            "description": "",
            "description_tooltip": null,
            "layout": "IPY_MODEL_8ff8615ca78146e6b2d0457ff1bf6b66",
            "placeholder": "​",
            "style": "IPY_MODEL_1f31be5aa6914d3bb37b18bc92654f22",
            "value": "Downloading (…)tencepiece.bpe.model: 100%"
          }
        },
        "8d41d497f92f4563be477e1037cc1092": {
          "model_module": "@jupyter-widgets/controls",
          "model_name": "FloatProgressModel",
          "model_module_version": "1.5.0",
          "state": {
            "_dom_classes": [],
            "_model_module": "@jupyter-widgets/controls",
            "_model_module_version": "1.5.0",
            "_model_name": "FloatProgressModel",
            "_view_count": null,
            "_view_module": "@jupyter-widgets/controls",
            "_view_module_version": "1.5.0",
            "_view_name": "ProgressView",
            "bar_style": "success",
            "description": "",
            "description_tooltip": null,
            "layout": "IPY_MODEL_19a1959f4e354523bb9b76d02662222d",
            "max": 2423393,
            "min": 0,
            "orientation": "horizontal",
            "style": "IPY_MODEL_19b23e63d5004accadd58b8f885f57ea",
            "value": 2423393
          }
        },
        "995b61f15c5842c580fbc81c69a5330a": {
          "model_module": "@jupyter-widgets/controls",
          "model_name": "HTMLModel",
          "model_module_version": "1.5.0",
          "state": {
            "_dom_classes": [],
            "_model_module": "@jupyter-widgets/controls",
            "_model_module_version": "1.5.0",
            "_model_name": "HTMLModel",
            "_view_count": null,
            "_view_module": "@jupyter-widgets/controls",
            "_view_module_version": "1.5.0",
            "_view_name": "HTMLView",
            "description": "",
            "description_tooltip": null,
            "layout": "IPY_MODEL_731a908e8bfe45d2b0956e82eccdd039",
            "placeholder": "​",
            "style": "IPY_MODEL_60d526b319a243989c89b3b2224b0945",
            "value": " 2.42M/2.42M [00:00&lt;00:00, 102MB/s]"
          }
        },
        "9b230e31f7604533a3aad152317c9222": {
          "model_module": "@jupyter-widgets/base",
          "model_name": "LayoutModel",
          "model_module_version": "1.2.0",
          "state": {
            "_model_module": "@jupyter-widgets/base",
            "_model_module_version": "1.2.0",
            "_model_name": "LayoutModel",
            "_view_count": null,
            "_view_module": "@jupyter-widgets/base",
            "_view_module_version": "1.2.0",
            "_view_name": "LayoutView",
            "align_content": null,
            "align_items": null,
            "align_self": null,
            "border": null,
            "bottom": null,
            "display": null,
            "flex": null,
            "flex_flow": null,
            "grid_area": null,
            "grid_auto_columns": null,
            "grid_auto_flow": null,
            "grid_auto_rows": null,
            "grid_column": null,
            "grid_gap": null,
            "grid_row": null,
            "grid_template_areas": null,
            "grid_template_columns": null,
            "grid_template_rows": null,
            "height": null,
            "justify_content": null,
            "justify_items": null,
            "left": null,
            "margin": null,
            "max_height": null,
            "max_width": null,
            "min_height": null,
            "min_width": null,
            "object_fit": null,
            "object_position": null,
            "order": null,
            "overflow": null,
            "overflow_x": null,
            "overflow_y": null,
            "padding": null,
            "right": null,
            "top": null,
            "visibility": null,
            "width": null
          }
        },
        "8ff8615ca78146e6b2d0457ff1bf6b66": {
          "model_module": "@jupyter-widgets/base",
          "model_name": "LayoutModel",
          "model_module_version": "1.2.0",
          "state": {
            "_model_module": "@jupyter-widgets/base",
            "_model_module_version": "1.2.0",
            "_model_name": "LayoutModel",
            "_view_count": null,
            "_view_module": "@jupyter-widgets/base",
            "_view_module_version": "1.2.0",
            "_view_name": "LayoutView",
            "align_content": null,
            "align_items": null,
            "align_self": null,
            "border": null,
            "bottom": null,
            "display": null,
            "flex": null,
            "flex_flow": null,
            "grid_area": null,
            "grid_auto_columns": null,
            "grid_auto_flow": null,
            "grid_auto_rows": null,
            "grid_column": null,
            "grid_gap": null,
            "grid_row": null,
            "grid_template_areas": null,
            "grid_template_columns": null,
            "grid_template_rows": null,
            "height": null,
            "justify_content": null,
            "justify_items": null,
            "left": null,
            "margin": null,
            "max_height": null,
            "max_width": null,
            "min_height": null,
            "min_width": null,
            "object_fit": null,
            "object_position": null,
            "order": null,
            "overflow": null,
            "overflow_x": null,
            "overflow_y": null,
            "padding": null,
            "right": null,
            "top": null,
            "visibility": null,
            "width": null
          }
        },
        "1f31be5aa6914d3bb37b18bc92654f22": {
          "model_module": "@jupyter-widgets/controls",
          "model_name": "DescriptionStyleModel",
          "model_module_version": "1.5.0",
          "state": {
            "_model_module": "@jupyter-widgets/controls",
            "_model_module_version": "1.5.0",
            "_model_name": "DescriptionStyleModel",
            "_view_count": null,
            "_view_module": "@jupyter-widgets/base",
            "_view_module_version": "1.2.0",
            "_view_name": "StyleView",
            "description_width": ""
          }
        },
        "19a1959f4e354523bb9b76d02662222d": {
          "model_module": "@jupyter-widgets/base",
          "model_name": "LayoutModel",
          "model_module_version": "1.2.0",
          "state": {
            "_model_module": "@jupyter-widgets/base",
            "_model_module_version": "1.2.0",
            "_model_name": "LayoutModel",
            "_view_count": null,
            "_view_module": "@jupyter-widgets/base",
            "_view_module_version": "1.2.0",
            "_view_name": "LayoutView",
            "align_content": null,
            "align_items": null,
            "align_self": null,
            "border": null,
            "bottom": null,
            "display": null,
            "flex": null,
            "flex_flow": null,
            "grid_area": null,
            "grid_auto_columns": null,
            "grid_auto_flow": null,
            "grid_auto_rows": null,
            "grid_column": null,
            "grid_gap": null,
            "grid_row": null,
            "grid_template_areas": null,
            "grid_template_columns": null,
            "grid_template_rows": null,
            "height": null,
            "justify_content": null,
            "justify_items": null,
            "left": null,
            "margin": null,
            "max_height": null,
            "max_width": null,
            "min_height": null,
            "min_width": null,
            "object_fit": null,
            "object_position": null,
            "order": null,
            "overflow": null,
            "overflow_x": null,
            "overflow_y": null,
            "padding": null,
            "right": null,
            "top": null,
            "visibility": null,
            "width": null
          }
        },
        "19b23e63d5004accadd58b8f885f57ea": {
          "model_module": "@jupyter-widgets/controls",
          "model_name": "ProgressStyleModel",
          "model_module_version": "1.5.0",
          "state": {
            "_model_module": "@jupyter-widgets/controls",
            "_model_module_version": "1.5.0",
            "_model_name": "ProgressStyleModel",
            "_view_count": null,
            "_view_module": "@jupyter-widgets/base",
            "_view_module_version": "1.2.0",
            "_view_name": "StyleView",
            "bar_color": null,
            "description_width": ""
          }
        },
        "731a908e8bfe45d2b0956e82eccdd039": {
          "model_module": "@jupyter-widgets/base",
          "model_name": "LayoutModel",
          "model_module_version": "1.2.0",
          "state": {
            "_model_module": "@jupyter-widgets/base",
            "_model_module_version": "1.2.0",
            "_model_name": "LayoutModel",
            "_view_count": null,
            "_view_module": "@jupyter-widgets/base",
            "_view_module_version": "1.2.0",
            "_view_name": "LayoutView",
            "align_content": null,
            "align_items": null,
            "align_self": null,
            "border": null,
            "bottom": null,
            "display": null,
            "flex": null,
            "flex_flow": null,
            "grid_area": null,
            "grid_auto_columns": null,
            "grid_auto_flow": null,
            "grid_auto_rows": null,
            "grid_column": null,
            "grid_gap": null,
            "grid_row": null,
            "grid_template_areas": null,
            "grid_template_columns": null,
            "grid_template_rows": null,
            "height": null,
            "justify_content": null,
            "justify_items": null,
            "left": null,
            "margin": null,
            "max_height": null,
            "max_width": null,
            "min_height": null,
            "min_width": null,
            "object_fit": null,
            "object_position": null,
            "order": null,
            "overflow": null,
            "overflow_x": null,
            "overflow_y": null,
            "padding": null,
            "right": null,
            "top": null,
            "visibility": null,
            "width": null
          }
        },
        "60d526b319a243989c89b3b2224b0945": {
          "model_module": "@jupyter-widgets/controls",
          "model_name": "DescriptionStyleModel",
          "model_module_version": "1.5.0",
          "state": {
            "_model_module": "@jupyter-widgets/controls",
            "_model_module_version": "1.5.0",
            "_model_name": "DescriptionStyleModel",
            "_view_count": null,
            "_view_module": "@jupyter-widgets/base",
            "_view_module_version": "1.2.0",
            "_view_name": "StyleView",
            "description_width": ""
          }
        },
        "b00834fa479543e6887336f3f93a5cad": {
          "model_module": "@jupyter-widgets/controls",
          "model_name": "HBoxModel",
          "model_module_version": "1.5.0",
          "state": {
            "_dom_classes": [],
            "_model_module": "@jupyter-widgets/controls",
            "_model_module_version": "1.5.0",
            "_model_name": "HBoxModel",
            "_view_count": null,
            "_view_module": "@jupyter-widgets/controls",
            "_view_module_version": "1.5.0",
            "_view_name": "HBoxView",
            "box_style": "",
            "children": [
              "IPY_MODEL_c170b8a844834cee942230409afccabe",
              "IPY_MODEL_e0908df3c16a450e87fc11d3edce1369",
              "IPY_MODEL_de7ec08dd49a47179c8b312d009bc4bd"
            ],
            "layout": "IPY_MODEL_14827ee007654288917c960c85fb7a4c"
          }
        },
        "c170b8a844834cee942230409afccabe": {
          "model_module": "@jupyter-widgets/controls",
          "model_name": "HTMLModel",
          "model_module_version": "1.5.0",
          "state": {
            "_dom_classes": [],
            "_model_module": "@jupyter-widgets/controls",
            "_model_module_version": "1.5.0",
            "_model_name": "HTMLModel",
            "_view_count": null,
            "_view_module": "@jupyter-widgets/controls",
            "_view_module_version": "1.5.0",
            "_view_name": "HTMLView",
            "description": "",
            "description_tooltip": null,
            "layout": "IPY_MODEL_a3badffd88fe4632998b93cde247f17e",
            "placeholder": "​",
            "style": "IPY_MODEL_c49b2125325f443ab88bf4d15261ee47",
            "value": "Downloading (…)cial_tokens_map.json: 100%"
          }
        },
        "e0908df3c16a450e87fc11d3edce1369": {
          "model_module": "@jupyter-widgets/controls",
          "model_name": "FloatProgressModel",
          "model_module_version": "1.5.0",
          "state": {
            "_dom_classes": [],
            "_model_module": "@jupyter-widgets/controls",
            "_model_module_version": "1.5.0",
            "_model_name": "FloatProgressModel",
            "_view_count": null,
            "_view_module": "@jupyter-widgets/controls",
            "_view_module_version": "1.5.0",
            "_view_name": "ProgressView",
            "bar_style": "success",
            "description": "",
            "description_tooltip": null,
            "layout": "IPY_MODEL_12536a495e0349c98414249eb6604ff8",
            "max": 1140,
            "min": 0,
            "orientation": "horizontal",
            "style": "IPY_MODEL_ba0c2e379efc4ffda5eda1fd8dd4b167",
            "value": 1140
          }
        },
        "de7ec08dd49a47179c8b312d009bc4bd": {
          "model_module": "@jupyter-widgets/controls",
          "model_name": "HTMLModel",
          "model_module_version": "1.5.0",
          "state": {
            "_dom_classes": [],
            "_model_module": "@jupyter-widgets/controls",
            "_model_module_version": "1.5.0",
            "_model_name": "HTMLModel",
            "_view_count": null,
            "_view_module": "@jupyter-widgets/controls",
            "_view_module_version": "1.5.0",
            "_view_name": "HTMLView",
            "description": "",
            "description_tooltip": null,
            "layout": "IPY_MODEL_124a4e4bbfbd4902ae81abd6fd92bf34",
            "placeholder": "​",
            "style": "IPY_MODEL_952ccf92f27642fc9af77058488fe64e",
            "value": " 1.14k/1.14k [00:00&lt;00:00, 86.5kB/s]"
          }
        },
        "14827ee007654288917c960c85fb7a4c": {
          "model_module": "@jupyter-widgets/base",
          "model_name": "LayoutModel",
          "model_module_version": "1.2.0",
          "state": {
            "_model_module": "@jupyter-widgets/base",
            "_model_module_version": "1.2.0",
            "_model_name": "LayoutModel",
            "_view_count": null,
            "_view_module": "@jupyter-widgets/base",
            "_view_module_version": "1.2.0",
            "_view_name": "LayoutView",
            "align_content": null,
            "align_items": null,
            "align_self": null,
            "border": null,
            "bottom": null,
            "display": null,
            "flex": null,
            "flex_flow": null,
            "grid_area": null,
            "grid_auto_columns": null,
            "grid_auto_flow": null,
            "grid_auto_rows": null,
            "grid_column": null,
            "grid_gap": null,
            "grid_row": null,
            "grid_template_areas": null,
            "grid_template_columns": null,
            "grid_template_rows": null,
            "height": null,
            "justify_content": null,
            "justify_items": null,
            "left": null,
            "margin": null,
            "max_height": null,
            "max_width": null,
            "min_height": null,
            "min_width": null,
            "object_fit": null,
            "object_position": null,
            "order": null,
            "overflow": null,
            "overflow_x": null,
            "overflow_y": null,
            "padding": null,
            "right": null,
            "top": null,
            "visibility": null,
            "width": null
          }
        },
        "a3badffd88fe4632998b93cde247f17e": {
          "model_module": "@jupyter-widgets/base",
          "model_name": "LayoutModel",
          "model_module_version": "1.2.0",
          "state": {
            "_model_module": "@jupyter-widgets/base",
            "_model_module_version": "1.2.0",
            "_model_name": "LayoutModel",
            "_view_count": null,
            "_view_module": "@jupyter-widgets/base",
            "_view_module_version": "1.2.0",
            "_view_name": "LayoutView",
            "align_content": null,
            "align_items": null,
            "align_self": null,
            "border": null,
            "bottom": null,
            "display": null,
            "flex": null,
            "flex_flow": null,
            "grid_area": null,
            "grid_auto_columns": null,
            "grid_auto_flow": null,
            "grid_auto_rows": null,
            "grid_column": null,
            "grid_gap": null,
            "grid_row": null,
            "grid_template_areas": null,
            "grid_template_columns": null,
            "grid_template_rows": null,
            "height": null,
            "justify_content": null,
            "justify_items": null,
            "left": null,
            "margin": null,
            "max_height": null,
            "max_width": null,
            "min_height": null,
            "min_width": null,
            "object_fit": null,
            "object_position": null,
            "order": null,
            "overflow": null,
            "overflow_x": null,
            "overflow_y": null,
            "padding": null,
            "right": null,
            "top": null,
            "visibility": null,
            "width": null
          }
        },
        "c49b2125325f443ab88bf4d15261ee47": {
          "model_module": "@jupyter-widgets/controls",
          "model_name": "DescriptionStyleModel",
          "model_module_version": "1.5.0",
          "state": {
            "_model_module": "@jupyter-widgets/controls",
            "_model_module_version": "1.5.0",
            "_model_name": "DescriptionStyleModel",
            "_view_count": null,
            "_view_module": "@jupyter-widgets/base",
            "_view_module_version": "1.2.0",
            "_view_name": "StyleView",
            "description_width": ""
          }
        },
        "12536a495e0349c98414249eb6604ff8": {
          "model_module": "@jupyter-widgets/base",
          "model_name": "LayoutModel",
          "model_module_version": "1.2.0",
          "state": {
            "_model_module": "@jupyter-widgets/base",
            "_model_module_version": "1.2.0",
            "_model_name": "LayoutModel",
            "_view_count": null,
            "_view_module": "@jupyter-widgets/base",
            "_view_module_version": "1.2.0",
            "_view_name": "LayoutView",
            "align_content": null,
            "align_items": null,
            "align_self": null,
            "border": null,
            "bottom": null,
            "display": null,
            "flex": null,
            "flex_flow": null,
            "grid_area": null,
            "grid_auto_columns": null,
            "grid_auto_flow": null,
            "grid_auto_rows": null,
            "grid_column": null,
            "grid_gap": null,
            "grid_row": null,
            "grid_template_areas": null,
            "grid_template_columns": null,
            "grid_template_rows": null,
            "height": null,
            "justify_content": null,
            "justify_items": null,
            "left": null,
            "margin": null,
            "max_height": null,
            "max_width": null,
            "min_height": null,
            "min_width": null,
            "object_fit": null,
            "object_position": null,
            "order": null,
            "overflow": null,
            "overflow_x": null,
            "overflow_y": null,
            "padding": null,
            "right": null,
            "top": null,
            "visibility": null,
            "width": null
          }
        },
        "ba0c2e379efc4ffda5eda1fd8dd4b167": {
          "model_module": "@jupyter-widgets/controls",
          "model_name": "ProgressStyleModel",
          "model_module_version": "1.5.0",
          "state": {
            "_model_module": "@jupyter-widgets/controls",
            "_model_module_version": "1.5.0",
            "_model_name": "ProgressStyleModel",
            "_view_count": null,
            "_view_module": "@jupyter-widgets/base",
            "_view_module_version": "1.2.0",
            "_view_name": "StyleView",
            "bar_color": null,
            "description_width": ""
          }
        },
        "124a4e4bbfbd4902ae81abd6fd92bf34": {
          "model_module": "@jupyter-widgets/base",
          "model_name": "LayoutModel",
          "model_module_version": "1.2.0",
          "state": {
            "_model_module": "@jupyter-widgets/base",
            "_model_module_version": "1.2.0",
            "_model_name": "LayoutModel",
            "_view_count": null,
            "_view_module": "@jupyter-widgets/base",
            "_view_module_version": "1.2.0",
            "_view_name": "LayoutView",
            "align_content": null,
            "align_items": null,
            "align_self": null,
            "border": null,
            "bottom": null,
            "display": null,
            "flex": null,
            "flex_flow": null,
            "grid_area": null,
            "grid_auto_columns": null,
            "grid_auto_flow": null,
            "grid_auto_rows": null,
            "grid_column": null,
            "grid_gap": null,
            "grid_row": null,
            "grid_template_areas": null,
            "grid_template_columns": null,
            "grid_template_rows": null,
            "height": null,
            "justify_content": null,
            "justify_items": null,
            "left": null,
            "margin": null,
            "max_height": null,
            "max_width": null,
            "min_height": null,
            "min_width": null,
            "object_fit": null,
            "object_position": null,
            "order": null,
            "overflow": null,
            "overflow_x": null,
            "overflow_y": null,
            "padding": null,
            "right": null,
            "top": null,
            "visibility": null,
            "width": null
          }
        },
        "952ccf92f27642fc9af77058488fe64e": {
          "model_module": "@jupyter-widgets/controls",
          "model_name": "DescriptionStyleModel",
          "model_module_version": "1.5.0",
          "state": {
            "_model_module": "@jupyter-widgets/controls",
            "_model_module_version": "1.5.0",
            "_model_name": "DescriptionStyleModel",
            "_view_count": null,
            "_view_module": "@jupyter-widgets/base",
            "_view_module_version": "1.2.0",
            "_view_name": "StyleView",
            "description_width": ""
          }
        }
      }
    }
  },
  "nbformat": 4,
  "nbformat_minor": 0
}