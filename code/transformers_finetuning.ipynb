{
  "cells": [
    {
      "cell_type": "markdown",
      "metadata": {
        "id": "U09zfgDA7O6K"
      },
      "source": [
        "# Fine-tune a multilingual transformer model for sentence classification\n",
        "\n",
        "| Authors | Last update |\n",
        "|:------ |:----------- |\n",
        "| Hauke Licht (https://github.com/haukelicht) | 2023-11-29 |\n",
        "\n",
        "This notebook shows how to use the hugging face 🤗 `transformers` library to train a Transformer-based sentence classifier with transfer learning (i.e., \"fine tuning\").\n",
        "\n",
        "**_Source:_** The notebook is adapted from the one distributed with this tutorial: https://huggingface.co/docs/transformers/tasks/sequence_classification\n",
        "\n",
        "<a target=\"_blank\" href=\"https://colab.research.google.com/github/fabiennelind/Going-Cross-Lingual_Course/blob/main/code/transformer_finetuning.ipynb\">\n",
        "  <img src=\"https://colab.research.google.com/assets/colab-badge.svg\" alt=\"Open In Colab\"/>\n",
        "</a>"
      ]
    },
    {
      "cell_type": "markdown",
      "metadata": {
        "id": "ge7uLpvVIwC6"
      },
      "source": [
        "## Supervised text classification"
      ]
    },
    {
      "cell_type": "markdown",
      "metadata": {
        "id": "yJDLJIWIIwC8"
      },
      "source": [
        "Text classification means to assigns a label or class to each text in a corpus.\n",
        "It is a common NLP and computational text analysis task.\n",
        "\n",
        "For example. a common and popular text classification task is *sentiment analysis*, which assigns a label like 'positive', 'negative', or 'neutral' to a sequence of text, for example a sentence of paragraph."
      ]
    },
    {
      "cell_type": "markdown",
      "metadata": {
        "id": "SGCqI-gL7O6P"
      },
      "source": [
        "### Ingredients\n",
        "\n",
        "Here is what you need for training a supervised text classifier through fine-tuning (i.e. transfer learning):\n",
        "\n",
        "- a **pre-trained model** you can **fine-tune** for [\"sequence classification\"](https://huggingface.co/docs/transformers/tasks/sequence_classification)\n",
        "    - the pre-trained tokenizer comes with the model\n",
        "- a pre-defined set of **label classes** (e.g., 'positive', 'neutral', 'negative')\n",
        "- a **label dataset**, i.e., a corpus of texts (e.g., sentences) in which each document/text has been assigned to a *single* label class\n",
        "    - we will split this dataset into train, development, and test sets\n",
        "- some **metric to quantify classification performance** so that we know how well our classifier is doing"
      ]
    },
    {
      "cell_type": "markdown",
      "metadata": {
        "id": "6PIAkK_C4dLJ"
      },
      "source": [
        "### The model fine-tuning approach\n",
        "\n",
        "Fine-tuning means to taking a **pre-trained model** and training it on a specific task.\n",
        "That is, instead of training a model from scratch on a small dataset, you use a pre-trained model as a starting point and adapt it to your specific classification task.\n",
        "\n",
        "In the context of text classification, we use pre-trained **Transformers** for fine-tuning.\n",
        "Transformers are deep learning models designed to handle sequential data, making them well-suited for natural language processing tasks.\n",
        "Models like **BERT** (*Bidirectional Encoder Representations from Transformers*) or **GPT** (**Generative Pre-trained Transformer**) are pre-trained on massive datasets in a self-supervised fashion to learn general language patterns.\n",
        "This allows them to learn good text representations (\"embeddings\").\n",
        "\n",
        "During fine-tuning, we adapt the pre-trained model's parameters to perform the new task.\n",
        "The idea behind fine-tuning is to transfer the knowledge gained during pre-training to a specific task.\n",
        "This is called *transfer learning*.\n",
        "Transfer learning has two related benefits:\n",
        "\n",
        "1. We can leverage the pre-trained model's language representation capabilities to perform our classifciation task.\n",
        "2. If the model generates useful text representations, we can train a well-performing classifier with relatively little labeled data (compared to training a model from scratch)\n"
      ]
    },
    {
      "cell_type": "markdown",
      "metadata": {
        "id": "_WmY0zS07O6O"
      },
      "source": [
        "## This notebook\n",
        "\n",
        "In this notebook, we will use\n",
        "\n",
        "1. the [PimPo](https://manifesto-project.wzb.eu/information/documents/pimpo) dataset contributed by the Pola Lehmann and Malisa Zobel ([2018](https://doi.org/10.1111/1475-6765.12266)) that records party manifesto senteces annotated for stance on the issues of immigration and integration, and\n",
        "2. finetune a multilingual[XLM-RoBERTa](https://huggingface.co/xlm-roberta-base) tranformer model (Conneau *et al.*, [2019](http://arxiv.org/abs/1911.02116))"
      ]
    },
    {
      "cell_type": "code",
      "execution_count": 1,
      "metadata": {
        "id": "V6RenWN58W8r"
      },
      "outputs": [],
      "source": [
        "MODEL_NAME = 'xlm-roberta-base'"
      ]
    },
    {
      "cell_type": "markdown",
      "metadata": {
        "id": "1e5y-cUF7O6P"
      },
      "source": [
        "## Setup"
      ]
    },
    {
      "cell_type": "markdown",
      "metadata": {
        "id": "sL_Z2zTG7O6P"
      },
      "source": [
        "If you run this notebook on Google Colab or you have not yet installed the `transformers` and `datasets` python libraries, you need to do so first:"
      ]
    },
    {
      "cell_type": "code",
      "execution_count": 2,
      "metadata": {
        "colab": {
          "base_uri": "https://localhost:8080/"
        },
        "id": "kQPXgYhC7O6P",
        "outputId": "6f4908b9-3479-4c43-e537-4066fe803f74"
      },
      "outputs": [
        {
          "name": "stdout",
          "output_type": "stream",
          "text": [
            "on colab: True\n"
          ]
        }
      ],
      "source": [
        "# check if on colab\n",
        "try:\n",
        "    import google.colab\n",
        "    COLAB = True\n",
        "except:\n",
        "    COLAB=False\n",
        "print('on colab:', COLAB)"
      ]
    },
    {
      "cell_type": "code",
      "execution_count": 3,
      "metadata": {
        "id": "6t6lIsnGIwC5"
      },
      "outputs": [],
      "source": [
        "%%capture\n",
        "if COLAB:\n",
        "    !pip install accelerate==0.24.1 tokenizers==0.14.1 datasets==2.14.6 transformers==4.35.0"
      ]
    },
    {
      "cell_type": "code",
      "execution_count": 4,
      "metadata": {
        "id": "m0eb4gB67O6R"
      },
      "outputs": [],
      "source": [
        "import os\n",
        "import shutil\n",
        "\n",
        "import pandas as pd\n",
        "import numpy as np\n",
        "\n",
        "# for train/dev/test splitting\n",
        "from sklearn.model_selection import train_test_split\n",
        "\n",
        "# dataset loading\n",
        "from datasets import Dataset, DatasetDict\n",
        "\n",
        "# fine-tuning\n",
        "from transformers import (\n",
        "    # used to tokenize text\n",
        "    AutoTokenizer,\n",
        "    # used to load the pre-trained model\n",
        "    AutoModelForSequenceClassification,\n",
        "    # used to finetune the pre-trained model\n",
        "    Trainer, TrainingArguments, DataCollatorWithPadding,\n",
        "    # for reproducibility\n",
        "    set_seed\n",
        ")\n",
        "\n",
        "# evaluation\n",
        "from sklearn.metrics import precision_recall_fscore_support"
      ]
    },
    {
      "cell_type": "markdown",
      "metadata": {
        "id": "qLdNoFs17O6b"
      },
      "source": [
        "### Using the GPU or M1 (if available)"
      ]
    },
    {
      "cell_type": "markdown",
      "metadata": {
        "id": "0zt-HKOS7O6b"
      },
      "source": [
        "To make training as fast as possible, you want to utilize GPU computing.\n",
        "When you run notebooks on Colab, you can enable GPU computing by\n",
        "\n",
        "1. clicking on \"Runtime\" in the menu,\n",
        "2. selecting \"Change runtime type\", and\n",
        "3. choose \"GPU\" in the \"Hardware accelerator\" section of the pop-up\n",
        "\n",
        "If you are running this notebook elsewhere, you want to determine to what kind of device you have access\n",
        "\n",
        "- with a GPU &rarr; \"cuda\"\n",
        "- with MacOS's M1/M2 chip &rarr; \"mps\"\n",
        "- else \"cpu\"\n",
        "\n",
        "We do so like this:"
      ]
    },
    {
      "cell_type": "code",
      "execution_count": 5,
      "metadata": {
        "colab": {
          "base_uri": "https://localhost:8080/"
        },
        "id": "j5BsZWef7O6b",
        "outputId": "e77744eb-f1e6-4b42-cfd5-f612e2d1fca7"
      },
      "outputs": [
        {
          "data": {
            "text/plain": [
              "device(type='cuda')"
            ]
          },
          "execution_count": 5,
          "metadata": {},
          "output_type": "execute_result"
        }
      ],
      "source": [
        "import torch\n",
        "# check if GPU or MPS is available, else use CPU\n",
        "device = \"cuda\" if torch.cuda.is_available() else \"mps\" if torch.backends.mps.is_available() else \"cpu\"\n",
        "device = torch.device(device)\n",
        "device"
      ]
    },
    {
      "cell_type": "markdown",
      "metadata": {
        "id": "1lMdUEQVZcEd"
      },
      "source": [
        "### Reproducibility"
      ]
    },
    {
      "cell_type": "markdown",
      "metadata": {
        "id": "CRCvfrfzZV65"
      },
      "source": [
        "In programming, randomness is governed by *Random Number Generator* (RNG) algorithms.\n",
        "You can control randomness by setting a so called [\"seed\"](https://towardsdatascience.com/random-seeds-and-reproducibility-933da79446e3) that determines an RNG's initial state.\n",
        "By setting a seed at the beginning of your script, each random value you generate (e.g., like [this](https://realpython.com/numpy-random-number-generator/)) will be the same at each run of your script &mdash; as long as you run all the code in the script in the same order (e.g., cell by cell, from bottom to top).\n",
        "\n",
        "**_Important:_** If you set the seed but programm interactively, the order in which you call individual code chunks will vary from interactive use to interactive use.\n",
        "So setting a seed at the beginning of the script will make it's execution only reproducible for runs from top to bottom (without user interaction in between).\n",
        "\n",
        "The packages you will use for randomizing computations have notes on the topic of reproducibility you should read:\n",
        "\n",
        "- `random`: https://docs.python.org/3/library/random.html#notes-on-reproducibility\n",
        "- `numpy`: https://numpy.org/doc/stable/reference/random/generator.html (but read also [here](https://builtin.com/data-science/numpy-random-seed), [here](https://albertcthomas.github.io/good-practices-random-number-generators/), and [here](https://stackoverflow.com/a/5837352))\n",
        "- `pandas`: random number generation inside `pandas` code uses `numpy` under the hood.\n",
        "- `torch` and all pacakges using it (e.g., `transformers`): https://pytorch.org/docs/stable/notes/randomness.html\n",
        "- `transformers`: introduced [here](https://github.com/huggingface/transformers/pull/16907)"
      ]
    },
    {
      "cell_type": "code",
      "execution_count": 6,
      "metadata": {
        "id": "e1wphs157O6R"
      },
      "outputs": [],
      "source": [
        "SEED = 1234\n",
        "set_seed(SEED) # <== sets random, numpy, and torch seeds"
      ]
    },
    {
      "cell_type": "markdown",
      "metadata": {
        "id": "AsDODexLZrm1"
      },
      "source": [
        "**_Important:_** When fine-tuning with `transformers`'s `Trainer` (like above), you also need to set the following arguments in your call to `TrainingArguments()`:\n",
        "\n",
        "```python\n",
        "TrainingArguments(\n",
        "    ...\n",
        "    # ensure reproducibility\n",
        "    full_determinism = True,\n",
        "    seed = SEED,\n",
        "    data_seed = SEED,\n",
        "    ...\n",
        ")\n",
        "```"
      ]
    },
    {
      "cell_type": "markdown",
      "metadata": {
        "id": "-QfByXq9DQdS"
      },
      "source": [
        "## Looking under the hood of multilingual Transformers"
      ]
    },
    {
      "cell_type": "markdown",
      "metadata": {
        "id": "4c2Y1XsqDXM3"
      },
      "source": [
        "Let's take sentences in four different languages for which the meaning of \"government\" is the same:"
      ]
    },
    {
      "cell_type": "code",
      "execution_count": null,
      "metadata": {
        "id": "Iz3M98rMDUAG"
      },
      "outputs": [],
      "source": [
        "# sentences in different languages with the same meanings and content\n",
        "sentences = [\n",
        "    \"The government should care more about voters' concerns.\",\n",
        "    \"Die Regierung sollte sich mehr um die Anliegen der Wähler kümmern.\",\n",
        "    \"La gouvernement devrait s'occuper davantage des préoccupations des électeurs.\",\n",
        "    \"Los gobiernos deberían preocuparse más por las preocupaciones de los votantes.\",\n",
        "]"
      ]
    },
    {
      "cell_type": "markdown",
      "metadata": {
        "id": "NjFo5Fx3DY6U"
      },
      "source": [
        "Now, let's tokenize them:"
      ]
    },
    {
      "cell_type": "code",
      "execution_count": null,
      "metadata": {
        "id": "AAtk8bgdDa4R"
      },
      "outputs": [],
      "source": [
        "tokenizer = AutoTokenizer.from_pretrained(MODEL_NAME)\n",
        "toks = tokenizer(sentences, padding=True, return_tensors='pt')\n",
        "for input_ids in toks['input_ids']:\n",
        "    print([(i, tokenizer.decode(tok)) for i, tok in enumerate(input_ids)])"
      ]
    },
    {
      "cell_type": "markdown",
      "metadata": {
        "id": "Cqs22jcODca5"
      },
      "source": [
        "The term referring to \"government\" is always the third token in each sequence (index 2) ."
      ]
    },
    {
      "cell_type": "markdown",
      "metadata": {
        "id": "iM_Pfgl2DcrD"
      },
      "source": [
        "Let's feed the sequences through the pre-trained transformer and see the magic:"
      ]
    },
    {
      "cell_type": "code",
      "execution_count": null,
      "metadata": {
        "id": "Pl8XtCh1DfPI"
      },
      "outputs": [],
      "source": [
        "import torch\n",
        "from transformers import AutoModel\n",
        "model = AutoModel.from_pretrained(MODEL_NAME)\n",
        "\n",
        "with torch.no_grad():\n",
        "    output = model(**toks, output_hidden_states=True)"
      ]
    },
    {
      "cell_type": "markdown",
      "metadata": {
        "id": "xeC6ci9CDhDk"
      },
      "source": [
        "We will see how the cross-lingual similarity of the embedding representation of the government tokens changes as we pass from the embedding layer to the final output layer of the model."
      ]
    },
    {
      "cell_type": "code",
      "execution_count": null,
      "metadata": {
        "id": "NOGNvPqGDiE8"
      },
      "outputs": [],
      "source": [
        "# we'll use the cosine similarity measure\n",
        "from sklearn.metrics.pairwise import cosine_similarity"
      ]
    },
    {
      "cell_type": "markdown",
      "metadata": {
        "id": "PfO9NYWRDjQN"
      },
      "source": [
        "As shown in the cell below, the embedding representation of the government token are still quite different across languages:"
      ]
    },
    {
      "cell_type": "code",
      "execution_count": null,
      "metadata": {
        "id": "3bjyszqFDkTJ"
      },
      "outputs": [],
      "source": [
        "# similarity of input embeddings\n",
        "cosine_similarity(output.hidden_states[0][:,2,:]).round(3)"
      ]
    },
    {
      "cell_type": "markdown",
      "metadata": {
        "id": "SZsyVjKmDlkl"
      },
      "source": [
        "But this gets better as the inputs are fed deeper into the model:"
      ]
    },
    {
      "cell_type": "code",
      "execution_count": null,
      "metadata": {
        "id": "gEwC40FODmo4"
      },
      "outputs": [],
      "source": [
        "# similarity of hidden states at layer 4\n",
        "cosine_similarity(output.hidden_states[5][:,2,:]).round(3)"
      ]
    },
    {
      "cell_type": "code",
      "execution_count": null,
      "metadata": {
        "id": "3o5D2B7TDpHb"
      },
      "outputs": [],
      "source": [
        "# similarity of hidden states at layer 8\n",
        "cosine_similarity(output.hidden_states[9][:,2,:]).round(3)"
      ]
    },
    {
      "cell_type": "markdown",
      "metadata": {
        "id": "zrRmZh2QQvvu"
      },
      "source": [
        "And at the final layer that serves as input for, for example, classifiers, the tokens' representations are almost identical:"
      ]
    },
    {
      "cell_type": "code",
      "execution_count": null,
      "metadata": {
        "id": "a32uFjNGQxpG"
      },
      "outputs": [],
      "source": [
        "# similarity of last hidden states\n",
        "cosine_similarity(output.last_hidden_state[:, 2, :]).round(3)"
      ]
    },
    {
      "cell_type": "markdown",
      "metadata": {
        "id": "xrVDAOfQQzUG"
      },
      "source": [
        "So by feeding the input sequences through successive layers, the model is able to \"recognize\" that, despite different symbols, the tokens \"government,\" \"Regierung,\" \"gouvernement,\" and \"gobierno\" all refer to a semanticeally equivalent concept."
      ]
    },
    {
      "cell_type": "markdown",
      "metadata": {
        "id": "Ap3i86RV7O6R"
      },
      "source": [
        "## Preparing the data"
      ]
    },
    {
      "cell_type": "markdown",
      "metadata": {
        "id": "ejVMVM5hIwC9"
      },
      "source": [
        "### Load the dataset"
      ]
    },
    {
      "cell_type": "code",
      "execution_count": null,
      "metadata": {
        "id": "sRH-L1V37O6R"
      },
      "outputs": [],
      "source": [
        "if COLAB:\n",
        "    fp = 'https://raw.githubusercontent.com/fabiennelind/Going-Cross-Lingual_Course/main/data/lehmann%2Bzobel_2018_pimpo_positions.tsv'\n",
        "else:\n",
        "    fp = os.path.join('..', 'data', 'lehmann+zobel_2018_pimpo_positions.tsv')\n",
        "df = pd.read_csv(fp, sep='\\t')"
      ]
    },
    {
      "cell_type": "markdown",
      "metadata": {
        "id": "Xr6uk7Mks8Lo"
      },
      "source": [
        "**_Note:_** there is also a 'lehmann+zobel_2018_pimpo_positions**_translated**.tsv' data file on github that contains machine translations in addition to the source texts."
      ]
    },
    {
      "cell_type": "markdown",
      "metadata": {
        "id": "vz_pao4H7O6R"
      },
      "source": [
        "### Inspect and subset the data"
      ]
    },
    {
      "cell_type": "markdown",
      "metadata": {
        "id": "H9JWGcEK7O6R"
      },
      "source": [
        "Let's cross-tabulate the two relevant indicator columns in this dataset."
      ]
    },
    {
      "cell_type": "code",
      "execution_count": null,
      "metadata": {
        "colab": {
          "base_uri": "https://localhost:8080/",
          "height": 175
        },
        "id": "e2cvecqB7O6R",
        "outputId": "1f4b8678-984d-4233-a6f9-2f258b54927d"
      },
      "outputs": [
        {
          "data": {
            "text/html": [
              "\n",
              "  <div id=\"df-64cd3d92-418d-4292-b244-04d78868f1b2\" class=\"colab-df-container\">\n",
              "    <div>\n",
              "<style scoped>\n",
              "    .dataframe tbody tr th:only-of-type {\n",
              "        vertical-align: middle;\n",
              "    }\n",
              "\n",
              "    .dataframe tbody tr th {\n",
              "        vertical-align: top;\n",
              "    }\n",
              "\n",
              "    .dataframe thead th {\n",
              "        text-align: right;\n",
              "    }\n",
              "</style>\n",
              "<table border=\"1\" class=\"dataframe\">\n",
              "  <thead>\n",
              "    <tr style=\"text-align: right;\">\n",
              "      <th>issue</th>\n",
              "      <th>immigration</th>\n",
              "      <th>integration</th>\n",
              "    </tr>\n",
              "    <tr>\n",
              "      <th>position</th>\n",
              "      <th></th>\n",
              "      <th></th>\n",
              "    </tr>\n",
              "  </thead>\n",
              "  <tbody>\n",
              "    <tr>\n",
              "      <th>neutral</th>\n",
              "      <td>578</td>\n",
              "      <td>390</td>\n",
              "    </tr>\n",
              "    <tr>\n",
              "      <th>sceptical</th>\n",
              "      <td>1360</td>\n",
              "      <td>776</td>\n",
              "    </tr>\n",
              "    <tr>\n",
              "      <th>supportive</th>\n",
              "      <td>1955</td>\n",
              "      <td>3886</td>\n",
              "    </tr>\n",
              "  </tbody>\n",
              "</table>\n",
              "</div>\n",
              "    <div class=\"colab-df-buttons\">\n",
              "\n",
              "  <div class=\"colab-df-container\">\n",
              "    <button class=\"colab-df-convert\" onclick=\"convertToInteractive('df-64cd3d92-418d-4292-b244-04d78868f1b2')\"\n",
              "            title=\"Convert this dataframe to an interactive table.\"\n",
              "            style=\"display:none;\">\n",
              "\n",
              "  <svg xmlns=\"http://www.w3.org/2000/svg\" height=\"24px\" viewBox=\"0 -960 960 960\">\n",
              "    <path d=\"M120-120v-720h720v720H120Zm60-500h600v-160H180v160Zm220 220h160v-160H400v160Zm0 220h160v-160H400v160ZM180-400h160v-160H180v160Zm440 0h160v-160H620v160ZM180-180h160v-160H180v160Zm440 0h160v-160H620v160Z\"/>\n",
              "  </svg>\n",
              "    </button>\n",
              "\n",
              "  <style>\n",
              "    .colab-df-container {\n",
              "      display:flex;\n",
              "      gap: 12px;\n",
              "    }\n",
              "\n",
              "    .colab-df-convert {\n",
              "      background-color: #E8F0FE;\n",
              "      border: none;\n",
              "      border-radius: 50%;\n",
              "      cursor: pointer;\n",
              "      display: none;\n",
              "      fill: #1967D2;\n",
              "      height: 32px;\n",
              "      padding: 0 0 0 0;\n",
              "      width: 32px;\n",
              "    }\n",
              "\n",
              "    .colab-df-convert:hover {\n",
              "      background-color: #E2EBFA;\n",
              "      box-shadow: 0px 1px 2px rgba(60, 64, 67, 0.3), 0px 1px 3px 1px rgba(60, 64, 67, 0.15);\n",
              "      fill: #174EA6;\n",
              "    }\n",
              "\n",
              "    .colab-df-buttons div {\n",
              "      margin-bottom: 4px;\n",
              "    }\n",
              "\n",
              "    [theme=dark] .colab-df-convert {\n",
              "      background-color: #3B4455;\n",
              "      fill: #D2E3FC;\n",
              "    }\n",
              "\n",
              "    [theme=dark] .colab-df-convert:hover {\n",
              "      background-color: #434B5C;\n",
              "      box-shadow: 0px 1px 3px 1px rgba(0, 0, 0, 0.15);\n",
              "      filter: drop-shadow(0px 1px 2px rgba(0, 0, 0, 0.3));\n",
              "      fill: #FFFFFF;\n",
              "    }\n",
              "  </style>\n",
              "\n",
              "    <script>\n",
              "      const buttonEl =\n",
              "        document.querySelector('#df-64cd3d92-418d-4292-b244-04d78868f1b2 button.colab-df-convert');\n",
              "      buttonEl.style.display =\n",
              "        google.colab.kernel.accessAllowed ? 'block' : 'none';\n",
              "\n",
              "      async function convertToInteractive(key) {\n",
              "        const element = document.querySelector('#df-64cd3d92-418d-4292-b244-04d78868f1b2');\n",
              "        const dataTable =\n",
              "          await google.colab.kernel.invokeFunction('convertToInteractive',\n",
              "                                                    [key], {});\n",
              "        if (!dataTable) return;\n",
              "\n",
              "        const docLinkHtml = 'Like what you see? Visit the ' +\n",
              "          '<a target=\"_blank\" href=https://colab.research.google.com/notebooks/data_table.ipynb>data table notebook</a>'\n",
              "          + ' to learn more about interactive tables.';\n",
              "        element.innerHTML = '';\n",
              "        dataTable['output_type'] = 'display_data';\n",
              "        await google.colab.output.renderOutput(dataTable, element);\n",
              "        const docLink = document.createElement('div');\n",
              "        docLink.innerHTML = docLinkHtml;\n",
              "        element.appendChild(docLink);\n",
              "      }\n",
              "    </script>\n",
              "  </div>\n",
              "\n",
              "\n",
              "<div id=\"df-ca16c9b3-ce79-4126-b711-55994598933d\">\n",
              "  <button class=\"colab-df-quickchart\" onclick=\"quickchart('df-ca16c9b3-ce79-4126-b711-55994598933d')\"\n",
              "            title=\"Suggest charts\"\n",
              "            style=\"display:none;\">\n",
              "\n",
              "<svg xmlns=\"http://www.w3.org/2000/svg\" height=\"24px\"viewBox=\"0 0 24 24\"\n",
              "     width=\"24px\">\n",
              "    <g>\n",
              "        <path d=\"M19 3H5c-1.1 0-2 .9-2 2v14c0 1.1.9 2 2 2h14c1.1 0 2-.9 2-2V5c0-1.1-.9-2-2-2zM9 17H7v-7h2v7zm4 0h-2V7h2v10zm4 0h-2v-4h2v4z\"/>\n",
              "    </g>\n",
              "</svg>\n",
              "  </button>\n",
              "\n",
              "<style>\n",
              "  .colab-df-quickchart {\n",
              "      --bg-color: #E8F0FE;\n",
              "      --fill-color: #1967D2;\n",
              "      --hover-bg-color: #E2EBFA;\n",
              "      --hover-fill-color: #174EA6;\n",
              "      --disabled-fill-color: #AAA;\n",
              "      --disabled-bg-color: #DDD;\n",
              "  }\n",
              "\n",
              "  [theme=dark] .colab-df-quickchart {\n",
              "      --bg-color: #3B4455;\n",
              "      --fill-color: #D2E3FC;\n",
              "      --hover-bg-color: #434B5C;\n",
              "      --hover-fill-color: #FFFFFF;\n",
              "      --disabled-bg-color: #3B4455;\n",
              "      --disabled-fill-color: #666;\n",
              "  }\n",
              "\n",
              "  .colab-df-quickchart {\n",
              "    background-color: var(--bg-color);\n",
              "    border: none;\n",
              "    border-radius: 50%;\n",
              "    cursor: pointer;\n",
              "    display: none;\n",
              "    fill: var(--fill-color);\n",
              "    height: 32px;\n",
              "    padding: 0;\n",
              "    width: 32px;\n",
              "  }\n",
              "\n",
              "  .colab-df-quickchart:hover {\n",
              "    background-color: var(--hover-bg-color);\n",
              "    box-shadow: 0 1px 2px rgba(60, 64, 67, 0.3), 0 1px 3px 1px rgba(60, 64, 67, 0.15);\n",
              "    fill: var(--button-hover-fill-color);\n",
              "  }\n",
              "\n",
              "  .colab-df-quickchart-complete:disabled,\n",
              "  .colab-df-quickchart-complete:disabled:hover {\n",
              "    background-color: var(--disabled-bg-color);\n",
              "    fill: var(--disabled-fill-color);\n",
              "    box-shadow: none;\n",
              "  }\n",
              "\n",
              "  .colab-df-spinner {\n",
              "    border: 2px solid var(--fill-color);\n",
              "    border-color: transparent;\n",
              "    border-bottom-color: var(--fill-color);\n",
              "    animation:\n",
              "      spin 1s steps(1) infinite;\n",
              "  }\n",
              "\n",
              "  @keyframes spin {\n",
              "    0% {\n",
              "      border-color: transparent;\n",
              "      border-bottom-color: var(--fill-color);\n",
              "      border-left-color: var(--fill-color);\n",
              "    }\n",
              "    20% {\n",
              "      border-color: transparent;\n",
              "      border-left-color: var(--fill-color);\n",
              "      border-top-color: var(--fill-color);\n",
              "    }\n",
              "    30% {\n",
              "      border-color: transparent;\n",
              "      border-left-color: var(--fill-color);\n",
              "      border-top-color: var(--fill-color);\n",
              "      border-right-color: var(--fill-color);\n",
              "    }\n",
              "    40% {\n",
              "      border-color: transparent;\n",
              "      border-right-color: var(--fill-color);\n",
              "      border-top-color: var(--fill-color);\n",
              "    }\n",
              "    60% {\n",
              "      border-color: transparent;\n",
              "      border-right-color: var(--fill-color);\n",
              "    }\n",
              "    80% {\n",
              "      border-color: transparent;\n",
              "      border-right-color: var(--fill-color);\n",
              "      border-bottom-color: var(--fill-color);\n",
              "    }\n",
              "    90% {\n",
              "      border-color: transparent;\n",
              "      border-bottom-color: var(--fill-color);\n",
              "    }\n",
              "  }\n",
              "</style>\n",
              "\n",
              "  <script>\n",
              "    async function quickchart(key) {\n",
              "      const quickchartButtonEl =\n",
              "        document.querySelector('#' + key + ' button');\n",
              "      quickchartButtonEl.disabled = true;  // To prevent multiple clicks.\n",
              "      quickchartButtonEl.classList.add('colab-df-spinner');\n",
              "      try {\n",
              "        const charts = await google.colab.kernel.invokeFunction(\n",
              "            'suggestCharts', [key], {});\n",
              "      } catch (error) {\n",
              "        console.error('Error during call to suggestCharts:', error);\n",
              "      }\n",
              "      quickchartButtonEl.classList.remove('colab-df-spinner');\n",
              "      quickchartButtonEl.classList.add('colab-df-quickchart-complete');\n",
              "    }\n",
              "    (() => {\n",
              "      let quickchartButtonEl =\n",
              "        document.querySelector('#df-ca16c9b3-ce79-4126-b711-55994598933d button');\n",
              "      quickchartButtonEl.style.display =\n",
              "        google.colab.kernel.accessAllowed ? 'block' : 'none';\n",
              "    })();\n",
              "  </script>\n",
              "</div>\n",
              "    </div>\n",
              "  </div>\n"
            ],
            "text/plain": [
              "issue       immigration  integration\n",
              "position                            \n",
              "neutral             578          390\n",
              "sceptical          1360          776\n",
              "supportive         1955         3886"
            ]
          },
          "execution_count": 9,
          "metadata": {},
          "output_type": "execute_result"
        }
      ],
      "source": [
        "df[['position', 'issue']].value_counts(dropna=False).unstack()"
      ]
    },
    {
      "cell_type": "markdown",
      "metadata": {
        "id": "_VP-M39K7O6S"
      },
      "source": [
        "**_Note:_** In the original data, 'position' is only coded for sentences with 'issue' \"immigration\" or \"integration\".\n",
        "We have discarded all sentences where 'issue' was coded as \"other\"."
      ]
    },
    {
      "cell_type": "markdown",
      "metadata": {
        "id": "Iys4MTa27O6S"
      },
      "source": [
        "A problem with the 'position' indicator in all coded sentences is that the \"neutral\" category is very rare."
      ]
    },
    {
      "cell_type": "code",
      "execution_count": null,
      "metadata": {
        "colab": {
          "base_uri": "https://localhost:8080/"
        },
        "id": "J7JNov8n7O6S",
        "outputId": "3622d282-859d-46ae-aa1b-296179cec359"
      },
      "outputs": [
        {
          "data": {
            "text/plain": [
              "position\n",
              "supportive    5841\n",
              "sceptical     2136\n",
              "neutral        968\n",
              "dtype: int64"
            ]
          },
          "execution_count": 10,
          "metadata": {},
          "output_type": "execute_result"
        }
      ],
      "source": [
        "df.value_counts('position', dropna=False)"
      ]
    },
    {
      "cell_type": "markdown",
      "metadata": {
        "id": "u_CXo3km7O6S"
      },
      "source": [
        "We'll thus discard \"neutral\" sentences to make the classification task simpler:"
      ]
    },
    {
      "cell_type": "code",
      "execution_count": null,
      "metadata": {
        "id": "uUnD7OEn7O6S"
      },
      "outputs": [],
      "source": [
        "df = df[df.position.isin(['supportive', 'sceptical'])]"
      ]
    },
    {
      "cell_type": "markdown",
      "metadata": {
        "id": "SQLdsPzK7O6S"
      },
      "source": [
        "Now we can tabulate the languages covered by the remaining data:"
      ]
    },
    {
      "cell_type": "code",
      "execution_count": null,
      "metadata": {
        "colab": {
          "base_uri": "https://localhost:8080/"
        },
        "id": "dLvrN5Bg7O6S",
        "outputId": "04432d65-d28c-4866-aabc-eff6948eb8cd"
      },
      "outputs": [
        {
          "data": {
            "text/plain": [
              "lang\n",
              "deu    3026\n",
              "nor    1273\n",
              "nld    1228\n",
              "spa     814\n",
              "dan     482\n",
              "eng     476\n",
              "swe     344\n",
              "fin     261\n",
              "fra      73\n",
              "dtype: int64"
            ]
          },
          "execution_count": 12,
          "metadata": {},
          "output_type": "execute_result"
        }
      ],
      "source": [
        "df[['country', 'lang']].value_counts()"
      ]
    },
    {
      "cell_type": "markdown",
      "metadata": {
        "id": "0xhPdgvk7O6T"
      },
      "source": [
        "## Prepare training"
      ]
    },
    {
      "cell_type": "markdown",
      "metadata": {
        "id": "BsIp8W2q7O6T"
      },
      "source": [
        "### Prepare the train, dev, and test splits"
      ]
    },
    {
      "cell_type": "markdown",
      "metadata": {
        "id": "Q1IRgygx7O6T"
      },
      "source": [
        "Because machine learning models need numbers as inputs, we need to convert our position labels into numeric indicators.\n",
        "\n",
        "To this end we first create a \"mapping\" `id2label` label number to label name (and *vice versa*):"
      ]
    },
    {
      "cell_type": "code",
      "execution_count": null,
      "metadata": {
        "id": "4HdUpxtN7O6T"
      },
      "outputs": [],
      "source": [
        "id2label = {0: 'sceptical', 1: 'supportive'}\n",
        "# alternatively: `id2label = dict(enumerate(df.position.unique()))?\n",
        "label2id = {v: k for k, v in id2label.items()}"
      ]
    },
    {
      "cell_type": "markdown",
      "metadata": {
        "id": "S12eRiGp7O6T"
      },
      "source": [
        "We then use this mapping to creat a number label indicator column:"
      ]
    },
    {
      "cell_type": "code",
      "execution_count": null,
      "metadata": {
        "colab": {
          "base_uri": "https://localhost:8080/"
        },
        "id": "8W9Fkn0B7O6T",
        "outputId": "e1109c00-3f02-4398-96e4-7f1b91ccb38c"
      },
      "outputs": [
        {
          "data": {
            "text/plain": [
              "label  position  \n",
              "1      supportive    5841\n",
              "0      sceptical     2136\n",
              "dtype: int64"
            ]
          },
          "execution_count": 16,
          "metadata": {},
          "output_type": "execute_result"
        }
      ],
      "source": [
        "# encode label indicator\n",
        "df['label'] = df['position'].map(label2id)\n",
        "df[['label', 'position']].value_counts()"
      ]
    },
    {
      "cell_type": "markdown",
      "metadata": {
        "id": "QVPrr9eU7O6T"
      },
      "source": [
        "Now we can subset the data frame to only the columns we'll need for finetuning and evaluation:"
      ]
    },
    {
      "cell_type": "code",
      "execution_count": null,
      "metadata": {
        "id": "MgdnXlVX7O6T"
      },
      "outputs": [],
      "source": [
        "cols = ['text', 'label', 'lang']\n",
        "df = df[cols].reset_index(drop=True)"
      ]
    },
    {
      "cell_type": "markdown",
      "metadata": {
        "id": "el12ezRDIwC9"
      },
      "source": [
        "Next, we need to split the dataset into three **splits**:\n",
        "\n",
        "- a training set (\"train\") used for finetuning the pre-trained model's parameters with our data and classification task\n",
        "- a development set (\"dev\") used to monitor our progress during finetuning\n",
        "- a test set (\"test\") we use to estimate the final classifiers out-of-sample performance (completely held-out during finetuning!)\n",
        "\n",
        "We set aside 10% of sentences for the development and 15% of sentences for the test set. The rest is used for training."
      ]
    },
    {
      "cell_type": "code",
      "execution_count": null,
      "metadata": {
        "colab": {
          "base_uri": "https://localhost:8080/"
        },
        "id": "HCOjNFmJ7O6T",
        "outputId": "b847968a-d52d-44f3-a42c-0344e11c8619"
      },
      "outputs": [
        {
          "data": {
            "text/plain": [
              "(5984, 797, 1196)"
            ]
          },
          "execution_count": 20,
          "metadata": {},
          "output_type": "execute_result"
        }
      ],
      "source": [
        "# use 15% of the data for dev and test, respectively\n",
        "n = len(df)\n",
        "\n",
        "test_size = 0.15\n",
        "n_test = int(n*test_size)\n",
        "\n",
        "dev_size = 0.10\n",
        "n_dev = int(n*dev_size)\n",
        "\n",
        "tmp, test_idxs = train_test_split(range(n), test_size=n_test, random_state=SEED, stratify=df.label)\n",
        "train_idxs, dev_idxs = train_test_split(tmp, test_size=n_dev, random_state=SEED, stratify=df.label.iloc[tmp])\n",
        "del tmp\n",
        "\n",
        "# show the number of examples in each split\n",
        "len(train_idxs), len(dev_idxs), len(test_idxs)"
      ]
    },
    {
      "cell_type": "markdown",
      "metadata": {
        "id": "YNnnZzwq7O6T"
      },
      "source": [
        "Now we are ready to create our dataset:"
      ]
    },
    {
      "cell_type": "code",
      "execution_count": null,
      "metadata": {
        "id": "Ec1YkX5OIwC9"
      },
      "outputs": [],
      "source": [
        "dataset = DatasetDict({\n",
        "    \"train\": Dataset.from_pandas(df.iloc[train_idxs], preserve_index=False),\n",
        "    \"dev\": Dataset.from_pandas(df.iloc[dev_idxs], preserve_index=False),\n",
        "    \"test\": Dataset.from_pandas(df.iloc[test_idxs], preserve_index=False),\n",
        "})"
      ]
    },
    {
      "cell_type": "markdown",
      "metadata": {
        "id": "0z5HZKva7O6T"
      },
      "source": [
        "The object 'dataset' is an instance of the `datasets` `DatasetDict` class."
      ]
    },
    {
      "cell_type": "code",
      "execution_count": null,
      "metadata": {
        "colab": {
          "base_uri": "https://localhost:8080/"
        },
        "id": "xpxmrkz57O6T",
        "outputId": "7757ddd0-3340-407f-d4eb-e955cd7cbdfb"
      },
      "outputs": [
        {
          "data": {
            "text/plain": [
              "datasets.dataset_dict.DatasetDict"
            ]
          },
          "execution_count": 22,
          "metadata": {},
          "output_type": "execute_result"
        }
      ],
      "source": [
        "type(dataset)"
      ]
    },
    {
      "cell_type": "markdown",
      "metadata": {
        "id": "GRJiqKK57O6U"
      },
      "source": [
        "This class is there to gather several pre-defined splits of a dataset.\n",
        "\n",
        "Among these splits, one is usually named \"train\" and another on \"test\" (see next cell).\n",
        "\n",
        "**_Note:_** It'll become clearer further below why we need these splits."
      ]
    },
    {
      "cell_type": "code",
      "execution_count": null,
      "metadata": {
        "colab": {
          "base_uri": "https://localhost:8080/"
        },
        "id": "smlK_d_p7O6Y",
        "outputId": "2eef5dca-1942-4daa-a58d-38be0227900e"
      },
      "outputs": [
        {
          "data": {
            "text/plain": [
              "dict_keys(['train', 'dev', 'test'])"
            ]
          },
          "execution_count": 23,
          "metadata": {},
          "output_type": "execute_result"
        }
      ],
      "source": [
        "dataset.keys()"
      ]
    },
    {
      "cell_type": "code",
      "execution_count": null,
      "metadata": {
        "colab": {
          "base_uri": "https://localhost:8080/"
        },
        "id": "oTeeLcsT7O6Y",
        "outputId": "90ea93a0-f5bb-47bc-d34b-37be7ab80195"
      },
      "outputs": [
        {
          "data": {
            "text/plain": [
              "(5984, 797, 1196)"
            ]
          },
          "execution_count": 24,
          "metadata": {},
          "output_type": "execute_result"
        }
      ],
      "source": [
        "len(dataset['train']), len(dataset['dev']), len(dataset['test'])"
      ]
    },
    {
      "cell_type": "markdown",
      "metadata": {
        "id": "3-d-KOvzIwC9"
      },
      "source": [
        "Here is how you can access one \"example\" (i.e., observation) in the the \"test\" split:"
      ]
    },
    {
      "cell_type": "code",
      "execution_count": null,
      "metadata": {
        "colab": {
          "base_uri": "https://localhost:8080/"
        },
        "id": "ZfLu8rfE7O6Y",
        "outputId": "ed76825c-6fc3-4f60-fccc-0f05644db362"
      },
      "outputs": [
        {
          "data": {
            "text/plain": [
              "datasets.arrow_dataset.Dataset"
            ]
          },
          "execution_count": 25,
          "metadata": {},
          "output_type": "execute_result"
        }
      ],
      "source": [
        "type(dataset[\"test\"])"
      ]
    },
    {
      "cell_type": "code",
      "execution_count": null,
      "metadata": {
        "colab": {
          "base_uri": "https://localhost:8080/"
        },
        "id": "kQEm_8XyIwC9",
        "outputId": "9ed66481-35ce-4356-db73-84e2af5a6e94"
      },
      "outputs": [
        {
          "data": {
            "text/plain": [
              "({'text': 'Auslöser für Angst und Intoleranz ist Unwissenheit.',\n",
              "  'label': 1,\n",
              "  'lang': 'deu'},\n",
              " {0: 'sceptical', 1: 'supportive'})"
            ]
          },
          "execution_count": 34,
          "metadata": {},
          "output_type": "execute_result"
        }
      ],
      "source": [
        "dataset[\"test\"][1], id2label"
      ]
    },
    {
      "cell_type": "markdown",
      "metadata": {
        "id": "caZBe68pIwC-"
      },
      "source": [
        "This shows in the test split, there are three fields for *each* example :\n",
        "\n",
        "- `text`: the movie review text.\n",
        "- `label`: a value that is either `1` for a supportive stance or `0` for a sceptical stance.\n",
        "- `lang`: lange code indicatiting the sentenecs language"
      ]
    },
    {
      "cell_type": "markdown",
      "metadata": {
        "id": "kgA3hvwm7O6Z"
      },
      "source": [
        "**_Important:_** check that the splits have about equal label class distributions:"
      ]
    },
    {
      "cell_type": "code",
      "execution_count": null,
      "metadata": {
        "colab": {
          "base_uri": "https://localhost:8080/"
        },
        "id": "2husJWCg7O6Z",
        "outputId": "7a77748f-9373-4376-94ab-08347cafb68b"
      },
      "outputs": [
        {
          "name": "stdout",
          "output_type": "stream",
          "text": [
            "% \"pos\" in train: 0.7321189839572193\n",
            "% \"pos\" in dev: 0.7327478042659975\n",
            "% \"pos\" in test: 0.7324414715719063\n"
          ]
        }
      ],
      "source": [
        "print('% \"pos\" in train:', np.mean([ex['label'] for ex in dataset[\"train\"]]))\n",
        "print('% \"pos\" in dev:', np.mean([ex['label'] for ex in dataset[\"dev\"]]))\n",
        "print('% \"pos\" in test:', np.mean([ex['label'] for ex in dataset[\"test\"]]))"
      ]
    },
    {
      "cell_type": "markdown",
      "metadata": {
        "id": "6Vw5OFMUIwC-"
      },
      "source": [
        "### Preprocessing texts"
      ]
    },
    {
      "cell_type": "markdown",
      "metadata": {
        "id": "gLhZbEdaIwC-"
      },
      "source": [
        "The next step is to load a DistilBERT tokenizer to preprocess the `text` field:"
      ]
    },
    {
      "cell_type": "code",
      "execution_count": null,
      "metadata": {
        "colab": {
          "base_uri": "https://localhost:8080/",
          "height": 113,
          "referenced_widgets": [
            "b19e2003faf44d9781a7ad93ec3556d1",
            "ffea6ce692fc4116bc8347df7478bb03",
            "5688556d961745378bb6e6a5c3e1450a",
            "f7f18b75987a4f5ea594207f82221c54",
            "761f4627e2164d899b76b9f0541cc132",
            "0c435dc1664348ccbc3770c296213a00",
            "656ce76cb6134768acf9d6b240ef2734",
            "257f63c274f44fe8a2e267774d7f80e4",
            "358ebf63d7a64171b74b562b03320227",
            "5b57f2bbbb4d496a9461dc42b113abb4",
            "ab6803abffb14180a54e1fbdf12daf90",
            "eda218f53e3743acbc23f6a35d7b8369",
            "b00633d2fda14d41b62e347cd8fbee9f",
            "9078b370f683469db31f8d58c0fa5935",
            "d0e0cedd29e9441581c134b563b4b1a1",
            "62c88c95c9264a14a51319ba11957a2f",
            "e996fec38b004e98984504c78f7c9c7f",
            "3d53c8accaca439cb3ae95e98c588728",
            "446b81a645e44b6189639d3f32d0b203",
            "3137c66108014bf68b1949c5a583ca1e",
            "2f72898a0abd4d54bf24ee91519a02a7",
            "f46e71260b8e4b8181149ad9e5fb3386",
            "3b33c6e40b1e4149ae720bf453c43bde",
            "c8ff403672734b449d96e17bdb00c764",
            "a308afce1f4447c39f94ee973377f1a6",
            "8fa3927da1c84a61a6af34538d1da8a9",
            "aa2cf6753a554028a0d465f6174bf1df",
            "8d6ecec0bf164903910c865c04cc4ac0",
            "97d04460c0024e5b80eaca3587d882d7",
            "527857476ae34e74a5fbd59a3e7a5008",
            "28a0f4887bb844b8a3bfe828f422e611",
            "e2eb057e920e495183cde7fc5103917e",
            "ecc006ad383246ad959940253e0b1f41"
          ]
        },
        "id": "FXLRVYJ6IwC-",
        "outputId": "652b5f19-9609-49a6-eca2-e7f5facde834"
      },
      "outputs": [
        {
          "data": {
            "application/vnd.jupyter.widget-view+json": {
              "model_id": "b19e2003faf44d9781a7ad93ec3556d1",
              "version_major": 2,
              "version_minor": 0
            },
            "text/plain": [
              "Downloading config.json:   0%|          | 0.00/615 [00:00<?, ?B/s]"
            ]
          },
          "metadata": {},
          "output_type": "display_data"
        },
        {
          "data": {
            "application/vnd.jupyter.widget-view+json": {
              "model_id": "eda218f53e3743acbc23f6a35d7b8369",
              "version_major": 2,
              "version_minor": 0
            },
            "text/plain": [
              "Downloading (…)tencepiece.bpe.model:   0%|          | 0.00/5.07M [00:00<?, ?B/s]"
            ]
          },
          "metadata": {},
          "output_type": "display_data"
        },
        {
          "data": {
            "application/vnd.jupyter.widget-view+json": {
              "model_id": "3b33c6e40b1e4149ae720bf453c43bde",
              "version_major": 2,
              "version_minor": 0
            },
            "text/plain": [
              "Downloading tokenizer.json:   0%|          | 0.00/9.10M [00:00<?, ?B/s]"
            ]
          },
          "metadata": {},
          "output_type": "display_data"
        }
      ],
      "source": [
        "tokenizer = AutoTokenizer.from_pretrained(MODEL_NAME)\n",
        "# read about \"byte-pair encoding\" and \"sentence-piece\" algorithms if interested in how tokenizers work"
      ]
    },
    {
      "cell_type": "markdown",
      "metadata": {
        "id": "HJOfDHII7O6Z"
      },
      "source": [
        "The tokenizer is a so-called *callable* and can thus be used like a function:\n",
        "If you input a text string, it return a dictionary with the tokenized text and additional information."
      ]
    },
    {
      "cell_type": "code",
      "execution_count": null,
      "metadata": {
        "colab": {
          "base_uri": "https://localhost:8080/"
        },
        "id": "sL1d_sTx7O6Z",
        "outputId": "56ee02b0-c929-4847-df4c-ee77ae7882a5"
      },
      "outputs": [
        {
          "name": "stdout",
          "output_type": "stream",
          "text": [
            "dict_keys(['input_ids', 'attention_mask'])\n"
          ]
        }
      ],
      "source": [
        "toks = tokenizer(\"Hello, this one sentence! <s> And this is another one.\")\n",
        "print(toks.keys())"
      ]
    },
    {
      "cell_type": "markdown",
      "metadata": {
        "id": "zKqWW-Xq7O6Z"
      },
      "source": [
        "- The field 'input_ids' indicates the numbers used to represent the tokens in the example sentence.\n",
        "- The 'attention_mask' is there to help the model to know to which tokens in of a bunch of sentences it should pay attention when fine-tuning, and which it can ignore."
      ]
    },
    {
      "cell_type": "code",
      "execution_count": null,
      "metadata": {
        "colab": {
          "base_uri": "https://localhost:8080/"
        },
        "id": "4janZzEx7O6Z",
        "outputId": "92d488f6-12bb-4bb5-fd19-cbb9e2f0127d"
      },
      "outputs": [
        {
          "name": "stdout",
          "output_type": "stream",
          "text": [
            "[0, 35378, 4, 903, 1632, 149357, 38, 0, 3493, 903, 83, 15700, 1632, 5, 2]\n"
          ]
        },
        {
          "data": {
            "text/plain": [
              "['<s>',\n",
              " '▁Hello',\n",
              " ',',\n",
              " '▁this',\n",
              " '▁one',\n",
              " '▁sentence',\n",
              " '!',\n",
              " '<s>',\n",
              " '▁And',\n",
              " '▁this',\n",
              " '▁is',\n",
              " '▁another',\n",
              " '▁one',\n",
              " '.',\n",
              " '</s>']"
            ]
          },
          "execution_count": 38,
          "metadata": {},
          "output_type": "execute_result"
        }
      ],
      "source": [
        "toks['input_ids']\n",
        "print(toks['input_ids'])\n",
        "tokenizer.convert_ids_to_tokens(toks['input_ids'])"
      ]
    },
    {
      "cell_type": "code",
      "execution_count": null,
      "metadata": {
        "colab": {
          "base_uri": "https://localhost:8080/"
        },
        "id": "bl6pKrjK7O6Z",
        "outputId": "7b222af5-0483-4ba2-c0d9-0548be24cd4d"
      },
      "outputs": [
        {
          "name": "stdout",
          "output_type": "stream",
          "text": [
            "[1, 1, 1, 1, 1, 1, 1, 1, 1, 1, 1, 1, 1, 1, 1]\n"
          ]
        }
      ],
      "source": [
        "print(toks['attention_mask'])"
      ]
    },
    {
      "cell_type": "markdown",
      "metadata": {
        "id": "xdrDTeZYIwC-"
      },
      "source": [
        "Let's create a helper function that tokenizes the `text` value of an input called example.\n",
        "This will allow us to iterate over examples in our dataset splits (e.g., `imdb[\"test\"]`) and pre-process them one by one.\n",
        "\n",
        "**_Note:_** Setting `truncate=True` we ensure that none of the text sequences we'll use for fine-tuning is too longer for DistilBERT to handle it."
      ]
    },
    {
      "cell_type": "code",
      "execution_count": null,
      "metadata": {
        "id": "veclR-QmIwC-"
      },
      "outputs": [],
      "source": [
        "def preprocess_function(examples):\n",
        "    return tokenizer(examples[\"text\"], truncation=True)"
      ]
    },
    {
      "cell_type": "markdown",
      "metadata": {
        "id": "xA74NYovIwC-"
      },
      "source": [
        "To apply the preprocessing function over the entire dataset, use 🤗 Datasets [map](https://huggingface.co/docs/datasets/main/en/package_reference/main_classes#datasets.Dataset.map) function. You can speed up `map` by setting `batched=True` to process multiple elements of the dataset at once:"
      ]
    },
    {
      "cell_type": "code",
      "execution_count": null,
      "metadata": {
        "colab": {
          "base_uri": "https://localhost:8080/",
          "height": 113,
          "referenced_widgets": [
            "6e5df4fcd92947fc9c3f668be37cd8fb",
            "41e322dfa4fb493384121e8ac48a195f",
            "4a26c19f945148639b354150f3cfabf7",
            "0ad030fdbc8b4c09973cb201590cc651",
            "5ade1824eb764f448d5b192063297b83",
            "4160455132b2446fba5d1f4b2ca844d7",
            "67a07ae1723d46f9903e69c52969aa3c",
            "be9620a15dcd447d8e304b779c327d10",
            "40f132af54b54f66833fad11c0b57b98",
            "6286e381951c4fbbadac7fd74292256d",
            "844d6afbecfc4d08a4e0e563c2f9c943",
            "95f07aaa652a48cf9aa5d4ad020faffb",
            "294c7cb1e24c4671a48809f4c15b618d",
            "c8e07d9f5661402f85c6205ece5ad462",
            "51cfacd6349747b08ef9def20bca7b64",
            "a6c6cb933b534edd9923b7496f91df96",
            "bdb65c25c43c4e0fa465f2d2009b5f50",
            "fead2df659644851a8513058b3f92758",
            "e7fce7cfbed24bd4beeff3324b53cd85",
            "ff77235e067b449ead8b1138f22dd93a",
            "500289913878491baf661027404d7f8d",
            "224e151373e24ac788afed2d636ade6b",
            "33c6d370e0e14108bc2c4ac672a8d5cf",
            "2ccb57864aa34cf4a4d16cb3c574b720",
            "4722e7867e1e48a1a3d57e79279b5850",
            "5cb56bfc6e4545c08d2b2c1928c3f6e5",
            "3a7fa5e8708445388083863defaf7c4d",
            "a2b4973ee7d9482d9d8ee3c6844e8973",
            "5d746d60110c4daab0e4ff84468a6432",
            "d87818bdcdad40d7830bf28b059d485c",
            "1f5944867fe84eab8a40c8562abbc6f4",
            "9810010890c74ec1a1999eae822b9366",
            "0a0be89718c94cccb70b517d6a5aaccc"
          ]
        },
        "id": "kbNKLzNbIwC-",
        "outputId": "99db74ca-04c9-40de-8207-792f70e70af6"
      },
      "outputs": [
        {
          "data": {
            "application/vnd.jupyter.widget-view+json": {
              "model_id": "6e5df4fcd92947fc9c3f668be37cd8fb",
              "version_major": 2,
              "version_minor": 0
            },
            "text/plain": [
              "Map:   0%|          | 0/5984 [00:00<?, ? examples/s]"
            ]
          },
          "metadata": {},
          "output_type": "display_data"
        },
        {
          "data": {
            "application/vnd.jupyter.widget-view+json": {
              "model_id": "95f07aaa652a48cf9aa5d4ad020faffb",
              "version_major": 2,
              "version_minor": 0
            },
            "text/plain": [
              "Map:   0%|          | 0/797 [00:00<?, ? examples/s]"
            ]
          },
          "metadata": {},
          "output_type": "display_data"
        },
        {
          "data": {
            "application/vnd.jupyter.widget-view+json": {
              "model_id": "33c6d370e0e14108bc2c4ac672a8d5cf",
              "version_major": 2,
              "version_minor": 0
            },
            "text/plain": [
              "Map:   0%|          | 0/1196 [00:00<?, ? examples/s]"
            ]
          },
          "metadata": {},
          "output_type": "display_data"
        }
      ],
      "source": [
        "# need to do this beause you want to add the input IDs and\n",
        "#  attention mask values to each example in each of the data splits\n",
        "dataset = dataset.map(preprocess_function, batched=True)"
      ]
    },
    {
      "cell_type": "code",
      "execution_count": null,
      "metadata": {
        "colab": {
          "base_uri": "https://localhost:8080/"
        },
        "id": "em-XkhSp7O6a",
        "outputId": "1723d6d9-e6f5-4efd-f052-9ca41138c488"
      },
      "outputs": [
        {
          "data": {
            "text/plain": [
              "dict_keys(['text', 'label', 'lang', 'input_ids', 'attention_mask'])"
            ]
          },
          "execution_count": 42,
          "metadata": {},
          "output_type": "execute_result"
        }
      ],
      "source": [
        "dataset['train'][0].keys()"
      ]
    },
    {
      "cell_type": "markdown",
      "metadata": {
        "id": "gsVftz9cIwC-"
      },
      "source": [
        "Now create a batch of examples using [DataCollatorWithPadding](https://huggingface.co/docs/transformers/main/en/main_classes/data_collator#transformers.DataCollatorWithPadding).\n",
        "\n",
        "Our `data_collator` instance of this class will handle preprocessing and a thing called \"padding\" when sampling batches of examples during finetuning to iteratively update our classifier's parameters.\n",
        "\n",
        "*Padding* means that you make all text sequences in a set of sequences the same length.\n",
        "To do this, we just append the `<PAD>` special token to shorter text sequences in the set.\n",
        "For example, the (tokenized) sequences in the following set\n",
        "\n",
        "```json\n",
        "[\n",
        "    ['Hello', 'world', '!'               ],\n",
        "    ['Have',  'a',     'nice', 'day', '!']\n",
        "]\n",
        "```\n",
        "\n",
        "will be \"padded\" to\n",
        "\n",
        "```json\n",
        "[\n",
        "    ['Hello', 'world', '!',    '<PAD>', '<PAD>'],\n",
        "    ['Have',  'a',     'nice', 'day',   '!'    ]\n",
        "]\n",
        "```"
      ]
    },
    {
      "cell_type": "code",
      "execution_count": null,
      "metadata": {
        "id": "nOP2H-qPIwC-"
      },
      "outputs": [],
      "source": [
        "data_collator = DataCollatorWithPadding(tokenizer=tokenizer)"
      ]
    },
    {
      "cell_type": "markdown",
      "metadata": {
        "id": "G61kFtuQIwC-"
      },
      "source": [
        "### How to evaluate model performance"
      ]
    },
    {
      "cell_type": "markdown",
      "metadata": {
        "id": "aZfQHOjuIwC-"
      },
      "source": [
        "To see how well our model is doing on the classification task, we compute *evaluation metrics*.\n",
        "Broadly speaking, they summarize how often our model predicts the correct labels on held-out data.\n",
        "\n",
        "Applying an evaluation metric to held-out data during training is helpful for assessing how your model's performance improves during training.\n",
        "\n",
        "Once your model is trained, evaluation metrics are important to qunatify your model's final performance."
      ]
    },
    {
      "cell_type": "markdown",
      "metadata": {
        "id": "Ylm87sjn7O6a"
      },
      "source": [
        "We compute the following metrics:\n",
        "\n",
        "- precision: the share of examples a classifier as correctly assigned into a class\n",
        "- recall: the share of positive examples a classifier labels correctly\n",
        "- F1: a measure combining recall and precision\n",
        "- balanced accuary: an accurarcy metric adjusting for class imbalance\n",
        "\n",
        "<p><a href=\"https://commons.wikimedia.org/wiki/File:Precisionrecall.svg#/media/File:Precisionrecall.svg\"><img src=\"https://upload.wikimedia.org/wikipedia/commons/2/26/Precisionrecall.svg\" alt=\"Precisionrecall.svg\" height=\"800\" width=\"440\"></a><br>By &lt;a href=\"//commons.wikimedia.org/wiki/User:Walber\" title=\"User:Walber\"&gt;Walber&lt;/a&gt; - &lt;span class=\"int-own-work\" lang=\"en\"&gt;Own work&lt;/span&gt;, <a href=\"https://creativecommons.org/licenses/by-sa/4.0\" title=\"Creative Commons Attribution-Share Alike 4.0\">CC BY-SA 4.0</a>, <a href=\"https://commons.wikimedia.org/w/index.php?curid=36926283\">Link</a></p>"
      ]
    },
    {
      "cell_type": "code",
      "execution_count": null,
      "metadata": {
        "id": "RcXx8F4v7O6a",
        "outputId": "df74d258-3d6d-4407-e8a9-05c170f6299c"
      },
      "outputs": [
        {
          "data": {
            "text/plain": [
              "(1.0, 0.5, 0.6666666666666666)"
            ]
          },
          "execution_count": 30,
          "metadata": {},
          "output_type": "execute_result"
        }
      ],
      "source": [
        "p, r, f1, _ = precision_recall_fscore_support(y_true=[0, 1, 1], y_pred=[0, 0, 1], average='binary', zero_division=0)\n",
        "p, r, f1"
      ]
    },
    {
      "cell_type": "code",
      "execution_count": null,
      "metadata": {
        "id": "573E1smV7O6a",
        "outputId": "54fe4423-369d-42d9-d631-ac5a2d37e9af"
      },
      "outputs": [
        {
          "data": {
            "text/plain": [
              "0.6666666666666666"
            ]
          },
          "execution_count": 31,
          "metadata": {},
          "output_type": "execute_result"
        }
      ],
      "source": [
        "2*(p*r / (p+r))"
      ]
    },
    {
      "cell_type": "markdown",
      "metadata": {
        "id": "ib-IdxbhIwC-"
      },
      "source": [
        "Let's create a function that passes your predictions and labels to calculate some central metrics (explanations below):"
      ]
    },
    {
      "cell_type": "code",
      "execution_count": null,
      "metadata": {
        "id": "w0FFpYUJIwC-"
      },
      "outputs": [],
      "source": [
        "def compute_metrics(eval_pred):\n",
        "    predictions, labels = eval_pred\n",
        "    predictions = np.argmax(predictions, axis=1)\n",
        "    p, r, f1, _ = precision_recall_fscore_support(y_true=labels, y_pred=predictions, average='binary', zero_division=0)\n",
        "    metrics = {\n",
        "        \"f1\": f1,\n",
        "        \"precision\": p,\n",
        "        \"recall\": r,\n",
        "    }\n",
        "    return metrics"
      ]
    },
    {
      "cell_type": "markdown",
      "metadata": {
        "id": "Sj50dwY4sjJf"
      },
      "source": [
        "**_Note_** You could also just load a evaluation method with the 🤗 [Evaluate](https://huggingface.co/docs/evaluate/index) library (see the 🤗 Evaluate [quick tour](https://huggingface.co/docs/evaluate/a_quick_tour) to learn more about how to load and compute a metric)."
      ]
    },
    {
      "cell_type": "markdown",
      "metadata": {
        "id": "GfqRQ3_8IwC_"
      },
      "source": [
        "Your `compute_metrics` function is ready to go now, and you'll return to it when you setup your training."
      ]
    },
    {
      "cell_type": "markdown",
      "metadata": {
        "id": "36ryvTj2IwC_"
      },
      "source": [
        "### Load the pre-trained model"
      ]
    },
    {
      "cell_type": "markdown",
      "metadata": {
        "id": "douQqh3YIwC_"
      },
      "source": [
        "<Tip>\n",
        "\n",
        "If you aren't familiar with finetuning a model with the [Trainer](https://huggingface.co/docs/transformers/main/en/main_classes/trainer#transformers.Trainer), take a look at the basic tutorial [here](https://huggingface.co/docs/transformers/main/en/tasks/../training#train-with-pytorch-trainer)!\n",
        "\n",
        "</Tip>\n",
        "\n",
        "You're ready to start training your model now! Load XLM-RoBERTa with [AutoModelForSequenceClassification](https://huggingface.co/docs/transformers/main/en/model_doc/auto#transformers.AutoModelForSequenceClassification) along with the number of expected labels, and the label mappings:"
      ]
    },
    {
      "cell_type": "code",
      "execution_count": null,
      "metadata": {
        "colab": {
          "base_uri": "https://localhost:8080/",
          "height": 104,
          "referenced_widgets": [
            "fe71e84379f5456fa2b4f12d7601bbbc",
            "f6d26d3d69aa4a62a80664ba56bf801c",
            "4c196bf3ec354f15a0a860a6bff5748e",
            "41b4f2b55a8d4efc9d24c865e3843c18",
            "faf38569df424d6680a3365233057205",
            "80850b82efc144b5b4f1fead04d517fd",
            "9f71b4ff102a425092b1259972e70de3",
            "32dd07066aef4d8587a33066c130acc5",
            "0de353c44a364599a385cb43748d9bc0",
            "9b60aad5c3864153b5f3360809d5b1ea",
            "6a98c61dde784930a6ca1ff46c58621a"
          ]
        },
        "id": "EWRzhpclIwC_",
        "outputId": "45cf514c-4caf-45f2-db9e-9ccbdd07b26c"
      },
      "outputs": [
        {
          "data": {
            "application/vnd.jupyter.widget-view+json": {
              "model_id": "fe71e84379f5456fa2b4f12d7601bbbc",
              "version_major": 2,
              "version_minor": 0
            },
            "text/plain": [
              "Downloading model.safetensors:   0%|          | 0.00/1.12G [00:00<?, ?B/s]"
            ]
          },
          "metadata": {},
          "output_type": "display_data"
        },
        {
          "name": "stderr",
          "output_type": "stream",
          "text": [
            "Some weights of XLMRobertaForSequenceClassification were not initialized from the model checkpoint at xlm-roberta-base and are newly initialized: ['classifier.dense.weight', 'classifier.dense.bias', 'classifier.out_proj.bias', 'classifier.out_proj.weight']\n",
            "You should probably TRAIN this model on a down-stream task to be able to use it for predictions and inference.\n"
          ]
        }
      ],
      "source": [
        "model = AutoModelForSequenceClassification.from_pretrained(\n",
        "    MODEL_NAME, # <== the name of the pre-trained model (downloaded from huggingface hub)\n",
        "    num_labels=len(id2label), # number of label classes (adapt this if you have, e.g., 4 label classes)\n",
        "    id2label=id2label,\n",
        "    label2id=label2id\n",
        ")"
      ]
    },
    {
      "cell_type": "markdown",
      "metadata": {
        "id": "cerk641s7O6b"
      },
      "source": [
        "Once we've figured this out, we put our model on that device:"
      ]
    },
    {
      "cell_type": "code",
      "execution_count": null,
      "metadata": {
        "colab": {
          "base_uri": "https://localhost:8080/"
        },
        "id": "cYZOV5XQ7O6b",
        "outputId": "d3530681-efc6-469d-ed3d-f588465af1a5"
      },
      "outputs": [
        {
          "name": "stdout",
          "output_type": "stream",
          "text": [
            "cuda:0\n"
          ]
        }
      ],
      "source": [
        "# IMPORTANT: put the model to the respective device (e.g., GPU)\n",
        "if str(device) != 'cpu':\n",
        "  model.to(device);\n",
        "print(model.device)"
      ]
    },
    {
      "cell_type": "markdown",
      "metadata": {
        "id": "0g_U2wEeIwC_"
      },
      "source": [
        "At this point, only three steps remain:\n",
        "\n",
        "1. Define your training hyperparameters in [TrainingArguments](https://huggingface.co/docs/transformers/main/en/main_classes/trainer#transformers.TrainingArguments). The only required parameter is `output_dir` which specifies where to save your model. At the end of each epoch, the [Trainer](https://huggingface.co/docs/transformers/main/en/main_classes/trainer#transformers.Trainer) will evaluate the accuracy and save the training checkpoint.\n",
        "2. Pass the training arguments to [Trainer](https://huggingface.co/docs/transformers/main/en/main_classes/trainer#transformers.Trainer) along with the model, dataset, tokenizer, data collator, and `compute_metrics` function.\n",
        "3. Call [train()](https://huggingface.co/docs/transformers/main/en/main_classes/trainer#transformers.Trainer.train) to finetune your model."
      ]
    },
    {
      "cell_type": "markdown",
      "metadata": {
        "id": "tD0xb3JH7O6b"
      },
      "source": [
        "### Preparing the trainer"
      ]
    },
    {
      "cell_type": "code",
      "execution_count": null,
      "metadata": {
        "id": "FFve_47s7O6b"
      },
      "outputs": [],
      "source": [
        "# create a temporary directory to store the model predictions\n",
        "# create a temporary folder to save training checkpoints and logs\n",
        "import tempfile\n",
        "model_path = tempfile.mkdtemp()"
      ]
    },
    {
      "cell_type": "code",
      "execution_count": null,
      "metadata": {
        "id": "kStUdSXmIwC_"
      },
      "outputs": [],
      "source": [
        "training_args = TrainingArguments(\n",
        "    output_dir=model_path,\n",
        "    # leave the following unchanged ;)\n",
        "    optim='adamw_torch',\n",
        "    learning_rate=2e-5,\n",
        "    per_device_train_batch_size=16, # <== reduce only if you get a \"CUDA out of memory\" error\n",
        "    gradient_accumulation_steps=2,  # <== increase if your reduce `per_device_train_batch_size`\n",
        "    per_device_eval_batch_size=32,\n",
        "    weight_decay=0.01,\n",
        "    # increase this value to train for longer\n",
        "    num_train_epochs=3,\n",
        "    evaluation_strategy=\"epoch\",\n",
        "    report_to=\"none\",\n",
        "    # how to save and determine (\"best\") model\n",
        "    save_strategy=\"epoch\",\n",
        "    metric_for_best_model=\"f1\", # <== needs to match one of the names of the dictionary returned by `compute_metrics()` function\n",
        "    load_best_model_at_end=True,\n",
        "    save_total_limit=2,\n",
        ")"
      ]
    },
    {
      "cell_type": "code",
      "execution_count": null,
      "metadata": {
        "id": "UinSUba67O6b"
      },
      "outputs": [],
      "source": [
        "import gc\n",
        "def clean_memory(device):\n",
        "  \"\"\"Free GPU memory\"\"\"\n",
        "  if device == 'cuda':\n",
        "    torch.cuda.empty_cache()\n",
        "    torch.cuda.ipc_collect()\n",
        "  elif device == 'mps':\n",
        "    torch.mps.empty_cache()\n",
        "  else:\n",
        "    pass\n",
        "  gc.collect()"
      ]
    },
    {
      "cell_type": "code",
      "execution_count": null,
      "metadata": {
        "id": "iO3QXYOr7O6b"
      },
      "outputs": [],
      "source": [
        "clean_memory(str(model.device))\n",
        "\n",
        "trainer = Trainer(\n",
        "    model=model, # the model instance you loaded two cells above\n",
        "    args=training_args, # the training args you created one cells above\n",
        "    train_dataset=dataset[\"train\"], # the training data split\n",
        "    eval_dataset=dataset[\"dev\"], # the testing data split\n",
        "    data_collator=data_collator,\n",
        "    compute_metrics=compute_metrics,\n",
        ")"
      ]
    },
    {
      "cell_type": "markdown",
      "metadata": {
        "id": "xKhG620u7O6c"
      },
      "source": [
        "## Train"
      ]
    },
    {
      "cell_type": "markdown",
      "metadata": {
        "id": "hSQFP9nU7O6c"
      },
      "source": [
        "Now we can finetune the model!\n",
        "\n",
        "**_Warning:_** This will take long if you are using only your CPU 🥹"
      ]
    },
    {
      "cell_type": "code",
      "execution_count": null,
      "metadata": {
        "colab": {
          "base_uri": "https://localhost:8080/",
          "height": 241
        },
        "id": "-OGUyxk47O6c",
        "outputId": "31d42b0d-00f5-479d-e607-a9ca80d69e99"
      },
      "outputs": [
        {
          "name": "stderr",
          "output_type": "stream",
          "text": [
            "You're using a XLMRobertaTokenizerFast tokenizer. Please note that with a fast tokenizer, using the `__call__` method is faster than using a method to encode the text followed by a call to the `pad` method to get a padded encoding.\n"
          ]
        },
        {
          "data": {
            "text/html": [
              "\n",
              "    <div>\n",
              "      \n",
              "      <progress value='561' max='561' style='width:300px; height:20px; vertical-align: middle;'></progress>\n",
              "      [561/561 05:45, Epoch 3/3]\n",
              "    </div>\n",
              "    <table border=\"1\" class=\"dataframe\">\n",
              "  <thead>\n",
              " <tr style=\"text-align: left;\">\n",
              "      <th>Epoch</th>\n",
              "      <th>Training Loss</th>\n",
              "      <th>Validation Loss</th>\n",
              "      <th>F1</th>\n",
              "      <th>Precision</th>\n",
              "      <th>Recall</th>\n",
              "    </tr>\n",
              "  </thead>\n",
              "  <tbody>\n",
              "    <tr>\n",
              "      <td>1</td>\n",
              "      <td>No log</td>\n",
              "      <td>0.449190</td>\n",
              "      <td>0.850555</td>\n",
              "      <td>0.848382</td>\n",
              "      <td>0.852740</td>\n",
              "    </tr>\n",
              "    <tr>\n",
              "      <td>2</td>\n",
              "      <td>No log</td>\n",
              "      <td>0.407992</td>\n",
              "      <td>0.868020</td>\n",
              "      <td>0.857860</td>\n",
              "      <td>0.878425</td>\n",
              "    </tr>\n",
              "    <tr>\n",
              "      <td>3</td>\n",
              "      <td>0.426100</td>\n",
              "      <td>0.437915</td>\n",
              "      <td>0.875103</td>\n",
              "      <td>0.846400</td>\n",
              "      <td>0.905822</td>\n",
              "    </tr>\n",
              "  </tbody>\n",
              "</table><p>"
            ],
            "text/plain": [
              "<IPython.core.display.HTML object>"
            ]
          },
          "metadata": {},
          "output_type": "display_data"
        },
        {
          "data": {
            "text/plain": [
              "TrainOutput(global_step=561, training_loss=0.41457127929796295, metrics={'train_runtime': 349.6635, 'train_samples_per_second': 51.341, 'train_steps_per_second': 1.604, 'total_flos': 554531215832640.0, 'train_loss': 0.41457127929796295, 'epoch': 3.0})"
            ]
          },
          "execution_count": 52,
          "metadata": {},
          "output_type": "execute_result"
        }
      ],
      "source": [
        "trainer.train()"
      ]
    },
    {
      "cell_type": "markdown",
      "metadata": {
        "id": "n8mRICaO64yc"
      },
      "source": [
        "**_Note:_** The metrics reported in above are computed on the development (`dev`) set!\n",
        "Once trained, we still need to compute performance on the test set. 👇"
      ]
    },
    {
      "cell_type": "markdown",
      "metadata": {
        "id": "_UhIhHgEtIbx"
      },
      "source": [
        "Clean up the checkpoints save during training:"
      ]
    },
    {
      "cell_type": "code",
      "execution_count": null,
      "metadata": {
        "id": "bqizqV8btLkM"
      },
      "outputs": [],
      "source": [
        "import shutil\n",
        "\n",
        "shutil.rmtree(model_path)"
      ]
    },
    {
      "cell_type": "markdown",
      "metadata": {
        "id": "b0_mCtJ_7O6c"
      },
      "source": [
        "## Evaluation"
      ]
    },
    {
      "cell_type": "code",
      "execution_count": null,
      "metadata": {
        "colab": {
          "base_uri": "https://localhost:8080/",
          "height": 176
        },
        "id": "1t51zKF37O6c",
        "outputId": "a2074f36-004b-454d-f154-5409479be3ba"
      },
      "outputs": [
        {
          "data": {
            "text/html": [
              "\n",
              "    <div>\n",
              "      \n",
              "      <progress value='38' max='38' style='width:300px; height:20px; vertical-align: middle;'></progress>\n",
              "      [38/38 00:05]\n",
              "    </div>\n",
              "    "
            ],
            "text/plain": [
              "<IPython.core.display.HTML object>"
            ]
          },
          "metadata": {},
          "output_type": "display_data"
        },
        {
          "data": {
            "text/plain": [
              "{'eval_loss': 0.4595438838005066,\n",
              " 'eval_f1': 0.875,\n",
              " 'eval_precision': 0.8487124463519313,\n",
              " 'eval_recall': 0.9029680365296804,\n",
              " 'eval_runtime': 5.3096,\n",
              " 'eval_samples_per_second': 225.251,\n",
              " 'eval_steps_per_second': 7.157,\n",
              " 'epoch': 3.0}"
            ]
          },
          "execution_count": 53,
          "metadata": {},
          "output_type": "execute_result"
        }
      ],
      "source": [
        "# evaluate the final model on the held-out tetst set\n",
        "trainer.evaluate(dataset[\"test\"])"
      ]
    },
    {
      "cell_type": "markdown",
      "metadata": {
        "id": "9dR4atzo7O6c"
      },
      "source": [
        "**Interpretation**\n",
        "\n",
        "- The **precision** tells us how often the classifier is correct when it says a text expresses a \"supportive\" stance (our positive label class). a score of ~0.85 means that the classifier is correct in 17 out of 20 cases.\n",
        "- The **recall** tells us how many of \"supportive\"-stance sentences the classifier classifies correctly. The score of 0.90 means that, on average, 9 out of 10 \"supportive\"-stance instances are correctly classified by our classifier.\n",
        "- The F1 score just summarizes thes values in one score.\n",
        "\n",
        "Overall our classifier performs very well! 🥳"
      ]
    },
    {
      "cell_type": "markdown",
      "metadata": {
        "id": "Z5nejhsG7O6c"
      },
      "source": [
        "### Save the model and tokenizer for re-use"
      ]
    },
    {
      "cell_type": "code",
      "execution_count": null,
      "metadata": {
        "colab": {
          "base_uri": "https://localhost:8080/"
        },
        "id": "YObkHbpK7O6c",
        "outputId": "e7d677c2-105b-4d6b-cbd6-af2840ab290a"
      },
      "outputs": [
        {
          "data": {
            "text/plain": [
              "('../models/pimpo_stance_classifier/tokenizer_config.json',\n",
              " '../models/pimpo_stance_classifier/special_tokens_map.json',\n",
              " '../models/pimpo_stance_classifier/tokenizer.json')"
            ]
          },
          "execution_count": 54,
          "metadata": {},
          "output_type": "execute_result"
        }
      ],
      "source": [
        "model_path = os.path.join('..', 'models', 'pimpo_stance_classifier')\n",
        "os.makedirs(model_path, exist_ok=True)\n",
        "trainer.save_model(model_path)\n",
        "tokenizer.save_pretrained(model_path)"
      ]
    },
    {
      "cell_type": "code",
      "execution_count": null,
      "metadata": {
        "colab": {
          "base_uri": "https://localhost:8080/"
        },
        "id": "u7AfZ68v7O6c",
        "outputId": "e110b814-5744-4afe-f000-816b6036756b"
      },
      "outputs": [
        {
          "data": {
            "text/plain": [
              "['config.json',\n",
              " 'tokenizer.json',\n",
              " 'training_args.bin',\n",
              " 'model.safetensors',\n",
              " 'special_tokens_map.json',\n",
              " 'tokenizer_config.json']"
            ]
          },
          "execution_count": 55,
          "metadata": {},
          "output_type": "execute_result"
        }
      ],
      "source": [
        "os.listdir(model_path)"
      ]
    },
    {
      "cell_type": "markdown",
      "metadata": {
        "id": "evXdcJw97O6c"
      },
      "source": [
        "### Detailed look at the classifiers output"
      ]
    },
    {
      "cell_type": "markdown",
      "metadata": {
        "id": "0bpFcmfP7O6c"
      },
      "source": [
        "Let's create predictions for the five examples in the test set:"
      ]
    },
    {
      "cell_type": "code",
      "execution_count": null,
      "metadata": {
        "colab": {
          "base_uri": "https://localhost:8080/"
        },
        "id": "A4enCLAw-7ZA",
        "outputId": "7cfbf266-2f11-4a79-bdc7-34c1021e4f67"
      },
      "outputs": [
        {
          "data": {
            "text/plain": [
              "['Besonders häufig sind Migrantinnen und Migranten gezwungen, zu skandalösen Löhnen zu arbeiten.',\n",
              " 'It is clear that the current bureaucratic process is ineffective and that the Department has no real capacity to competently assess the legitimacy of the claims by asylum seekers.',\n",
              " 'Nous allons également présenter de nouveau une mesure législative visant à protéger les travailleurs étrangers vulnérables - par exemple, les femmes qui entrent au Canada pour travailler comme danseuses exotiques.',\n",
              " 'Dies darf in Zukunft nicht mehr möglich sein.',\n",
              " 'Setzt sich d ieser Trend längerfristig fort, übertreffen die negativen Folgen allfällige positive Effekte deutlich.',\n",
              " '-\\xa0\\xa0 Wir wollen ein Einwanderungsrecht, das Fachkräften eine Chance am Arbeitsmarkt gibt.',\n",
              " 'Daneben muss die Erwachsenenbildung bessere Angebote machen für Menschen aus anderen Kulturkreisen, die sich in unsere Gesellschaft einleben wollen.',\n",
              " 'Sosial dumping er en trussel mot lønns– og arbeidsvilkår  i Norge',\n",
              " '. Det er derfor ønskelig at flere land i Europa tar imot kvoteflyktninger for å redusere antallet asylsøkere som risikerer sine liv for å komme inn i Europa',\n",
              " 'Dit zal regelmatig worden getoetst;']"
            ]
          },
          "execution_count": 65,
          "metadata": {},
          "output_type": "execute_result"
        }
      ],
      "source": [
        "rng = np.random.default_rng(SEED)\n",
        "idxs = rng.choice(len(dataset[\"test\"]), 10, replace=False)\n",
        "idxs\n",
        "dataset[\"test\"][idxs]['text']"
      ]
    },
    {
      "cell_type": "code",
      "execution_count": null,
      "metadata": {
        "colab": {
          "base_uri": "https://localhost:8080/",
          "height": 17
        },
        "id": "sctJtjUX7O6c",
        "outputId": "7eb3bfab-f4d3-412d-e9a4-84554cccb876"
      },
      "outputs": [
        {
          "data": {
            "text/html": [],
            "text/plain": [
              "<IPython.core.display.HTML object>"
            ]
          },
          "metadata": {},
          "output_type": "display_data"
        }
      ],
      "source": [
        "preds = trainer.predict(dataset[\"test\"].select(idxs))"
      ]
    },
    {
      "cell_type": "code",
      "execution_count": null,
      "metadata": {
        "colab": {
          "base_uri": "https://localhost:8080/"
        },
        "id": "-CXl7ulp7O6c",
        "outputId": "38c681e2-40a3-4805-9c0a-d0369382ecee"
      },
      "outputs": [
        {
          "data": {
            "text/plain": [
              "transformers.trainer_utils.PredictionOutput"
            ]
          },
          "execution_count": 67,
          "metadata": {},
          "output_type": "execute_result"
        }
      ],
      "source": [
        "type(preds)"
      ]
    },
    {
      "cell_type": "code",
      "execution_count": null,
      "metadata": {
        "colab": {
          "base_uri": "https://localhost:8080/"
        },
        "id": "KxT-5sMV7O6d",
        "outputId": "5617eb3e-a5b2-473b-bddc-ff11166b49c8"
      },
      "outputs": [
        {
          "data": {
            "text/plain": [
              "numpy.ndarray"
            ]
          },
          "execution_count": 68,
          "metadata": {},
          "output_type": "execute_result"
        }
      ],
      "source": [
        "type(preds.predictions)"
      ]
    },
    {
      "cell_type": "code",
      "execution_count": null,
      "metadata": {
        "colab": {
          "base_uri": "https://localhost:8080/"
        },
        "id": "jQgUAIJn7O6d",
        "outputId": "fbd1c251-9d98-406c-f287-2409c7b30c1f"
      },
      "outputs": [
        {
          "data": {
            "text/plain": [
              "(10, 2)"
            ]
          },
          "execution_count": 69,
          "metadata": {},
          "output_type": "execute_result"
        }
      ],
      "source": [
        "preds.predictions.shape"
      ]
    },
    {
      "cell_type": "markdown",
      "metadata": {
        "id": "FQDS6BEB7O6d"
      },
      "source": [
        "The prediction array has two dimensions:\n",
        "\n",
        "- the first axis ('rows') corresponds to the *number of examples* for which we generated predictions\n",
        "- the second axis ('columns') corresponds to the *number of label classes* we generate probability-like scores for when predicting\n",
        "\n",
        "Let's look at the scores for the second example:"
      ]
    },
    {
      "cell_type": "code",
      "execution_count": null,
      "metadata": {
        "colab": {
          "base_uri": "https://localhost:8080/"
        },
        "id": "4uYsJbjJ7O6d",
        "outputId": "422abbc0-cf64-4b7c-a90b-c6a12f7423af"
      },
      "outputs": [
        {
          "data": {
            "text/plain": [
              "array([ 0.6346867, -0.260174 ], dtype=float32)"
            ]
          },
          "execution_count": 73,
          "metadata": {},
          "output_type": "execute_result"
        }
      ],
      "source": [
        "preds.predictions[1]"
      ]
    },
    {
      "cell_type": "markdown",
      "metadata": {
        "id": "rh4n8lJJ7O6d"
      },
      "source": [
        "The first score is bigger than the second one.\n",
        "This means that given example is more similar to examples from the first label class: documents with a \"sceptical\" stance."
      ]
    },
    {
      "cell_type": "code",
      "execution_count": null,
      "metadata": {
        "colab": {
          "base_uri": "https://localhost:8080/",
          "height": 36
        },
        "id": "Yhu655LV7O6d",
        "outputId": "8e6b556c-aa51-45a5-cd45-5d1ec2332d6a"
      },
      "outputs": [
        {
          "data": {
            "application/vnd.google.colaboratory.intrinsic+json": {
              "type": "string"
            },
            "text/plain": [
              "'sceptical'"
            ]
          },
          "execution_count": 77,
          "metadata": {},
          "output_type": "execute_result"
        }
      ],
      "source": [
        "id2label[0]"
      ]
    },
    {
      "cell_type": "markdown",
      "metadata": {
        "id": "p4H45OoT7O6d"
      },
      "source": [
        "To convert those scores in something probability-like, we apply the so-called [softmax transformation](), which rescales values such that they each range between 0 and 1 and sum to 1:"
      ]
    },
    {
      "cell_type": "code",
      "execution_count": null,
      "metadata": {
        "colab": {
          "base_uri": "https://localhost:8080/"
        },
        "id": "UYSEfKWy7O6d",
        "outputId": "58b446f7-d988-4959-83f3-40696ece0f8a"
      },
      "outputs": [
        {
          "data": {
            "text/plain": [
              "array([0.7098923 , 0.29010776], dtype=float32)"
            ]
          },
          "execution_count": 76,
          "metadata": {},
          "output_type": "execute_result"
        }
      ],
      "source": [
        "from scipy.special import softmax\n",
        "\n",
        "softmax(preds.predictions[1])"
      ]
    },
    {
      "cell_type": "markdown",
      "metadata": {
        "id": "HBnqVOdo7O6d"
      },
      "source": [
        "We can also call this function on all examples' prediction scores in our current batch:"
      ]
    },
    {
      "cell_type": "code",
      "execution_count": null,
      "metadata": {
        "colab": {
          "base_uri": "https://localhost:8080/"
        },
        "id": "Qx28rsiG7O6d",
        "outputId": "215382bb-a167-4a9c-b3ce-c552a40033fa"
      },
      "outputs": [
        {
          "data": {
            "text/plain": [
              "array([[0.4990497 , 0.5009503 ],\n",
              "       [0.7098923 , 0.29010776],\n",
              "       [0.01698896, 0.983011  ],\n",
              "       [0.7040807 , 0.2959193 ],\n",
              "       [0.90208447, 0.09791553],\n",
              "       [0.00781766, 0.9921823 ],\n",
              "       [0.00486347, 0.99513656],\n",
              "       [0.3812136 , 0.6187864 ],\n",
              "       [0.28170234, 0.7182977 ],\n",
              "       [0.5802849 , 0.41971514]], dtype=float32)"
            ]
          },
          "execution_count": 78,
          "metadata": {},
          "output_type": "execute_result"
        }
      ],
      "source": [
        "pred_probs = softmax(preds.predictions, axis=1)\n",
        "pred_probs"
      ]
    },
    {
      "cell_type": "markdown",
      "metadata": {
        "id": "iIZda5A97O6d"
      },
      "source": [
        "Now if you want to know for each row in which cell the value is the largest, you can call the `argmax()` method on the numpy array:"
      ]
    },
    {
      "cell_type": "code",
      "execution_count": null,
      "metadata": {
        "colab": {
          "base_uri": "https://localhost:8080/"
        },
        "id": "xo7hSjSw7O6d",
        "outputId": "af762a9a-a972-4b9f-8692-238548418174"
      },
      "outputs": [
        {
          "data": {
            "text/plain": [
              "array([1, 0, 1, 0, 0, 1, 1, 1, 1, 0])"
            ]
          },
          "execution_count": 79,
          "metadata": {},
          "output_type": "execute_result"
        }
      ],
      "source": [
        "pred_probs.argmax(axis=1)"
      ]
    },
    {
      "cell_type": "markdown",
      "metadata": {
        "id": "3EWwqLbk7O6d"
      },
      "source": [
        "This turns prediction scores into predicted labels:"
      ]
    },
    {
      "cell_type": "code",
      "execution_count": null,
      "metadata": {
        "colab": {
          "base_uri": "https://localhost:8080/"
        },
        "id": "pUhuHXV47O6d",
        "outputId": "cc3330ae-6557-4c5c-c2eb-ae785fc266cc"
      },
      "outputs": [
        {
          "data": {
            "text/plain": [
              "['supportive',\n",
              " 'sceptical',\n",
              " 'supportive',\n",
              " 'sceptical',\n",
              " 'sceptical',\n",
              " 'supportive',\n",
              " 'supportive',\n",
              " 'supportive',\n",
              " 'supportive',\n",
              " 'sceptical']"
            ]
          },
          "execution_count": 80,
          "metadata": {},
          "output_type": "execute_result"
        }
      ],
      "source": [
        "[id2label[pp] for pp in preds.predictions.argmax(axis=1)]"
      ]
    },
    {
      "cell_type": "markdown",
      "metadata": {
        "id": "0y9mSEvd8yaJ"
      },
      "source": [
        "And to make it clearer, let's put predictions, \"true\" labels, and the text side by side:"
      ]
    },
    {
      "cell_type": "code",
      "execution_count": null,
      "metadata": {
        "colab": {
          "base_uri": "https://localhost:8080/",
          "height": 363
        },
        "id": "tHENBWbL8fex",
        "outputId": "50d333f1-2f86-4a39-88be-f3fd4c252df6"
      },
      "outputs": [
        {
          "data": {
            "text/html": [
              "\n",
              "  <div id=\"df-1ff8ea8d-6f1c-4287-9164-f54b7c143c78\" class=\"colab-df-container\">\n",
              "    <div>\n",
              "<style scoped>\n",
              "    .dataframe tbody tr th:only-of-type {\n",
              "        vertical-align: middle;\n",
              "    }\n",
              "\n",
              "    .dataframe tbody tr th {\n",
              "        vertical-align: top;\n",
              "    }\n",
              "\n",
              "    .dataframe thead th {\n",
              "        text-align: right;\n",
              "    }\n",
              "</style>\n",
              "<table border=\"1\" class=\"dataframe\">\n",
              "  <thead>\n",
              "    <tr style=\"text-align: right;\">\n",
              "      <th></th>\n",
              "      <th>text</th>\n",
              "      <th>label</th>\n",
              "      <th>prediction</th>\n",
              "    </tr>\n",
              "  </thead>\n",
              "  <tbody>\n",
              "    <tr>\n",
              "      <th>0</th>\n",
              "      <td>Besonders häufig sind Migrantinnen und Migrant...</td>\n",
              "      <td>supportive</td>\n",
              "      <td>supportive</td>\n",
              "    </tr>\n",
              "    <tr>\n",
              "      <th>1</th>\n",
              "      <td>It is clear that the current bureaucratic proc...</td>\n",
              "      <td>sceptical</td>\n",
              "      <td>sceptical</td>\n",
              "    </tr>\n",
              "    <tr>\n",
              "      <th>2</th>\n",
              "      <td>Nous allons également présenter de nouveau une...</td>\n",
              "      <td>supportive</td>\n",
              "      <td>supportive</td>\n",
              "    </tr>\n",
              "    <tr>\n",
              "      <th>3</th>\n",
              "      <td>Dies darf in Zukunft nicht mehr möglich sein.</td>\n",
              "      <td>sceptical</td>\n",
              "      <td>sceptical</td>\n",
              "    </tr>\n",
              "    <tr>\n",
              "      <th>4</th>\n",
              "      <td>Setzt sich d ieser Trend längerfristig fort, ü...</td>\n",
              "      <td>sceptical</td>\n",
              "      <td>sceptical</td>\n",
              "    </tr>\n",
              "    <tr>\n",
              "      <th>5</th>\n",
              "      <td>-   Wir wollen ein Einwanderungsrecht, das Fac...</td>\n",
              "      <td>supportive</td>\n",
              "      <td>supportive</td>\n",
              "    </tr>\n",
              "    <tr>\n",
              "      <th>6</th>\n",
              "      <td>Daneben muss die Erwachsenenbildung bessere An...</td>\n",
              "      <td>supportive</td>\n",
              "      <td>supportive</td>\n",
              "    </tr>\n",
              "    <tr>\n",
              "      <th>7</th>\n",
              "      <td>Sosial dumping er en trussel mot lønns– og arb...</td>\n",
              "      <td>sceptical</td>\n",
              "      <td>supportive</td>\n",
              "    </tr>\n",
              "    <tr>\n",
              "      <th>8</th>\n",
              "      <td>. Det er derfor ønskelig at flere land i Europ...</td>\n",
              "      <td>sceptical</td>\n",
              "      <td>supportive</td>\n",
              "    </tr>\n",
              "    <tr>\n",
              "      <th>9</th>\n",
              "      <td>Dit zal regelmatig worden getoetst;</td>\n",
              "      <td>supportive</td>\n",
              "      <td>sceptical</td>\n",
              "    </tr>\n",
              "  </tbody>\n",
              "</table>\n",
              "</div>\n",
              "    <div class=\"colab-df-buttons\">\n",
              "\n",
              "  <div class=\"colab-df-container\">\n",
              "    <button class=\"colab-df-convert\" onclick=\"convertToInteractive('df-1ff8ea8d-6f1c-4287-9164-f54b7c143c78')\"\n",
              "            title=\"Convert this dataframe to an interactive table.\"\n",
              "            style=\"display:none;\">\n",
              "\n",
              "  <svg xmlns=\"http://www.w3.org/2000/svg\" height=\"24px\" viewBox=\"0 -960 960 960\">\n",
              "    <path d=\"M120-120v-720h720v720H120Zm60-500h600v-160H180v160Zm220 220h160v-160H400v160Zm0 220h160v-160H400v160ZM180-400h160v-160H180v160Zm440 0h160v-160H620v160ZM180-180h160v-160H180v160Zm440 0h160v-160H620v160Z\"/>\n",
              "  </svg>\n",
              "    </button>\n",
              "\n",
              "  <style>\n",
              "    .colab-df-container {\n",
              "      display:flex;\n",
              "      gap: 12px;\n",
              "    }\n",
              "\n",
              "    .colab-df-convert {\n",
              "      background-color: #E8F0FE;\n",
              "      border: none;\n",
              "      border-radius: 50%;\n",
              "      cursor: pointer;\n",
              "      display: none;\n",
              "      fill: #1967D2;\n",
              "      height: 32px;\n",
              "      padding: 0 0 0 0;\n",
              "      width: 32px;\n",
              "    }\n",
              "\n",
              "    .colab-df-convert:hover {\n",
              "      background-color: #E2EBFA;\n",
              "      box-shadow: 0px 1px 2px rgba(60, 64, 67, 0.3), 0px 1px 3px 1px rgba(60, 64, 67, 0.15);\n",
              "      fill: #174EA6;\n",
              "    }\n",
              "\n",
              "    .colab-df-buttons div {\n",
              "      margin-bottom: 4px;\n",
              "    }\n",
              "\n",
              "    [theme=dark] .colab-df-convert {\n",
              "      background-color: #3B4455;\n",
              "      fill: #D2E3FC;\n",
              "    }\n",
              "\n",
              "    [theme=dark] .colab-df-convert:hover {\n",
              "      background-color: #434B5C;\n",
              "      box-shadow: 0px 1px 3px 1px rgba(0, 0, 0, 0.15);\n",
              "      filter: drop-shadow(0px 1px 2px rgba(0, 0, 0, 0.3));\n",
              "      fill: #FFFFFF;\n",
              "    }\n",
              "  </style>\n",
              "\n",
              "    <script>\n",
              "      const buttonEl =\n",
              "        document.querySelector('#df-1ff8ea8d-6f1c-4287-9164-f54b7c143c78 button.colab-df-convert');\n",
              "      buttonEl.style.display =\n",
              "        google.colab.kernel.accessAllowed ? 'block' : 'none';\n",
              "\n",
              "      async function convertToInteractive(key) {\n",
              "        const element = document.querySelector('#df-1ff8ea8d-6f1c-4287-9164-f54b7c143c78');\n",
              "        const dataTable =\n",
              "          await google.colab.kernel.invokeFunction('convertToInteractive',\n",
              "                                                    [key], {});\n",
              "        if (!dataTable) return;\n",
              "\n",
              "        const docLinkHtml = 'Like what you see? Visit the ' +\n",
              "          '<a target=\"_blank\" href=https://colab.research.google.com/notebooks/data_table.ipynb>data table notebook</a>'\n",
              "          + ' to learn more about interactive tables.';\n",
              "        element.innerHTML = '';\n",
              "        dataTable['output_type'] = 'display_data';\n",
              "        await google.colab.output.renderOutput(dataTable, element);\n",
              "        const docLink = document.createElement('div');\n",
              "        docLink.innerHTML = docLinkHtml;\n",
              "        element.appendChild(docLink);\n",
              "      }\n",
              "    </script>\n",
              "  </div>\n",
              "\n",
              "\n",
              "<div id=\"df-f66cb3ce-b9ed-4668-a35b-15b6f338cc25\">\n",
              "  <button class=\"colab-df-quickchart\" onclick=\"quickchart('df-f66cb3ce-b9ed-4668-a35b-15b6f338cc25')\"\n",
              "            title=\"Suggest charts\"\n",
              "            style=\"display:none;\">\n",
              "\n",
              "<svg xmlns=\"http://www.w3.org/2000/svg\" height=\"24px\"viewBox=\"0 0 24 24\"\n",
              "     width=\"24px\">\n",
              "    <g>\n",
              "        <path d=\"M19 3H5c-1.1 0-2 .9-2 2v14c0 1.1.9 2 2 2h14c1.1 0 2-.9 2-2V5c0-1.1-.9-2-2-2zM9 17H7v-7h2v7zm4 0h-2V7h2v10zm4 0h-2v-4h2v4z\"/>\n",
              "    </g>\n",
              "</svg>\n",
              "  </button>\n",
              "\n",
              "<style>\n",
              "  .colab-df-quickchart {\n",
              "      --bg-color: #E8F0FE;\n",
              "      --fill-color: #1967D2;\n",
              "      --hover-bg-color: #E2EBFA;\n",
              "      --hover-fill-color: #174EA6;\n",
              "      --disabled-fill-color: #AAA;\n",
              "      --disabled-bg-color: #DDD;\n",
              "  }\n",
              "\n",
              "  [theme=dark] .colab-df-quickchart {\n",
              "      --bg-color: #3B4455;\n",
              "      --fill-color: #D2E3FC;\n",
              "      --hover-bg-color: #434B5C;\n",
              "      --hover-fill-color: #FFFFFF;\n",
              "      --disabled-bg-color: #3B4455;\n",
              "      --disabled-fill-color: #666;\n",
              "  }\n",
              "\n",
              "  .colab-df-quickchart {\n",
              "    background-color: var(--bg-color);\n",
              "    border: none;\n",
              "    border-radius: 50%;\n",
              "    cursor: pointer;\n",
              "    display: none;\n",
              "    fill: var(--fill-color);\n",
              "    height: 32px;\n",
              "    padding: 0;\n",
              "    width: 32px;\n",
              "  }\n",
              "\n",
              "  .colab-df-quickchart:hover {\n",
              "    background-color: var(--hover-bg-color);\n",
              "    box-shadow: 0 1px 2px rgba(60, 64, 67, 0.3), 0 1px 3px 1px rgba(60, 64, 67, 0.15);\n",
              "    fill: var(--button-hover-fill-color);\n",
              "  }\n",
              "\n",
              "  .colab-df-quickchart-complete:disabled,\n",
              "  .colab-df-quickchart-complete:disabled:hover {\n",
              "    background-color: var(--disabled-bg-color);\n",
              "    fill: var(--disabled-fill-color);\n",
              "    box-shadow: none;\n",
              "  }\n",
              "\n",
              "  .colab-df-spinner {\n",
              "    border: 2px solid var(--fill-color);\n",
              "    border-color: transparent;\n",
              "    border-bottom-color: var(--fill-color);\n",
              "    animation:\n",
              "      spin 1s steps(1) infinite;\n",
              "  }\n",
              "\n",
              "  @keyframes spin {\n",
              "    0% {\n",
              "      border-color: transparent;\n",
              "      border-bottom-color: var(--fill-color);\n",
              "      border-left-color: var(--fill-color);\n",
              "    }\n",
              "    20% {\n",
              "      border-color: transparent;\n",
              "      border-left-color: var(--fill-color);\n",
              "      border-top-color: var(--fill-color);\n",
              "    }\n",
              "    30% {\n",
              "      border-color: transparent;\n",
              "      border-left-color: var(--fill-color);\n",
              "      border-top-color: var(--fill-color);\n",
              "      border-right-color: var(--fill-color);\n",
              "    }\n",
              "    40% {\n",
              "      border-color: transparent;\n",
              "      border-right-color: var(--fill-color);\n",
              "      border-top-color: var(--fill-color);\n",
              "    }\n",
              "    60% {\n",
              "      border-color: transparent;\n",
              "      border-right-color: var(--fill-color);\n",
              "    }\n",
              "    80% {\n",
              "      border-color: transparent;\n",
              "      border-right-color: var(--fill-color);\n",
              "      border-bottom-color: var(--fill-color);\n",
              "    }\n",
              "    90% {\n",
              "      border-color: transparent;\n",
              "      border-bottom-color: var(--fill-color);\n",
              "    }\n",
              "  }\n",
              "</style>\n",
              "\n",
              "  <script>\n",
              "    async function quickchart(key) {\n",
              "      const quickchartButtonEl =\n",
              "        document.querySelector('#' + key + ' button');\n",
              "      quickchartButtonEl.disabled = true;  // To prevent multiple clicks.\n",
              "      quickchartButtonEl.classList.add('colab-df-spinner');\n",
              "      try {\n",
              "        const charts = await google.colab.kernel.invokeFunction(\n",
              "            'suggestCharts', [key], {});\n",
              "      } catch (error) {\n",
              "        console.error('Error during call to suggestCharts:', error);\n",
              "      }\n",
              "      quickchartButtonEl.classList.remove('colab-df-spinner');\n",
              "      quickchartButtonEl.classList.add('colab-df-quickchart-complete');\n",
              "    }\n",
              "    (() => {\n",
              "      let quickchartButtonEl =\n",
              "        document.querySelector('#df-f66cb3ce-b9ed-4668-a35b-15b6f338cc25 button');\n",
              "      quickchartButtonEl.style.display =\n",
              "        google.colab.kernel.accessAllowed ? 'block' : 'none';\n",
              "    })();\n",
              "  </script>\n",
              "</div>\n",
              "    </div>\n",
              "  </div>\n"
            ],
            "text/plain": [
              "                                                text       label  prediction\n",
              "0  Besonders häufig sind Migrantinnen und Migrant...  supportive  supportive\n",
              "1  It is clear that the current bureaucratic proc...   sceptical   sceptical\n",
              "2  Nous allons également présenter de nouveau une...  supportive  supportive\n",
              "3      Dies darf in Zukunft nicht mehr möglich sein.   sceptical   sceptical\n",
              "4  Setzt sich d ieser Trend längerfristig fort, ü...   sceptical   sceptical\n",
              "5  -   Wir wollen ein Einwanderungsrecht, das Fac...  supportive  supportive\n",
              "6  Daneben muss die Erwachsenenbildung bessere An...  supportive  supportive\n",
              "7  Sosial dumping er en trussel mot lønns– og arb...   sceptical  supportive\n",
              "8  . Det er derfor ønskelig at flere land i Europ...   sceptical  supportive\n",
              "9                Dit zal regelmatig worden getoetst;  supportive   sceptical"
            ]
          },
          "execution_count": 82,
          "metadata": {},
          "output_type": "execute_result"
        }
      ],
      "source": [
        "pd.DataFrame(\n",
        "    {\n",
        "        'text': dataset[\"test\"][idxs]['text'],\n",
        "        'label': [id2label[l] for l in dataset[\"test\"][idxs]['label']],\n",
        "        'prediction': [id2label[pp] for pp in preds.predictions.argmax(axis=1)],\n",
        "    }\n",
        "  )"
      ]
    },
    {
      "cell_type": "markdown",
      "metadata": {
        "id": "wcLEy8lRBXC8"
      },
      "source": [
        "### Compute language-specific performances\n",
        "\n",
        "While multilingual Transformers and embedding models more gnerally are great to adopt an \"input alignment\" approach to multilingual text analysis, they are no silver bullet the obtain measurement instruments that perform equally well across languages.\n",
        "\n",
        "To illustrate this point, let's split our test dataset by language and compute our classifiers performacne in each of it:\n"
      ]
    },
    {
      "cell_type": "code",
      "execution_count": null,
      "metadata": {
        "colab": {
          "base_uri": "https://localhost:8080/",
          "height": 331
        },
        "id": "6635wBx6Bbhg",
        "outputId": "a85fddfb-bf35-43e2-86a9-d59af6ecd789"
      },
      "outputs": [
        {
          "data": {
            "text/html": [],
            "text/plain": [
              "<IPython.core.display.HTML object>"
            ]
          },
          "metadata": {},
          "output_type": "display_data"
        },
        {
          "data": {
            "text/html": [
              "\n",
              "  <div id=\"df-8660221c-64e6-4133-b6bb-eef32d8b7cb5\" class=\"colab-df-container\">\n",
              "    <div>\n",
              "<style scoped>\n",
              "    .dataframe tbody tr th:only-of-type {\n",
              "        vertical-align: middle;\n",
              "    }\n",
              "\n",
              "    .dataframe tbody tr th {\n",
              "        vertical-align: top;\n",
              "    }\n",
              "\n",
              "    .dataframe thead th {\n",
              "        text-align: right;\n",
              "    }\n",
              "</style>\n",
              "<table border=\"1\" class=\"dataframe\">\n",
              "  <thead>\n",
              "    <tr style=\"text-align: right;\">\n",
              "      <th></th>\n",
              "      <th>f1</th>\n",
              "      <th>precision</th>\n",
              "      <th>recall</th>\n",
              "      <th>prevalence</th>\n",
              "      <th>n</th>\n",
              "    </tr>\n",
              "  </thead>\n",
              "  <tbody>\n",
              "    <tr>\n",
              "      <th>nor</th>\n",
              "      <td>0.927203</td>\n",
              "      <td>0.909774</td>\n",
              "      <td>0.945312</td>\n",
              "      <td>0.842105</td>\n",
              "      <td>152.0</td>\n",
              "    </tr>\n",
              "    <tr>\n",
              "      <th>fra</th>\n",
              "      <td>0.900000</td>\n",
              "      <td>0.900000</td>\n",
              "      <td>0.900000</td>\n",
              "      <td>0.909091</td>\n",
              "      <td>11.0</td>\n",
              "    </tr>\n",
              "    <tr>\n",
              "      <th>deu</th>\n",
              "      <td>0.903054</td>\n",
              "      <td>0.876289</td>\n",
              "      <td>0.931507</td>\n",
              "      <td>0.763598</td>\n",
              "      <td>478.0</td>\n",
              "    </tr>\n",
              "    <tr>\n",
              "      <th>spa</th>\n",
              "      <td>0.900474</td>\n",
              "      <td>0.871560</td>\n",
              "      <td>0.931373</td>\n",
              "      <td>0.796875</td>\n",
              "      <td>128.0</td>\n",
              "    </tr>\n",
              "    <tr>\n",
              "      <th>swe</th>\n",
              "      <td>0.896552</td>\n",
              "      <td>0.866667</td>\n",
              "      <td>0.928571</td>\n",
              "      <td>0.835821</td>\n",
              "      <td>67.0</td>\n",
              "    </tr>\n",
              "    <tr>\n",
              "      <th>eng</th>\n",
              "      <td>0.867925</td>\n",
              "      <td>0.821429</td>\n",
              "      <td>0.920000</td>\n",
              "      <td>0.724638</td>\n",
              "      <td>69.0</td>\n",
              "    </tr>\n",
              "    <tr>\n",
              "      <th>fin</th>\n",
              "      <td>0.843750</td>\n",
              "      <td>0.771429</td>\n",
              "      <td>0.931034</td>\n",
              "      <td>0.674419</td>\n",
              "      <td>43.0</td>\n",
              "    </tr>\n",
              "    <tr>\n",
              "      <th>nld</th>\n",
              "      <td>0.737864</td>\n",
              "      <td>0.737864</td>\n",
              "      <td>0.737864</td>\n",
              "      <td>0.559783</td>\n",
              "      <td>184.0</td>\n",
              "    </tr>\n",
              "    <tr>\n",
              "      <th>dan</th>\n",
              "      <td>0.704225</td>\n",
              "      <td>0.657895</td>\n",
              "      <td>0.757576</td>\n",
              "      <td>0.515625</td>\n",
              "      <td>64.0</td>\n",
              "    </tr>\n",
              "  </tbody>\n",
              "</table>\n",
              "</div>\n",
              "    <div class=\"colab-df-buttons\">\n",
              "\n",
              "  <div class=\"colab-df-container\">\n",
              "    <button class=\"colab-df-convert\" onclick=\"convertToInteractive('df-8660221c-64e6-4133-b6bb-eef32d8b7cb5')\"\n",
              "            title=\"Convert this dataframe to an interactive table.\"\n",
              "            style=\"display:none;\">\n",
              "\n",
              "  <svg xmlns=\"http://www.w3.org/2000/svg\" height=\"24px\" viewBox=\"0 -960 960 960\">\n",
              "    <path d=\"M120-120v-720h720v720H120Zm60-500h600v-160H180v160Zm220 220h160v-160H400v160Zm0 220h160v-160H400v160ZM180-400h160v-160H180v160Zm440 0h160v-160H620v160ZM180-180h160v-160H180v160Zm440 0h160v-160H620v160Z\"/>\n",
              "  </svg>\n",
              "    </button>\n",
              "\n",
              "  <style>\n",
              "    .colab-df-container {\n",
              "      display:flex;\n",
              "      gap: 12px;\n",
              "    }\n",
              "\n",
              "    .colab-df-convert {\n",
              "      background-color: #E8F0FE;\n",
              "      border: none;\n",
              "      border-radius: 50%;\n",
              "      cursor: pointer;\n",
              "      display: none;\n",
              "      fill: #1967D2;\n",
              "      height: 32px;\n",
              "      padding: 0 0 0 0;\n",
              "      width: 32px;\n",
              "    }\n",
              "\n",
              "    .colab-df-convert:hover {\n",
              "      background-color: #E2EBFA;\n",
              "      box-shadow: 0px 1px 2px rgba(60, 64, 67, 0.3), 0px 1px 3px 1px rgba(60, 64, 67, 0.15);\n",
              "      fill: #174EA6;\n",
              "    }\n",
              "\n",
              "    .colab-df-buttons div {\n",
              "      margin-bottom: 4px;\n",
              "    }\n",
              "\n",
              "    [theme=dark] .colab-df-convert {\n",
              "      background-color: #3B4455;\n",
              "      fill: #D2E3FC;\n",
              "    }\n",
              "\n",
              "    [theme=dark] .colab-df-convert:hover {\n",
              "      background-color: #434B5C;\n",
              "      box-shadow: 0px 1px 3px 1px rgba(0, 0, 0, 0.15);\n",
              "      filter: drop-shadow(0px 1px 2px rgba(0, 0, 0, 0.3));\n",
              "      fill: #FFFFFF;\n",
              "    }\n",
              "  </style>\n",
              "\n",
              "    <script>\n",
              "      const buttonEl =\n",
              "        document.querySelector('#df-8660221c-64e6-4133-b6bb-eef32d8b7cb5 button.colab-df-convert');\n",
              "      buttonEl.style.display =\n",
              "        google.colab.kernel.accessAllowed ? 'block' : 'none';\n",
              "\n",
              "      async function convertToInteractive(key) {\n",
              "        const element = document.querySelector('#df-8660221c-64e6-4133-b6bb-eef32d8b7cb5');\n",
              "        const dataTable =\n",
              "          await google.colab.kernel.invokeFunction('convertToInteractive',\n",
              "                                                    [key], {});\n",
              "        if (!dataTable) return;\n",
              "\n",
              "        const docLinkHtml = 'Like what you see? Visit the ' +\n",
              "          '<a target=\"_blank\" href=https://colab.research.google.com/notebooks/data_table.ipynb>data table notebook</a>'\n",
              "          + ' to learn more about interactive tables.';\n",
              "        element.innerHTML = '';\n",
              "        dataTable['output_type'] = 'display_data';\n",
              "        await google.colab.output.renderOutput(dataTable, element);\n",
              "        const docLink = document.createElement('div');\n",
              "        docLink.innerHTML = docLinkHtml;\n",
              "        element.appendChild(docLink);\n",
              "      }\n",
              "    </script>\n",
              "  </div>\n",
              "\n",
              "\n",
              "<div id=\"df-3d6f6731-2283-4caf-9747-be973aded7dd\">\n",
              "  <button class=\"colab-df-quickchart\" onclick=\"quickchart('df-3d6f6731-2283-4caf-9747-be973aded7dd')\"\n",
              "            title=\"Suggest charts\"\n",
              "            style=\"display:none;\">\n",
              "\n",
              "<svg xmlns=\"http://www.w3.org/2000/svg\" height=\"24px\"viewBox=\"0 0 24 24\"\n",
              "     width=\"24px\">\n",
              "    <g>\n",
              "        <path d=\"M19 3H5c-1.1 0-2 .9-2 2v14c0 1.1.9 2 2 2h14c1.1 0 2-.9 2-2V5c0-1.1-.9-2-2-2zM9 17H7v-7h2v7zm4 0h-2V7h2v10zm4 0h-2v-4h2v4z\"/>\n",
              "    </g>\n",
              "</svg>\n",
              "  </button>\n",
              "\n",
              "<style>\n",
              "  .colab-df-quickchart {\n",
              "      --bg-color: #E8F0FE;\n",
              "      --fill-color: #1967D2;\n",
              "      --hover-bg-color: #E2EBFA;\n",
              "      --hover-fill-color: #174EA6;\n",
              "      --disabled-fill-color: #AAA;\n",
              "      --disabled-bg-color: #DDD;\n",
              "  }\n",
              "\n",
              "  [theme=dark] .colab-df-quickchart {\n",
              "      --bg-color: #3B4455;\n",
              "      --fill-color: #D2E3FC;\n",
              "      --hover-bg-color: #434B5C;\n",
              "      --hover-fill-color: #FFFFFF;\n",
              "      --disabled-bg-color: #3B4455;\n",
              "      --disabled-fill-color: #666;\n",
              "  }\n",
              "\n",
              "  .colab-df-quickchart {\n",
              "    background-color: var(--bg-color);\n",
              "    border: none;\n",
              "    border-radius: 50%;\n",
              "    cursor: pointer;\n",
              "    display: none;\n",
              "    fill: var(--fill-color);\n",
              "    height: 32px;\n",
              "    padding: 0;\n",
              "    width: 32px;\n",
              "  }\n",
              "\n",
              "  .colab-df-quickchart:hover {\n",
              "    background-color: var(--hover-bg-color);\n",
              "    box-shadow: 0 1px 2px rgba(60, 64, 67, 0.3), 0 1px 3px 1px rgba(60, 64, 67, 0.15);\n",
              "    fill: var(--button-hover-fill-color);\n",
              "  }\n",
              "\n",
              "  .colab-df-quickchart-complete:disabled,\n",
              "  .colab-df-quickchart-complete:disabled:hover {\n",
              "    background-color: var(--disabled-bg-color);\n",
              "    fill: var(--disabled-fill-color);\n",
              "    box-shadow: none;\n",
              "  }\n",
              "\n",
              "  .colab-df-spinner {\n",
              "    border: 2px solid var(--fill-color);\n",
              "    border-color: transparent;\n",
              "    border-bottom-color: var(--fill-color);\n",
              "    animation:\n",
              "      spin 1s steps(1) infinite;\n",
              "  }\n",
              "\n",
              "  @keyframes spin {\n",
              "    0% {\n",
              "      border-color: transparent;\n",
              "      border-bottom-color: var(--fill-color);\n",
              "      border-left-color: var(--fill-color);\n",
              "    }\n",
              "    20% {\n",
              "      border-color: transparent;\n",
              "      border-left-color: var(--fill-color);\n",
              "      border-top-color: var(--fill-color);\n",
              "    }\n",
              "    30% {\n",
              "      border-color: transparent;\n",
              "      border-left-color: var(--fill-color);\n",
              "      border-top-color: var(--fill-color);\n",
              "      border-right-color: var(--fill-color);\n",
              "    }\n",
              "    40% {\n",
              "      border-color: transparent;\n",
              "      border-right-color: var(--fill-color);\n",
              "      border-top-color: var(--fill-color);\n",
              "    }\n",
              "    60% {\n",
              "      border-color: transparent;\n",
              "      border-right-color: var(--fill-color);\n",
              "    }\n",
              "    80% {\n",
              "      border-color: transparent;\n",
              "      border-right-color: var(--fill-color);\n",
              "      border-bottom-color: var(--fill-color);\n",
              "    }\n",
              "    90% {\n",
              "      border-color: transparent;\n",
              "      border-bottom-color: var(--fill-color);\n",
              "    }\n",
              "  }\n",
              "</style>\n",
              "\n",
              "  <script>\n",
              "    async function quickchart(key) {\n",
              "      const quickchartButtonEl =\n",
              "        document.querySelector('#' + key + ' button');\n",
              "      quickchartButtonEl.disabled = true;  // To prevent multiple clicks.\n",
              "      quickchartButtonEl.classList.add('colab-df-spinner');\n",
              "      try {\n",
              "        const charts = await google.colab.kernel.invokeFunction(\n",
              "            'suggestCharts', [key], {});\n",
              "      } catch (error) {\n",
              "        console.error('Error during call to suggestCharts:', error);\n",
              "      }\n",
              "      quickchartButtonEl.classList.remove('colab-df-spinner');\n",
              "      quickchartButtonEl.classList.add('colab-df-quickchart-complete');\n",
              "    }\n",
              "    (() => {\n",
              "      let quickchartButtonEl =\n",
              "        document.querySelector('#df-3d6f6731-2283-4caf-9747-be973aded7dd button');\n",
              "      quickchartButtonEl.style.display =\n",
              "        google.colab.kernel.accessAllowed ? 'block' : 'none';\n",
              "    })();\n",
              "  </script>\n",
              "</div>\n",
              "    </div>\n",
              "  </div>\n"
            ],
            "text/plain": [
              "           f1  precision    recall  prevalence      n\n",
              "nor  0.927203   0.909774  0.945312    0.842105  152.0\n",
              "fra  0.900000   0.900000  0.900000    0.909091   11.0\n",
              "deu  0.903054   0.876289  0.931507    0.763598  478.0\n",
              "spa  0.900474   0.871560  0.931373    0.796875  128.0\n",
              "swe  0.896552   0.866667  0.928571    0.835821   67.0\n",
              "eng  0.867925   0.821429  0.920000    0.724638   69.0\n",
              "fin  0.843750   0.771429  0.931034    0.674419   43.0\n",
              "nld  0.737864   0.737864  0.737864    0.559783  184.0\n",
              "dan  0.704225   0.657895  0.757576    0.515625   64.0"
            ]
          },
          "execution_count": 90,
          "metadata": {},
          "output_type": "execute_result"
        }
      ],
      "source": [
        "preds = trainer.predict(dataset[\"test\"])\n",
        "langs = dataset['test']['lang']\n",
        "\n",
        "performances = {}\n",
        "y_pred = preds.predictions.argmax(axis=1)\n",
        "y_true = preds.label_ids\n",
        "for lang in set(langs):\n",
        "    idxs = np.array(langs) == lang\n",
        "    n_ = idxs.sum()\n",
        "    if n_ == 0:\n",
        "      continue\n",
        "    p, r, f1, s = precision_recall_fscore_support(y_true[idxs], y_pred[idxs], average='binary', zero_division=0)\n",
        "    performances[lang] = {\n",
        "        \"f1\": f1,\n",
        "        \"precision\": p,\n",
        "        \"recall\": r,\n",
        "        \"prevalence\": y_true[idxs].mean(),\n",
        "        \"n\": int(idxs.sum())\n",
        "    }\n",
        "\n",
        "pd.DataFrame(performances).T.sort_values('precision', ascending=False)"
      ]
    },
    {
      "cell_type": "markdown",
      "metadata": {
        "id": "RWnbcQgr9oXc"
      },
      "source": [
        "As you can see, our classifier performs differently well across language subsets.\n",
        "Overall, its recall is higher than its precision, suggesting that it generally is \"overshooting\" (i.e., assigning too many \"supportive\" labels).\n",
        "But this tendency is more pronounced in some languages (Finnish, Danish, Spanish, German, English) than in others (French, Dutch).\n",
        "\n",
        "Such systematic discrpancies can have implications for down-stream analyses because you'll systematically over-estimate the prevalence of supportive stances in Finnish, Danish, etc. languages.\n",
        "\n",
        "Note, however, that the language-specific subsets are sometimes relatively small.\n",
        "So you should these point estimates with a grain of salt.\n",
        "(Bootstrapping these metrics is a best practice.)"
      ]
    },
    {
      "cell_type": "markdown",
      "metadata": {
        "id": "7cmBaAB-IwC_"
      },
      "source": [
        "## Inference/prediction"
      ]
    },
    {
      "cell_type": "markdown",
      "metadata": {
        "id": "yOM0j0yZIwC_"
      },
      "source": [
        "When you have saved your finetuned model, you can always re-load it to label texts.\n",
        "In machine learning this is called \"inference\" &mdash; which is unfortunate given the meaning of the term in positive social science methodology.\n",
        "\n",
        "So let's just call it **prediction**.\n"
      ]
    },
    {
      "cell_type": "code",
      "execution_count": null,
      "metadata": {
        "id": "3o8FVcds7O6e"
      },
      "outputs": [],
      "source": [
        "from transformers import pipeline\n",
        "\n",
        "stance_classifier = pipeline(\n",
        "    task=\"text-classification\",\n",
        "    model=model_path # <== load the model we saved to disk\n",
        ")"
      ]
    },
    {
      "cell_type": "markdown",
      "metadata": {
        "id": "qZBBmqrvIwDC"
      },
      "source": [
        "The simplest way to try out your finetuned model for inference is to use it in a [pipeline()](https://huggingface.co/docs/transformers/main/en/main_classes/pipelines#transformers.pipeline). Instantiate a `pipeline` for sentiment analysis with your model, and pass your text to it:"
      ]
    },
    {
      "cell_type": "code",
      "execution_count": null,
      "metadata": {
        "colab": {
          "base_uri": "https://localhost:8080/"
        },
        "id": "wF0rTEXuIwDC",
        "outputId": "f5a54dd9-f819-46a1-d8ed-765c1a8ea240"
      },
      "outputs": [
        {
          "name": "stdout",
          "output_type": "stream",
          "text": [
            "[{'label': 'supportive', 'score': 0.9828274250030518}]\n"
          ]
        }
      ],
      "source": [
        "text = \"Refugees welcome!\"\n",
        "print(stance_classifier(text))"
      ]
    },
    {
      "cell_type": "code",
      "execution_count": null,
      "metadata": {
        "colab": {
          "base_uri": "https://localhost:8080/"
        },
        "id": "LqrrNyRjAEpv",
        "outputId": "9d739cb6-7774-4368-bf37-06b413a732f4"
      },
      "outputs": [
        {
          "name": "stdout",
          "output_type": "stream",
          "text": [
            "[{'label': 'sceptical', 'score': 0.7672240138053894}]\n"
          ]
        }
      ],
      "source": [
        "text = 'Our immigration policy shoud be more restrictive.'\n",
        "print(stance_classifier(text))"
      ]
    },
    {
      "cell_type": "markdown",
      "metadata": {
        "id": "w0y4lRm7IwDD"
      },
      "source": [
        "### Looking under the hood of `pipeline`\n",
        "\n",
        "You can also manually replicate the results of the `pipeline` if you'd like:\n",
        "\n",
        "Tokenize the text and return PyTorch tensors:"
      ]
    },
    {
      "cell_type": "markdown",
      "metadata": {
        "id": "nq65AznnIwDD"
      },
      "source": [
        "Pass your inputs to the model and return the `logits`:"
      ]
    },
    {
      "cell_type": "code",
      "execution_count": null,
      "metadata": {
        "colab": {
          "base_uri": "https://localhost:8080/",
          "height": 36
        },
        "id": "njKLoOP-IwDD",
        "outputId": "9c515c6d-b4a8-4793-c532-d09d3999d9bf"
      },
      "outputs": [
        {
          "data": {
            "application/vnd.google.colaboratory.intrinsic+json": {
              "type": "string"
            },
            "text/plain": [
              "'supportive'"
            ]
          },
          "execution_count": 96,
          "metadata": {},
          "output_type": "execute_result"
        }
      ],
      "source": [
        "# tokenizer = AutoTokenizer.from_pretrained(model_path)\n",
        "inputs = tokenizer(\"Refugees welcome!\", return_tensors=\"pt\")\n",
        "inputs.to(device); # <== important to put in GPU!!\n",
        "\n",
        "# model = AutoModelForSequenceClassification.from_pretrained(model_path)\n",
        "with torch.no_grad():\n",
        "    logits = model(**inputs).logits\n",
        "\n",
        "predicted_class_id = logits.argmax().item()\n",
        "model.config.id2label[predicted_class_id] # <== use the 'id2label' we've added to the model we saved"
      ]
    },
    {
      "cell_type": "markdown",
      "metadata": {
        "id": "aA0uzyItC63l"
      },
      "source": [
        "### Clean up"
      ]
    },
    {
      "cell_type": "code",
      "execution_count": null,
      "metadata": {
        "id": "RTlKOxFoC8Tb"
      },
      "outputs": [],
      "source": [
        "del model, dataset, df, trainer, stance_classifier\n",
        "clean_memory(device)"
      ]
    },
    {
      "cell_type": "markdown",
      "metadata": {
        "id": "dcJiG9I8BTs0"
      },
      "source": [
        "## Measurement validation"
      ]
    },
    {
      "cell_type": "markdown",
      "metadata": {},
      "source": [
        "In most applications, we are ultimately interested in using lower-level classifications (e.g., at the sentence level) to generate higher-level measurements (e.g., at the document level).\n",
        "\n",
        "To validate these measures, it is a best-practice to conduct a convergent validity assessment.\n",
        "This means to compare the measurement generated by your \"instrument\" (i.e., the classifier) to a external  measurement that is supposed to measure the same construct.\n",
        "\n",
        "In our application, we will use our classifier to obtain position scores for party manifestos sections about immigration/integration, and compare these scores to the position scores to the judgments of experts recruited by the Chapel Hill Expert Survey (CHES)."
      ]
    },
    {
      "cell_type": "markdown",
      "metadata": {},
      "source": [
        "### The manifesto data\n",
        "\n",
        "We get the manifesto data from the replication materials of Ruedin and Morales ([2020](https://doi.org/10.1177/1354068817713122)). (The data is on [OSF](https://osf.io/bj27x/))."
      ]
    },
    {
      "cell_type": "code",
      "execution_count": null,
      "metadata": {
        "id": "BgPAFdbvBVI8"
      },
      "outputs": [],
      "source": [
        "if COLAB:\n",
        "  data_path = 'https://raw.githubusercontent.com/fabiennelind/Going-Cross-Lingual_Course/main/data'\n",
        "else:\n",
        "  data_path = os.path.join('..', 'data')"
      ]
    },
    {
      "cell_type": "markdown",
      "metadata": {},
      "source": [
        "I've already splitted the texts in relevant manifesto sections into sentences:"
      ]
    },
    {
      "cell_type": "code",
      "execution_count": null,
      "metadata": {
        "id": "E94NaOKGt6op"
      },
      "outputs": [],
      "source": [
        "fp = os.path.join(data_path, 'ruedin_and_morales_2019', 'ruedin_and_morales_2019_manifest_section_sentences.csv')\n",
        "df = pd.read_csv(fp)"
      ]
    },
    {
      "cell_type": "code",
      "execution_count": 1,
      "metadata": {
        "id": "Hz5nFyB0CqD8"
      },
      "outputs": [
        {
          "ename": "NameError",
          "evalue": "name 'df' is not defined",
          "output_type": "error",
          "traceback": [
            "\u001b[0;31m---------------------------------------------------------------------------\u001b[0m",
            "\u001b[0;31mNameError\u001b[0m                                 Traceback (most recent call last)",
            "\u001b[1;32m/Users/hlicht/Dropbox/teaching/multilingual_text_analysis/github/notebooks/transformers_finetuning.ipynb Cell 163\u001b[0m line \u001b[0;36m2\n\u001b[1;32m      <a href='vscode-notebook-cell:/Users/hlicht/Dropbox/teaching/multilingual_text_analysis/github/notebooks/transformers_finetuning.ipynb#Y315sZmlsZQ%3D%3D?line=0'>1</a>\u001b[0m \u001b[39m# remove rows with missing text\u001b[39;00m\n\u001b[0;32m----> <a href='vscode-notebook-cell:/Users/hlicht/Dropbox/teaching/multilingual_text_analysis/github/notebooks/transformers_finetuning.ipynb#Y315sZmlsZQ%3D%3D?line=1'>2</a>\u001b[0m df \u001b[39m=\u001b[39m df[\u001b[39m~\u001b[39mdf\u001b[39m.\u001b[39mtext\u001b[39m.\u001b[39misna()]\n\u001b[1;32m      <a href='vscode-notebook-cell:/Users/hlicht/Dropbox/teaching/multilingual_text_analysis/github/notebooks/transformers_finetuning.ipynb#Y315sZmlsZQ%3D%3D?line=2'>3</a>\u001b[0m df \u001b[39m=\u001b[39m df[df\u001b[39m.\u001b[39mtext\u001b[39m.\u001b[39mapply(\u001b[39mlen\u001b[39m) \u001b[39m>\u001b[39m \u001b[39m0\u001b[39m]\n",
            "\u001b[0;31mNameError\u001b[0m: name 'df' is not defined"
          ]
        }
      ],
      "source": [
        "# remove rows with missing text\n",
        "df = df[~df.text.isna()]\n",
        "df = df[df.text.apply(len) > 0]"
      ]
    },
    {
      "cell_type": "code",
      "execution_count": null,
      "metadata": {
        "id": "ssXF_F7VQVUt"
      },
      "outputs": [],
      "source": [
        "# I have also mapped party names to CHES party IDs\n",
        "fp = os.path.join(data_path, 'ruedin_and_morales_2019', 'party_codes.tsv')\n",
        "parties = pd.read_csv(fp, sep='\\t')"
      ]
    },
    {
      "cell_type": "code",
      "execution_count": null,
      "metadata": {
        "id": "9ciMBntxRshC"
      },
      "outputs": [],
      "source": [
        "parties = parties[~parties.ches.isna()]\n",
        "parties['ches'] = parties.ches.astype(int)"
      ]
    },
    {
      "cell_type": "code",
      "execution_count": null,
      "metadata": {
        "id": "IKtimtEsR8Ew"
      },
      "outputs": [],
      "source": [
        "# just keep cases with matching party ID\n",
        "df = pd.merge(df, parties, on=['country', 'party'], how='inner')"
      ]
    },
    {
      "cell_type": "code",
      "execution_count": null,
      "metadata": {
        "colab": {
          "base_uri": "https://localhost:8080/"
        },
        "id": "fxRdBgF1SXeM",
        "outputId": "ac2c2813-13ba-440f-b51d-b03550f20c39"
      },
      "outputs": [
        {
          "data": {
            "text/plain": [
              "0"
            ]
          },
          "execution_count": 191,
          "metadata": {},
          "output_type": "execute_result"
        }
      ],
      "source": [
        "df.ches.isna().sum()"
      ]
    },
    {
      "cell_type": "markdown",
      "metadata": {},
      "source": [
        "### Machine-label the sentences"
      ]
    },
    {
      "cell_type": "markdown",
      "metadata": {},
      "source": [
        "We just take the stance classifier we have trained above and apply it to the sentences in the manifesto data:"
      ]
    },
    {
      "cell_type": "code",
      "execution_count": null,
      "metadata": {
        "id": "aSkprAZzDKCz"
      },
      "outputs": [],
      "source": [
        "stance_classifier = pipeline(\n",
        "    task=\"text-classification\",\n",
        "    model=model_path, # <== load the model we saved to disk\n",
        "    device=device,\n",
        "    batch_size=8\n",
        "  )"
      ]
    },
    {
      "cell_type": "code",
      "execution_count": null,
      "metadata": {
        "colab": {
          "base_uri": "https://localhost:8080/",
          "height": 49,
          "referenced_widgets": [
            "acd7633332f641899345ca835155cc37",
            "84dbfe9d502d446d935055d8943a881c",
            "734c26eea7af42b48744de8d5a7d085c",
            "ac63824347ec43a1a0c3094939e41b48",
            "4f05699ce81f4a7ca88d53e3d69c2ff1",
            "076364dfc27d4b948633824475703ab4",
            "3190cf98fe3b4a718e00d75eadba032a",
            "d6e5143bb81a45a3ab1643babb38cc2a",
            "ad2b6bda1c204da3bea178cef37e8f7b",
            "7ab3166ae0ce4c2bb8f9bd251a55af1a",
            "3b6ad94a5066409298c39fe441542b4f"
          ]
        },
        "id": "0jQlhD31SvXd",
        "outputId": "2f47f1f3-c0bc-403c-f546-8fcb5f871bb0"
      },
      "outputs": [
        {
          "data": {
            "application/vnd.jupyter.widget-view+json": {
              "model_id": "acd7633332f641899345ca835155cc37",
              "version_major": 2,
              "version_minor": 0
            },
            "text/plain": [
              "  0%|          | 0/18780 [00:00<?, ?it/s]"
            ]
          },
          "metadata": {},
          "output_type": "display_data"
        }
      ],
      "source": [
        "from tqdm.auto import tqdm\n",
        "from transformers.pipelines.pt_utils import KeyDataset\n",
        "# this code is complicated but faster (see https://stackoverflow.com/a/77442622)\n",
        "kd = KeyDataset(Dataset.from_pandas(df[['text']]), 'text')\n",
        "preds = []\n",
        "for p in tqdm(stance_classifier(kd), total=len(dat)):\n",
        "  preds.append(p)"
      ]
    },
    {
      "cell_type": "code",
      "execution_count": null,
      "metadata": {
        "id": "-2xKYaVcVZwY"
      },
      "outputs": [],
      "source": [
        "df['label'] = [p['label'] for p in preds]\n",
        "df['confidence'] = [p['score'] for p in preds]"
      ]
    },
    {
      "cell_type": "code",
      "execution_count": null,
      "metadata": {
        "colab": {
          "base_uri": "https://localhost:8080/",
          "height": 423
        },
        "id": "dLFoeD5bHgrx",
        "outputId": "3446f048-e5f4-4487-9b61-b2f24d25e77a"
      },
      "outputs": [
        {
          "data": {
            "text/html": [
              "\n",
              "  <div id=\"df-f1a3372e-77f4-4830-8ee1-ef59302e0ac3\" class=\"colab-df-container\">\n",
              "    <div>\n",
              "<style scoped>\n",
              "    .dataframe tbody tr th:only-of-type {\n",
              "        vertical-align: middle;\n",
              "    }\n",
              "\n",
              "    .dataframe tbody tr th {\n",
              "        vertical-align: top;\n",
              "    }\n",
              "\n",
              "    .dataframe thead th {\n",
              "        text-align: right;\n",
              "    }\n",
              "</style>\n",
              "<table border=\"1\" class=\"dataframe\">\n",
              "  <thead>\n",
              "    <tr style=\"text-align: right;\">\n",
              "      <th></th>\n",
              "      <th>country</th>\n",
              "      <th>year</th>\n",
              "      <th>party</th>\n",
              "      <th>language</th>\n",
              "      <th>count</th>\n",
              "    </tr>\n",
              "  </thead>\n",
              "  <tbody>\n",
              "    <tr>\n",
              "      <th>0</th>\n",
              "      <td>at</td>\n",
              "      <td>1994</td>\n",
              "      <td>fpö</td>\n",
              "      <td>de</td>\n",
              "      <td>45</td>\n",
              "    </tr>\n",
              "    <tr>\n",
              "      <th>1</th>\n",
              "      <td>at</td>\n",
              "      <td>1994</td>\n",
              "      <td>green</td>\n",
              "      <td>de</td>\n",
              "      <td>35</td>\n",
              "    </tr>\n",
              "    <tr>\n",
              "      <th>2</th>\n",
              "      <td>at</td>\n",
              "      <td>1994</td>\n",
              "      <td>lif</td>\n",
              "      <td>de</td>\n",
              "      <td>10</td>\n",
              "    </tr>\n",
              "    <tr>\n",
              "      <th>3</th>\n",
              "      <td>at</td>\n",
              "      <td>1994</td>\n",
              "      <td>övp</td>\n",
              "      <td>de</td>\n",
              "      <td>49</td>\n",
              "    </tr>\n",
              "    <tr>\n",
              "      <th>4</th>\n",
              "      <td>at</td>\n",
              "      <td>1994</td>\n",
              "      <td>spö</td>\n",
              "      <td>de</td>\n",
              "      <td>17</td>\n",
              "    </tr>\n",
              "    <tr>\n",
              "      <th>...</th>\n",
              "      <td>...</td>\n",
              "      <td>...</td>\n",
              "      <td>...</td>\n",
              "      <td>...</td>\n",
              "      <td>...</td>\n",
              "    </tr>\n",
              "    <tr>\n",
              "      <th>269</th>\n",
              "      <td>uk</td>\n",
              "      <td>2019</td>\n",
              "      <td>green</td>\n",
              "      <td>en</td>\n",
              "      <td>40</td>\n",
              "    </tr>\n",
              "    <tr>\n",
              "      <th>270</th>\n",
              "      <td>uk</td>\n",
              "      <td>2019</td>\n",
              "      <td>lab</td>\n",
              "      <td>en</td>\n",
              "      <td>48</td>\n",
              "    </tr>\n",
              "    <tr>\n",
              "      <th>271</th>\n",
              "      <td>uk</td>\n",
              "      <td>2019</td>\n",
              "      <td>libdem</td>\n",
              "      <td>en</td>\n",
              "      <td>67</td>\n",
              "    </tr>\n",
              "    <tr>\n",
              "      <th>272</th>\n",
              "      <td>uk</td>\n",
              "      <td>2019</td>\n",
              "      <td>plaid</td>\n",
              "      <td>en</td>\n",
              "      <td>33</td>\n",
              "    </tr>\n",
              "    <tr>\n",
              "      <th>273</th>\n",
              "      <td>uk</td>\n",
              "      <td>2019</td>\n",
              "      <td>ukip</td>\n",
              "      <td>en</td>\n",
              "      <td>21</td>\n",
              "    </tr>\n",
              "  </tbody>\n",
              "</table>\n",
              "<p>274 rows × 5 columns</p>\n",
              "</div>\n",
              "    <div class=\"colab-df-buttons\">\n",
              "\n",
              "  <div class=\"colab-df-container\">\n",
              "    <button class=\"colab-df-convert\" onclick=\"convertToInteractive('df-f1a3372e-77f4-4830-8ee1-ef59302e0ac3')\"\n",
              "            title=\"Convert this dataframe to an interactive table.\"\n",
              "            style=\"display:none;\">\n",
              "\n",
              "  <svg xmlns=\"http://www.w3.org/2000/svg\" height=\"24px\" viewBox=\"0 -960 960 960\">\n",
              "    <path d=\"M120-120v-720h720v720H120Zm60-500h600v-160H180v160Zm220 220h160v-160H400v160Zm0 220h160v-160H400v160ZM180-400h160v-160H180v160Zm440 0h160v-160H620v160ZM180-180h160v-160H180v160Zm440 0h160v-160H620v160Z\"/>\n",
              "  </svg>\n",
              "    </button>\n",
              "\n",
              "  <style>\n",
              "    .colab-df-container {\n",
              "      display:flex;\n",
              "      gap: 12px;\n",
              "    }\n",
              "\n",
              "    .colab-df-convert {\n",
              "      background-color: #E8F0FE;\n",
              "      border: none;\n",
              "      border-radius: 50%;\n",
              "      cursor: pointer;\n",
              "      display: none;\n",
              "      fill: #1967D2;\n",
              "      height: 32px;\n",
              "      padding: 0 0 0 0;\n",
              "      width: 32px;\n",
              "    }\n",
              "\n",
              "    .colab-df-convert:hover {\n",
              "      background-color: #E2EBFA;\n",
              "      box-shadow: 0px 1px 2px rgba(60, 64, 67, 0.3), 0px 1px 3px 1px rgba(60, 64, 67, 0.15);\n",
              "      fill: #174EA6;\n",
              "    }\n",
              "\n",
              "    .colab-df-buttons div {\n",
              "      margin-bottom: 4px;\n",
              "    }\n",
              "\n",
              "    [theme=dark] .colab-df-convert {\n",
              "      background-color: #3B4455;\n",
              "      fill: #D2E3FC;\n",
              "    }\n",
              "\n",
              "    [theme=dark] .colab-df-convert:hover {\n",
              "      background-color: #434B5C;\n",
              "      box-shadow: 0px 1px 3px 1px rgba(0, 0, 0, 0.15);\n",
              "      filter: drop-shadow(0px 1px 2px rgba(0, 0, 0, 0.3));\n",
              "      fill: #FFFFFF;\n",
              "    }\n",
              "  </style>\n",
              "\n",
              "    <script>\n",
              "      const buttonEl =\n",
              "        document.querySelector('#df-f1a3372e-77f4-4830-8ee1-ef59302e0ac3 button.colab-df-convert');\n",
              "      buttonEl.style.display =\n",
              "        google.colab.kernel.accessAllowed ? 'block' : 'none';\n",
              "\n",
              "      async function convertToInteractive(key) {\n",
              "        const element = document.querySelector('#df-f1a3372e-77f4-4830-8ee1-ef59302e0ac3');\n",
              "        const dataTable =\n",
              "          await google.colab.kernel.invokeFunction('convertToInteractive',\n",
              "                                                    [key], {});\n",
              "        if (!dataTable) return;\n",
              "\n",
              "        const docLinkHtml = 'Like what you see? Visit the ' +\n",
              "          '<a target=\"_blank\" href=https://colab.research.google.com/notebooks/data_table.ipynb>data table notebook</a>'\n",
              "          + ' to learn more about interactive tables.';\n",
              "        element.innerHTML = '';\n",
              "        dataTable['output_type'] = 'display_data';\n",
              "        await google.colab.output.renderOutput(dataTable, element);\n",
              "        const docLink = document.createElement('div');\n",
              "        docLink.innerHTML = docLinkHtml;\n",
              "        element.appendChild(docLink);\n",
              "      }\n",
              "    </script>\n",
              "  </div>\n",
              "\n",
              "\n",
              "<div id=\"df-a96384de-7c64-4818-a468-e12159c88cf7\">\n",
              "  <button class=\"colab-df-quickchart\" onclick=\"quickchart('df-a96384de-7c64-4818-a468-e12159c88cf7')\"\n",
              "            title=\"Suggest charts\"\n",
              "            style=\"display:none;\">\n",
              "\n",
              "<svg xmlns=\"http://www.w3.org/2000/svg\" height=\"24px\"viewBox=\"0 0 24 24\"\n",
              "     width=\"24px\">\n",
              "    <g>\n",
              "        <path d=\"M19 3H5c-1.1 0-2 .9-2 2v14c0 1.1.9 2 2 2h14c1.1 0 2-.9 2-2V5c0-1.1-.9-2-2-2zM9 17H7v-7h2v7zm4 0h-2V7h2v10zm4 0h-2v-4h2v4z\"/>\n",
              "    </g>\n",
              "</svg>\n",
              "  </button>\n",
              "\n",
              "<style>\n",
              "  .colab-df-quickchart {\n",
              "      --bg-color: #E8F0FE;\n",
              "      --fill-color: #1967D2;\n",
              "      --hover-bg-color: #E2EBFA;\n",
              "      --hover-fill-color: #174EA6;\n",
              "      --disabled-fill-color: #AAA;\n",
              "      --disabled-bg-color: #DDD;\n",
              "  }\n",
              "\n",
              "  [theme=dark] .colab-df-quickchart {\n",
              "      --bg-color: #3B4455;\n",
              "      --fill-color: #D2E3FC;\n",
              "      --hover-bg-color: #434B5C;\n",
              "      --hover-fill-color: #FFFFFF;\n",
              "      --disabled-bg-color: #3B4455;\n",
              "      --disabled-fill-color: #666;\n",
              "  }\n",
              "\n",
              "  .colab-df-quickchart {\n",
              "    background-color: var(--bg-color);\n",
              "    border: none;\n",
              "    border-radius: 50%;\n",
              "    cursor: pointer;\n",
              "    display: none;\n",
              "    fill: var(--fill-color);\n",
              "    height: 32px;\n",
              "    padding: 0;\n",
              "    width: 32px;\n",
              "  }\n",
              "\n",
              "  .colab-df-quickchart:hover {\n",
              "    background-color: var(--hover-bg-color);\n",
              "    box-shadow: 0 1px 2px rgba(60, 64, 67, 0.3), 0 1px 3px 1px rgba(60, 64, 67, 0.15);\n",
              "    fill: var(--button-hover-fill-color);\n",
              "  }\n",
              "\n",
              "  .colab-df-quickchart-complete:disabled,\n",
              "  .colab-df-quickchart-complete:disabled:hover {\n",
              "    background-color: var(--disabled-bg-color);\n",
              "    fill: var(--disabled-fill-color);\n",
              "    box-shadow: none;\n",
              "  }\n",
              "\n",
              "  .colab-df-spinner {\n",
              "    border: 2px solid var(--fill-color);\n",
              "    border-color: transparent;\n",
              "    border-bottom-color: var(--fill-color);\n",
              "    animation:\n",
              "      spin 1s steps(1) infinite;\n",
              "  }\n",
              "\n",
              "  @keyframes spin {\n",
              "    0% {\n",
              "      border-color: transparent;\n",
              "      border-bottom-color: var(--fill-color);\n",
              "      border-left-color: var(--fill-color);\n",
              "    }\n",
              "    20% {\n",
              "      border-color: transparent;\n",
              "      border-left-color: var(--fill-color);\n",
              "      border-top-color: var(--fill-color);\n",
              "    }\n",
              "    30% {\n",
              "      border-color: transparent;\n",
              "      border-left-color: var(--fill-color);\n",
              "      border-top-color: var(--fill-color);\n",
              "      border-right-color: var(--fill-color);\n",
              "    }\n",
              "    40% {\n",
              "      border-color: transparent;\n",
              "      border-right-color: var(--fill-color);\n",
              "      border-top-color: var(--fill-color);\n",
              "    }\n",
              "    60% {\n",
              "      border-color: transparent;\n",
              "      border-right-color: var(--fill-color);\n",
              "    }\n",
              "    80% {\n",
              "      border-color: transparent;\n",
              "      border-right-color: var(--fill-color);\n",
              "      border-bottom-color: var(--fill-color);\n",
              "    }\n",
              "    90% {\n",
              "      border-color: transparent;\n",
              "      border-bottom-color: var(--fill-color);\n",
              "    }\n",
              "  }\n",
              "</style>\n",
              "\n",
              "  <script>\n",
              "    async function quickchart(key) {\n",
              "      const quickchartButtonEl =\n",
              "        document.querySelector('#' + key + ' button');\n",
              "      quickchartButtonEl.disabled = true;  // To prevent multiple clicks.\n",
              "      quickchartButtonEl.classList.add('colab-df-spinner');\n",
              "      try {\n",
              "        const charts = await google.colab.kernel.invokeFunction(\n",
              "            'suggestCharts', [key], {});\n",
              "      } catch (error) {\n",
              "        console.error('Error during call to suggestCharts:', error);\n",
              "      }\n",
              "      quickchartButtonEl.classList.remove('colab-df-spinner');\n",
              "      quickchartButtonEl.classList.add('colab-df-quickchart-complete');\n",
              "    }\n",
              "    (() => {\n",
              "      let quickchartButtonEl =\n",
              "        document.querySelector('#df-a96384de-7c64-4818-a468-e12159c88cf7 button');\n",
              "      quickchartButtonEl.style.display =\n",
              "        google.colab.kernel.accessAllowed ? 'block' : 'none';\n",
              "    })();\n",
              "  </script>\n",
              "</div>\n",
              "    </div>\n",
              "  </div>\n"
            ],
            "text/plain": [
              "    country  year   party language  count\n",
              "0        at  1994    fpö       de     45\n",
              "1        at  1994   green       de     35\n",
              "2        at  1994     lif       de     10\n",
              "3        at  1994    övp       de     49\n",
              "4        at  1994    spö       de     17\n",
              "..      ...   ...     ...      ...    ...\n",
              "269      uk  2019   green       en     40\n",
              "270      uk  2019     lab       en     48\n",
              "271      uk  2019  libdem       en     67\n",
              "272      uk  2019   plaid       en     33\n",
              "273      uk  2019    ukip       en     21\n",
              "\n",
              "[274 rows x 5 columns]"
            ]
          },
          "execution_count": 217,
          "metadata": {},
          "output_type": "execute_result"
        }
      ],
      "source": [
        "grps = ['country', 'year', 'party', 'language']\n",
        "df.groupby(grps).apply(lambda x: (x['label'] == 'supportive').sum()).reset_index(name='count')"
      ]
    },
    {
      "cell_type": "markdown",
      "metadata": {},
      "source": [
        "### Computing manifesto-section level measurements"
      ]
    },
    {
      "cell_type": "code",
      "execution_count": null,
      "metadata": {
        "id": "-T9CkTQeWrh-"
      },
      "outputs": [],
      "source": [
        "grps = ['country', 'ches']\n",
        "out = df.groupby(grps).agg(\n",
        "    n_supportive=('label', lambda x: (x == 'supportive').sum()),\n",
        "    n_sceptical=('label', lambda x: (x == 'sceptical').sum())\n",
        ").reset_index()\n",
        "\n",
        "# formula from Proksch et al. (2019): https://onlinelibrary.wiley.com/doi/10.1111/lsq.12218\n",
        "out['position'] = np.log((out['n_supportive'] + 0.5) / (out['n_sceptical'] + 0.5))"
      ]
    },
    {
      "cell_type": "code",
      "execution_count": null,
      "metadata": {
        "colab": {
          "base_uri": "https://localhost:8080/",
          "height": 394
        },
        "id": "tRvhcTJDW5bD",
        "outputId": "f10decba-a8ad-4275-94d0-cb016acf5653"
      },
      "outputs": [
        {
          "data": {
            "text/html": [
              "\n",
              "  <div id=\"df-bbb86f5b-947c-4da7-a891-fb1306c75846\" class=\"colab-df-container\">\n",
              "    <div>\n",
              "<style scoped>\n",
              "    .dataframe tbody tr th:only-of-type {\n",
              "        vertical-align: middle;\n",
              "    }\n",
              "\n",
              "    .dataframe tbody tr th {\n",
              "        vertical-align: top;\n",
              "    }\n",
              "\n",
              "    .dataframe thead th {\n",
              "        text-align: right;\n",
              "    }\n",
              "</style>\n",
              "<table border=\"1\" class=\"dataframe\">\n",
              "  <thead>\n",
              "    <tr style=\"text-align: right;\">\n",
              "      <th></th>\n",
              "      <th>country</th>\n",
              "      <th>ches</th>\n",
              "      <th>n_supportive</th>\n",
              "      <th>n_sceptical</th>\n",
              "      <th>position</th>\n",
              "    </tr>\n",
              "  </thead>\n",
              "  <tbody>\n",
              "    <tr>\n",
              "      <th>58</th>\n",
              "      <td>uk</td>\n",
              "      <td>1109</td>\n",
              "      <td>425</td>\n",
              "      <td>330</td>\n",
              "      <td>0.252658</td>\n",
              "    </tr>\n",
              "    <tr>\n",
              "      <th>57</th>\n",
              "      <td>uk</td>\n",
              "      <td>1108</td>\n",
              "      <td>307</td>\n",
              "      <td>222</td>\n",
              "      <td>0.323548</td>\n",
              "    </tr>\n",
              "    <tr>\n",
              "      <th>61</th>\n",
              "      <td>uk</td>\n",
              "      <td>1151</td>\n",
              "      <td>4</td>\n",
              "      <td>2</td>\n",
              "      <td>0.587787</td>\n",
              "    </tr>\n",
              "    <tr>\n",
              "      <th>59</th>\n",
              "      <td>uk</td>\n",
              "      <td>1110</td>\n",
              "      <td>3</td>\n",
              "      <td>1</td>\n",
              "      <td>0.847298</td>\n",
              "    </tr>\n",
              "    <tr>\n",
              "      <th>51</th>\n",
              "      <td>uk</td>\n",
              "      <td>1101</td>\n",
              "      <td>268</td>\n",
              "      <td>105</td>\n",
              "      <td>0.934140</td>\n",
              "    </tr>\n",
              "    <tr>\n",
              "      <th>52</th>\n",
              "      <td>uk</td>\n",
              "      <td>1102</td>\n",
              "      <td>249</td>\n",
              "      <td>88</td>\n",
              "      <td>1.036456</td>\n",
              "    </tr>\n",
              "    <tr>\n",
              "      <th>54</th>\n",
              "      <td>uk</td>\n",
              "      <td>1105</td>\n",
              "      <td>45</td>\n",
              "      <td>10</td>\n",
              "      <td>1.466337</td>\n",
              "    </tr>\n",
              "    <tr>\n",
              "      <th>53</th>\n",
              "      <td>uk</td>\n",
              "      <td>1104</td>\n",
              "      <td>162</td>\n",
              "      <td>30</td>\n",
              "      <td>1.672951</td>\n",
              "    </tr>\n",
              "    <tr>\n",
              "      <th>56</th>\n",
              "      <td>uk</td>\n",
              "      <td>1107</td>\n",
              "      <td>95</td>\n",
              "      <td>12</td>\n",
              "      <td>2.033398</td>\n",
              "    </tr>\n",
              "    <tr>\n",
              "      <th>55</th>\n",
              "      <td>uk</td>\n",
              "      <td>1106</td>\n",
              "      <td>65</td>\n",
              "      <td>6</td>\n",
              "      <td>2.310248</td>\n",
              "    </tr>\n",
              "    <tr>\n",
              "      <th>60</th>\n",
              "      <td>uk</td>\n",
              "      <td>1150</td>\n",
              "      <td>5</td>\n",
              "      <td>0</td>\n",
              "      <td>2.397895</td>\n",
              "    </tr>\n",
              "  </tbody>\n",
              "</table>\n",
              "</div>\n",
              "    <div class=\"colab-df-buttons\">\n",
              "\n",
              "  <div class=\"colab-df-container\">\n",
              "    <button class=\"colab-df-convert\" onclick=\"convertToInteractive('df-bbb86f5b-947c-4da7-a891-fb1306c75846')\"\n",
              "            title=\"Convert this dataframe to an interactive table.\"\n",
              "            style=\"display:none;\">\n",
              "\n",
              "  <svg xmlns=\"http://www.w3.org/2000/svg\" height=\"24px\" viewBox=\"0 -960 960 960\">\n",
              "    <path d=\"M120-120v-720h720v720H120Zm60-500h600v-160H180v160Zm220 220h160v-160H400v160Zm0 220h160v-160H400v160ZM180-400h160v-160H180v160Zm440 0h160v-160H620v160ZM180-180h160v-160H180v160Zm440 0h160v-160H620v160Z\"/>\n",
              "  </svg>\n",
              "    </button>\n",
              "\n",
              "  <style>\n",
              "    .colab-df-container {\n",
              "      display:flex;\n",
              "      gap: 12px;\n",
              "    }\n",
              "\n",
              "    .colab-df-convert {\n",
              "      background-color: #E8F0FE;\n",
              "      border: none;\n",
              "      border-radius: 50%;\n",
              "      cursor: pointer;\n",
              "      display: none;\n",
              "      fill: #1967D2;\n",
              "      height: 32px;\n",
              "      padding: 0 0 0 0;\n",
              "      width: 32px;\n",
              "    }\n",
              "\n",
              "    .colab-df-convert:hover {\n",
              "      background-color: #E2EBFA;\n",
              "      box-shadow: 0px 1px 2px rgba(60, 64, 67, 0.3), 0px 1px 3px 1px rgba(60, 64, 67, 0.15);\n",
              "      fill: #174EA6;\n",
              "    }\n",
              "\n",
              "    .colab-df-buttons div {\n",
              "      margin-bottom: 4px;\n",
              "    }\n",
              "\n",
              "    [theme=dark] .colab-df-convert {\n",
              "      background-color: #3B4455;\n",
              "      fill: #D2E3FC;\n",
              "    }\n",
              "\n",
              "    [theme=dark] .colab-df-convert:hover {\n",
              "      background-color: #434B5C;\n",
              "      box-shadow: 0px 1px 3px 1px rgba(0, 0, 0, 0.15);\n",
              "      filter: drop-shadow(0px 1px 2px rgba(0, 0, 0, 0.3));\n",
              "      fill: #FFFFFF;\n",
              "    }\n",
              "  </style>\n",
              "\n",
              "    <script>\n",
              "      const buttonEl =\n",
              "        document.querySelector('#df-bbb86f5b-947c-4da7-a891-fb1306c75846 button.colab-df-convert');\n",
              "      buttonEl.style.display =\n",
              "        google.colab.kernel.accessAllowed ? 'block' : 'none';\n",
              "\n",
              "      async function convertToInteractive(key) {\n",
              "        const element = document.querySelector('#df-bbb86f5b-947c-4da7-a891-fb1306c75846');\n",
              "        const dataTable =\n",
              "          await google.colab.kernel.invokeFunction('convertToInteractive',\n",
              "                                                    [key], {});\n",
              "        if (!dataTable) return;\n",
              "\n",
              "        const docLinkHtml = 'Like what you see? Visit the ' +\n",
              "          '<a target=\"_blank\" href=https://colab.research.google.com/notebooks/data_table.ipynb>data table notebook</a>'\n",
              "          + ' to learn more about interactive tables.';\n",
              "        element.innerHTML = '';\n",
              "        dataTable['output_type'] = 'display_data';\n",
              "        await google.colab.output.renderOutput(dataTable, element);\n",
              "        const docLink = document.createElement('div');\n",
              "        docLink.innerHTML = docLinkHtml;\n",
              "        element.appendChild(docLink);\n",
              "      }\n",
              "    </script>\n",
              "  </div>\n",
              "\n",
              "\n",
              "<div id=\"df-bd265bea-22c3-4324-839a-ce7bb1a24b84\">\n",
              "  <button class=\"colab-df-quickchart\" onclick=\"quickchart('df-bd265bea-22c3-4324-839a-ce7bb1a24b84')\"\n",
              "            title=\"Suggest charts\"\n",
              "            style=\"display:none;\">\n",
              "\n",
              "<svg xmlns=\"http://www.w3.org/2000/svg\" height=\"24px\"viewBox=\"0 0 24 24\"\n",
              "     width=\"24px\">\n",
              "    <g>\n",
              "        <path d=\"M19 3H5c-1.1 0-2 .9-2 2v14c0 1.1.9 2 2 2h14c1.1 0 2-.9 2-2V5c0-1.1-.9-2-2-2zM9 17H7v-7h2v7zm4 0h-2V7h2v10zm4 0h-2v-4h2v4z\"/>\n",
              "    </g>\n",
              "</svg>\n",
              "  </button>\n",
              "\n",
              "<style>\n",
              "  .colab-df-quickchart {\n",
              "      --bg-color: #E8F0FE;\n",
              "      --fill-color: #1967D2;\n",
              "      --hover-bg-color: #E2EBFA;\n",
              "      --hover-fill-color: #174EA6;\n",
              "      --disabled-fill-color: #AAA;\n",
              "      --disabled-bg-color: #DDD;\n",
              "  }\n",
              "\n",
              "  [theme=dark] .colab-df-quickchart {\n",
              "      --bg-color: #3B4455;\n",
              "      --fill-color: #D2E3FC;\n",
              "      --hover-bg-color: #434B5C;\n",
              "      --hover-fill-color: #FFFFFF;\n",
              "      --disabled-bg-color: #3B4455;\n",
              "      --disabled-fill-color: #666;\n",
              "  }\n",
              "\n",
              "  .colab-df-quickchart {\n",
              "    background-color: var(--bg-color);\n",
              "    border: none;\n",
              "    border-radius: 50%;\n",
              "    cursor: pointer;\n",
              "    display: none;\n",
              "    fill: var(--fill-color);\n",
              "    height: 32px;\n",
              "    padding: 0;\n",
              "    width: 32px;\n",
              "  }\n",
              "\n",
              "  .colab-df-quickchart:hover {\n",
              "    background-color: var(--hover-bg-color);\n",
              "    box-shadow: 0 1px 2px rgba(60, 64, 67, 0.3), 0 1px 3px 1px rgba(60, 64, 67, 0.15);\n",
              "    fill: var(--button-hover-fill-color);\n",
              "  }\n",
              "\n",
              "  .colab-df-quickchart-complete:disabled,\n",
              "  .colab-df-quickchart-complete:disabled:hover {\n",
              "    background-color: var(--disabled-bg-color);\n",
              "    fill: var(--disabled-fill-color);\n",
              "    box-shadow: none;\n",
              "  }\n",
              "\n",
              "  .colab-df-spinner {\n",
              "    border: 2px solid var(--fill-color);\n",
              "    border-color: transparent;\n",
              "    border-bottom-color: var(--fill-color);\n",
              "    animation:\n",
              "      spin 1s steps(1) infinite;\n",
              "  }\n",
              "\n",
              "  @keyframes spin {\n",
              "    0% {\n",
              "      border-color: transparent;\n",
              "      border-bottom-color: var(--fill-color);\n",
              "      border-left-color: var(--fill-color);\n",
              "    }\n",
              "    20% {\n",
              "      border-color: transparent;\n",
              "      border-left-color: var(--fill-color);\n",
              "      border-top-color: var(--fill-color);\n",
              "    }\n",
              "    30% {\n",
              "      border-color: transparent;\n",
              "      border-left-color: var(--fill-color);\n",
              "      border-top-color: var(--fill-color);\n",
              "      border-right-color: var(--fill-color);\n",
              "    }\n",
              "    40% {\n",
              "      border-color: transparent;\n",
              "      border-right-color: var(--fill-color);\n",
              "      border-top-color: var(--fill-color);\n",
              "    }\n",
              "    60% {\n",
              "      border-color: transparent;\n",
              "      border-right-color: var(--fill-color);\n",
              "    }\n",
              "    80% {\n",
              "      border-color: transparent;\n",
              "      border-right-color: var(--fill-color);\n",
              "      border-bottom-color: var(--fill-color);\n",
              "    }\n",
              "    90% {\n",
              "      border-color: transparent;\n",
              "      border-bottom-color: var(--fill-color);\n",
              "    }\n",
              "  }\n",
              "</style>\n",
              "\n",
              "  <script>\n",
              "    async function quickchart(key) {\n",
              "      const quickchartButtonEl =\n",
              "        document.querySelector('#' + key + ' button');\n",
              "      quickchartButtonEl.disabled = true;  // To prevent multiple clicks.\n",
              "      quickchartButtonEl.classList.add('colab-df-spinner');\n",
              "      try {\n",
              "        const charts = await google.colab.kernel.invokeFunction(\n",
              "            'suggestCharts', [key], {});\n",
              "      } catch (error) {\n",
              "        console.error('Error during call to suggestCharts:', error);\n",
              "      }\n",
              "      quickchartButtonEl.classList.remove('colab-df-spinner');\n",
              "      quickchartButtonEl.classList.add('colab-df-quickchart-complete');\n",
              "    }\n",
              "    (() => {\n",
              "      let quickchartButtonEl =\n",
              "        document.querySelector('#df-bd265bea-22c3-4324-839a-ce7bb1a24b84 button');\n",
              "      quickchartButtonEl.style.display =\n",
              "        google.colab.kernel.accessAllowed ? 'block' : 'none';\n",
              "    })();\n",
              "  </script>\n",
              "</div>\n",
              "    </div>\n",
              "  </div>\n"
            ],
            "text/plain": [
              "   country  ches  n_supportive  n_sceptical  position\n",
              "58      uk  1109           425          330  0.252658\n",
              "57      uk  1108           307          222  0.323548\n",
              "61      uk  1151             4            2  0.587787\n",
              "59      uk  1110             3            1  0.847298\n",
              "51      uk  1101           268          105  0.934140\n",
              "52      uk  1102           249           88  1.036456\n",
              "54      uk  1105            45           10  1.466337\n",
              "53      uk  1104           162           30  1.672951\n",
              "56      uk  1107            95           12  2.033398\n",
              "55      uk  1106            65            6  2.310248\n",
              "60      uk  1150             5            0  2.397895"
            ]
          },
          "execution_count": 237,
          "metadata": {},
          "output_type": "execute_result"
        }
      ],
      "source": [
        "out[out.country == 'uk'].sort_values('position')"
      ]
    },
    {
      "cell_type": "markdown",
      "metadata": {},
      "source": [
        "### Load the CHES data"
      ]
    },
    {
      "cell_type": "code",
      "execution_count": null,
      "metadata": {
        "id": "64PYwB1YXWjB"
      },
      "outputs": [],
      "source": [
        "# load the file with the aggregate scores\n",
        "ches = pd.read_csv('https://www.chesdata.eu/s/1999-2019_CHES_dataset_meansv3.csv')"
      ]
    },
    {
      "cell_type": "code",
      "execution_count": null,
      "metadata": {
        "id": "FtKAfv8GXaCN"
      },
      "outputs": [],
      "source": [
        "# convert numeric country codes to ISO codes\n",
        "ches_country_codes = {\n",
        "  1: 'be',\n",
        "  5: 'es',\n",
        "  6: 'fr',\n",
        "  7: 'ie',\n",
        "  10: 'nl',\n",
        "  11: 'uk',\n",
        "  13: 'at',\n",
        "}\n",
        "ches['country_code'] = ches.country.map(ches_country_codes)\n",
        "ches = ches[~ches['country_code'].isna()]"
      ]
    },
    {
      "cell_type": "code",
      "execution_count": null,
      "metadata": {
        "colab": {
          "base_uri": "https://localhost:8080/",
          "height": 423
        },
        "id": "2bgNTDhYYVD4",
        "outputId": "5fefa296-da41-456b-b150-53edbca6aa94"
      },
      "outputs": [
        {
          "data": {
            "text/html": [
              "\n",
              "  <div id=\"df-17ecbf42-efa8-4fc5-a6ff-c90ea701ef19\" class=\"colab-df-container\">\n",
              "    <div>\n",
              "<style scoped>\n",
              "    .dataframe tbody tr th:only-of-type {\n",
              "        vertical-align: middle;\n",
              "    }\n",
              "\n",
              "    .dataframe tbody tr th {\n",
              "        vertical-align: top;\n",
              "    }\n",
              "\n",
              "    .dataframe thead th {\n",
              "        text-align: right;\n",
              "    }\n",
              "</style>\n",
              "<table border=\"1\" class=\"dataframe\">\n",
              "  <thead>\n",
              "    <tr style=\"text-align: right;\">\n",
              "      <th></th>\n",
              "      <th>country_code</th>\n",
              "      <th>year</th>\n",
              "      <th>party_id</th>\n",
              "      <th>party</th>\n",
              "      <th>immigrate_policy</th>\n",
              "    </tr>\n",
              "  </thead>\n",
              "  <tbody>\n",
              "    <tr>\n",
              "      <th>24</th>\n",
              "      <td>be</td>\n",
              "      <td>2006</td>\n",
              "      <td>109</td>\n",
              "      <td>CD&amp;V</td>\n",
              "      <td>5.88</td>\n",
              "    </tr>\n",
              "    <tr>\n",
              "      <th>25</th>\n",
              "      <td>be</td>\n",
              "      <td>2006</td>\n",
              "      <td>106</td>\n",
              "      <td>MR</td>\n",
              "      <td>5.33</td>\n",
              "    </tr>\n",
              "    <tr>\n",
              "      <th>26</th>\n",
              "      <td>be</td>\n",
              "      <td>2006</td>\n",
              "      <td>105</td>\n",
              "      <td>Groen</td>\n",
              "      <td>1.13</td>\n",
              "    </tr>\n",
              "    <tr>\n",
              "      <th>27</th>\n",
              "      <td>be</td>\n",
              "      <td>2006</td>\n",
              "      <td>110</td>\n",
              "      <td>NVA</td>\n",
              "      <td>7.38</td>\n",
              "    </tr>\n",
              "    <tr>\n",
              "      <th>28</th>\n",
              "      <td>be</td>\n",
              "      <td>2006</td>\n",
              "      <td>102</td>\n",
              "      <td>PS</td>\n",
              "      <td>2.50</td>\n",
              "    </tr>\n",
              "    <tr>\n",
              "      <th>...</th>\n",
              "      <td>...</td>\n",
              "      <td>...</td>\n",
              "      <td>...</td>\n",
              "      <td>...</td>\n",
              "      <td>...</td>\n",
              "    </tr>\n",
              "    <tr>\n",
              "      <th>638</th>\n",
              "      <td>at</td>\n",
              "      <td>2019</td>\n",
              "      <td>1303</td>\n",
              "      <td>FPO</td>\n",
              "      <td>9.80</td>\n",
              "    </tr>\n",
              "    <tr>\n",
              "      <th>639</th>\n",
              "      <td>at</td>\n",
              "      <td>2019</td>\n",
              "      <td>1301</td>\n",
              "      <td>SPO</td>\n",
              "      <td>4.70</td>\n",
              "    </tr>\n",
              "    <tr>\n",
              "      <th>640</th>\n",
              "      <td>at</td>\n",
              "      <td>2019</td>\n",
              "      <td>1302</td>\n",
              "      <td>OVP</td>\n",
              "      <td>8.60</td>\n",
              "    </tr>\n",
              "    <tr>\n",
              "      <th>641</th>\n",
              "      <td>at</td>\n",
              "      <td>2019</td>\n",
              "      <td>1306</td>\n",
              "      <td>NEOS</td>\n",
              "      <td>4.30</td>\n",
              "    </tr>\n",
              "    <tr>\n",
              "      <th>642</th>\n",
              "      <td>at</td>\n",
              "      <td>2019</td>\n",
              "      <td>1304</td>\n",
              "      <td>Grune</td>\n",
              "      <td>2.70</td>\n",
              "    </tr>\n",
              "  </tbody>\n",
              "</table>\n",
              "<p>262 rows × 5 columns</p>\n",
              "</div>\n",
              "    <div class=\"colab-df-buttons\">\n",
              "\n",
              "  <div class=\"colab-df-container\">\n",
              "    <button class=\"colab-df-convert\" onclick=\"convertToInteractive('df-17ecbf42-efa8-4fc5-a6ff-c90ea701ef19')\"\n",
              "            title=\"Convert this dataframe to an interactive table.\"\n",
              "            style=\"display:none;\">\n",
              "\n",
              "  <svg xmlns=\"http://www.w3.org/2000/svg\" height=\"24px\" viewBox=\"0 -960 960 960\">\n",
              "    <path d=\"M120-120v-720h720v720H120Zm60-500h600v-160H180v160Zm220 220h160v-160H400v160Zm0 220h160v-160H400v160ZM180-400h160v-160H180v160Zm440 0h160v-160H620v160ZM180-180h160v-160H180v160Zm440 0h160v-160H620v160Z\"/>\n",
              "  </svg>\n",
              "    </button>\n",
              "\n",
              "  <style>\n",
              "    .colab-df-container {\n",
              "      display:flex;\n",
              "      gap: 12px;\n",
              "    }\n",
              "\n",
              "    .colab-df-convert {\n",
              "      background-color: #E8F0FE;\n",
              "      border: none;\n",
              "      border-radius: 50%;\n",
              "      cursor: pointer;\n",
              "      display: none;\n",
              "      fill: #1967D2;\n",
              "      height: 32px;\n",
              "      padding: 0 0 0 0;\n",
              "      width: 32px;\n",
              "    }\n",
              "\n",
              "    .colab-df-convert:hover {\n",
              "      background-color: #E2EBFA;\n",
              "      box-shadow: 0px 1px 2px rgba(60, 64, 67, 0.3), 0px 1px 3px 1px rgba(60, 64, 67, 0.15);\n",
              "      fill: #174EA6;\n",
              "    }\n",
              "\n",
              "    .colab-df-buttons div {\n",
              "      margin-bottom: 4px;\n",
              "    }\n",
              "\n",
              "    [theme=dark] .colab-df-convert {\n",
              "      background-color: #3B4455;\n",
              "      fill: #D2E3FC;\n",
              "    }\n",
              "\n",
              "    [theme=dark] .colab-df-convert:hover {\n",
              "      background-color: #434B5C;\n",
              "      box-shadow: 0px 1px 3px 1px rgba(0, 0, 0, 0.15);\n",
              "      filter: drop-shadow(0px 1px 2px rgba(0, 0, 0, 0.3));\n",
              "      fill: #FFFFFF;\n",
              "    }\n",
              "  </style>\n",
              "\n",
              "    <script>\n",
              "      const buttonEl =\n",
              "        document.querySelector('#df-17ecbf42-efa8-4fc5-a6ff-c90ea701ef19 button.colab-df-convert');\n",
              "      buttonEl.style.display =\n",
              "        google.colab.kernel.accessAllowed ? 'block' : 'none';\n",
              "\n",
              "      async function convertToInteractive(key) {\n",
              "        const element = document.querySelector('#df-17ecbf42-efa8-4fc5-a6ff-c90ea701ef19');\n",
              "        const dataTable =\n",
              "          await google.colab.kernel.invokeFunction('convertToInteractive',\n",
              "                                                    [key], {});\n",
              "        if (!dataTable) return;\n",
              "\n",
              "        const docLinkHtml = 'Like what you see? Visit the ' +\n",
              "          '<a target=\"_blank\" href=https://colab.research.google.com/notebooks/data_table.ipynb>data table notebook</a>'\n",
              "          + ' to learn more about interactive tables.';\n",
              "        element.innerHTML = '';\n",
              "        dataTable['output_type'] = 'display_data';\n",
              "        await google.colab.output.renderOutput(dataTable, element);\n",
              "        const docLink = document.createElement('div');\n",
              "        docLink.innerHTML = docLinkHtml;\n",
              "        element.appendChild(docLink);\n",
              "      }\n",
              "    </script>\n",
              "  </div>\n",
              "\n",
              "\n",
              "<div id=\"df-8d123695-1cd3-40ce-aa5e-b79ef0df99f6\">\n",
              "  <button class=\"colab-df-quickchart\" onclick=\"quickchart('df-8d123695-1cd3-40ce-aa5e-b79ef0df99f6')\"\n",
              "            title=\"Suggest charts\"\n",
              "            style=\"display:none;\">\n",
              "\n",
              "<svg xmlns=\"http://www.w3.org/2000/svg\" height=\"24px\"viewBox=\"0 0 24 24\"\n",
              "     width=\"24px\">\n",
              "    <g>\n",
              "        <path d=\"M19 3H5c-1.1 0-2 .9-2 2v14c0 1.1.9 2 2 2h14c1.1 0 2-.9 2-2V5c0-1.1-.9-2-2-2zM9 17H7v-7h2v7zm4 0h-2V7h2v10zm4 0h-2v-4h2v4z\"/>\n",
              "    </g>\n",
              "</svg>\n",
              "  </button>\n",
              "\n",
              "<style>\n",
              "  .colab-df-quickchart {\n",
              "      --bg-color: #E8F0FE;\n",
              "      --fill-color: #1967D2;\n",
              "      --hover-bg-color: #E2EBFA;\n",
              "      --hover-fill-color: #174EA6;\n",
              "      --disabled-fill-color: #AAA;\n",
              "      --disabled-bg-color: #DDD;\n",
              "  }\n",
              "\n",
              "  [theme=dark] .colab-df-quickchart {\n",
              "      --bg-color: #3B4455;\n",
              "      --fill-color: #D2E3FC;\n",
              "      --hover-bg-color: #434B5C;\n",
              "      --hover-fill-color: #FFFFFF;\n",
              "      --disabled-bg-color: #3B4455;\n",
              "      --disabled-fill-color: #666;\n",
              "  }\n",
              "\n",
              "  .colab-df-quickchart {\n",
              "    background-color: var(--bg-color);\n",
              "    border: none;\n",
              "    border-radius: 50%;\n",
              "    cursor: pointer;\n",
              "    display: none;\n",
              "    fill: var(--fill-color);\n",
              "    height: 32px;\n",
              "    padding: 0;\n",
              "    width: 32px;\n",
              "  }\n",
              "\n",
              "  .colab-df-quickchart:hover {\n",
              "    background-color: var(--hover-bg-color);\n",
              "    box-shadow: 0 1px 2px rgba(60, 64, 67, 0.3), 0 1px 3px 1px rgba(60, 64, 67, 0.15);\n",
              "    fill: var(--button-hover-fill-color);\n",
              "  }\n",
              "\n",
              "  .colab-df-quickchart-complete:disabled,\n",
              "  .colab-df-quickchart-complete:disabled:hover {\n",
              "    background-color: var(--disabled-bg-color);\n",
              "    fill: var(--disabled-fill-color);\n",
              "    box-shadow: none;\n",
              "  }\n",
              "\n",
              "  .colab-df-spinner {\n",
              "    border: 2px solid var(--fill-color);\n",
              "    border-color: transparent;\n",
              "    border-bottom-color: var(--fill-color);\n",
              "    animation:\n",
              "      spin 1s steps(1) infinite;\n",
              "  }\n",
              "\n",
              "  @keyframes spin {\n",
              "    0% {\n",
              "      border-color: transparent;\n",
              "      border-bottom-color: var(--fill-color);\n",
              "      border-left-color: var(--fill-color);\n",
              "    }\n",
              "    20% {\n",
              "      border-color: transparent;\n",
              "      border-left-color: var(--fill-color);\n",
              "      border-top-color: var(--fill-color);\n",
              "    }\n",
              "    30% {\n",
              "      border-color: transparent;\n",
              "      border-left-color: var(--fill-color);\n",
              "      border-top-color: var(--fill-color);\n",
              "      border-right-color: var(--fill-color);\n",
              "    }\n",
              "    40% {\n",
              "      border-color: transparent;\n",
              "      border-right-color: var(--fill-color);\n",
              "      border-top-color: var(--fill-color);\n",
              "    }\n",
              "    60% {\n",
              "      border-color: transparent;\n",
              "      border-right-color: var(--fill-color);\n",
              "    }\n",
              "    80% {\n",
              "      border-color: transparent;\n",
              "      border-right-color: var(--fill-color);\n",
              "      border-bottom-color: var(--fill-color);\n",
              "    }\n",
              "    90% {\n",
              "      border-color: transparent;\n",
              "      border-bottom-color: var(--fill-color);\n",
              "    }\n",
              "  }\n",
              "</style>\n",
              "\n",
              "  <script>\n",
              "    async function quickchart(key) {\n",
              "      const quickchartButtonEl =\n",
              "        document.querySelector('#' + key + ' button');\n",
              "      quickchartButtonEl.disabled = true;  // To prevent multiple clicks.\n",
              "      quickchartButtonEl.classList.add('colab-df-spinner');\n",
              "      try {\n",
              "        const charts = await google.colab.kernel.invokeFunction(\n",
              "            'suggestCharts', [key], {});\n",
              "      } catch (error) {\n",
              "        console.error('Error during call to suggestCharts:', error);\n",
              "      }\n",
              "      quickchartButtonEl.classList.remove('colab-df-spinner');\n",
              "      quickchartButtonEl.classList.add('colab-df-quickchart-complete');\n",
              "    }\n",
              "    (() => {\n",
              "      let quickchartButtonEl =\n",
              "        document.querySelector('#df-8d123695-1cd3-40ce-aa5e-b79ef0df99f6 button');\n",
              "      quickchartButtonEl.style.display =\n",
              "        google.colab.kernel.accessAllowed ? 'block' : 'none';\n",
              "    })();\n",
              "  </script>\n",
              "</div>\n",
              "    </div>\n",
              "  </div>\n"
            ],
            "text/plain": [
              "    country_code  year  party_id  party  immigrate_policy\n",
              "24            be  2006       109   CD&V              5.88\n",
              "25            be  2006       106     MR              5.33\n",
              "26            be  2006       105  Groen              1.13\n",
              "27            be  2006       110    NVA              7.38\n",
              "28            be  2006       102     PS              2.50\n",
              "..           ...   ...       ...    ...               ...\n",
              "638           at  2019      1303    FPO              9.80\n",
              "639           at  2019      1301    SPO              4.70\n",
              "640           at  2019      1302    OVP              8.60\n",
              "641           at  2019      1306   NEOS              4.30\n",
              "642           at  2019      1304  Grune              2.70\n",
              "\n",
              "[262 rows x 5 columns]"
            ]
          },
          "execution_count": 240,
          "metadata": {},
          "output_type": "execute_result"
        }
      ],
      "source": [
        "# keep selected columns\n",
        "cols = ['country_code', 'year', 'party_id', 'party', 'immigrate_policy']\n",
        "ches = ches[cols]\n",
        "\n",
        "# discard cases with mising immigration policy judgments\n",
        "ches = ches[~ches.immigrate_policy.isna()]\n",
        "ches"
      ]
    },
    {
      "cell_type": "markdown",
      "metadata": {
        "id": "8k3fKX2KasA9"
      },
      "source": [
        "The CHES indicator `immigration_policy` ranges from 0 (\"[party] strongly favors a liberal policy on immigration\") to 10 (\"[party] strongly favors a restrictive policy on immigration\")."
      ]
    },
    {
      "cell_type": "code",
      "execution_count": null,
      "metadata": {
        "id": "aOOucvCRZBDL"
      },
      "outputs": [],
      "source": [
        "ches_agg = ches.groupby(['country_code', 'party_id', 'party']).agg(immigrate_policy=('immigrate_policy', 'mean')).reset_index()"
      ]
    },
    {
      "cell_type": "code",
      "execution_count": null,
      "metadata": {
        "id": "RbnCtZAcZinZ"
      },
      "outputs": [],
      "source": [
        "ches_agg.rename(columns={'country_code': 'country', 'party_id': 'ches'}, inplace=True)"
      ]
    },
    {
      "cell_type": "markdown",
      "metadata": {},
      "source": [
        "### Conduct convergent validity assessment"
      ]
    },
    {
      "cell_type": "code",
      "execution_count": null,
      "metadata": {
        "id": "AJHvmFi-Zb97"
      },
      "outputs": [],
      "source": [
        "res = pd.merge(out, ches_agg, on=['country', 'ches'], how='inner')"
      ]
    },
    {
      "cell_type": "code",
      "execution_count": null,
      "metadata": {
        "colab": {
          "base_uri": "https://localhost:8080/"
        },
        "id": "Qu0P9Ar_Z10n",
        "outputId": "81723b46-82d3-4ccf-f2dc-a468ce4a8bdc"
      },
      "outputs": [
        {
          "name": "stdout",
          "output_type": "stream",
          "text": [
            "Overall correlation: -0.548 (p≤0.000)\n"
          ]
        }
      ],
      "source": [
        "from scipy.stats import pearsonr\n",
        "r, p = pearsonr(res.position.values, res.immigrate_policy.values)\n",
        "print(f'Overall correlation: {r:+.03f} (p≤{p:.03f})')"
      ]
    },
    {
      "cell_type": "markdown",
      "metadata": {},
      "source": [
        "Note that on the CHES indicators, a low score means supportive/permissive stance.\n",
        "On our classifier-based scores, low (negativev) scores indicate sceptical stance.\n",
        "So the negative correlation is good ;)"
      ]
    },
    {
      "cell_type": "code",
      "execution_count": null,
      "metadata": {
        "colab": {
          "base_uri": "https://localhost:8080/"
        },
        "id": "Kl6mH505bOYC",
        "outputId": "715e2fdf-acc7-4794-ff99-49052f6bc61f"
      },
      "outputs": [
        {
          "name": "stdout",
          "output_type": "stream",
          "text": [
            "correlation for subset \"AT\": -0.838 (p≤0.009)\n",
            "correlation for subset \"BE\": -0.573 (p≤0.013)\n",
            "correlation for subset \"ES\": -0.330 (p≤0.352)\n",
            "correlation for subset \"FR\": -0.819 (p≤0.001)\n",
            "correlation for subset \"IE\": -0.656 (p≤0.039)\n",
            "correlation for subset \"NL\": -0.642 (p≤0.062)\n",
            "correlation for subset \"UK\": -0.925 (p≤0.000)\n"
          ]
        }
      ],
      "source": [
        "for c, d in res.groupby('country'):\n",
        "  r, p = pearsonr(d.position.values, d.immigrate_policy.values)\n",
        "  print(f'correlation for subset \"{c.upper()}\": {r:+.03f} (p≤{p:.03f})')"
      ]
    },
    {
      "cell_type": "markdown",
      "metadata": {
        "id": "kxjdw3F57O6e"
      },
      "source": [
        "## Appendix"
      ]
    },
    {
      "cell_type": "markdown",
      "metadata": {
        "id": "MLSe1Si-7O6f"
      },
      "source": [
        "### Dataset splitting"
      ]
    },
    {
      "cell_type": "markdown",
      "metadata": {
        "id": "5kznwOLs7O6f"
      },
      "source": [
        "To split your dataset into train, dev, and test sets, you should\n",
        "\n",
        "- rely on scikit-learns pre-defined functions,\n",
        "- and always set the seed\n",
        "\n",
        "This helps to avoid that you accidentally have the same examples in different sets, and that your data splitting is reproducible."
      ]
    },
    {
      "cell_type": "code",
      "execution_count": null,
      "metadata": {
        "id": "50ZtLgat7O6f"
      },
      "outputs": [],
      "source": [
        "# example data (see https://chat.openai.com/share/2d5af33c-acb9-4b0f-a260-7c38651fa7b0)\n",
        "labeled_data = [\n",
        "    {\"text\": \"I'm over the moon with joy!\", \"label\": \"happy\"},\n",
        "    {\"text\": \"Happiness radiates from every fiber of my being.\", \"label\": \"happy\"},\n",
        "    {\"text\": \"I can't stop smiling because life is beautiful.\", \"label\": \"happy\"},\n",
        "    {\"text\": \"Tears stream down my face; I'm so heartbroken.\", \"label\": \"sad\"},\n",
        "    {\"text\": \"I feel so lonely and despondent right now.\", \"label\": \"sad\"},\n",
        "    {\"text\": \"It's a gloomy day, and my spirits are low.\", \"label\": \"sad\"},\n",
        "    {\"text\": \"Laughter fills the air, and my heart is light.\", \"label\": \"happy\"},\n",
        "    {\"text\": \"I'm ecstatic about the news! Pure bliss!\", \"label\": \"happy\"},\n",
        "    {\"text\": \"The weight of sadness bears down on me like a ton of bricks.\", \"label\": \"sad\"},\n",
        "    {\"text\": \"Every moment without them feels like an eternity of sorrow.\", \"label\": \"sad\"}\n",
        "]\n"
      ]
    },
    {
      "cell_type": "markdown",
      "metadata": {
        "id": "W-jB8J1s7O6f"
      },
      "source": [
        "We usually specify the set sizes in percentages:"
      ]
    },
    {
      "cell_type": "code",
      "execution_count": null,
      "metadata": {
        "id": "wnvdFUo17O6f"
      },
      "outputs": [],
      "source": [
        "test_size = 0.20\n",
        "dev_size = 0.20\n",
        "\n",
        "# compute Ns\n",
        "n = len(labeled_data)\n",
        "n_test = int(n*test_size)\n",
        "n_dev = int(n*dev_size)\n",
        "n_train = n-n_test-n_dev"
      ]
    },
    {
      "cell_type": "markdown",
      "metadata": {
        "id": "klB63ZMd7O6f"
      },
      "source": [
        "#### Simple random splitting"
      ]
    },
    {
      "cell_type": "markdown",
      "metadata": {
        "id": "3_vHeR9F7O6f"
      },
      "source": [
        "The simplest splitting strategy is to assign examples randomly to the three sets."
      ]
    },
    {
      "cell_type": "code",
      "execution_count": null,
      "metadata": {
        "id": "l8vDHSwi7O6f",
        "outputId": "6f3eebc0-7183-4b8e-a35f-48cf755ed6dd"
      },
      "outputs": [
        {
          "name": "stdout",
          "output_type": "stream",
          "text": [
            "6 2 2\n",
            "0\n",
            "0\n",
            "0\n"
          ]
        }
      ],
      "source": [
        "# use train_test_split from sklearn\n",
        "from sklearn.model_selection import train_test_split\n",
        "SEED = 1234\n",
        "\n",
        "tmp, test_idxs = train_test_split(range(n), test_size=n_test, random_state=SEED)\n",
        "train_idxs, dev_idxs = train_test_split(tmp, test_size=n_dev, random_state=SEED)\n",
        "del tmp\n",
        "\n",
        "print(len(train_idxs), len(dev_idxs), len(test_idxs)) # should be approx 60%, 20%, 20%\n",
        "\n",
        "print(len(set(train_idxs).intersection(set(dev_idxs)))) # should be 0\n",
        "print(len(set(train_idxs).intersection(set(test_idxs)))) # should be 0\n",
        "print(len(set(dev_idxs).intersection(set(test_idxs)))) # should be 0\n",
        "\n",
        "train_data = [labeled_data[i] for i in train_idxs]\n",
        "dev_data = [labeled_data[i] for i in dev_idxs]\n",
        "test_data = [labeled_data[i] for i in test_idxs]"
      ]
    },
    {
      "cell_type": "markdown",
      "metadata": {
        "id": "BoK-3LlK7O6f"
      },
      "source": [
        "With random sampling-based splitting, you might end up with different label proportions, though."
      ]
    },
    {
      "cell_type": "code",
      "execution_count": null,
      "metadata": {
        "id": "K3lFCgTL7O6f",
        "outputId": "d80a1083-a5ac-4619-e3c3-d9fe6fd154f3"
      },
      "outputs": [
        {
          "name": "stdout",
          "output_type": "stream",
          "text": [
            "0.16666666666666666\n",
            "1.0\n",
            "1.0\n"
          ]
        }
      ],
      "source": [
        "print(np.mean([d['label'] == 'happy' for d in train_data]))\n",
        "print(np.mean([d['label'] == 'happy' for d in dev_data]))\n",
        "print(np.mean([d['label'] == 'happy' for d in test_data]))"
      ]
    },
    {
      "cell_type": "markdown",
      "metadata": {
        "id": "hq_K35Ax7O6f"
      },
      "source": [
        "**_Note:_** In a larger dataset, the differences wouldn't be as dramatic though. So the problem is not too bad."
      ]
    },
    {
      "cell_type": "markdown",
      "metadata": {
        "id": "K3vHDUwj7O6f"
      },
      "source": [
        "#### Stratify by label class"
      ]
    },
    {
      "cell_type": "markdown",
      "metadata": {
        "id": "23phlEMu7O6g"
      },
      "source": [
        "If you want to ensure that the label proportions in your train, dev, and test splits are identical,\n",
        "you want to stratify by examples' true labels:"
      ]
    },
    {
      "cell_type": "code",
      "execution_count": null,
      "metadata": {
        "id": "N4lLk9lC7O6g",
        "outputId": "862df280-cab2-4d59-996c-0590ec53108e"
      },
      "outputs": [
        {
          "name": "stdout",
          "output_type": "stream",
          "text": [
            "6 2 2\n",
            "0\n",
            "0\n",
            "0\n",
            "0.5\n",
            "0.5\n",
            "0.5\n"
          ]
        }
      ],
      "source": [
        "# use train_test_split from sklearn\n",
        "import numpy as np\n",
        "from sklearn.model_selection import train_test_split\n",
        "SEED = 1234\n",
        "\n",
        "labels = np.array([d['label'] for d in labeled_data])\n",
        "\n",
        "tmp, test_idxs = train_test_split(range(n), test_size=n_test, random_state=SEED, stratify=labels)\n",
        "train_idxs, dev_idxs = train_test_split(tmp, test_size=n_dev, random_state=SEED, stratify=labels[tmp])\n",
        "del tmp\n",
        "\n",
        "print(len(train_idxs), len(dev_idxs), len(test_idxs)) # should be approx 60%, 20%, 20%\n",
        "\n",
        "print(len(set(train_idxs).intersection(set(dev_idxs)))) # should be 0\n",
        "print(len(set(train_idxs).intersection(set(test_idxs)))) # should be 0\n",
        "print(len(set(dev_idxs).intersection(set(test_idxs)))) # should be 0\n",
        "\n",
        "train_data = [labeled_data[i] for i in train_idxs]\n",
        "dev_data = [labeled_data[i] for i in dev_idxs]\n",
        "test_data = [labeled_data[i] for i in test_idxs]\n",
        "\n",
        "# the label proportions are now (approx.) the same in all splits\n",
        "print(np.mean([d['label'] == 'happy' for d in train_data]))\n",
        "print(np.mean([d['label'] == 'happy' for d in dev_data]))\n",
        "print(np.mean([d['label'] == 'happy' for d in test_data]))"
      ]
    },
    {
      "cell_type": "markdown",
      "metadata": {
        "id": "IaDZ1fCN7O6g"
      },
      "source": [
        "**_Note:_**\n",
        "You could also stratify by other indicators, such as document authors' IDs.\n",
        "In this case, you'd have similar proportions of author's documents in the different splits."
      ]
    },
    {
      "cell_type": "markdown",
      "metadata": {
        "id": "nQg8nlL-7O6g"
      },
      "source": [
        "#### Grouped sampling"
      ]
    },
    {
      "cell_type": "markdown",
      "metadata": {
        "id": "FuEHUJQS7O6g"
      },
      "source": [
        "Sometimes you want to develop a classifier that is able to predict text from held-out documents.\n",
        "For example, if you have collected annotations for sentences sampled from parties' elections manifestos, you might not have sampled sentences from some manifestos.\n",
        "In this case, at prediction time (i.e., when applying your final model to the entire corpus of election manifestos), you'd need to make \"out-of-document\" classifications.\n",
        "\n",
        "\n",
        "Achieving good \"out-of-document\" classification performance requires **generalization**.\n",
        "But it can be difficult because language use within documents tends to be more similar than across documents.\n",
        "\n",
        "What you want to do to asses the ability of your classifier to predict reliably \"out-of-document\" is to mirror this setup in your splitting strategy.\n",
        "This is done by assigning sentences to the train, dev, and test, splits based on their document membership.\n",
        "\n",
        "So for example, below we have a simple illustration of how we assign all sentences from document 1 to the test set, and all sentences from documents 2 and 3 to the train set:\n",
        "\n",
        "| sentence ID | doc ID | set |\n",
        "|:----------- |:------ |:--- |\n",
        "| 1 | 1 | &rarr; 'test' |\n",
        "| 2 | 1 | &rarr; 'test' |\n",
        "| 1 | 2 | &rarr; 'train' |\n",
        "| 2 | 2 | &rarr; 'train' |\n",
        "| 3 | 2 | &rarr; 'train' |\n",
        "| 1 | 3 | &rarr; 'train' |\n",
        "| 2 | 3 | &rarr; 'train' |\n",
        "| 1 | 3 | &rarr; 'train' |\n",
        "| ... | ... | ... |\n",
        "\n",
        "\n",
        "\n"
      ]
    },
    {
      "cell_type": "code",
      "execution_count": null,
      "metadata": {
        "id": "YzujOzZz7O6g"
      },
      "outputs": [],
      "source": [
        "labeled_data = [\n",
        "    {\"doc_id\": 0, \"text\": \"I'm over the moon with joy!\", \"label\": \"happy\"},\n",
        "    {\"doc_id\": 0,\"text\": \"Happiness radiates from every fiber of my being.\", \"label\": \"happy\"},\n",
        "    {\"doc_id\": 1,\"text\": \"I can't stop smiling because life is beautiful.\", \"label\": \"happy\"},\n",
        "    {\"doc_id\": 1,\"text\": \"Tears stream down my face; I'm so heartbroken.\", \"label\": \"sad\"},\n",
        "    {\"doc_id\": 2,\"text\": \"I feel so lonely and despondent right now.\", \"label\": \"sad\"},\n",
        "    {\"doc_id\": 2,\"text\": \"It's a gloomy day, and my spirits are low.\", \"label\": \"sad\"},\n",
        "    {\"doc_id\": 3,\"text\": \"Laughter fills the air, and my heart is light.\", \"label\": \"happy\"},\n",
        "    {\"doc_id\": 3,\"text\": \"I'm ecstatic about the news! Pure bliss!\", \"label\": \"happy\"},\n",
        "    {\"doc_id\": 4,\"text\": \"The weight of sadness bears down on me like a ton of bricks.\", \"label\": \"sad\"},\n",
        "    {\"doc_id\": 4,\"text\": \"Every moment without them feels like an eternity of sorrow.\", \"label\": \"sad\"}\n",
        "]\n",
        "# note: in reality, the number of sentences per document might vary.\n",
        "#       But this is not a problem for running the code below!"
      ]
    },
    {
      "cell_type": "code",
      "execution_count": null,
      "metadata": {
        "id": "C1fUdvDa7O6g",
        "outputId": "4b684f72-dbcb-4d8d-d6d8-5cfd8e8ec62e"
      },
      "outputs": [
        {
          "name": "stdout",
          "output_type": "stream",
          "text": [
            "6 2 2\n",
            "0\n",
            "0\n",
            "0\n",
            "0\n",
            "0\n",
            "0\n"
          ]
        }
      ],
      "source": [
        "# use GroupSplit strategy from sklearn\n",
        "from sklearn.model_selection import GroupShuffleSplit\n",
        "\n",
        "doc_ids = np.array([d[\"doc_id\"] for d in labeled_data])\n",
        "\n",
        "gss = GroupShuffleSplit(n_splits=2, test_size=test_size, random_state=SEED)\n",
        "tmp, test_idxs = next(gss.split(range(n), groups=doc_ids))\n",
        "train_idxs, dev_idxs = next(gss.split(range(len(tmp)), groups=doc_ids[tmp]))\n",
        "del tmp\n",
        "\n",
        "print(len(train_idxs), len(dev_idxs), len(test_idxs)) # should be approx 60%, 20%, 20%\n",
        "\n",
        "print(len(set(train_idxs).intersection(set(dev_idxs)))) # should be 0\n",
        "print(len(set(train_idxs).intersection(set(test_idxs)))) # should be 0\n",
        "print(len(set(dev_idxs).intersection(set(test_idxs)))) # should be 0\n",
        "\n",
        "train_data = [labeled_data[i] for i in train_idxs]\n",
        "dev_data = [labeled_data[i] for i in dev_idxs]\n",
        "test_data = [labeled_data[i] for i in test_idxs]\n",
        "\n",
        "train_doc_ids = [d[\"doc_id\"] for d in train_data]\n",
        "dev_doc_ids = [d[\"doc_id\"] for d in dev_data]\n",
        "test_doc_ids = [d[\"doc_id\"] for d in test_data]\n",
        "\n",
        "# the label proportions are now (approx.) the same in all splits\n",
        "print(len(set(train_doc_ids).intersection(set(dev_doc_ids)))) # should be 0\n",
        "print(len(set(train_doc_ids).intersection(set(test_doc_ids)))) # should be 0\n",
        "print(len(set(dev_doc_ids).intersection(set(test_doc_ids)))) # should be 0\n"
      ]
    },
    {
      "cell_type": "markdown",
      "metadata": {
        "id": "vubPeprg7O6g"
      },
      "source": [
        "### Multi-class classification"
      ]
    },
    {
      "cell_type": "markdown",
      "metadata": {
        "id": "7YWgROl87O6g"
      },
      "source": [
        "In many use cases, you have more than two label classes.\n",
        "If each document (\"sample\") has only one label (e.g., 'positive'), then you want to perform **multi-class classification**."
      ]
    },
    {
      "cell_type": "markdown",
      "metadata": {
        "id": "wj3Sdglq7O6g"
      },
      "source": [
        "#### Model setup\n",
        "\n",
        "`transformers`' `AutoModelForSequenceClassification` can handle this well.\n",
        "You just need to\n",
        "\n",
        "1. adapt your `id2label` and `label2id` dictionaries accordingly. So if you have three label classes \"positive\", \"neutral\", and \"negative,\"\n",
        "\n",
        "```python\n",
        "id2label = {0: \"negative\", 1: \"neutral\", 2: \"positive\"}\n",
        "label2id = {\"negative\": 0, \"neutral\": 1, \"positive\": 2}\n",
        "```\n",
        "\n",
        "2. adpat the `num_labels` argument accordingly:\n",
        "\n",
        "```python\n",
        "model = AutoModelForSequenceClassification.from_pretrained(\n",
        "    MODEL_NAME,\n",
        "    num_labels=3,\n",
        "    id2label=id2label,\n",
        "    label2id=label2id\n",
        ")\n",
        "```"
      ]
    },
    {
      "cell_type": "markdown",
      "metadata": {
        "id": "o1n4ED3x7O6g"
      },
      "source": [
        "#### Evaluation metrics\n",
        "\n",
        "If you have more than two classes, you will need to adapt your evaluation metrics.\n",
        "This is because the *precision* and *recall* metrics, for example, only differentiate between correct and false classifications (\"hits\" and \"misses\" ) of \"positive\" vs. \"negative\" examples.\n",
        "So for each label class, you will convert (\"dichotomize\") your multi-class labels and predicted classifications into so-called \"one vs. rest\" indicators.\n",
        "\n",
        "**_Example:_** If you are interested in the performance of your model to correctly classify \"neutral\" samples and the other two label classes are \"positive\" and \"negative\", you will redifine the label categories as follows\n",
        "\n",
        "- \"positive\" &rarr; 0\n",
        "- \"neutral\" &rarr; 1\n",
        "- \"negative\" &rarr; 0\n",
        "\n",
        "In this way, you can compute a **_\"neutral\"-specific_ recall, precision, and F1 scores**."
      ]
    },
    {
      "cell_type": "markdown",
      "metadata": {
        "id": "I9ttMS9Q7O6g"
      },
      "source": [
        "Evaluation functions in the `sklearn.metrics` module like `f1_score()` support multi-class classification:"
      ]
    },
    {
      "cell_type": "code",
      "execution_count": null,
      "metadata": {
        "id": "C7c4BkAd7O6g",
        "outputId": "598d62cb-d91d-48fa-c5a2-303aa18c4a5f"
      },
      "outputs": [
        {
          "data": {
            "text/plain": [
              "array([0.5       , 0.4       , 0.66666667])"
            ]
          },
          "execution_count": 251,
          "metadata": {},
          "output_type": "execute_result"
        }
      ],
      "source": [
        "true_labels = [0, 0, 1, 1, 2, 2]\n",
        "pred_labels = [0, 1, 0, 1, 2, 1]\n",
        "\n",
        "from sklearn.metrics import f1_score\n",
        "\n",
        "# get one F1 score per label class 0, 1, and 2 (in ascending order)\n",
        "f1_score(y_true=true_labels, y_pred=pred_labels, average=None)"
      ]
    },
    {
      "cell_type": "markdown",
      "metadata": {
        "id": "ydUBmPNS7O6i"
      },
      "source": [
        "Put for finding the \"best\" model, you'll still need a single performance score.\n",
        "\n",
        "So what we do is **average** class-specific scores into one performacne estimate.\n",
        "The most common averaging strategy is the so-called **_macro_ average**.\n",
        "It just computes the average between class-specific scores.\n",
        "\n",
        "So given the example above, the \"macro F1 score\" is `(0.5+0.4+0.666)/3 = 0.5222`"
      ]
    },
    {
      "cell_type": "code",
      "execution_count": null,
      "metadata": {
        "id": "oVaTpf1N7O6i",
        "outputId": "35d1d2aa-63e1-4c30-d315-7953911f1479"
      },
      "outputs": [
        {
          "data": {
            "text/plain": [
              "0.5222222222222223"
            ]
          },
          "execution_count": 252,
          "metadata": {},
          "output_type": "execute_result"
        }
      ],
      "source": [
        "f1_score(y_true=true_labels, y_pred=pred_labels, average='macro')"
      ]
    },
    {
      "cell_type": "markdown",
      "metadata": {
        "id": "SdZT14iu7O6i"
      },
      "source": [
        "The alternative strategy is the **_micro_ average**.\n",
        "In this strategy, we just summarize the which labels we got right, and which we got wrong. So the \"micro F1 scores\" is just the accuracy:"
      ]
    },
    {
      "cell_type": "code",
      "execution_count": null,
      "metadata": {
        "id": "Mur3mRuN7O6i",
        "outputId": "81beb6c8-983e-47f0-8195-a0481f33a3f8"
      },
      "outputs": [
        {
          "data": {
            "text/plain": [
              "0.5"
            ]
          },
          "execution_count": 262,
          "metadata": {},
          "output_type": "execute_result"
        }
      ],
      "source": [
        "f1_score(y_true=true_labels, y_pred=pred_labels, average='micro')"
      ]
    },
    {
      "cell_type": "markdown",
      "metadata": {
        "id": "jifbuxZH7O6i"
      },
      "source": [
        "There is also a function that summarizes everything:"
      ]
    },
    {
      "cell_type": "code",
      "execution_count": null,
      "metadata": {
        "id": "HCr2at8D7O6i",
        "outputId": "4c32ddbe-6dd9-430a-b668-3123a7a980fb"
      },
      "outputs": [
        {
          "name": "stdout",
          "output_type": "stream",
          "text": [
            "              precision    recall  f1-score   support\n",
            "\n",
            "    negative       0.50      0.50      0.50         2\n",
            "     neutral       0.33      0.50      0.40         2\n",
            "    positive       1.00      0.50      0.67         2\n",
            "\n",
            "    accuracy                           0.50         6\n",
            "   macro avg       0.61      0.50      0.52         6\n",
            "weighted avg       0.61      0.50      0.52         6\n",
            "\n"
          ]
        }
      ],
      "source": [
        "from sklearn.metrics import classification_report\n",
        "\n",
        "id2label = {0: \"negative\", 1: \"neutral\", 2: \"positive\"}\n",
        "\n",
        "rep = classification_report(\n",
        "    y_true=true_labels,\n",
        "    y_pred=pred_labels,\n",
        "    labels=list(id2label.keys()),\n",
        "    target_names=list(id2label.values()),\n",
        ")\n",
        "print(rep)"
      ]
    },
    {
      "cell_type": "markdown",
      "metadata": {
        "id": "0J9jn3dc47-Y"
      },
      "source": [
        "Let's warp this in a function we can pass to `Trainer`'s `compute_metric` argument:"
      ]
    },
    {
      "cell_type": "code",
      "execution_count": null,
      "metadata": {
        "id": "m2FoI2_q5Cj4"
      },
      "outputs": [],
      "source": [
        "\n",
        "def classification_metrics_multiclass(\n",
        "    p: Union[EvalPrediction, PredictionOutput]\n",
        "  ):\n",
        "  preds = p.predictions[0] if isinstance(p.predictions, tuple) else p.predictions\n",
        "  preds = preds.argmax(-1)\n",
        "  res = classification_report(\n",
        "    y_true=y_true,\n",
        "    y_pred=y_pred,\n",
        "    labels=list(label2id.values()), # assuming you have a `label2id` object defined\n",
        "    target_names=list(label2id.keys()),\n",
        "    output_dict=True,\n",
        "    zero_division=0.0\n",
        "  )\n",
        "\n",
        "  metrics = {}\n",
        "\n",
        "  # aggregate metrics\n",
        "  metrics['f1_macro'] = res['macro avg']['f1-score']\n",
        "  metrics['f1_micro'] = res['accuracy']\n",
        "  metrics['balanced_accuracy'] = balanced_accuracy_score(y_true, y_pred)\n",
        "\n",
        "  # class-wise metrics\n",
        "  metrics.update(\n",
        "    {f\"{l}_{m.replace('-score', '')}\": res[l][m] if l in res else np.nan\n",
        "      for l in label2id.keys()\n",
        "      for m in ['f1-score', 'precision', 'recall']\n",
        "    }\n",
        "  )\n",
        "\n",
        "  return metrics"
      ]
    }
  ],
  "metadata": {
    "accelerator": "GPU",
    "colab": {
      "gpuType": "T4",
      "provenance": [],
      "toc_visible": true
    },
    "kernelspec": {
      "display_name": "Python 3",
      "name": "python3"
    },
    "language_info": {
      "codemirror_mode": {
        "name": "ipython",
        "version": 3
      },
      "file_extension": ".py",
      "mimetype": "text/x-python",
      "name": "python",
      "nbconvert_exporter": "python",
      "pygments_lexer": "ipython3",
      "version": "3.10.13"
    },
    "widgets": {
      "application/vnd.jupyter.widget-state+json": {
        "076364dfc27d4b948633824475703ab4": {
          "model_module": "@jupyter-widgets/base",
          "model_module_version": "1.2.0",
          "model_name": "LayoutModel",
          "state": {
            "_model_module": "@jupyter-widgets/base",
            "_model_module_version": "1.2.0",
            "_model_name": "LayoutModel",
            "_view_count": null,
            "_view_module": "@jupyter-widgets/base",
            "_view_module_version": "1.2.0",
            "_view_name": "LayoutView",
            "align_content": null,
            "align_items": null,
            "align_self": null,
            "border": null,
            "bottom": null,
            "display": null,
            "flex": null,
            "flex_flow": null,
            "grid_area": null,
            "grid_auto_columns": null,
            "grid_auto_flow": null,
            "grid_auto_rows": null,
            "grid_column": null,
            "grid_gap": null,
            "grid_row": null,
            "grid_template_areas": null,
            "grid_template_columns": null,
            "grid_template_rows": null,
            "height": null,
            "justify_content": null,
            "justify_items": null,
            "left": null,
            "margin": null,
            "max_height": null,
            "max_width": null,
            "min_height": null,
            "min_width": null,
            "object_fit": null,
            "object_position": null,
            "order": null,
            "overflow": null,
            "overflow_x": null,
            "overflow_y": null,
            "padding": null,
            "right": null,
            "top": null,
            "visibility": null,
            "width": null
          }
        },
        "0a0be89718c94cccb70b517d6a5aaccc": {
          "model_module": "@jupyter-widgets/controls",
          "model_module_version": "1.5.0",
          "model_name": "DescriptionStyleModel",
          "state": {
            "_model_module": "@jupyter-widgets/controls",
            "_model_module_version": "1.5.0",
            "_model_name": "DescriptionStyleModel",
            "_view_count": null,
            "_view_module": "@jupyter-widgets/base",
            "_view_module_version": "1.2.0",
            "_view_name": "StyleView",
            "description_width": ""
          }
        },
        "0ad030fdbc8b4c09973cb201590cc651": {
          "model_module": "@jupyter-widgets/controls",
          "model_module_version": "1.5.0",
          "model_name": "HTMLModel",
          "state": {
            "_dom_classes": [],
            "_model_module": "@jupyter-widgets/controls",
            "_model_module_version": "1.5.0",
            "_model_name": "HTMLModel",
            "_view_count": null,
            "_view_module": "@jupyter-widgets/controls",
            "_view_module_version": "1.5.0",
            "_view_name": "HTMLView",
            "description": "",
            "description_tooltip": null,
            "layout": "IPY_MODEL_6286e381951c4fbbadac7fd74292256d",
            "placeholder": "​",
            "style": "IPY_MODEL_844d6afbecfc4d08a4e0e563c2f9c943",
            "value": " 5984/5984 [00:00&lt;00:00, 7583.59 examples/s]"
          }
        },
        "0c435dc1664348ccbc3770c296213a00": {
          "model_module": "@jupyter-widgets/base",
          "model_module_version": "1.2.0",
          "model_name": "LayoutModel",
          "state": {
            "_model_module": "@jupyter-widgets/base",
            "_model_module_version": "1.2.0",
            "_model_name": "LayoutModel",
            "_view_count": null,
            "_view_module": "@jupyter-widgets/base",
            "_view_module_version": "1.2.0",
            "_view_name": "LayoutView",
            "align_content": null,
            "align_items": null,
            "align_self": null,
            "border": null,
            "bottom": null,
            "display": null,
            "flex": null,
            "flex_flow": null,
            "grid_area": null,
            "grid_auto_columns": null,
            "grid_auto_flow": null,
            "grid_auto_rows": null,
            "grid_column": null,
            "grid_gap": null,
            "grid_row": null,
            "grid_template_areas": null,
            "grid_template_columns": null,
            "grid_template_rows": null,
            "height": null,
            "justify_content": null,
            "justify_items": null,
            "left": null,
            "margin": null,
            "max_height": null,
            "max_width": null,
            "min_height": null,
            "min_width": null,
            "object_fit": null,
            "object_position": null,
            "order": null,
            "overflow": null,
            "overflow_x": null,
            "overflow_y": null,
            "padding": null,
            "right": null,
            "top": null,
            "visibility": null,
            "width": null
          }
        },
        "0de353c44a364599a385cb43748d9bc0": {
          "model_module": "@jupyter-widgets/controls",
          "model_module_version": "1.5.0",
          "model_name": "ProgressStyleModel",
          "state": {
            "_model_module": "@jupyter-widgets/controls",
            "_model_module_version": "1.5.0",
            "_model_name": "ProgressStyleModel",
            "_view_count": null,
            "_view_module": "@jupyter-widgets/base",
            "_view_module_version": "1.2.0",
            "_view_name": "StyleView",
            "bar_color": null,
            "description_width": ""
          }
        },
        "1f5944867fe84eab8a40c8562abbc6f4": {
          "model_module": "@jupyter-widgets/controls",
          "model_module_version": "1.5.0",
          "model_name": "ProgressStyleModel",
          "state": {
            "_model_module": "@jupyter-widgets/controls",
            "_model_module_version": "1.5.0",
            "_model_name": "ProgressStyleModel",
            "_view_count": null,
            "_view_module": "@jupyter-widgets/base",
            "_view_module_version": "1.2.0",
            "_view_name": "StyleView",
            "bar_color": null,
            "description_width": ""
          }
        },
        "224e151373e24ac788afed2d636ade6b": {
          "model_module": "@jupyter-widgets/controls",
          "model_module_version": "1.5.0",
          "model_name": "DescriptionStyleModel",
          "state": {
            "_model_module": "@jupyter-widgets/controls",
            "_model_module_version": "1.5.0",
            "_model_name": "DescriptionStyleModel",
            "_view_count": null,
            "_view_module": "@jupyter-widgets/base",
            "_view_module_version": "1.2.0",
            "_view_name": "StyleView",
            "description_width": ""
          }
        },
        "257f63c274f44fe8a2e267774d7f80e4": {
          "model_module": "@jupyter-widgets/base",
          "model_module_version": "1.2.0",
          "model_name": "LayoutModel",
          "state": {
            "_model_module": "@jupyter-widgets/base",
            "_model_module_version": "1.2.0",
            "_model_name": "LayoutModel",
            "_view_count": null,
            "_view_module": "@jupyter-widgets/base",
            "_view_module_version": "1.2.0",
            "_view_name": "LayoutView",
            "align_content": null,
            "align_items": null,
            "align_self": null,
            "border": null,
            "bottom": null,
            "display": null,
            "flex": null,
            "flex_flow": null,
            "grid_area": null,
            "grid_auto_columns": null,
            "grid_auto_flow": null,
            "grid_auto_rows": null,
            "grid_column": null,
            "grid_gap": null,
            "grid_row": null,
            "grid_template_areas": null,
            "grid_template_columns": null,
            "grid_template_rows": null,
            "height": null,
            "justify_content": null,
            "justify_items": null,
            "left": null,
            "margin": null,
            "max_height": null,
            "max_width": null,
            "min_height": null,
            "min_width": null,
            "object_fit": null,
            "object_position": null,
            "order": null,
            "overflow": null,
            "overflow_x": null,
            "overflow_y": null,
            "padding": null,
            "right": null,
            "top": null,
            "visibility": null,
            "width": null
          }
        },
        "28a0f4887bb844b8a3bfe828f422e611": {
          "model_module": "@jupyter-widgets/controls",
          "model_module_version": "1.5.0",
          "model_name": "ProgressStyleModel",
          "state": {
            "_model_module": "@jupyter-widgets/controls",
            "_model_module_version": "1.5.0",
            "_model_name": "ProgressStyleModel",
            "_view_count": null,
            "_view_module": "@jupyter-widgets/base",
            "_view_module_version": "1.2.0",
            "_view_name": "StyleView",
            "bar_color": null,
            "description_width": ""
          }
        },
        "294c7cb1e24c4671a48809f4c15b618d": {
          "model_module": "@jupyter-widgets/controls",
          "model_module_version": "1.5.0",
          "model_name": "HTMLModel",
          "state": {
            "_dom_classes": [],
            "_model_module": "@jupyter-widgets/controls",
            "_model_module_version": "1.5.0",
            "_model_name": "HTMLModel",
            "_view_count": null,
            "_view_module": "@jupyter-widgets/controls",
            "_view_module_version": "1.5.0",
            "_view_name": "HTMLView",
            "description": "",
            "description_tooltip": null,
            "layout": "IPY_MODEL_bdb65c25c43c4e0fa465f2d2009b5f50",
            "placeholder": "​",
            "style": "IPY_MODEL_fead2df659644851a8513058b3f92758",
            "value": "Map: 100%"
          }
        },
        "2ccb57864aa34cf4a4d16cb3c574b720": {
          "model_module": "@jupyter-widgets/controls",
          "model_module_version": "1.5.0",
          "model_name": "HTMLModel",
          "state": {
            "_dom_classes": [],
            "_model_module": "@jupyter-widgets/controls",
            "_model_module_version": "1.5.0",
            "_model_name": "HTMLModel",
            "_view_count": null,
            "_view_module": "@jupyter-widgets/controls",
            "_view_module_version": "1.5.0",
            "_view_name": "HTMLView",
            "description": "",
            "description_tooltip": null,
            "layout": "IPY_MODEL_a2b4973ee7d9482d9d8ee3c6844e8973",
            "placeholder": "​",
            "style": "IPY_MODEL_5d746d60110c4daab0e4ff84468a6432",
            "value": "Map: 100%"
          }
        },
        "2f72898a0abd4d54bf24ee91519a02a7": {
          "model_module": "@jupyter-widgets/base",
          "model_module_version": "1.2.0",
          "model_name": "LayoutModel",
          "state": {
            "_model_module": "@jupyter-widgets/base",
            "_model_module_version": "1.2.0",
            "_model_name": "LayoutModel",
            "_view_count": null,
            "_view_module": "@jupyter-widgets/base",
            "_view_module_version": "1.2.0",
            "_view_name": "LayoutView",
            "align_content": null,
            "align_items": null,
            "align_self": null,
            "border": null,
            "bottom": null,
            "display": null,
            "flex": null,
            "flex_flow": null,
            "grid_area": null,
            "grid_auto_columns": null,
            "grid_auto_flow": null,
            "grid_auto_rows": null,
            "grid_column": null,
            "grid_gap": null,
            "grid_row": null,
            "grid_template_areas": null,
            "grid_template_columns": null,
            "grid_template_rows": null,
            "height": null,
            "justify_content": null,
            "justify_items": null,
            "left": null,
            "margin": null,
            "max_height": null,
            "max_width": null,
            "min_height": null,
            "min_width": null,
            "object_fit": null,
            "object_position": null,
            "order": null,
            "overflow": null,
            "overflow_x": null,
            "overflow_y": null,
            "padding": null,
            "right": null,
            "top": null,
            "visibility": null,
            "width": null
          }
        },
        "3137c66108014bf68b1949c5a583ca1e": {
          "model_module": "@jupyter-widgets/controls",
          "model_module_version": "1.5.0",
          "model_name": "ProgressStyleModel",
          "state": {
            "_model_module": "@jupyter-widgets/controls",
            "_model_module_version": "1.5.0",
            "_model_name": "ProgressStyleModel",
            "_view_count": null,
            "_view_module": "@jupyter-widgets/base",
            "_view_module_version": "1.2.0",
            "_view_name": "StyleView",
            "bar_color": null,
            "description_width": ""
          }
        },
        "3190cf98fe3b4a718e00d75eadba032a": {
          "model_module": "@jupyter-widgets/controls",
          "model_module_version": "1.5.0",
          "model_name": "DescriptionStyleModel",
          "state": {
            "_model_module": "@jupyter-widgets/controls",
            "_model_module_version": "1.5.0",
            "_model_name": "DescriptionStyleModel",
            "_view_count": null,
            "_view_module": "@jupyter-widgets/base",
            "_view_module_version": "1.2.0",
            "_view_name": "StyleView",
            "description_width": ""
          }
        },
        "32dd07066aef4d8587a33066c130acc5": {
          "model_module": "@jupyter-widgets/base",
          "model_module_version": "1.2.0",
          "model_name": "LayoutModel",
          "state": {
            "_model_module": "@jupyter-widgets/base",
            "_model_module_version": "1.2.0",
            "_model_name": "LayoutModel",
            "_view_count": null,
            "_view_module": "@jupyter-widgets/base",
            "_view_module_version": "1.2.0",
            "_view_name": "LayoutView",
            "align_content": null,
            "align_items": null,
            "align_self": null,
            "border": null,
            "bottom": null,
            "display": null,
            "flex": null,
            "flex_flow": null,
            "grid_area": null,
            "grid_auto_columns": null,
            "grid_auto_flow": null,
            "grid_auto_rows": null,
            "grid_column": null,
            "grid_gap": null,
            "grid_row": null,
            "grid_template_areas": null,
            "grid_template_columns": null,
            "grid_template_rows": null,
            "height": null,
            "justify_content": null,
            "justify_items": null,
            "left": null,
            "margin": null,
            "max_height": null,
            "max_width": null,
            "min_height": null,
            "min_width": null,
            "object_fit": null,
            "object_position": null,
            "order": null,
            "overflow": null,
            "overflow_x": null,
            "overflow_y": null,
            "padding": null,
            "right": null,
            "top": null,
            "visibility": null,
            "width": null
          }
        },
        "33c6d370e0e14108bc2c4ac672a8d5cf": {
          "model_module": "@jupyter-widgets/controls",
          "model_module_version": "1.5.0",
          "model_name": "HBoxModel",
          "state": {
            "_dom_classes": [],
            "_model_module": "@jupyter-widgets/controls",
            "_model_module_version": "1.5.0",
            "_model_name": "HBoxModel",
            "_view_count": null,
            "_view_module": "@jupyter-widgets/controls",
            "_view_module_version": "1.5.0",
            "_view_name": "HBoxView",
            "box_style": "",
            "children": [
              "IPY_MODEL_2ccb57864aa34cf4a4d16cb3c574b720",
              "IPY_MODEL_4722e7867e1e48a1a3d57e79279b5850",
              "IPY_MODEL_5cb56bfc6e4545c08d2b2c1928c3f6e5"
            ],
            "layout": "IPY_MODEL_3a7fa5e8708445388083863defaf7c4d"
          }
        },
        "358ebf63d7a64171b74b562b03320227": {
          "model_module": "@jupyter-widgets/controls",
          "model_module_version": "1.5.0",
          "model_name": "ProgressStyleModel",
          "state": {
            "_model_module": "@jupyter-widgets/controls",
            "_model_module_version": "1.5.0",
            "_model_name": "ProgressStyleModel",
            "_view_count": null,
            "_view_module": "@jupyter-widgets/base",
            "_view_module_version": "1.2.0",
            "_view_name": "StyleView",
            "bar_color": null,
            "description_width": ""
          }
        },
        "3a7fa5e8708445388083863defaf7c4d": {
          "model_module": "@jupyter-widgets/base",
          "model_module_version": "1.2.0",
          "model_name": "LayoutModel",
          "state": {
            "_model_module": "@jupyter-widgets/base",
            "_model_module_version": "1.2.0",
            "_model_name": "LayoutModel",
            "_view_count": null,
            "_view_module": "@jupyter-widgets/base",
            "_view_module_version": "1.2.0",
            "_view_name": "LayoutView",
            "align_content": null,
            "align_items": null,
            "align_self": null,
            "border": null,
            "bottom": null,
            "display": null,
            "flex": null,
            "flex_flow": null,
            "grid_area": null,
            "grid_auto_columns": null,
            "grid_auto_flow": null,
            "grid_auto_rows": null,
            "grid_column": null,
            "grid_gap": null,
            "grid_row": null,
            "grid_template_areas": null,
            "grid_template_columns": null,
            "grid_template_rows": null,
            "height": null,
            "justify_content": null,
            "justify_items": null,
            "left": null,
            "margin": null,
            "max_height": null,
            "max_width": null,
            "min_height": null,
            "min_width": null,
            "object_fit": null,
            "object_position": null,
            "order": null,
            "overflow": null,
            "overflow_x": null,
            "overflow_y": null,
            "padding": null,
            "right": null,
            "top": null,
            "visibility": null,
            "width": null
          }
        },
        "3b33c6e40b1e4149ae720bf453c43bde": {
          "model_module": "@jupyter-widgets/controls",
          "model_module_version": "1.5.0",
          "model_name": "HBoxModel",
          "state": {
            "_dom_classes": [],
            "_model_module": "@jupyter-widgets/controls",
            "_model_module_version": "1.5.0",
            "_model_name": "HBoxModel",
            "_view_count": null,
            "_view_module": "@jupyter-widgets/controls",
            "_view_module_version": "1.5.0",
            "_view_name": "HBoxView",
            "box_style": "",
            "children": [
              "IPY_MODEL_c8ff403672734b449d96e17bdb00c764",
              "IPY_MODEL_a308afce1f4447c39f94ee973377f1a6",
              "IPY_MODEL_8fa3927da1c84a61a6af34538d1da8a9"
            ],
            "layout": "IPY_MODEL_aa2cf6753a554028a0d465f6174bf1df"
          }
        },
        "3b6ad94a5066409298c39fe441542b4f": {
          "model_module": "@jupyter-widgets/controls",
          "model_module_version": "1.5.0",
          "model_name": "DescriptionStyleModel",
          "state": {
            "_model_module": "@jupyter-widgets/controls",
            "_model_module_version": "1.5.0",
            "_model_name": "DescriptionStyleModel",
            "_view_count": null,
            "_view_module": "@jupyter-widgets/base",
            "_view_module_version": "1.2.0",
            "_view_name": "StyleView",
            "description_width": ""
          }
        },
        "3d53c8accaca439cb3ae95e98c588728": {
          "model_module": "@jupyter-widgets/controls",
          "model_module_version": "1.5.0",
          "model_name": "DescriptionStyleModel",
          "state": {
            "_model_module": "@jupyter-widgets/controls",
            "_model_module_version": "1.5.0",
            "_model_name": "DescriptionStyleModel",
            "_view_count": null,
            "_view_module": "@jupyter-widgets/base",
            "_view_module_version": "1.2.0",
            "_view_name": "StyleView",
            "description_width": ""
          }
        },
        "40f132af54b54f66833fad11c0b57b98": {
          "model_module": "@jupyter-widgets/controls",
          "model_module_version": "1.5.0",
          "model_name": "ProgressStyleModel",
          "state": {
            "_model_module": "@jupyter-widgets/controls",
            "_model_module_version": "1.5.0",
            "_model_name": "ProgressStyleModel",
            "_view_count": null,
            "_view_module": "@jupyter-widgets/base",
            "_view_module_version": "1.2.0",
            "_view_name": "StyleView",
            "bar_color": null,
            "description_width": ""
          }
        },
        "4160455132b2446fba5d1f4b2ca844d7": {
          "model_module": "@jupyter-widgets/base",
          "model_module_version": "1.2.0",
          "model_name": "LayoutModel",
          "state": {
            "_model_module": "@jupyter-widgets/base",
            "_model_module_version": "1.2.0",
            "_model_name": "LayoutModel",
            "_view_count": null,
            "_view_module": "@jupyter-widgets/base",
            "_view_module_version": "1.2.0",
            "_view_name": "LayoutView",
            "align_content": null,
            "align_items": null,
            "align_self": null,
            "border": null,
            "bottom": null,
            "display": null,
            "flex": null,
            "flex_flow": null,
            "grid_area": null,
            "grid_auto_columns": null,
            "grid_auto_flow": null,
            "grid_auto_rows": null,
            "grid_column": null,
            "grid_gap": null,
            "grid_row": null,
            "grid_template_areas": null,
            "grid_template_columns": null,
            "grid_template_rows": null,
            "height": null,
            "justify_content": null,
            "justify_items": null,
            "left": null,
            "margin": null,
            "max_height": null,
            "max_width": null,
            "min_height": null,
            "min_width": null,
            "object_fit": null,
            "object_position": null,
            "order": null,
            "overflow": null,
            "overflow_x": null,
            "overflow_y": null,
            "padding": null,
            "right": null,
            "top": null,
            "visibility": null,
            "width": null
          }
        },
        "41b4f2b55a8d4efc9d24c865e3843c18": {
          "model_module": "@jupyter-widgets/controls",
          "model_module_version": "1.5.0",
          "model_name": "HTMLModel",
          "state": {
            "_dom_classes": [],
            "_model_module": "@jupyter-widgets/controls",
            "_model_module_version": "1.5.0",
            "_model_name": "HTMLModel",
            "_view_count": null,
            "_view_module": "@jupyter-widgets/controls",
            "_view_module_version": "1.5.0",
            "_view_name": "HTMLView",
            "description": "",
            "description_tooltip": null,
            "layout": "IPY_MODEL_9b60aad5c3864153b5f3360809d5b1ea",
            "placeholder": "​",
            "style": "IPY_MODEL_6a98c61dde784930a6ca1ff46c58621a",
            "value": " 1.12G/1.12G [00:05&lt;00:00, 298MB/s]"
          }
        },
        "41e322dfa4fb493384121e8ac48a195f": {
          "model_module": "@jupyter-widgets/controls",
          "model_module_version": "1.5.0",
          "model_name": "HTMLModel",
          "state": {
            "_dom_classes": [],
            "_model_module": "@jupyter-widgets/controls",
            "_model_module_version": "1.5.0",
            "_model_name": "HTMLModel",
            "_view_count": null,
            "_view_module": "@jupyter-widgets/controls",
            "_view_module_version": "1.5.0",
            "_view_name": "HTMLView",
            "description": "",
            "description_tooltip": null,
            "layout": "IPY_MODEL_4160455132b2446fba5d1f4b2ca844d7",
            "placeholder": "​",
            "style": "IPY_MODEL_67a07ae1723d46f9903e69c52969aa3c",
            "value": "Map: 100%"
          }
        },
        "446b81a645e44b6189639d3f32d0b203": {
          "model_module": "@jupyter-widgets/base",
          "model_module_version": "1.2.0",
          "model_name": "LayoutModel",
          "state": {
            "_model_module": "@jupyter-widgets/base",
            "_model_module_version": "1.2.0",
            "_model_name": "LayoutModel",
            "_view_count": null,
            "_view_module": "@jupyter-widgets/base",
            "_view_module_version": "1.2.0",
            "_view_name": "LayoutView",
            "align_content": null,
            "align_items": null,
            "align_self": null,
            "border": null,
            "bottom": null,
            "display": null,
            "flex": null,
            "flex_flow": null,
            "grid_area": null,
            "grid_auto_columns": null,
            "grid_auto_flow": null,
            "grid_auto_rows": null,
            "grid_column": null,
            "grid_gap": null,
            "grid_row": null,
            "grid_template_areas": null,
            "grid_template_columns": null,
            "grid_template_rows": null,
            "height": null,
            "justify_content": null,
            "justify_items": null,
            "left": null,
            "margin": null,
            "max_height": null,
            "max_width": null,
            "min_height": null,
            "min_width": null,
            "object_fit": null,
            "object_position": null,
            "order": null,
            "overflow": null,
            "overflow_x": null,
            "overflow_y": null,
            "padding": null,
            "right": null,
            "top": null,
            "visibility": null,
            "width": null
          }
        },
        "4722e7867e1e48a1a3d57e79279b5850": {
          "model_module": "@jupyter-widgets/controls",
          "model_module_version": "1.5.0",
          "model_name": "FloatProgressModel",
          "state": {
            "_dom_classes": [],
            "_model_module": "@jupyter-widgets/controls",
            "_model_module_version": "1.5.0",
            "_model_name": "FloatProgressModel",
            "_view_count": null,
            "_view_module": "@jupyter-widgets/controls",
            "_view_module_version": "1.5.0",
            "_view_name": "ProgressView",
            "bar_style": "success",
            "description": "",
            "description_tooltip": null,
            "layout": "IPY_MODEL_d87818bdcdad40d7830bf28b059d485c",
            "max": 1196,
            "min": 0,
            "orientation": "horizontal",
            "style": "IPY_MODEL_1f5944867fe84eab8a40c8562abbc6f4",
            "value": 1196
          }
        },
        "4a26c19f945148639b354150f3cfabf7": {
          "model_module": "@jupyter-widgets/controls",
          "model_module_version": "1.5.0",
          "model_name": "FloatProgressModel",
          "state": {
            "_dom_classes": [],
            "_model_module": "@jupyter-widgets/controls",
            "_model_module_version": "1.5.0",
            "_model_name": "FloatProgressModel",
            "_view_count": null,
            "_view_module": "@jupyter-widgets/controls",
            "_view_module_version": "1.5.0",
            "_view_name": "ProgressView",
            "bar_style": "success",
            "description": "",
            "description_tooltip": null,
            "layout": "IPY_MODEL_be9620a15dcd447d8e304b779c327d10",
            "max": 5984,
            "min": 0,
            "orientation": "horizontal",
            "style": "IPY_MODEL_40f132af54b54f66833fad11c0b57b98",
            "value": 5984
          }
        },
        "4c196bf3ec354f15a0a860a6bff5748e": {
          "model_module": "@jupyter-widgets/controls",
          "model_module_version": "1.5.0",
          "model_name": "FloatProgressModel",
          "state": {
            "_dom_classes": [],
            "_model_module": "@jupyter-widgets/controls",
            "_model_module_version": "1.5.0",
            "_model_name": "FloatProgressModel",
            "_view_count": null,
            "_view_module": "@jupyter-widgets/controls",
            "_view_module_version": "1.5.0",
            "_view_name": "ProgressView",
            "bar_style": "success",
            "description": "",
            "description_tooltip": null,
            "layout": "IPY_MODEL_32dd07066aef4d8587a33066c130acc5",
            "max": 1115567652,
            "min": 0,
            "orientation": "horizontal",
            "style": "IPY_MODEL_0de353c44a364599a385cb43748d9bc0",
            "value": 1115567652
          }
        },
        "4f05699ce81f4a7ca88d53e3d69c2ff1": {
          "model_module": "@jupyter-widgets/base",
          "model_module_version": "1.2.0",
          "model_name": "LayoutModel",
          "state": {
            "_model_module": "@jupyter-widgets/base",
            "_model_module_version": "1.2.0",
            "_model_name": "LayoutModel",
            "_view_count": null,
            "_view_module": "@jupyter-widgets/base",
            "_view_module_version": "1.2.0",
            "_view_name": "LayoutView",
            "align_content": null,
            "align_items": null,
            "align_self": null,
            "border": null,
            "bottom": null,
            "display": null,
            "flex": null,
            "flex_flow": null,
            "grid_area": null,
            "grid_auto_columns": null,
            "grid_auto_flow": null,
            "grid_auto_rows": null,
            "grid_column": null,
            "grid_gap": null,
            "grid_row": null,
            "grid_template_areas": null,
            "grid_template_columns": null,
            "grid_template_rows": null,
            "height": null,
            "justify_content": null,
            "justify_items": null,
            "left": null,
            "margin": null,
            "max_height": null,
            "max_width": null,
            "min_height": null,
            "min_width": null,
            "object_fit": null,
            "object_position": null,
            "order": null,
            "overflow": null,
            "overflow_x": null,
            "overflow_y": null,
            "padding": null,
            "right": null,
            "top": null,
            "visibility": null,
            "width": null
          }
        },
        "500289913878491baf661027404d7f8d": {
          "model_module": "@jupyter-widgets/base",
          "model_module_version": "1.2.0",
          "model_name": "LayoutModel",
          "state": {
            "_model_module": "@jupyter-widgets/base",
            "_model_module_version": "1.2.0",
            "_model_name": "LayoutModel",
            "_view_count": null,
            "_view_module": "@jupyter-widgets/base",
            "_view_module_version": "1.2.0",
            "_view_name": "LayoutView",
            "align_content": null,
            "align_items": null,
            "align_self": null,
            "border": null,
            "bottom": null,
            "display": null,
            "flex": null,
            "flex_flow": null,
            "grid_area": null,
            "grid_auto_columns": null,
            "grid_auto_flow": null,
            "grid_auto_rows": null,
            "grid_column": null,
            "grid_gap": null,
            "grid_row": null,
            "grid_template_areas": null,
            "grid_template_columns": null,
            "grid_template_rows": null,
            "height": null,
            "justify_content": null,
            "justify_items": null,
            "left": null,
            "margin": null,
            "max_height": null,
            "max_width": null,
            "min_height": null,
            "min_width": null,
            "object_fit": null,
            "object_position": null,
            "order": null,
            "overflow": null,
            "overflow_x": null,
            "overflow_y": null,
            "padding": null,
            "right": null,
            "top": null,
            "visibility": null,
            "width": null
          }
        },
        "51cfacd6349747b08ef9def20bca7b64": {
          "model_module": "@jupyter-widgets/controls",
          "model_module_version": "1.5.0",
          "model_name": "HTMLModel",
          "state": {
            "_dom_classes": [],
            "_model_module": "@jupyter-widgets/controls",
            "_model_module_version": "1.5.0",
            "_model_name": "HTMLModel",
            "_view_count": null,
            "_view_module": "@jupyter-widgets/controls",
            "_view_module_version": "1.5.0",
            "_view_name": "HTMLView",
            "description": "",
            "description_tooltip": null,
            "layout": "IPY_MODEL_500289913878491baf661027404d7f8d",
            "placeholder": "​",
            "style": "IPY_MODEL_224e151373e24ac788afed2d636ade6b",
            "value": " 797/797 [00:00&lt;00:00, 5748.57 examples/s]"
          }
        },
        "527857476ae34e74a5fbd59a3e7a5008": {
          "model_module": "@jupyter-widgets/base",
          "model_module_version": "1.2.0",
          "model_name": "LayoutModel",
          "state": {
            "_model_module": "@jupyter-widgets/base",
            "_model_module_version": "1.2.0",
            "_model_name": "LayoutModel",
            "_view_count": null,
            "_view_module": "@jupyter-widgets/base",
            "_view_module_version": "1.2.0",
            "_view_name": "LayoutView",
            "align_content": null,
            "align_items": null,
            "align_self": null,
            "border": null,
            "bottom": null,
            "display": null,
            "flex": null,
            "flex_flow": null,
            "grid_area": null,
            "grid_auto_columns": null,
            "grid_auto_flow": null,
            "grid_auto_rows": null,
            "grid_column": null,
            "grid_gap": null,
            "grid_row": null,
            "grid_template_areas": null,
            "grid_template_columns": null,
            "grid_template_rows": null,
            "height": null,
            "justify_content": null,
            "justify_items": null,
            "left": null,
            "margin": null,
            "max_height": null,
            "max_width": null,
            "min_height": null,
            "min_width": null,
            "object_fit": null,
            "object_position": null,
            "order": null,
            "overflow": null,
            "overflow_x": null,
            "overflow_y": null,
            "padding": null,
            "right": null,
            "top": null,
            "visibility": null,
            "width": null
          }
        },
        "5688556d961745378bb6e6a5c3e1450a": {
          "model_module": "@jupyter-widgets/controls",
          "model_module_version": "1.5.0",
          "model_name": "FloatProgressModel",
          "state": {
            "_dom_classes": [],
            "_model_module": "@jupyter-widgets/controls",
            "_model_module_version": "1.5.0",
            "_model_name": "FloatProgressModel",
            "_view_count": null,
            "_view_module": "@jupyter-widgets/controls",
            "_view_module_version": "1.5.0",
            "_view_name": "ProgressView",
            "bar_style": "success",
            "description": "",
            "description_tooltip": null,
            "layout": "IPY_MODEL_257f63c274f44fe8a2e267774d7f80e4",
            "max": 615,
            "min": 0,
            "orientation": "horizontal",
            "style": "IPY_MODEL_358ebf63d7a64171b74b562b03320227",
            "value": 615
          }
        },
        "5ade1824eb764f448d5b192063297b83": {
          "model_module": "@jupyter-widgets/base",
          "model_module_version": "1.2.0",
          "model_name": "LayoutModel",
          "state": {
            "_model_module": "@jupyter-widgets/base",
            "_model_module_version": "1.2.0",
            "_model_name": "LayoutModel",
            "_view_count": null,
            "_view_module": "@jupyter-widgets/base",
            "_view_module_version": "1.2.0",
            "_view_name": "LayoutView",
            "align_content": null,
            "align_items": null,
            "align_self": null,
            "border": null,
            "bottom": null,
            "display": null,
            "flex": null,
            "flex_flow": null,
            "grid_area": null,
            "grid_auto_columns": null,
            "grid_auto_flow": null,
            "grid_auto_rows": null,
            "grid_column": null,
            "grid_gap": null,
            "grid_row": null,
            "grid_template_areas": null,
            "grid_template_columns": null,
            "grid_template_rows": null,
            "height": null,
            "justify_content": null,
            "justify_items": null,
            "left": null,
            "margin": null,
            "max_height": null,
            "max_width": null,
            "min_height": null,
            "min_width": null,
            "object_fit": null,
            "object_position": null,
            "order": null,
            "overflow": null,
            "overflow_x": null,
            "overflow_y": null,
            "padding": null,
            "right": null,
            "top": null,
            "visibility": null,
            "width": null
          }
        },
        "5b57f2bbbb4d496a9461dc42b113abb4": {
          "model_module": "@jupyter-widgets/base",
          "model_module_version": "1.2.0",
          "model_name": "LayoutModel",
          "state": {
            "_model_module": "@jupyter-widgets/base",
            "_model_module_version": "1.2.0",
            "_model_name": "LayoutModel",
            "_view_count": null,
            "_view_module": "@jupyter-widgets/base",
            "_view_module_version": "1.2.0",
            "_view_name": "LayoutView",
            "align_content": null,
            "align_items": null,
            "align_self": null,
            "border": null,
            "bottom": null,
            "display": null,
            "flex": null,
            "flex_flow": null,
            "grid_area": null,
            "grid_auto_columns": null,
            "grid_auto_flow": null,
            "grid_auto_rows": null,
            "grid_column": null,
            "grid_gap": null,
            "grid_row": null,
            "grid_template_areas": null,
            "grid_template_columns": null,
            "grid_template_rows": null,
            "height": null,
            "justify_content": null,
            "justify_items": null,
            "left": null,
            "margin": null,
            "max_height": null,
            "max_width": null,
            "min_height": null,
            "min_width": null,
            "object_fit": null,
            "object_position": null,
            "order": null,
            "overflow": null,
            "overflow_x": null,
            "overflow_y": null,
            "padding": null,
            "right": null,
            "top": null,
            "visibility": null,
            "width": null
          }
        },
        "5cb56bfc6e4545c08d2b2c1928c3f6e5": {
          "model_module": "@jupyter-widgets/controls",
          "model_module_version": "1.5.0",
          "model_name": "HTMLModel",
          "state": {
            "_dom_classes": [],
            "_model_module": "@jupyter-widgets/controls",
            "_model_module_version": "1.5.0",
            "_model_name": "HTMLModel",
            "_view_count": null,
            "_view_module": "@jupyter-widgets/controls",
            "_view_module_version": "1.5.0",
            "_view_name": "HTMLView",
            "description": "",
            "description_tooltip": null,
            "layout": "IPY_MODEL_9810010890c74ec1a1999eae822b9366",
            "placeholder": "​",
            "style": "IPY_MODEL_0a0be89718c94cccb70b517d6a5aaccc",
            "value": " 1196/1196 [00:00&lt;00:00, 6043.79 examples/s]"
          }
        },
        "5d746d60110c4daab0e4ff84468a6432": {
          "model_module": "@jupyter-widgets/controls",
          "model_module_version": "1.5.0",
          "model_name": "DescriptionStyleModel",
          "state": {
            "_model_module": "@jupyter-widgets/controls",
            "_model_module_version": "1.5.0",
            "_model_name": "DescriptionStyleModel",
            "_view_count": null,
            "_view_module": "@jupyter-widgets/base",
            "_view_module_version": "1.2.0",
            "_view_name": "StyleView",
            "description_width": ""
          }
        },
        "6286e381951c4fbbadac7fd74292256d": {
          "model_module": "@jupyter-widgets/base",
          "model_module_version": "1.2.0",
          "model_name": "LayoutModel",
          "state": {
            "_model_module": "@jupyter-widgets/base",
            "_model_module_version": "1.2.0",
            "_model_name": "LayoutModel",
            "_view_count": null,
            "_view_module": "@jupyter-widgets/base",
            "_view_module_version": "1.2.0",
            "_view_name": "LayoutView",
            "align_content": null,
            "align_items": null,
            "align_self": null,
            "border": null,
            "bottom": null,
            "display": null,
            "flex": null,
            "flex_flow": null,
            "grid_area": null,
            "grid_auto_columns": null,
            "grid_auto_flow": null,
            "grid_auto_rows": null,
            "grid_column": null,
            "grid_gap": null,
            "grid_row": null,
            "grid_template_areas": null,
            "grid_template_columns": null,
            "grid_template_rows": null,
            "height": null,
            "justify_content": null,
            "justify_items": null,
            "left": null,
            "margin": null,
            "max_height": null,
            "max_width": null,
            "min_height": null,
            "min_width": null,
            "object_fit": null,
            "object_position": null,
            "order": null,
            "overflow": null,
            "overflow_x": null,
            "overflow_y": null,
            "padding": null,
            "right": null,
            "top": null,
            "visibility": null,
            "width": null
          }
        },
        "62c88c95c9264a14a51319ba11957a2f": {
          "model_module": "@jupyter-widgets/base",
          "model_module_version": "1.2.0",
          "model_name": "LayoutModel",
          "state": {
            "_model_module": "@jupyter-widgets/base",
            "_model_module_version": "1.2.0",
            "_model_name": "LayoutModel",
            "_view_count": null,
            "_view_module": "@jupyter-widgets/base",
            "_view_module_version": "1.2.0",
            "_view_name": "LayoutView",
            "align_content": null,
            "align_items": null,
            "align_self": null,
            "border": null,
            "bottom": null,
            "display": null,
            "flex": null,
            "flex_flow": null,
            "grid_area": null,
            "grid_auto_columns": null,
            "grid_auto_flow": null,
            "grid_auto_rows": null,
            "grid_column": null,
            "grid_gap": null,
            "grid_row": null,
            "grid_template_areas": null,
            "grid_template_columns": null,
            "grid_template_rows": null,
            "height": null,
            "justify_content": null,
            "justify_items": null,
            "left": null,
            "margin": null,
            "max_height": null,
            "max_width": null,
            "min_height": null,
            "min_width": null,
            "object_fit": null,
            "object_position": null,
            "order": null,
            "overflow": null,
            "overflow_x": null,
            "overflow_y": null,
            "padding": null,
            "right": null,
            "top": null,
            "visibility": null,
            "width": null
          }
        },
        "656ce76cb6134768acf9d6b240ef2734": {
          "model_module": "@jupyter-widgets/controls",
          "model_module_version": "1.5.0",
          "model_name": "DescriptionStyleModel",
          "state": {
            "_model_module": "@jupyter-widgets/controls",
            "_model_module_version": "1.5.0",
            "_model_name": "DescriptionStyleModel",
            "_view_count": null,
            "_view_module": "@jupyter-widgets/base",
            "_view_module_version": "1.2.0",
            "_view_name": "StyleView",
            "description_width": ""
          }
        },
        "67a07ae1723d46f9903e69c52969aa3c": {
          "model_module": "@jupyter-widgets/controls",
          "model_module_version": "1.5.0",
          "model_name": "DescriptionStyleModel",
          "state": {
            "_model_module": "@jupyter-widgets/controls",
            "_model_module_version": "1.5.0",
            "_model_name": "DescriptionStyleModel",
            "_view_count": null,
            "_view_module": "@jupyter-widgets/base",
            "_view_module_version": "1.2.0",
            "_view_name": "StyleView",
            "description_width": ""
          }
        },
        "6a98c61dde784930a6ca1ff46c58621a": {
          "model_module": "@jupyter-widgets/controls",
          "model_module_version": "1.5.0",
          "model_name": "DescriptionStyleModel",
          "state": {
            "_model_module": "@jupyter-widgets/controls",
            "_model_module_version": "1.5.0",
            "_model_name": "DescriptionStyleModel",
            "_view_count": null,
            "_view_module": "@jupyter-widgets/base",
            "_view_module_version": "1.2.0",
            "_view_name": "StyleView",
            "description_width": ""
          }
        },
        "6e5df4fcd92947fc9c3f668be37cd8fb": {
          "model_module": "@jupyter-widgets/controls",
          "model_module_version": "1.5.0",
          "model_name": "HBoxModel",
          "state": {
            "_dom_classes": [],
            "_model_module": "@jupyter-widgets/controls",
            "_model_module_version": "1.5.0",
            "_model_name": "HBoxModel",
            "_view_count": null,
            "_view_module": "@jupyter-widgets/controls",
            "_view_module_version": "1.5.0",
            "_view_name": "HBoxView",
            "box_style": "",
            "children": [
              "IPY_MODEL_41e322dfa4fb493384121e8ac48a195f",
              "IPY_MODEL_4a26c19f945148639b354150f3cfabf7",
              "IPY_MODEL_0ad030fdbc8b4c09973cb201590cc651"
            ],
            "layout": "IPY_MODEL_5ade1824eb764f448d5b192063297b83"
          }
        },
        "734c26eea7af42b48744de8d5a7d085c": {
          "model_module": "@jupyter-widgets/controls",
          "model_module_version": "1.5.0",
          "model_name": "FloatProgressModel",
          "state": {
            "_dom_classes": [],
            "_model_module": "@jupyter-widgets/controls",
            "_model_module_version": "1.5.0",
            "_model_name": "FloatProgressModel",
            "_view_count": null,
            "_view_module": "@jupyter-widgets/controls",
            "_view_module_version": "1.5.0",
            "_view_name": "ProgressView",
            "bar_style": "success",
            "description": "",
            "description_tooltip": null,
            "layout": "IPY_MODEL_d6e5143bb81a45a3ab1643babb38cc2a",
            "max": 18780,
            "min": 0,
            "orientation": "horizontal",
            "style": "IPY_MODEL_ad2b6bda1c204da3bea178cef37e8f7b",
            "value": 18780
          }
        },
        "761f4627e2164d899b76b9f0541cc132": {
          "model_module": "@jupyter-widgets/base",
          "model_module_version": "1.2.0",
          "model_name": "LayoutModel",
          "state": {
            "_model_module": "@jupyter-widgets/base",
            "_model_module_version": "1.2.0",
            "_model_name": "LayoutModel",
            "_view_count": null,
            "_view_module": "@jupyter-widgets/base",
            "_view_module_version": "1.2.0",
            "_view_name": "LayoutView",
            "align_content": null,
            "align_items": null,
            "align_self": null,
            "border": null,
            "bottom": null,
            "display": null,
            "flex": null,
            "flex_flow": null,
            "grid_area": null,
            "grid_auto_columns": null,
            "grid_auto_flow": null,
            "grid_auto_rows": null,
            "grid_column": null,
            "grid_gap": null,
            "grid_row": null,
            "grid_template_areas": null,
            "grid_template_columns": null,
            "grid_template_rows": null,
            "height": null,
            "justify_content": null,
            "justify_items": null,
            "left": null,
            "margin": null,
            "max_height": null,
            "max_width": null,
            "min_height": null,
            "min_width": null,
            "object_fit": null,
            "object_position": null,
            "order": null,
            "overflow": null,
            "overflow_x": null,
            "overflow_y": null,
            "padding": null,
            "right": null,
            "top": null,
            "visibility": null,
            "width": null
          }
        },
        "7ab3166ae0ce4c2bb8f9bd251a55af1a": {
          "model_module": "@jupyter-widgets/base",
          "model_module_version": "1.2.0",
          "model_name": "LayoutModel",
          "state": {
            "_model_module": "@jupyter-widgets/base",
            "_model_module_version": "1.2.0",
            "_model_name": "LayoutModel",
            "_view_count": null,
            "_view_module": "@jupyter-widgets/base",
            "_view_module_version": "1.2.0",
            "_view_name": "LayoutView",
            "align_content": null,
            "align_items": null,
            "align_self": null,
            "border": null,
            "bottom": null,
            "display": null,
            "flex": null,
            "flex_flow": null,
            "grid_area": null,
            "grid_auto_columns": null,
            "grid_auto_flow": null,
            "grid_auto_rows": null,
            "grid_column": null,
            "grid_gap": null,
            "grid_row": null,
            "grid_template_areas": null,
            "grid_template_columns": null,
            "grid_template_rows": null,
            "height": null,
            "justify_content": null,
            "justify_items": null,
            "left": null,
            "margin": null,
            "max_height": null,
            "max_width": null,
            "min_height": null,
            "min_width": null,
            "object_fit": null,
            "object_position": null,
            "order": null,
            "overflow": null,
            "overflow_x": null,
            "overflow_y": null,
            "padding": null,
            "right": null,
            "top": null,
            "visibility": null,
            "width": null
          }
        },
        "80850b82efc144b5b4f1fead04d517fd": {
          "model_module": "@jupyter-widgets/base",
          "model_module_version": "1.2.0",
          "model_name": "LayoutModel",
          "state": {
            "_model_module": "@jupyter-widgets/base",
            "_model_module_version": "1.2.0",
            "_model_name": "LayoutModel",
            "_view_count": null,
            "_view_module": "@jupyter-widgets/base",
            "_view_module_version": "1.2.0",
            "_view_name": "LayoutView",
            "align_content": null,
            "align_items": null,
            "align_self": null,
            "border": null,
            "bottom": null,
            "display": null,
            "flex": null,
            "flex_flow": null,
            "grid_area": null,
            "grid_auto_columns": null,
            "grid_auto_flow": null,
            "grid_auto_rows": null,
            "grid_column": null,
            "grid_gap": null,
            "grid_row": null,
            "grid_template_areas": null,
            "grid_template_columns": null,
            "grid_template_rows": null,
            "height": null,
            "justify_content": null,
            "justify_items": null,
            "left": null,
            "margin": null,
            "max_height": null,
            "max_width": null,
            "min_height": null,
            "min_width": null,
            "object_fit": null,
            "object_position": null,
            "order": null,
            "overflow": null,
            "overflow_x": null,
            "overflow_y": null,
            "padding": null,
            "right": null,
            "top": null,
            "visibility": null,
            "width": null
          }
        },
        "844d6afbecfc4d08a4e0e563c2f9c943": {
          "model_module": "@jupyter-widgets/controls",
          "model_module_version": "1.5.0",
          "model_name": "DescriptionStyleModel",
          "state": {
            "_model_module": "@jupyter-widgets/controls",
            "_model_module_version": "1.5.0",
            "_model_name": "DescriptionStyleModel",
            "_view_count": null,
            "_view_module": "@jupyter-widgets/base",
            "_view_module_version": "1.2.0",
            "_view_name": "StyleView",
            "description_width": ""
          }
        },
        "84dbfe9d502d446d935055d8943a881c": {
          "model_module": "@jupyter-widgets/controls",
          "model_module_version": "1.5.0",
          "model_name": "HTMLModel",
          "state": {
            "_dom_classes": [],
            "_model_module": "@jupyter-widgets/controls",
            "_model_module_version": "1.5.0",
            "_model_name": "HTMLModel",
            "_view_count": null,
            "_view_module": "@jupyter-widgets/controls",
            "_view_module_version": "1.5.0",
            "_view_name": "HTMLView",
            "description": "",
            "description_tooltip": null,
            "layout": "IPY_MODEL_076364dfc27d4b948633824475703ab4",
            "placeholder": "​",
            "style": "IPY_MODEL_3190cf98fe3b4a718e00d75eadba032a",
            "value": "100%"
          }
        },
        "8d6ecec0bf164903910c865c04cc4ac0": {
          "model_module": "@jupyter-widgets/base",
          "model_module_version": "1.2.0",
          "model_name": "LayoutModel",
          "state": {
            "_model_module": "@jupyter-widgets/base",
            "_model_module_version": "1.2.0",
            "_model_name": "LayoutModel",
            "_view_count": null,
            "_view_module": "@jupyter-widgets/base",
            "_view_module_version": "1.2.0",
            "_view_name": "LayoutView",
            "align_content": null,
            "align_items": null,
            "align_self": null,
            "border": null,
            "bottom": null,
            "display": null,
            "flex": null,
            "flex_flow": null,
            "grid_area": null,
            "grid_auto_columns": null,
            "grid_auto_flow": null,
            "grid_auto_rows": null,
            "grid_column": null,
            "grid_gap": null,
            "grid_row": null,
            "grid_template_areas": null,
            "grid_template_columns": null,
            "grid_template_rows": null,
            "height": null,
            "justify_content": null,
            "justify_items": null,
            "left": null,
            "margin": null,
            "max_height": null,
            "max_width": null,
            "min_height": null,
            "min_width": null,
            "object_fit": null,
            "object_position": null,
            "order": null,
            "overflow": null,
            "overflow_x": null,
            "overflow_y": null,
            "padding": null,
            "right": null,
            "top": null,
            "visibility": null,
            "width": null
          }
        },
        "8fa3927da1c84a61a6af34538d1da8a9": {
          "model_module": "@jupyter-widgets/controls",
          "model_module_version": "1.5.0",
          "model_name": "HTMLModel",
          "state": {
            "_dom_classes": [],
            "_model_module": "@jupyter-widgets/controls",
            "_model_module_version": "1.5.0",
            "_model_name": "HTMLModel",
            "_view_count": null,
            "_view_module": "@jupyter-widgets/controls",
            "_view_module_version": "1.5.0",
            "_view_name": "HTMLView",
            "description": "",
            "description_tooltip": null,
            "layout": "IPY_MODEL_e2eb057e920e495183cde7fc5103917e",
            "placeholder": "​",
            "style": "IPY_MODEL_ecc006ad383246ad959940253e0b1f41",
            "value": " 9.10M/9.10M [00:00&lt;00:00, 18.4MB/s]"
          }
        },
        "9078b370f683469db31f8d58c0fa5935": {
          "model_module": "@jupyter-widgets/controls",
          "model_module_version": "1.5.0",
          "model_name": "FloatProgressModel",
          "state": {
            "_dom_classes": [],
            "_model_module": "@jupyter-widgets/controls",
            "_model_module_version": "1.5.0",
            "_model_name": "FloatProgressModel",
            "_view_count": null,
            "_view_module": "@jupyter-widgets/controls",
            "_view_module_version": "1.5.0",
            "_view_name": "ProgressView",
            "bar_style": "success",
            "description": "",
            "description_tooltip": null,
            "layout": "IPY_MODEL_446b81a645e44b6189639d3f32d0b203",
            "max": 5069051,
            "min": 0,
            "orientation": "horizontal",
            "style": "IPY_MODEL_3137c66108014bf68b1949c5a583ca1e",
            "value": 5069051
          }
        },
        "95f07aaa652a48cf9aa5d4ad020faffb": {
          "model_module": "@jupyter-widgets/controls",
          "model_module_version": "1.5.0",
          "model_name": "HBoxModel",
          "state": {
            "_dom_classes": [],
            "_model_module": "@jupyter-widgets/controls",
            "_model_module_version": "1.5.0",
            "_model_name": "HBoxModel",
            "_view_count": null,
            "_view_module": "@jupyter-widgets/controls",
            "_view_module_version": "1.5.0",
            "_view_name": "HBoxView",
            "box_style": "",
            "children": [
              "IPY_MODEL_294c7cb1e24c4671a48809f4c15b618d",
              "IPY_MODEL_c8e07d9f5661402f85c6205ece5ad462",
              "IPY_MODEL_51cfacd6349747b08ef9def20bca7b64"
            ],
            "layout": "IPY_MODEL_a6c6cb933b534edd9923b7496f91df96"
          }
        },
        "97d04460c0024e5b80eaca3587d882d7": {
          "model_module": "@jupyter-widgets/controls",
          "model_module_version": "1.5.0",
          "model_name": "DescriptionStyleModel",
          "state": {
            "_model_module": "@jupyter-widgets/controls",
            "_model_module_version": "1.5.0",
            "_model_name": "DescriptionStyleModel",
            "_view_count": null,
            "_view_module": "@jupyter-widgets/base",
            "_view_module_version": "1.2.0",
            "_view_name": "StyleView",
            "description_width": ""
          }
        },
        "9810010890c74ec1a1999eae822b9366": {
          "model_module": "@jupyter-widgets/base",
          "model_module_version": "1.2.0",
          "model_name": "LayoutModel",
          "state": {
            "_model_module": "@jupyter-widgets/base",
            "_model_module_version": "1.2.0",
            "_model_name": "LayoutModel",
            "_view_count": null,
            "_view_module": "@jupyter-widgets/base",
            "_view_module_version": "1.2.0",
            "_view_name": "LayoutView",
            "align_content": null,
            "align_items": null,
            "align_self": null,
            "border": null,
            "bottom": null,
            "display": null,
            "flex": null,
            "flex_flow": null,
            "grid_area": null,
            "grid_auto_columns": null,
            "grid_auto_flow": null,
            "grid_auto_rows": null,
            "grid_column": null,
            "grid_gap": null,
            "grid_row": null,
            "grid_template_areas": null,
            "grid_template_columns": null,
            "grid_template_rows": null,
            "height": null,
            "justify_content": null,
            "justify_items": null,
            "left": null,
            "margin": null,
            "max_height": null,
            "max_width": null,
            "min_height": null,
            "min_width": null,
            "object_fit": null,
            "object_position": null,
            "order": null,
            "overflow": null,
            "overflow_x": null,
            "overflow_y": null,
            "padding": null,
            "right": null,
            "top": null,
            "visibility": null,
            "width": null
          }
        },
        "9b60aad5c3864153b5f3360809d5b1ea": {
          "model_module": "@jupyter-widgets/base",
          "model_module_version": "1.2.0",
          "model_name": "LayoutModel",
          "state": {
            "_model_module": "@jupyter-widgets/base",
            "_model_module_version": "1.2.0",
            "_model_name": "LayoutModel",
            "_view_count": null,
            "_view_module": "@jupyter-widgets/base",
            "_view_module_version": "1.2.0",
            "_view_name": "LayoutView",
            "align_content": null,
            "align_items": null,
            "align_self": null,
            "border": null,
            "bottom": null,
            "display": null,
            "flex": null,
            "flex_flow": null,
            "grid_area": null,
            "grid_auto_columns": null,
            "grid_auto_flow": null,
            "grid_auto_rows": null,
            "grid_column": null,
            "grid_gap": null,
            "grid_row": null,
            "grid_template_areas": null,
            "grid_template_columns": null,
            "grid_template_rows": null,
            "height": null,
            "justify_content": null,
            "justify_items": null,
            "left": null,
            "margin": null,
            "max_height": null,
            "max_width": null,
            "min_height": null,
            "min_width": null,
            "object_fit": null,
            "object_position": null,
            "order": null,
            "overflow": null,
            "overflow_x": null,
            "overflow_y": null,
            "padding": null,
            "right": null,
            "top": null,
            "visibility": null,
            "width": null
          }
        },
        "9f71b4ff102a425092b1259972e70de3": {
          "model_module": "@jupyter-widgets/controls",
          "model_module_version": "1.5.0",
          "model_name": "DescriptionStyleModel",
          "state": {
            "_model_module": "@jupyter-widgets/controls",
            "_model_module_version": "1.5.0",
            "_model_name": "DescriptionStyleModel",
            "_view_count": null,
            "_view_module": "@jupyter-widgets/base",
            "_view_module_version": "1.2.0",
            "_view_name": "StyleView",
            "description_width": ""
          }
        },
        "a2b4973ee7d9482d9d8ee3c6844e8973": {
          "model_module": "@jupyter-widgets/base",
          "model_module_version": "1.2.0",
          "model_name": "LayoutModel",
          "state": {
            "_model_module": "@jupyter-widgets/base",
            "_model_module_version": "1.2.0",
            "_model_name": "LayoutModel",
            "_view_count": null,
            "_view_module": "@jupyter-widgets/base",
            "_view_module_version": "1.2.0",
            "_view_name": "LayoutView",
            "align_content": null,
            "align_items": null,
            "align_self": null,
            "border": null,
            "bottom": null,
            "display": null,
            "flex": null,
            "flex_flow": null,
            "grid_area": null,
            "grid_auto_columns": null,
            "grid_auto_flow": null,
            "grid_auto_rows": null,
            "grid_column": null,
            "grid_gap": null,
            "grid_row": null,
            "grid_template_areas": null,
            "grid_template_columns": null,
            "grid_template_rows": null,
            "height": null,
            "justify_content": null,
            "justify_items": null,
            "left": null,
            "margin": null,
            "max_height": null,
            "max_width": null,
            "min_height": null,
            "min_width": null,
            "object_fit": null,
            "object_position": null,
            "order": null,
            "overflow": null,
            "overflow_x": null,
            "overflow_y": null,
            "padding": null,
            "right": null,
            "top": null,
            "visibility": null,
            "width": null
          }
        },
        "a308afce1f4447c39f94ee973377f1a6": {
          "model_module": "@jupyter-widgets/controls",
          "model_module_version": "1.5.0",
          "model_name": "FloatProgressModel",
          "state": {
            "_dom_classes": [],
            "_model_module": "@jupyter-widgets/controls",
            "_model_module_version": "1.5.0",
            "_model_name": "FloatProgressModel",
            "_view_count": null,
            "_view_module": "@jupyter-widgets/controls",
            "_view_module_version": "1.5.0",
            "_view_name": "ProgressView",
            "bar_style": "success",
            "description": "",
            "description_tooltip": null,
            "layout": "IPY_MODEL_527857476ae34e74a5fbd59a3e7a5008",
            "max": 9096718,
            "min": 0,
            "orientation": "horizontal",
            "style": "IPY_MODEL_28a0f4887bb844b8a3bfe828f422e611",
            "value": 9096718
          }
        },
        "a6c6cb933b534edd9923b7496f91df96": {
          "model_module": "@jupyter-widgets/base",
          "model_module_version": "1.2.0",
          "model_name": "LayoutModel",
          "state": {
            "_model_module": "@jupyter-widgets/base",
            "_model_module_version": "1.2.0",
            "_model_name": "LayoutModel",
            "_view_count": null,
            "_view_module": "@jupyter-widgets/base",
            "_view_module_version": "1.2.0",
            "_view_name": "LayoutView",
            "align_content": null,
            "align_items": null,
            "align_self": null,
            "border": null,
            "bottom": null,
            "display": null,
            "flex": null,
            "flex_flow": null,
            "grid_area": null,
            "grid_auto_columns": null,
            "grid_auto_flow": null,
            "grid_auto_rows": null,
            "grid_column": null,
            "grid_gap": null,
            "grid_row": null,
            "grid_template_areas": null,
            "grid_template_columns": null,
            "grid_template_rows": null,
            "height": null,
            "justify_content": null,
            "justify_items": null,
            "left": null,
            "margin": null,
            "max_height": null,
            "max_width": null,
            "min_height": null,
            "min_width": null,
            "object_fit": null,
            "object_position": null,
            "order": null,
            "overflow": null,
            "overflow_x": null,
            "overflow_y": null,
            "padding": null,
            "right": null,
            "top": null,
            "visibility": null,
            "width": null
          }
        },
        "aa2cf6753a554028a0d465f6174bf1df": {
          "model_module": "@jupyter-widgets/base",
          "model_module_version": "1.2.0",
          "model_name": "LayoutModel",
          "state": {
            "_model_module": "@jupyter-widgets/base",
            "_model_module_version": "1.2.0",
            "_model_name": "LayoutModel",
            "_view_count": null,
            "_view_module": "@jupyter-widgets/base",
            "_view_module_version": "1.2.0",
            "_view_name": "LayoutView",
            "align_content": null,
            "align_items": null,
            "align_self": null,
            "border": null,
            "bottom": null,
            "display": null,
            "flex": null,
            "flex_flow": null,
            "grid_area": null,
            "grid_auto_columns": null,
            "grid_auto_flow": null,
            "grid_auto_rows": null,
            "grid_column": null,
            "grid_gap": null,
            "grid_row": null,
            "grid_template_areas": null,
            "grid_template_columns": null,
            "grid_template_rows": null,
            "height": null,
            "justify_content": null,
            "justify_items": null,
            "left": null,
            "margin": null,
            "max_height": null,
            "max_width": null,
            "min_height": null,
            "min_width": null,
            "object_fit": null,
            "object_position": null,
            "order": null,
            "overflow": null,
            "overflow_x": null,
            "overflow_y": null,
            "padding": null,
            "right": null,
            "top": null,
            "visibility": null,
            "width": null
          }
        },
        "ab6803abffb14180a54e1fbdf12daf90": {
          "model_module": "@jupyter-widgets/controls",
          "model_module_version": "1.5.0",
          "model_name": "DescriptionStyleModel",
          "state": {
            "_model_module": "@jupyter-widgets/controls",
            "_model_module_version": "1.5.0",
            "_model_name": "DescriptionStyleModel",
            "_view_count": null,
            "_view_module": "@jupyter-widgets/base",
            "_view_module_version": "1.2.0",
            "_view_name": "StyleView",
            "description_width": ""
          }
        },
        "ac63824347ec43a1a0c3094939e41b48": {
          "model_module": "@jupyter-widgets/controls",
          "model_module_version": "1.5.0",
          "model_name": "HTMLModel",
          "state": {
            "_dom_classes": [],
            "_model_module": "@jupyter-widgets/controls",
            "_model_module_version": "1.5.0",
            "_model_name": "HTMLModel",
            "_view_count": null,
            "_view_module": "@jupyter-widgets/controls",
            "_view_module_version": "1.5.0",
            "_view_name": "HTMLView",
            "description": "",
            "description_tooltip": null,
            "layout": "IPY_MODEL_7ab3166ae0ce4c2bb8f9bd251a55af1a",
            "placeholder": "​",
            "style": "IPY_MODEL_3b6ad94a5066409298c39fe441542b4f",
            "value": " 18780/18780 [01:49&lt;00:00, 282.47it/s]"
          }
        },
        "acd7633332f641899345ca835155cc37": {
          "model_module": "@jupyter-widgets/controls",
          "model_module_version": "1.5.0",
          "model_name": "HBoxModel",
          "state": {
            "_dom_classes": [],
            "_model_module": "@jupyter-widgets/controls",
            "_model_module_version": "1.5.0",
            "_model_name": "HBoxModel",
            "_view_count": null,
            "_view_module": "@jupyter-widgets/controls",
            "_view_module_version": "1.5.0",
            "_view_name": "HBoxView",
            "box_style": "",
            "children": [
              "IPY_MODEL_84dbfe9d502d446d935055d8943a881c",
              "IPY_MODEL_734c26eea7af42b48744de8d5a7d085c",
              "IPY_MODEL_ac63824347ec43a1a0c3094939e41b48"
            ],
            "layout": "IPY_MODEL_4f05699ce81f4a7ca88d53e3d69c2ff1"
          }
        },
        "ad2b6bda1c204da3bea178cef37e8f7b": {
          "model_module": "@jupyter-widgets/controls",
          "model_module_version": "1.5.0",
          "model_name": "ProgressStyleModel",
          "state": {
            "_model_module": "@jupyter-widgets/controls",
            "_model_module_version": "1.5.0",
            "_model_name": "ProgressStyleModel",
            "_view_count": null,
            "_view_module": "@jupyter-widgets/base",
            "_view_module_version": "1.2.0",
            "_view_name": "StyleView",
            "bar_color": null,
            "description_width": ""
          }
        },
        "b00633d2fda14d41b62e347cd8fbee9f": {
          "model_module": "@jupyter-widgets/controls",
          "model_module_version": "1.5.0",
          "model_name": "HTMLModel",
          "state": {
            "_dom_classes": [],
            "_model_module": "@jupyter-widgets/controls",
            "_model_module_version": "1.5.0",
            "_model_name": "HTMLModel",
            "_view_count": null,
            "_view_module": "@jupyter-widgets/controls",
            "_view_module_version": "1.5.0",
            "_view_name": "HTMLView",
            "description": "",
            "description_tooltip": null,
            "layout": "IPY_MODEL_e996fec38b004e98984504c78f7c9c7f",
            "placeholder": "​",
            "style": "IPY_MODEL_3d53c8accaca439cb3ae95e98c588728",
            "value": "Downloading (…)tencepiece.bpe.model: 100%"
          }
        },
        "b19e2003faf44d9781a7ad93ec3556d1": {
          "model_module": "@jupyter-widgets/controls",
          "model_module_version": "1.5.0",
          "model_name": "HBoxModel",
          "state": {
            "_dom_classes": [],
            "_model_module": "@jupyter-widgets/controls",
            "_model_module_version": "1.5.0",
            "_model_name": "HBoxModel",
            "_view_count": null,
            "_view_module": "@jupyter-widgets/controls",
            "_view_module_version": "1.5.0",
            "_view_name": "HBoxView",
            "box_style": "",
            "children": [
              "IPY_MODEL_ffea6ce692fc4116bc8347df7478bb03",
              "IPY_MODEL_5688556d961745378bb6e6a5c3e1450a",
              "IPY_MODEL_f7f18b75987a4f5ea594207f82221c54"
            ],
            "layout": "IPY_MODEL_761f4627e2164d899b76b9f0541cc132"
          }
        },
        "bdb65c25c43c4e0fa465f2d2009b5f50": {
          "model_module": "@jupyter-widgets/base",
          "model_module_version": "1.2.0",
          "model_name": "LayoutModel",
          "state": {
            "_model_module": "@jupyter-widgets/base",
            "_model_module_version": "1.2.0",
            "_model_name": "LayoutModel",
            "_view_count": null,
            "_view_module": "@jupyter-widgets/base",
            "_view_module_version": "1.2.0",
            "_view_name": "LayoutView",
            "align_content": null,
            "align_items": null,
            "align_self": null,
            "border": null,
            "bottom": null,
            "display": null,
            "flex": null,
            "flex_flow": null,
            "grid_area": null,
            "grid_auto_columns": null,
            "grid_auto_flow": null,
            "grid_auto_rows": null,
            "grid_column": null,
            "grid_gap": null,
            "grid_row": null,
            "grid_template_areas": null,
            "grid_template_columns": null,
            "grid_template_rows": null,
            "height": null,
            "justify_content": null,
            "justify_items": null,
            "left": null,
            "margin": null,
            "max_height": null,
            "max_width": null,
            "min_height": null,
            "min_width": null,
            "object_fit": null,
            "object_position": null,
            "order": null,
            "overflow": null,
            "overflow_x": null,
            "overflow_y": null,
            "padding": null,
            "right": null,
            "top": null,
            "visibility": null,
            "width": null
          }
        },
        "be9620a15dcd447d8e304b779c327d10": {
          "model_module": "@jupyter-widgets/base",
          "model_module_version": "1.2.0",
          "model_name": "LayoutModel",
          "state": {
            "_model_module": "@jupyter-widgets/base",
            "_model_module_version": "1.2.0",
            "_model_name": "LayoutModel",
            "_view_count": null,
            "_view_module": "@jupyter-widgets/base",
            "_view_module_version": "1.2.0",
            "_view_name": "LayoutView",
            "align_content": null,
            "align_items": null,
            "align_self": null,
            "border": null,
            "bottom": null,
            "display": null,
            "flex": null,
            "flex_flow": null,
            "grid_area": null,
            "grid_auto_columns": null,
            "grid_auto_flow": null,
            "grid_auto_rows": null,
            "grid_column": null,
            "grid_gap": null,
            "grid_row": null,
            "grid_template_areas": null,
            "grid_template_columns": null,
            "grid_template_rows": null,
            "height": null,
            "justify_content": null,
            "justify_items": null,
            "left": null,
            "margin": null,
            "max_height": null,
            "max_width": null,
            "min_height": null,
            "min_width": null,
            "object_fit": null,
            "object_position": null,
            "order": null,
            "overflow": null,
            "overflow_x": null,
            "overflow_y": null,
            "padding": null,
            "right": null,
            "top": null,
            "visibility": null,
            "width": null
          }
        },
        "c8e07d9f5661402f85c6205ece5ad462": {
          "model_module": "@jupyter-widgets/controls",
          "model_module_version": "1.5.0",
          "model_name": "FloatProgressModel",
          "state": {
            "_dom_classes": [],
            "_model_module": "@jupyter-widgets/controls",
            "_model_module_version": "1.5.0",
            "_model_name": "FloatProgressModel",
            "_view_count": null,
            "_view_module": "@jupyter-widgets/controls",
            "_view_module_version": "1.5.0",
            "_view_name": "ProgressView",
            "bar_style": "success",
            "description": "",
            "description_tooltip": null,
            "layout": "IPY_MODEL_e7fce7cfbed24bd4beeff3324b53cd85",
            "max": 797,
            "min": 0,
            "orientation": "horizontal",
            "style": "IPY_MODEL_ff77235e067b449ead8b1138f22dd93a",
            "value": 797
          }
        },
        "c8ff403672734b449d96e17bdb00c764": {
          "model_module": "@jupyter-widgets/controls",
          "model_module_version": "1.5.0",
          "model_name": "HTMLModel",
          "state": {
            "_dom_classes": [],
            "_model_module": "@jupyter-widgets/controls",
            "_model_module_version": "1.5.0",
            "_model_name": "HTMLModel",
            "_view_count": null,
            "_view_module": "@jupyter-widgets/controls",
            "_view_module_version": "1.5.0",
            "_view_name": "HTMLView",
            "description": "",
            "description_tooltip": null,
            "layout": "IPY_MODEL_8d6ecec0bf164903910c865c04cc4ac0",
            "placeholder": "​",
            "style": "IPY_MODEL_97d04460c0024e5b80eaca3587d882d7",
            "value": "Downloading tokenizer.json: 100%"
          }
        },
        "d0e0cedd29e9441581c134b563b4b1a1": {
          "model_module": "@jupyter-widgets/controls",
          "model_module_version": "1.5.0",
          "model_name": "HTMLModel",
          "state": {
            "_dom_classes": [],
            "_model_module": "@jupyter-widgets/controls",
            "_model_module_version": "1.5.0",
            "_model_name": "HTMLModel",
            "_view_count": null,
            "_view_module": "@jupyter-widgets/controls",
            "_view_module_version": "1.5.0",
            "_view_name": "HTMLView",
            "description": "",
            "description_tooltip": null,
            "layout": "IPY_MODEL_2f72898a0abd4d54bf24ee91519a02a7",
            "placeholder": "​",
            "style": "IPY_MODEL_f46e71260b8e4b8181149ad9e5fb3386",
            "value": " 5.07M/5.07M [00:00&lt;00:00, 9.79MB/s]"
          }
        },
        "d6e5143bb81a45a3ab1643babb38cc2a": {
          "model_module": "@jupyter-widgets/base",
          "model_module_version": "1.2.0",
          "model_name": "LayoutModel",
          "state": {
            "_model_module": "@jupyter-widgets/base",
            "_model_module_version": "1.2.0",
            "_model_name": "LayoutModel",
            "_view_count": null,
            "_view_module": "@jupyter-widgets/base",
            "_view_module_version": "1.2.0",
            "_view_name": "LayoutView",
            "align_content": null,
            "align_items": null,
            "align_self": null,
            "border": null,
            "bottom": null,
            "display": null,
            "flex": null,
            "flex_flow": null,
            "grid_area": null,
            "grid_auto_columns": null,
            "grid_auto_flow": null,
            "grid_auto_rows": null,
            "grid_column": null,
            "grid_gap": null,
            "grid_row": null,
            "grid_template_areas": null,
            "grid_template_columns": null,
            "grid_template_rows": null,
            "height": null,
            "justify_content": null,
            "justify_items": null,
            "left": null,
            "margin": null,
            "max_height": null,
            "max_width": null,
            "min_height": null,
            "min_width": null,
            "object_fit": null,
            "object_position": null,
            "order": null,
            "overflow": null,
            "overflow_x": null,
            "overflow_y": null,
            "padding": null,
            "right": null,
            "top": null,
            "visibility": null,
            "width": null
          }
        },
        "d87818bdcdad40d7830bf28b059d485c": {
          "model_module": "@jupyter-widgets/base",
          "model_module_version": "1.2.0",
          "model_name": "LayoutModel",
          "state": {
            "_model_module": "@jupyter-widgets/base",
            "_model_module_version": "1.2.0",
            "_model_name": "LayoutModel",
            "_view_count": null,
            "_view_module": "@jupyter-widgets/base",
            "_view_module_version": "1.2.0",
            "_view_name": "LayoutView",
            "align_content": null,
            "align_items": null,
            "align_self": null,
            "border": null,
            "bottom": null,
            "display": null,
            "flex": null,
            "flex_flow": null,
            "grid_area": null,
            "grid_auto_columns": null,
            "grid_auto_flow": null,
            "grid_auto_rows": null,
            "grid_column": null,
            "grid_gap": null,
            "grid_row": null,
            "grid_template_areas": null,
            "grid_template_columns": null,
            "grid_template_rows": null,
            "height": null,
            "justify_content": null,
            "justify_items": null,
            "left": null,
            "margin": null,
            "max_height": null,
            "max_width": null,
            "min_height": null,
            "min_width": null,
            "object_fit": null,
            "object_position": null,
            "order": null,
            "overflow": null,
            "overflow_x": null,
            "overflow_y": null,
            "padding": null,
            "right": null,
            "top": null,
            "visibility": null,
            "width": null
          }
        },
        "e2eb057e920e495183cde7fc5103917e": {
          "model_module": "@jupyter-widgets/base",
          "model_module_version": "1.2.0",
          "model_name": "LayoutModel",
          "state": {
            "_model_module": "@jupyter-widgets/base",
            "_model_module_version": "1.2.0",
            "_model_name": "LayoutModel",
            "_view_count": null,
            "_view_module": "@jupyter-widgets/base",
            "_view_module_version": "1.2.0",
            "_view_name": "LayoutView",
            "align_content": null,
            "align_items": null,
            "align_self": null,
            "border": null,
            "bottom": null,
            "display": null,
            "flex": null,
            "flex_flow": null,
            "grid_area": null,
            "grid_auto_columns": null,
            "grid_auto_flow": null,
            "grid_auto_rows": null,
            "grid_column": null,
            "grid_gap": null,
            "grid_row": null,
            "grid_template_areas": null,
            "grid_template_columns": null,
            "grid_template_rows": null,
            "height": null,
            "justify_content": null,
            "justify_items": null,
            "left": null,
            "margin": null,
            "max_height": null,
            "max_width": null,
            "min_height": null,
            "min_width": null,
            "object_fit": null,
            "object_position": null,
            "order": null,
            "overflow": null,
            "overflow_x": null,
            "overflow_y": null,
            "padding": null,
            "right": null,
            "top": null,
            "visibility": null,
            "width": null
          }
        },
        "e7fce7cfbed24bd4beeff3324b53cd85": {
          "model_module": "@jupyter-widgets/base",
          "model_module_version": "1.2.0",
          "model_name": "LayoutModel",
          "state": {
            "_model_module": "@jupyter-widgets/base",
            "_model_module_version": "1.2.0",
            "_model_name": "LayoutModel",
            "_view_count": null,
            "_view_module": "@jupyter-widgets/base",
            "_view_module_version": "1.2.0",
            "_view_name": "LayoutView",
            "align_content": null,
            "align_items": null,
            "align_self": null,
            "border": null,
            "bottom": null,
            "display": null,
            "flex": null,
            "flex_flow": null,
            "grid_area": null,
            "grid_auto_columns": null,
            "grid_auto_flow": null,
            "grid_auto_rows": null,
            "grid_column": null,
            "grid_gap": null,
            "grid_row": null,
            "grid_template_areas": null,
            "grid_template_columns": null,
            "grid_template_rows": null,
            "height": null,
            "justify_content": null,
            "justify_items": null,
            "left": null,
            "margin": null,
            "max_height": null,
            "max_width": null,
            "min_height": null,
            "min_width": null,
            "object_fit": null,
            "object_position": null,
            "order": null,
            "overflow": null,
            "overflow_x": null,
            "overflow_y": null,
            "padding": null,
            "right": null,
            "top": null,
            "visibility": null,
            "width": null
          }
        },
        "e996fec38b004e98984504c78f7c9c7f": {
          "model_module": "@jupyter-widgets/base",
          "model_module_version": "1.2.0",
          "model_name": "LayoutModel",
          "state": {
            "_model_module": "@jupyter-widgets/base",
            "_model_module_version": "1.2.0",
            "_model_name": "LayoutModel",
            "_view_count": null,
            "_view_module": "@jupyter-widgets/base",
            "_view_module_version": "1.2.0",
            "_view_name": "LayoutView",
            "align_content": null,
            "align_items": null,
            "align_self": null,
            "border": null,
            "bottom": null,
            "display": null,
            "flex": null,
            "flex_flow": null,
            "grid_area": null,
            "grid_auto_columns": null,
            "grid_auto_flow": null,
            "grid_auto_rows": null,
            "grid_column": null,
            "grid_gap": null,
            "grid_row": null,
            "grid_template_areas": null,
            "grid_template_columns": null,
            "grid_template_rows": null,
            "height": null,
            "justify_content": null,
            "justify_items": null,
            "left": null,
            "margin": null,
            "max_height": null,
            "max_width": null,
            "min_height": null,
            "min_width": null,
            "object_fit": null,
            "object_position": null,
            "order": null,
            "overflow": null,
            "overflow_x": null,
            "overflow_y": null,
            "padding": null,
            "right": null,
            "top": null,
            "visibility": null,
            "width": null
          }
        },
        "ecc006ad383246ad959940253e0b1f41": {
          "model_module": "@jupyter-widgets/controls",
          "model_module_version": "1.5.0",
          "model_name": "DescriptionStyleModel",
          "state": {
            "_model_module": "@jupyter-widgets/controls",
            "_model_module_version": "1.5.0",
            "_model_name": "DescriptionStyleModel",
            "_view_count": null,
            "_view_module": "@jupyter-widgets/base",
            "_view_module_version": "1.2.0",
            "_view_name": "StyleView",
            "description_width": ""
          }
        },
        "eda218f53e3743acbc23f6a35d7b8369": {
          "model_module": "@jupyter-widgets/controls",
          "model_module_version": "1.5.0",
          "model_name": "HBoxModel",
          "state": {
            "_dom_classes": [],
            "_model_module": "@jupyter-widgets/controls",
            "_model_module_version": "1.5.0",
            "_model_name": "HBoxModel",
            "_view_count": null,
            "_view_module": "@jupyter-widgets/controls",
            "_view_module_version": "1.5.0",
            "_view_name": "HBoxView",
            "box_style": "",
            "children": [
              "IPY_MODEL_b00633d2fda14d41b62e347cd8fbee9f",
              "IPY_MODEL_9078b370f683469db31f8d58c0fa5935",
              "IPY_MODEL_d0e0cedd29e9441581c134b563b4b1a1"
            ],
            "layout": "IPY_MODEL_62c88c95c9264a14a51319ba11957a2f"
          }
        },
        "f46e71260b8e4b8181149ad9e5fb3386": {
          "model_module": "@jupyter-widgets/controls",
          "model_module_version": "1.5.0",
          "model_name": "DescriptionStyleModel",
          "state": {
            "_model_module": "@jupyter-widgets/controls",
            "_model_module_version": "1.5.0",
            "_model_name": "DescriptionStyleModel",
            "_view_count": null,
            "_view_module": "@jupyter-widgets/base",
            "_view_module_version": "1.2.0",
            "_view_name": "StyleView",
            "description_width": ""
          }
        },
        "f6d26d3d69aa4a62a80664ba56bf801c": {
          "model_module": "@jupyter-widgets/controls",
          "model_module_version": "1.5.0",
          "model_name": "HTMLModel",
          "state": {
            "_dom_classes": [],
            "_model_module": "@jupyter-widgets/controls",
            "_model_module_version": "1.5.0",
            "_model_name": "HTMLModel",
            "_view_count": null,
            "_view_module": "@jupyter-widgets/controls",
            "_view_module_version": "1.5.0",
            "_view_name": "HTMLView",
            "description": "",
            "description_tooltip": null,
            "layout": "IPY_MODEL_80850b82efc144b5b4f1fead04d517fd",
            "placeholder": "​",
            "style": "IPY_MODEL_9f71b4ff102a425092b1259972e70de3",
            "value": "Downloading model.safetensors: 100%"
          }
        },
        "f7f18b75987a4f5ea594207f82221c54": {
          "model_module": "@jupyter-widgets/controls",
          "model_module_version": "1.5.0",
          "model_name": "HTMLModel",
          "state": {
            "_dom_classes": [],
            "_model_module": "@jupyter-widgets/controls",
            "_model_module_version": "1.5.0",
            "_model_name": "HTMLModel",
            "_view_count": null,
            "_view_module": "@jupyter-widgets/controls",
            "_view_module_version": "1.5.0",
            "_view_name": "HTMLView",
            "description": "",
            "description_tooltip": null,
            "layout": "IPY_MODEL_5b57f2bbbb4d496a9461dc42b113abb4",
            "placeholder": "​",
            "style": "IPY_MODEL_ab6803abffb14180a54e1fbdf12daf90",
            "value": " 615/615 [00:00&lt;00:00, 38.3kB/s]"
          }
        },
        "faf38569df424d6680a3365233057205": {
          "model_module": "@jupyter-widgets/base",
          "model_module_version": "1.2.0",
          "model_name": "LayoutModel",
          "state": {
            "_model_module": "@jupyter-widgets/base",
            "_model_module_version": "1.2.0",
            "_model_name": "LayoutModel",
            "_view_count": null,
            "_view_module": "@jupyter-widgets/base",
            "_view_module_version": "1.2.0",
            "_view_name": "LayoutView",
            "align_content": null,
            "align_items": null,
            "align_self": null,
            "border": null,
            "bottom": null,
            "display": null,
            "flex": null,
            "flex_flow": null,
            "grid_area": null,
            "grid_auto_columns": null,
            "grid_auto_flow": null,
            "grid_auto_rows": null,
            "grid_column": null,
            "grid_gap": null,
            "grid_row": null,
            "grid_template_areas": null,
            "grid_template_columns": null,
            "grid_template_rows": null,
            "height": null,
            "justify_content": null,
            "justify_items": null,
            "left": null,
            "margin": null,
            "max_height": null,
            "max_width": null,
            "min_height": null,
            "min_width": null,
            "object_fit": null,
            "object_position": null,
            "order": null,
            "overflow": null,
            "overflow_x": null,
            "overflow_y": null,
            "padding": null,
            "right": null,
            "top": null,
            "visibility": null,
            "width": null
          }
        },
        "fe71e84379f5456fa2b4f12d7601bbbc": {
          "model_module": "@jupyter-widgets/controls",
          "model_module_version": "1.5.0",
          "model_name": "HBoxModel",
          "state": {
            "_dom_classes": [],
            "_model_module": "@jupyter-widgets/controls",
            "_model_module_version": "1.5.0",
            "_model_name": "HBoxModel",
            "_view_count": null,
            "_view_module": "@jupyter-widgets/controls",
            "_view_module_version": "1.5.0",
            "_view_name": "HBoxView",
            "box_style": "",
            "children": [
              "IPY_MODEL_f6d26d3d69aa4a62a80664ba56bf801c",
              "IPY_MODEL_4c196bf3ec354f15a0a860a6bff5748e",
              "IPY_MODEL_41b4f2b55a8d4efc9d24c865e3843c18"
            ],
            "layout": "IPY_MODEL_faf38569df424d6680a3365233057205"
          }
        },
        "fead2df659644851a8513058b3f92758": {
          "model_module": "@jupyter-widgets/controls",
          "model_module_version": "1.5.0",
          "model_name": "DescriptionStyleModel",
          "state": {
            "_model_module": "@jupyter-widgets/controls",
            "_model_module_version": "1.5.0",
            "_model_name": "DescriptionStyleModel",
            "_view_count": null,
            "_view_module": "@jupyter-widgets/base",
            "_view_module_version": "1.2.0",
            "_view_name": "StyleView",
            "description_width": ""
          }
        },
        "ff77235e067b449ead8b1138f22dd93a": {
          "model_module": "@jupyter-widgets/controls",
          "model_module_version": "1.5.0",
          "model_name": "ProgressStyleModel",
          "state": {
            "_model_module": "@jupyter-widgets/controls",
            "_model_module_version": "1.5.0",
            "_model_name": "ProgressStyleModel",
            "_view_count": null,
            "_view_module": "@jupyter-widgets/base",
            "_view_module_version": "1.2.0",
            "_view_name": "StyleView",
            "bar_color": null,
            "description_width": ""
          }
        },
        "ffea6ce692fc4116bc8347df7478bb03": {
          "model_module": "@jupyter-widgets/controls",
          "model_module_version": "1.5.0",
          "model_name": "HTMLModel",
          "state": {
            "_dom_classes": [],
            "_model_module": "@jupyter-widgets/controls",
            "_model_module_version": "1.5.0",
            "_model_name": "HTMLModel",
            "_view_count": null,
            "_view_module": "@jupyter-widgets/controls",
            "_view_module_version": "1.5.0",
            "_view_name": "HTMLView",
            "description": "",
            "description_tooltip": null,
            "layout": "IPY_MODEL_0c435dc1664348ccbc3770c296213a00",
            "placeholder": "​",
            "style": "IPY_MODEL_656ce76cb6134768acf9d6b240ef2734",
            "value": "Downloading config.json: 100%"
          }
        }
      }
    }
  },
  "nbformat": 4,
  "nbformat_minor": 0
}
